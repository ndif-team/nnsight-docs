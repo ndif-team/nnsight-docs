{
 "cells": [
  {
   "cell_type": "markdown",
   "metadata": {
    "id": "f7p0oTv1zIMu"
   },
   "source": [
    "# The Geometry of Truth\n",
    "\n",
    "Emergent Linear Structure in Large Language Model Representations of True/False Datasets"
   ]
  },
  {
   "cell_type": "markdown",
   "metadata": {
    "id": "eWoZrQ7dr7wF"
   },
   "source": [
    "Modern LMs seem to be able to reason about true and false statements. Yet how do they represent factuality in their internal representations?"
   ]
  },
  {
   "cell_type": "markdown",
   "metadata": {
    "id": "r8oHWmT7sEII"
   },
   "source": [
    "In this tutorial, we'll follow [Marks and Tegmark (2023) The Geometry of Truth](https://arxiv.org/abs/2310.06824), which finds linear structure in representations of true and false statements!\n",
    "\n",
    "Specifically, we will investigate:\n",
    "* **Information flow**: where does an LM store information about the truth of a sentence?\n",
    "* **Visualizing activations**: using PCA to visualize low dimensions of LM internals.\n",
    "* **Difference in means** and why linear probing might not always be the right choice!\n",
    "* **Steering LMs** both small and large!\n",
    "\n",
    "If you're reading along, our tutorial will roughly recreate Figures 1 and 2, and then give an in-depth explanation of Figure 4 from the paper."
   ]
  },
  {
   "cell_type": "markdown",
   "metadata": {
    "id": "qp3kdmG_hd-S"
   },
   "source": [
    "## 0️⃣ Setup"
   ]
  },
  {
   "cell_type": "markdown",
   "metadata": {
    "id": "gjGYcvNqsbOW"
   },
   "source": [
    "Run this code before we begin!"
   ]
  },
  {
   "cell_type": "code",
   "execution_count": null,
   "metadata": {
    "id": "cpOsSiyfhfa_"
   },
   "outputs": [],
   "source": [
    "# install the latest version of nnsight\n",
    "from IPython.display import clear_output\n",
    "\n",
    "try:\n",
    "  import google.colab\n",
    "  is_colab = True\n",
    "except ImportError:\n",
    "  is_colab = False\n",
    "\n",
    "if is_colab:\n",
    "  !pip install nnsight==0.5.0.dev\n",
    "\n",
    "clear_output()"
   ]
  },
  {
   "cell_type": "markdown",
   "metadata": {
    "id": "MR8lynEYsk3W"
   },
   "source": [
    "**Note**\n",
    "\n",
    "In this tutorial, we use the Llama-3.2 3B model. Before starting the tutorial, please go to the model's [huggingface page](https://huggingface.co/meta-llama/Llama-3.2-3B) and request permission to use the model. Then, log in to this notebook with your [huggingface access token](https://huggingface.co/docs/hub/en/security-tokens)."
   ]
  },
  {
   "cell_type": "code",
   "execution_count": null,
   "metadata": {
    "colab": {
     "base_uri": "https://localhost:8080/",
     "height": 330,
     "referenced_widgets": [
      "f9a61498d0174eaf8f50a64726760f8d",
      "2cb73901b1dd4044835f203e138f326c",
      "72309c605bba48b7a5a2cd87b90784ae",
      "cac03b90f6eb41d0b7569b26608a32a6",
      "37e1c5cd1f844cbfb34e57dad08e1f7b",
      "7444d0374e204864a822c689f20e7a65",
      "4fab7df5acf3400a8c2dadacb18126f4",
      "f627dc1ec6c1408994ae95a607941e25",
      "fe9ecaccafb04a4fa6f7beab1be0297b",
      "bd0728057f45475cab3252a189243559",
      "30df6ddaf1b143418569304d805f7852",
      "be62791231cc4468beca65a23b051edf",
      "3483fc34e1a1447c9acd9abaddd57544",
      "2ced0e1b0943423c86b49d751d2dfe2c",
      "5291675fa0fe4f369124d1092d33d640",
      "951d622f471c4f47aec2a14106dc418c",
      "77d85afc66214b5c8029ff488d2f2434"
     ]
    },
    "id": "CrChYneqhiy5",
    "outputId": "e830320f-0f3d-45ae-931e-4a94d3f9df81"
   },
   "outputs": [
    {
     "data": {
      "application/vnd.jupyter.widget-view+json": {
       "model_id": "f9a61498d0174eaf8f50a64726760f8d",
       "version_major": 2,
       "version_minor": 0
      },
      "text/plain": [
       "VBox(children=(HTML(value='<center> <img\\nsrc=https://huggingface.co/front/assets/huggingface_logo-noborder.sv…"
      ]
     },
     "metadata": {},
     "output_type": "display_data"
    }
   ],
   "source": [
    "from huggingface_hub import notebook_login\n",
    "\n",
    "notebook_login()"
   ]
  },
  {
   "cell_type": "code",
   "execution_count": null,
   "metadata": {
    "id": "Bflxyaxxhrpz"
   },
   "outputs": [],
   "source": [
    "# (try to) set seeds for reproducibility\n",
    "import random\n",
    "import torch\n",
    "\n",
    "random.seed(12)\n",
    "torch.manual_seed(12)\n",
    "torch.cuda.manual_seed(12)"
   ]
  },
  {
   "cell_type": "code",
   "execution_count": null,
   "metadata": {
    "id": "v87vjrHPvI65"
   },
   "outputs": [],
   "source": [
    "# util functions for tutorial\n",
    "class COLORS:\n",
    "  \"\"\"keep consistent plotting colors\"\"\"\n",
    "  LIGHT_BLUE = \"#46B1E1\"\n",
    "  BLUE = \"#156082\"\n",
    "  LIGHT_ORANGE = \"#F2AA84\"\n",
    "  ORANGE = \"#E97132\"\n",
    "  PURPLE = \"#A02B93\"\n",
    "  GREEN = \"#4EA72E\"\n",
    "\n",
    "def hex_to_rgba(hex_color, alpha=1.):\n",
    "  \"\"\"convert hex to rgb with opacity parameter\"\"\"\n",
    "  hex_color = hex_color.lstrip('#')\n",
    "  rgb = tuple(int(hex_color[i:i+2], 16) for i in (0, 2, 4))\n",
    "  return f'rgba({rgb[0]}, {rgb[1]}, {rgb[2]}, {alpha})'\n",
    "\n",
    "def rindex(lst, value):\n",
    "  \"\"\"get the rightmost index of a value in a list.\"\"\"\n",
    "  return len(lst) - 1 - lst[::-1].index(value)"
   ]
  },
  {
   "cell_type": "markdown",
   "metadata": {
    "id": "UgMfYdimhXoN"
   },
   "source": [
    "## 1️⃣ Information flow"
   ]
  },
  {
   "cell_type": "markdown",
   "metadata": {
    "id": "AEOGWFyut47x"
   },
   "source": [
    "LMs seem to be able to classify true and false statements in-context. Yet where is this information stored? In this section, we'll see how **activation patching** can inform which token and layer activations play a **causal role** in representing the truth of a sentence."
   ]
  },
  {
   "cell_type": "code",
   "execution_count": null,
   "metadata": {
    "id": "uSitZl_Zhc2o"
   },
   "outputs": [],
   "source": [
    "# load model\n",
    "import nnsight\n",
    "from IPython.display import clear_output\n",
    "model = nnsight.LanguageModel(\"meta-llama/Llama-3.2-3B\", device_map=\"auto\")\n",
    "clear_output()"
   ]
  },
  {
   "cell_type": "code",
   "execution_count": null,
   "metadata": {
    "colab": {
     "base_uri": "https://localhost:8080/"
    },
    "id": "mcqy9h6BhxC5",
    "outputId": "5b9a4e4c-03d4-4881-c516-32230eb83456"
   },
   "outputs": [
    {
     "name": "stdout",
     "output_type": "stream",
     "text": [
      "The city of Tokyo is in Japan. This statement is: TRUE\n",
      "The city of Hanoi is in Poland. This statement is: FALSE\n",
      "The city of Chicago is in Canada. This statement is:\n"
     ]
    }
   ],
   "source": [
    "# let's set up a few-shot prompt to see if models can reason about factuality\n",
    "PROMPT_TEMPLATE = \"\"\"The city of Tokyo is in Japan. This statement is: TRUE\n",
    "The city of Hanoi is in Poland. This statement is: FALSE\n",
    "{statement} This statement is:\"\"\"\n",
    "\n",
    "source_statement = \"The city of Toronto is in Canada.\" # true\n",
    "source_prompt = PROMPT_TEMPLATE.format(statement=source_statement)\n",
    "base_statement = \"The city of Chicago is in Canada.\" # false\n",
    "base_prompt = PROMPT_TEMPLATE.format(statement=base_statement)\n",
    "\n",
    "# this is a false statement\n",
    "print(base_prompt)"
   ]
  },
  {
   "cell_type": "markdown",
   "metadata": {
    "id": "UdCh5jqhugVv"
   },
   "source": [
    "Let's put our model to the test - can it identify true and false statements? We'll use a single example where we only vary the city: \"the city of Toronto is in Canada\" (true) vs. \"the city of Chicago is in Canada\" (false)."
   ]
  },
  {
   "cell_type": "code",
   "execution_count": null,
   "metadata": {
    "colab": {
     "base_uri": "https://localhost:8080/",
     "height": 84,
     "referenced_widgets": [
      "4f9d39efeeb04aff8a10d227dea3542c",
      "49f04c8a4b304524817ad33942cdc9ec",
      "63dded09a5e240319e49739bf1fcefbf",
      "8dbd000b00e04f1c9d0d9194828dfb56",
      "d99cbd3176c848f0bdfb37e03da8452a",
      "b2ed4bbb159a461a95ee80232e3ddc47",
      "a234baf7ac8f40dc99d7e61ce9419595",
      "bca09d9ce8454a1d9cfd5d0de576f920",
      "58d945d9908c41dd995a3bb964121ce7",
      "8b3fe2859d654d60acc2f8dc0df002b6",
      "274b1eedbdee4b639a4b5c52bf8ec745"
     ]
    },
    "id": "GkPvp5GTiXfk",
    "outputId": "001eb11b-5196-452e-9ad4-6ed7dffc113a"
   },
   "outputs": [
    {
     "data": {
      "application/vnd.jupyter.widget-view+json": {
       "model_id": "4f9d39efeeb04aff8a10d227dea3542c",
       "version_major": 2,
       "version_minor": 0
      },
      "text/plain": [
       "Loading checkpoint shards:   0%|          | 0/2 [00:00<?, ?it/s]"
      ]
     },
     "metadata": {},
     "output_type": "display_data"
    },
    {
     "name": "stdout",
     "output_type": "stream",
     "text": [
      "The city of Chicago is in Canada. This statement is:\n",
      " FALSE\n"
     ]
    }
   ],
   "source": [
    "# does the model know that Chicago isn't in Canada?\n",
    "with torch.no_grad():\n",
    "  with model.trace(base_prompt) as trace:\n",
    "    # save the model's output logits\n",
    "    logits = model.output.logits.save()\n",
    "\n",
    "# what's the model's response?\n",
    "print(base_prompt.split('\\n')[-1])\n",
    "print(model.tokenizer.decode(logits.argmax(dim=-1)[0, -1]))"
   ]
  },
  {
   "cell_type": "code",
   "execution_count": null,
   "metadata": {
    "colab": {
     "base_uri": "https://localhost:8080/"
    },
    "id": "XQ0gbwoYipA0",
    "outputId": "79f7dc7c-f892-47cc-c713-e5425d6b0588"
   },
   "outputs": [
    {
     "name": "stdout",
     "output_type": "stream",
     "text": [
      "The city of Toronto is in Canada. This statement is:\n",
      " TRUE\n"
     ]
    }
   ],
   "source": [
    "# does the model know that Toronto is in Canada?\n",
    "source_activations = []\n",
    "with torch.no_grad():\n",
    "  with model.trace(source_prompt) as trace:\n",
    "    # let's save the intemediate activations - we'll use them in the next step!\n",
    "    for layer in model.model.layers:\n",
    "      source_activations.append(layer.output[0].save())\n",
    "    # save the model's output logits\n",
    "    logits = model.output.logits.save()\n",
    "\n",
    "print(source_prompt.split('\\n')[-1])\n",
    "print(model.tokenizer.decode(logits.argmax(dim=-1)[0, -1]))"
   ]
  },
  {
   "cell_type": "markdown",
   "metadata": {
    "id": "ARcjzsW_vAQT"
   },
   "source": [
    "### Activation Patching"
   ]
  },
  {
   "cell_type": "markdown",
   "metadata": {
    "id": "LaAYfEzSvTWe"
   },
   "source": [
    "Okay, so our model seems to know a true statement from a false one. Where did it store this information? Let's use **activation patching** between our two examples to see which token and layer activations **causally mediated** the truth of the statement."
   ]
  },
  {
   "cell_type": "markdown",
   "metadata": {
    "id": "jSHXWG_Evni7"
   },
   "source": [
    "If you're not familiar with activation patching, we **strongly encourage you to check out the activation patching tutorial on `nnsight`!** We'll leave some comments to explain the process."
   ]
  },
  {
   "cell_type": "code",
   "execution_count": null,
   "metadata": {
    "colab": {
     "base_uri": "https://localhost:8080/"
    },
    "id": "Ooq7ZA_xoiHs",
    "outputId": "ab5e75a4-08a7-4db1-9b65-6baf9bad0be1"
   },
   "outputs": [
    {
     "name": "stderr",
     "output_type": "stream",
     "text": [
      "100%|██████████| 28/28 [00:57<00:00,  2.04s/it]\n"
     ]
    }
   ],
   "source": [
    "# run activation patching from source (true) -> base (false)\n",
    "# and measure P(TRUE) - P(FALSE)\n",
    "from tqdm import trange\n",
    "\n",
    "true_token_id = model.tokenizer(\" TRUE\").input_ids[1]\n",
    "false_token_id = model.tokenizer(\" FALSE\").input_ids[1]\n",
    "\n",
    "source_prompt_ids = model.tokenizer(source_prompt).input_ids\n",
    "newline_token_id = model.tokenizer('\\n').input_ids[1]\n",
    "last_example_index = rindex(source_prompt_ids, newline_token_id) + 1 # get start of final example\n",
    "\n",
    "patching_results = [] # save interchange intervention accuracies\n",
    "for layer_index in trange(model.config.num_hidden_layers): # loop through layers\n",
    "  patching_per_layer = []\n",
    "  for token_index in range(last_example_index, len(source_prompt_ids)): # loop through story tokens\n",
    "    with torch.no_grad():\n",
    "      with model.trace(base_prompt):\n",
    "        # patch source -> base\n",
    "        model.model.layers[layer_index].output[0][:, token_index, :] = source_activations[layer_index][:, token_index, :]\n",
    "        # get model output\n",
    "        patched_probs = model.output.logits[:, -1].softmax(dim=-1) # convert logits to probs with softmax\n",
    "        # get probability of generating true vs. false answer\n",
    "        patched_true_prob = patched_probs[0, true_token_id].item()\n",
    "        patched_false_prob = patched_probs[0, false_token_id].item()\n",
    "        # save difference btw true & false answers\n",
    "        patched_diff = patched_true_prob - patched_false_prob\n",
    "        patching_per_layer.append(patched_diff.save())\n",
    "  patching_results.append(patching_per_layer)"
   ]
  },
  {
   "cell_type": "markdown",
   "metadata": {
    "id": "2Ri0JlPdwBIH"
   },
   "source": [
    "Let's plot our results! The darker the color, the **more effect** the residual activation at that token/layer position has."
   ]
  },
  {
   "cell_type": "code",
   "execution_count": null,
   "metadata": {
    "colab": {
     "base_uri": "https://localhost:8080/",
     "height": 542
    },
    "id": "HOWenHGpnSXW",
    "outputId": "1e8bd554-9690-4052-9132-e59f1f1b04ad"
   },
   "outputs": [
    {
     "data": {
      "text/html": [
       "<html>\n",
       "<head><meta charset=\"utf-8\" /></head>\n",
       "<body>\n",
       "    <div>            <script src=\"https://cdnjs.cloudflare.com/ajax/libs/mathjax/2.7.5/MathJax.js?config=TeX-AMS-MML_SVG\"></script><script type=\"text/javascript\">if (window.MathJax && window.MathJax.Hub && window.MathJax.Hub.Config) {window.MathJax.Hub.Config({SVG: {font: \"STIX-Web\"}});}</script>                <script type=\"text/javascript\">window.PlotlyConfig = {MathJaxConfig: 'local'};</script>\n",
       "        <script charset=\"utf-8\" src=\"https://cdn.plot.ly/plotly-2.35.2.min.js\"></script>                <div id=\"7a0badb2-6aa0-450c-ac1c-eeb1646a107b\" class=\"plotly-graph-div\" style=\"height:525px; width:100%;\"></div>            <script type=\"text/javascript\">                                    window.PLOTLYENV=window.PLOTLYENV || {};                                    if (document.getElementById(\"7a0badb2-6aa0-450c-ac1c-eeb1646a107b\")) {                    Plotly.newPlot(                        \"7a0badb2-6aa0-450c-ac1c-eeb1646a107b\",                        [{\"coloraxis\":\"coloraxis\",\"name\":\"0\",\"y\":[0,1,2,3,4,5,6,7,8,9,10,11,12,13,14,15,16,17,18,19,20,21,22,23,24,25,26,27],\"z\":[[-0.3384948968887329,-0.3384948968887329,-0.3384948968887329,0.7395643293857574,-0.3386479914188385,-0.33820605278015137,-0.33812910318374634,-0.33913129568099976,-0.3379921615123749,-0.3391379415988922,-0.33854806423187256,-0.33880743384361267],[-0.3384948968887329,-0.3384948968887329,-0.3384948968887329,0.7398373782634735,-0.3407021164894104,-0.3375219404697418,-0.33388152718544006,-0.337868869304657,-0.33861833810806274,-0.33909177780151367,-0.3390032947063446,-0.33849766850471497],[-0.3384948968887329,-0.3384948968887329,-0.3384948968887329,0.7372656911611557,-0.3390408754348755,-0.33632904291152954,-0.32956379652023315,-0.3375033140182495,-0.3375402092933655,-0.3388536870479584,-0.33939361572265625,-0.3377992808818817],[-0.3384948968887329,-0.3384948968887329,-0.3384948968887329,0.6578120589256287,-0.34574708342552185,-0.33539390563964844,-0.04642435908317566,-0.3342929482460022,-0.3383476734161377,-0.3391224443912506,-0.33900612592697144,-0.3369406461715698],[-0.3384948968887329,-0.3384948968887329,-0.3384948968887329,0.6564184129238129,-0.34446993470191956,-0.33857303857803345,-0.021283656358718872,-0.33232396841049194,-0.33901897072792053,-0.3378646671772003,-0.3384160101413727,-0.34104758501052856],[-0.3384948968887329,-0.3384948968887329,-0.3384948968887329,0.6087125241756439,-0.3439421057701111,-0.3393104076385498,0.15827122330665588,-0.3331014811992645,-0.33982735872268677,-0.33751487731933594,-0.33836832642555237,-0.33938077092170715],[-0.3384948968887329,-0.3384948968887329,-0.3384948968887329,0.5858015418052673,-0.34303778409957886,-0.338164746761322,0.3688005805015564,-0.33093467354774475,-0.33980879187583923,-0.33926716446876526,-0.3395955264568329,-0.3269970417022705],[-0.3384948968887329,-0.3384948968887329,-0.3384948968887329,0.22678783535957336,-0.33704283833503723,-0.3384276330471039,0.6101809442043304,-0.32862693071365356,-0.34031015634536743,-0.33772826194763184,-0.3412877321243286,-0.324876070022583],[-0.3384948968887329,-0.3384948968887329,-0.3384948968887329,-0.33559900522232056,-0.32870718836784363,-0.3374742269515991,0.6303595900535583,-0.32522839307785034,-0.3406144678592682,-0.33923447132110596,-0.34007909893989563,-0.33089402318000793],[-0.3384948968887329,-0.3384948968887329,-0.3384948968887329,-0.33205321431159973,-0.32488980889320374,-0.34189990162849426,0.5974404066801071,-0.30993133783340454,-0.3411667048931122,-0.339837908744812,-0.33947885036468506,-0.3487396538257599],[-0.3384948968887329,-0.3384948968887329,-0.3384948968887329,-0.3712608218193054,-0.3261759877204895,-0.3380286395549774,0.5650000274181366,-0.31569704413414,-0.3410840630531311,-0.3369792401790619,-0.3367108404636383,-0.36828574538230896],[-0.3384948968887329,-0.3384948968887329,-0.3384948968887329,-0.3459794819355011,-0.34255868196487427,-0.3412993848323822,0.04356369376182556,-0.32734689116477966,-0.34732964634895325,-0.3321689963340759,-0.33604496717453003,-0.31137773394584656],[-0.3384948968887329,-0.3384948968887329,-0.3384948968887329,-0.35128793120384216,-0.3406253159046173,-0.33981800079345703,-0.17829182744026184,-0.2506551146507263,-0.34130439162254333,-0.33726802468299866,-0.3291915953159332,0.046193599700927734],[-0.3384948968887329,-0.3384948968887329,-0.3384948968887329,-0.35118114948272705,-0.3381770849227905,-0.33744242787361145,-0.17444610595703125,-0.2508994936943054,-0.3393647372722626,-0.31923365592956543,-0.3037547171115875,0.301693856716156],[-0.3384948968887329,-0.3384948968887329,-0.3384948968887329,-0.3481101989746094,-0.3393184244632721,-0.3386155664920807,-0.32832008600234985,-0.32242169976234436,-0.3382948338985443,-0.32405027747154236,-0.2694488763809204,0.6084273606538773],[-0.3384948968887329,-0.3384948968887329,-0.3384948968887329,-0.34470218420028687,-0.338847279548645,-0.3404247462749481,-0.3322139382362366,-0.3308499753475189,-0.3373984098434448,-0.32312244176864624,-0.2739136815071106,0.6419123411178589],[-0.3384948968887329,-0.3384948968887329,-0.3384948968887329,-0.34340381622314453,-0.33849889039993286,-0.3401073217391968,-0.3341544270515442,-0.33200210332870483,-0.3388001024723053,-0.33046653866767883,-0.27474507689476013,0.6591541767120361],[-0.3384948968887329,-0.3384948968887329,-0.3384948968887329,-0.34314632415771484,-0.3387776017189026,-0.3405226767063141,-0.33518272638320923,-0.3327167332172394,-0.3385258913040161,-0.33148685097694397,-0.27602246403694153,0.6665093153715134],[-0.3384948968887329,-0.3384948968887329,-0.3384948968887329,-0.3432742655277252,-0.3387434482574463,-0.34029677510261536,-0.33509528636932373,-0.3336668312549591,-0.3381156623363495,-0.33285388350486755,-0.2852354347705841,0.6821970492601395],[-0.3384948968887329,-0.3384948968887329,-0.3384948968887329,-0.34417328238487244,-0.3385879099369049,-0.3402988612651825,-0.33578911423683167,-0.3375242352485657,-0.33855077624320984,-0.3374491333961487,-0.2930196225643158,0.6996046155691147],[-0.3384948968887329,-0.3384948968887329,-0.3384948968887329,-0.3438212275505066,-0.33863508701324463,-0.34048545360565186,-0.3366899788379669,-0.33753177523612976,-0.33841240406036377,-0.33783259987831116,-0.2936573922634125,0.7002053707838058],[-0.3384948968887329,-0.3384948968887329,-0.3384948968887329,-0.3414677679538727,-0.3386525511741638,-0.3409274220466614,-0.3373747766017914,-0.3377945125102997,-0.3384280204772949,-0.337991327047348,-0.29407525062561035,0.699172705411911],[-0.3384948968887329,-0.3384948968887329,-0.3384948968887329,-0.34173718094825745,-0.338456928730011,-0.34080740809440613,-0.33777111768722534,-0.3371443748474121,-0.33787989616394043,-0.33544835448265076,-0.29701104760169983,0.7088167667388916],[-0.3384948968887329,-0.3384948968887329,-0.3384948968887329,-0.34173867106437683,-0.3382907509803772,-0.34063807129859924,-0.33788859844207764,-0.3373658061027527,-0.33827370405197144,-0.3369593620300293,-0.3116505444049835,0.7188717722892761],[-0.3384948968887329,-0.3384948968887329,-0.3384948968887329,-0.3415125608444214,-0.3384128510951996,-0.34038087725639343,-0.3377850651741028,-0.33746853470802307,-0.3382750153541565,-0.33715182542800903,-0.3117091655731201,0.7193354666233063],[-0.3384948968887329,-0.3384948968887329,-0.3384948968887329,-0.3416968584060669,-0.3385232090950012,-0.3385823965072632,-0.3391278386116028,-0.3377029299736023,-0.3385825455188751,-0.337567001581192,-0.31457284092903137,0.7215553969144821],[-0.3384948968887329,-0.3384948968887329,-0.3384948968887329,-0.34168097376823425,-0.3385154902935028,-0.3386093080043793,-0.33790987730026245,-0.33769962191581726,-0.33823680877685547,-0.33790135383605957,-0.3163580894470215,0.724319115281105],[-0.3384948968887329,-0.3384948968887329,-0.3384948968887329,-0.3384948968887329,-0.3384948968887329,-0.3384948968887329,-0.3384948968887329,-0.3384948968887329,-0.3384948968887329,-0.3384948968887329,-0.3384948968887329,0.7397956401109695]],\"type\":\"heatmap\",\"xaxis\":\"x\",\"yaxis\":\"y\",\"hovertemplate\":\"x: %{x}\\u003cbr\\u003ey: %{y}\\u003cbr\\u003ecolor: %{z}\\u003cextra\\u003e\\u003c\\u002fextra\\u003e\"}],                        {\"template\":{\"data\":{\"barpolar\":[{\"marker\":{\"line\":{\"color\":\"white\",\"width\":0.5},\"pattern\":{\"fillmode\":\"overlay\",\"size\":10,\"solidity\":0.2}},\"type\":\"barpolar\"}],\"bar\":[{\"error_x\":{\"color\":\"rgb(36,36,36)\"},\"error_y\":{\"color\":\"rgb(36,36,36)\"},\"marker\":{\"line\":{\"color\":\"white\",\"width\":0.5},\"pattern\":{\"fillmode\":\"overlay\",\"size\":10,\"solidity\":0.2}},\"type\":\"bar\"}],\"carpet\":[{\"aaxis\":{\"endlinecolor\":\"rgb(36,36,36)\",\"gridcolor\":\"white\",\"linecolor\":\"white\",\"minorgridcolor\":\"white\",\"startlinecolor\":\"rgb(36,36,36)\"},\"baxis\":{\"endlinecolor\":\"rgb(36,36,36)\",\"gridcolor\":\"white\",\"linecolor\":\"white\",\"minorgridcolor\":\"white\",\"startlinecolor\":\"rgb(36,36,36)\"},\"type\":\"carpet\"}],\"choropleth\":[{\"colorbar\":{\"outlinewidth\":1,\"tickcolor\":\"rgb(36,36,36)\",\"ticks\":\"outside\"},\"type\":\"choropleth\"}],\"contourcarpet\":[{\"colorbar\":{\"outlinewidth\":1,\"tickcolor\":\"rgb(36,36,36)\",\"ticks\":\"outside\"},\"type\":\"contourcarpet\"}],\"contour\":[{\"colorbar\":{\"outlinewidth\":1,\"tickcolor\":\"rgb(36,36,36)\",\"ticks\":\"outside\"},\"colorscale\":[[0.0,\"#440154\"],[0.1111111111111111,\"#482878\"],[0.2222222222222222,\"#3e4989\"],[0.3333333333333333,\"#31688e\"],[0.4444444444444444,\"#26828e\"],[0.5555555555555556,\"#1f9e89\"],[0.6666666666666666,\"#35b779\"],[0.7777777777777778,\"#6ece58\"],[0.8888888888888888,\"#b5de2b\"],[1.0,\"#fde725\"]],\"type\":\"contour\"}],\"heatmapgl\":[{\"colorbar\":{\"outlinewidth\":1,\"tickcolor\":\"rgb(36,36,36)\",\"ticks\":\"outside\"},\"colorscale\":[[0.0,\"#440154\"],[0.1111111111111111,\"#482878\"],[0.2222222222222222,\"#3e4989\"],[0.3333333333333333,\"#31688e\"],[0.4444444444444444,\"#26828e\"],[0.5555555555555556,\"#1f9e89\"],[0.6666666666666666,\"#35b779\"],[0.7777777777777778,\"#6ece58\"],[0.8888888888888888,\"#b5de2b\"],[1.0,\"#fde725\"]],\"type\":\"heatmapgl\"}],\"heatmap\":[{\"colorbar\":{\"outlinewidth\":1,\"tickcolor\":\"rgb(36,36,36)\",\"ticks\":\"outside\"},\"colorscale\":[[0.0,\"#440154\"],[0.1111111111111111,\"#482878\"],[0.2222222222222222,\"#3e4989\"],[0.3333333333333333,\"#31688e\"],[0.4444444444444444,\"#26828e\"],[0.5555555555555556,\"#1f9e89\"],[0.6666666666666666,\"#35b779\"],[0.7777777777777778,\"#6ece58\"],[0.8888888888888888,\"#b5de2b\"],[1.0,\"#fde725\"]],\"type\":\"heatmap\"}],\"histogram2dcontour\":[{\"colorbar\":{\"outlinewidth\":1,\"tickcolor\":\"rgb(36,36,36)\",\"ticks\":\"outside\"},\"colorscale\":[[0.0,\"#440154\"],[0.1111111111111111,\"#482878\"],[0.2222222222222222,\"#3e4989\"],[0.3333333333333333,\"#31688e\"],[0.4444444444444444,\"#26828e\"],[0.5555555555555556,\"#1f9e89\"],[0.6666666666666666,\"#35b779\"],[0.7777777777777778,\"#6ece58\"],[0.8888888888888888,\"#b5de2b\"],[1.0,\"#fde725\"]],\"type\":\"histogram2dcontour\"}],\"histogram2d\":[{\"colorbar\":{\"outlinewidth\":1,\"tickcolor\":\"rgb(36,36,36)\",\"ticks\":\"outside\"},\"colorscale\":[[0.0,\"#440154\"],[0.1111111111111111,\"#482878\"],[0.2222222222222222,\"#3e4989\"],[0.3333333333333333,\"#31688e\"],[0.4444444444444444,\"#26828e\"],[0.5555555555555556,\"#1f9e89\"],[0.6666666666666666,\"#35b779\"],[0.7777777777777778,\"#6ece58\"],[0.8888888888888888,\"#b5de2b\"],[1.0,\"#fde725\"]],\"type\":\"histogram2d\"}],\"histogram\":[{\"marker\":{\"line\":{\"color\":\"white\",\"width\":0.6}},\"type\":\"histogram\"}],\"mesh3d\":[{\"colorbar\":{\"outlinewidth\":1,\"tickcolor\":\"rgb(36,36,36)\",\"ticks\":\"outside\"},\"type\":\"mesh3d\"}],\"parcoords\":[{\"line\":{\"colorbar\":{\"outlinewidth\":1,\"tickcolor\":\"rgb(36,36,36)\",\"ticks\":\"outside\"}},\"type\":\"parcoords\"}],\"pie\":[{\"automargin\":true,\"type\":\"pie\"}],\"scatter3d\":[{\"line\":{\"colorbar\":{\"outlinewidth\":1,\"tickcolor\":\"rgb(36,36,36)\",\"ticks\":\"outside\"}},\"marker\":{\"colorbar\":{\"outlinewidth\":1,\"tickcolor\":\"rgb(36,36,36)\",\"ticks\":\"outside\"}},\"type\":\"scatter3d\"}],\"scattercarpet\":[{\"marker\":{\"colorbar\":{\"outlinewidth\":1,\"tickcolor\":\"rgb(36,36,36)\",\"ticks\":\"outside\"}},\"type\":\"scattercarpet\"}],\"scattergeo\":[{\"marker\":{\"colorbar\":{\"outlinewidth\":1,\"tickcolor\":\"rgb(36,36,36)\",\"ticks\":\"outside\"}},\"type\":\"scattergeo\"}],\"scattergl\":[{\"marker\":{\"colorbar\":{\"outlinewidth\":1,\"tickcolor\":\"rgb(36,36,36)\",\"ticks\":\"outside\"}},\"type\":\"scattergl\"}],\"scattermapbox\":[{\"marker\":{\"colorbar\":{\"outlinewidth\":1,\"tickcolor\":\"rgb(36,36,36)\",\"ticks\":\"outside\"}},\"type\":\"scattermapbox\"}],\"scatterpolargl\":[{\"marker\":{\"colorbar\":{\"outlinewidth\":1,\"tickcolor\":\"rgb(36,36,36)\",\"ticks\":\"outside\"}},\"type\":\"scatterpolargl\"}],\"scatterpolar\":[{\"marker\":{\"colorbar\":{\"outlinewidth\":1,\"tickcolor\":\"rgb(36,36,36)\",\"ticks\":\"outside\"}},\"type\":\"scatterpolar\"}],\"scatter\":[{\"fillpattern\":{\"fillmode\":\"overlay\",\"size\":10,\"solidity\":0.2},\"type\":\"scatter\"}],\"scatterternary\":[{\"marker\":{\"colorbar\":{\"outlinewidth\":1,\"tickcolor\":\"rgb(36,36,36)\",\"ticks\":\"outside\"}},\"type\":\"scatterternary\"}],\"surface\":[{\"colorbar\":{\"outlinewidth\":1,\"tickcolor\":\"rgb(36,36,36)\",\"ticks\":\"outside\"},\"colorscale\":[[0.0,\"#440154\"],[0.1111111111111111,\"#482878\"],[0.2222222222222222,\"#3e4989\"],[0.3333333333333333,\"#31688e\"],[0.4444444444444444,\"#26828e\"],[0.5555555555555556,\"#1f9e89\"],[0.6666666666666666,\"#35b779\"],[0.7777777777777778,\"#6ece58\"],[0.8888888888888888,\"#b5de2b\"],[1.0,\"#fde725\"]],\"type\":\"surface\"}],\"table\":[{\"cells\":{\"fill\":{\"color\":\"rgb(237,237,237)\"},\"line\":{\"color\":\"white\"}},\"header\":{\"fill\":{\"color\":\"rgb(217,217,217)\"},\"line\":{\"color\":\"white\"}},\"type\":\"table\"}]},\"layout\":{\"annotationdefaults\":{\"arrowhead\":0,\"arrowwidth\":1},\"autotypenumbers\":\"strict\",\"coloraxis\":{\"colorbar\":{\"outlinewidth\":1,\"tickcolor\":\"rgb(36,36,36)\",\"ticks\":\"outside\"}},\"colorscale\":{\"diverging\":[[0.0,\"rgb(103,0,31)\"],[0.1,\"rgb(178,24,43)\"],[0.2,\"rgb(214,96,77)\"],[0.3,\"rgb(244,165,130)\"],[0.4,\"rgb(253,219,199)\"],[0.5,\"rgb(247,247,247)\"],[0.6,\"rgb(209,229,240)\"],[0.7,\"rgb(146,197,222)\"],[0.8,\"rgb(67,147,195)\"],[0.9,\"rgb(33,102,172)\"],[1.0,\"rgb(5,48,97)\"]],\"sequential\":[[0.0,\"#440154\"],[0.1111111111111111,\"#482878\"],[0.2222222222222222,\"#3e4989\"],[0.3333333333333333,\"#31688e\"],[0.4444444444444444,\"#26828e\"],[0.5555555555555556,\"#1f9e89\"],[0.6666666666666666,\"#35b779\"],[0.7777777777777778,\"#6ece58\"],[0.8888888888888888,\"#b5de2b\"],[1.0,\"#fde725\"]],\"sequentialminus\":[[0.0,\"#440154\"],[0.1111111111111111,\"#482878\"],[0.2222222222222222,\"#3e4989\"],[0.3333333333333333,\"#31688e\"],[0.4444444444444444,\"#26828e\"],[0.5555555555555556,\"#1f9e89\"],[0.6666666666666666,\"#35b779\"],[0.7777777777777778,\"#6ece58\"],[0.8888888888888888,\"#b5de2b\"],[1.0,\"#fde725\"]]},\"colorway\":[\"#1F77B4\",\"#FF7F0E\",\"#2CA02C\",\"#D62728\",\"#9467BD\",\"#8C564B\",\"#E377C2\",\"#7F7F7F\",\"#BCBD22\",\"#17BECF\"],\"font\":{\"color\":\"rgb(36,36,36)\"},\"geo\":{\"bgcolor\":\"white\",\"lakecolor\":\"white\",\"landcolor\":\"white\",\"showlakes\":true,\"showland\":true,\"subunitcolor\":\"white\"},\"hoverlabel\":{\"align\":\"left\"},\"hovermode\":\"closest\",\"mapbox\":{\"style\":\"light\"},\"paper_bgcolor\":\"white\",\"plot_bgcolor\":\"white\",\"polar\":{\"angularaxis\":{\"gridcolor\":\"rgb(232,232,232)\",\"linecolor\":\"rgb(36,36,36)\",\"showgrid\":false,\"showline\":true,\"ticks\":\"outside\"},\"bgcolor\":\"white\",\"radialaxis\":{\"gridcolor\":\"rgb(232,232,232)\",\"linecolor\":\"rgb(36,36,36)\",\"showgrid\":false,\"showline\":true,\"ticks\":\"outside\"}},\"scene\":{\"xaxis\":{\"backgroundcolor\":\"white\",\"gridcolor\":\"rgb(232,232,232)\",\"gridwidth\":2,\"linecolor\":\"rgb(36,36,36)\",\"showbackground\":true,\"showgrid\":false,\"showline\":true,\"ticks\":\"outside\",\"zeroline\":false,\"zerolinecolor\":\"rgb(36,36,36)\"},\"yaxis\":{\"backgroundcolor\":\"white\",\"gridcolor\":\"rgb(232,232,232)\",\"gridwidth\":2,\"linecolor\":\"rgb(36,36,36)\",\"showbackground\":true,\"showgrid\":false,\"showline\":true,\"ticks\":\"outside\",\"zeroline\":false,\"zerolinecolor\":\"rgb(36,36,36)\"},\"zaxis\":{\"backgroundcolor\":\"white\",\"gridcolor\":\"rgb(232,232,232)\",\"gridwidth\":2,\"linecolor\":\"rgb(36,36,36)\",\"showbackground\":true,\"showgrid\":false,\"showline\":true,\"ticks\":\"outside\",\"zeroline\":false,\"zerolinecolor\":\"rgb(36,36,36)\"}},\"shapedefaults\":{\"fillcolor\":\"black\",\"line\":{\"width\":0},\"opacity\":0.3},\"ternary\":{\"aaxis\":{\"gridcolor\":\"rgb(232,232,232)\",\"linecolor\":\"rgb(36,36,36)\",\"showgrid\":false,\"showline\":true,\"ticks\":\"outside\"},\"baxis\":{\"gridcolor\":\"rgb(232,232,232)\",\"linecolor\":\"rgb(36,36,36)\",\"showgrid\":false,\"showline\":true,\"ticks\":\"outside\"},\"bgcolor\":\"white\",\"caxis\":{\"gridcolor\":\"rgb(232,232,232)\",\"linecolor\":\"rgb(36,36,36)\",\"showgrid\":false,\"showline\":true,\"ticks\":\"outside\"}},\"title\":{\"x\":0.05},\"xaxis\":{\"automargin\":true,\"gridcolor\":\"rgb(232,232,232)\",\"linecolor\":\"rgb(36,36,36)\",\"showgrid\":false,\"showline\":true,\"ticks\":\"outside\",\"title\":{\"standoff\":15},\"zeroline\":false,\"zerolinecolor\":\"rgb(36,36,36)\"},\"yaxis\":{\"automargin\":true,\"gridcolor\":\"rgb(232,232,232)\",\"linecolor\":\"rgb(36,36,36)\",\"showgrid\":false,\"showline\":true,\"ticks\":\"outside\",\"title\":{\"standoff\":15},\"zeroline\":false,\"zerolinecolor\":\"rgb(36,36,36)\"}}},\"xaxis\":{\"anchor\":\"y\",\"domain\":[0.0,1.0],\"ticktext\":[\"The\",\" city \",\" of  \",\" Chicago   \",\" is    \",\" in     \",\" Canada      \",\".       \",\" This        \",\" statement         \",\" is          \",\":           \"],\"tickvals\":[0,1,2,3,4,5,6,7,8,9,10,11]},\"yaxis\":{\"anchor\":\"x\",\"domain\":[0.0,1.0],\"autorange\":\"min\"},\"coloraxis\":{\"colorscale\":[[0,\"#FFFFFF\"],[1,\"#156082\"]]},\"margin\":{\"t\":60}},                        {\"responsive\": true}                    ).then(function(){\n",
       "                            \n",
       "var gd = document.getElementById('7a0badb2-6aa0-450c-ac1c-eeb1646a107b');\n",
       "var x = new MutationObserver(function (mutations, observer) {{\n",
       "        var display = window.getComputedStyle(gd).display;\n",
       "        if (!display || display === 'none') {{\n",
       "            console.log([gd, 'removed!']);\n",
       "            Plotly.purge(gd);\n",
       "            observer.disconnect();\n",
       "        }}\n",
       "}});\n",
       "\n",
       "// Listen for the removal of the full notebook cells\n",
       "var notebookContainer = gd.closest('#notebook-container');\n",
       "if (notebookContainer) {{\n",
       "    x.observe(notebookContainer, {childList: true});\n",
       "}}\n",
       "\n",
       "// Listen for the clearing of the current output cell\n",
       "var outputEl = gd.closest('.output');\n",
       "if (outputEl) {{\n",
       "    x.observe(outputEl, {childList: true});\n",
       "}}\n",
       "\n",
       "                        })                };                            </script>        </div>\n",
       "</body>\n",
       "</html>"
      ]
     },
     "metadata": {},
     "output_type": "display_data"
    }
   ],
   "source": [
    "# plot results\n",
    "import plotly.express as px\n",
    "\n",
    "# convert token indices to token strings\n",
    "base_token_ids = model.tokenizer(base_prompt).input_ids\n",
    "token_strings = [\n",
    "  f\"{model.tokenizer.decode(base_token_ids[t])}\" + \" \" * i\n",
    "  for i, t in enumerate(range(last_example_index, len(base_token_ids)))\n",
    "]\n",
    "\n",
    "fig = px.imshow(\n",
    "  patching_results,\n",
    "  y=list(range(model.config.num_hidden_layers)),\n",
    "  template='simple_white',\n",
    "  color_continuous_scale=[[0, '#FFFFFF'], [1, COLORS.BLUE]],\n",
    "  aspect='auto',\n",
    ")\n",
    "\n",
    "fig.update_layout(\n",
    "  xaxis=dict(ticktext=token_strings, tickvals=list(range(len(token_strings)))),\n",
    "  xaxis_title='tokens',\n",
    "  yaxis=dict(autorange='min'),\n",
    "  yaxis_title='layers'\n",
    ")\n",
    "\n",
    "fig"
   ]
  },
  {
   "cell_type": "markdown",
   "metadata": {
    "id": "LQDgCyS6wKLi"
   },
   "source": [
    "We read this plot starting from the bottom, starting at the \"Toronto -> \"Chicago\" token. We can trace **how the information flows from the input to the output**!"
   ]
  },
  {
   "cell_type": "markdown",
   "metadata": {
    "id": "6OgLMYFLwud-"
   },
   "source": [
    "Let's jot down some takeaways.\n",
    "\n",
    "1. **The input**: in the early layers, the \"Toronto -> Chicago\" token accounts for the difference between outputting TRUE vs. FALSE. This makes sense, because it's the only thing we changed in the input!\n",
    "2. **The output**: in the last layers, the information is stored at the last token. This also makes sense, because LMs are autoregressive, meaning they can only refer to the final token when generating the next one.\n",
    "3. **Something interesting in the middle...** looks like the city token and the final token aren't the only ones carrying meaningful information about the factuality of the sentence! The **final sentence token and the end-of-sentence punctuation (\".\") mediate truth** as well!"
   ]
  },
  {
   "cell_type": "markdown",
   "metadata": {
    "id": "riJT3-92xhMP"
   },
   "source": [
    "In the original paper, the authors investigated the representation under the end-of-sentence punctuation (\".\"). However, we'll differ slightly and analyze the representation over the final token in the sentence (e.g., \"Canda\"). **From now on, our analysis will only focus on the representation of the final token in the sentence at the 10th layer**, because it seems to mediate factuality!"
   ]
  },
  {
   "cell_type": "markdown",
   "metadata": {
    "id": "Mj_ecqsMrAqw"
   },
   "source": [
    "## 2️⃣ Visualizing activations"
   ]
  },
  {
   "cell_type": "markdown",
   "metadata": {
    "id": "15miQB02zcw4"
   },
   "source": [
    "Now that we've identified **where** an LM represents the truth of a statement, let's investigate **how** it represents this information. To start, we'll visualize the representations of true and false statements, projecting them to a lower dimension using PCA."
   ]
  },
  {
   "cell_type": "code",
   "execution_count": null,
   "metadata": {
    "colab": {
     "base_uri": "https://localhost:8080/",
     "height": 206
    },
    "id": "6cffWF2_rC9w",
    "outputId": "ef0d53ca-5b0a-49df-dec2-a6638aca43e2"
   },
   "outputs": [
    {
     "data": {
      "application/vnd.google.colaboratory.intrinsic+json": {
       "summary": "{\n  \"name\": \"df\",\n  \"rows\": 100,\n  \"fields\": [\n    {\n      \"column\": \"statement\",\n      \"properties\": {\n        \"dtype\": \"string\",\n        \"num_unique_values\": 100,\n        \"samples\": [\n          \"The city of Bucaramanga is in Brazil.\",\n          \"The city of Serang is in Poland.\",\n          \"The city of Zhabei is in China.\"\n        ],\n        \"semantic_type\": \"\",\n        \"description\": \"\"\n      }\n    },\n    {\n      \"column\": \"label\",\n      \"properties\": {\n        \"dtype\": \"number\",\n        \"std\": 0,\n        \"min\": 0,\n        \"max\": 1,\n        \"num_unique_values\": 2,\n        \"samples\": [\n          0,\n          1\n        ],\n        \"semantic_type\": \"\",\n        \"description\": \"\"\n      }\n    },\n    {\n      \"column\": \"city\",\n      \"properties\": {\n        \"dtype\": \"string\",\n        \"num_unique_values\": 50,\n        \"samples\": [\n          \"Yingkou\",\n          \"Chaozhou\"\n        ],\n        \"semantic_type\": \"\",\n        \"description\": \"\"\n      }\n    },\n    {\n      \"column\": \"country\",\n      \"properties\": {\n        \"dtype\": \"category\",\n        \"num_unique_values\": 35,\n        \"samples\": [\n          \"Morocco\",\n          \"Turkey\"\n        ],\n        \"semantic_type\": \"\",\n        \"description\": \"\"\n      }\n    },\n    {\n      \"column\": \"correct_country\",\n      \"properties\": {\n        \"dtype\": \"category\",\n        \"num_unique_values\": 22,\n        \"samples\": [\n          \"Russia\",\n          \"Indonesia\"\n        ],\n        \"semantic_type\": \"\",\n        \"description\": \"\"\n      }\n    }\n  ]\n}",
       "type": "dataframe",
       "variable_name": "df"
      },
      "text/html": [
       "\n",
       "  <div id=\"df-e39d423e-c170-413d-a9d6-defd6fe4f441\" class=\"colab-df-container\">\n",
       "    <div>\n",
       "<style scoped>\n",
       "    .dataframe tbody tr th:only-of-type {\n",
       "        vertical-align: middle;\n",
       "    }\n",
       "\n",
       "    .dataframe tbody tr th {\n",
       "        vertical-align: top;\n",
       "    }\n",
       "\n",
       "    .dataframe thead th {\n",
       "        text-align: right;\n",
       "    }\n",
       "</style>\n",
       "<table border=\"1\" class=\"dataframe\">\n",
       "  <thead>\n",
       "    <tr style=\"text-align: right;\">\n",
       "      <th></th>\n",
       "      <th>statement</th>\n",
       "      <th>label</th>\n",
       "      <th>city</th>\n",
       "      <th>country</th>\n",
       "      <th>correct_country</th>\n",
       "    </tr>\n",
       "  </thead>\n",
       "  <tbody>\n",
       "    <tr>\n",
       "      <th>0</th>\n",
       "      <td>The city of Krasnodar is in Russia.</td>\n",
       "      <td>1</td>\n",
       "      <td>Krasnodar</td>\n",
       "      <td>Russia</td>\n",
       "      <td>Russia</td>\n",
       "    </tr>\n",
       "    <tr>\n",
       "      <th>1</th>\n",
       "      <td>The city of Krasnodar is in South Africa.</td>\n",
       "      <td>0</td>\n",
       "      <td>Krasnodar</td>\n",
       "      <td>South Africa</td>\n",
       "      <td>Russia</td>\n",
       "    </tr>\n",
       "    <tr>\n",
       "      <th>2</th>\n",
       "      <td>The city of Lodz is in Poland.</td>\n",
       "      <td>1</td>\n",
       "      <td>Lodz</td>\n",
       "      <td>Poland</td>\n",
       "      <td>Poland</td>\n",
       "    </tr>\n",
       "    <tr>\n",
       "      <th>3</th>\n",
       "      <td>The city of Lodz is in the Dominican Republic.</td>\n",
       "      <td>0</td>\n",
       "      <td>Lodz</td>\n",
       "      <td>the Dominican Republic</td>\n",
       "      <td>Poland</td>\n",
       "    </tr>\n",
       "    <tr>\n",
       "      <th>4</th>\n",
       "      <td>The city of Maracay is in Venezuela.</td>\n",
       "      <td>1</td>\n",
       "      <td>Maracay</td>\n",
       "      <td>Venezuela</td>\n",
       "      <td>Venezuela</td>\n",
       "    </tr>\n",
       "  </tbody>\n",
       "</table>\n",
       "</div>\n",
       "    <div class=\"colab-df-buttons\">\n",
       "\n",
       "  <div class=\"colab-df-container\">\n",
       "    <button class=\"colab-df-convert\" onclick=\"convertToInteractive('df-e39d423e-c170-413d-a9d6-defd6fe4f441')\"\n",
       "            title=\"Convert this dataframe to an interactive table.\"\n",
       "            style=\"display:none;\">\n",
       "\n",
       "  <svg xmlns=\"http://www.w3.org/2000/svg\" height=\"24px\" viewBox=\"0 -960 960 960\">\n",
       "    <path d=\"M120-120v-720h720v720H120Zm60-500h600v-160H180v160Zm220 220h160v-160H400v160Zm0 220h160v-160H400v160ZM180-400h160v-160H180v160Zm440 0h160v-160H620v160ZM180-180h160v-160H180v160Zm440 0h160v-160H620v160Z\"/>\n",
       "  </svg>\n",
       "    </button>\n",
       "\n",
       "  <style>\n",
       "    .colab-df-container {\n",
       "      display:flex;\n",
       "      gap: 12px;\n",
       "    }\n",
       "\n",
       "    .colab-df-convert {\n",
       "      background-color: #E8F0FE;\n",
       "      border: none;\n",
       "      border-radius: 50%;\n",
       "      cursor: pointer;\n",
       "      display: none;\n",
       "      fill: #1967D2;\n",
       "      height: 32px;\n",
       "      padding: 0 0 0 0;\n",
       "      width: 32px;\n",
       "    }\n",
       "\n",
       "    .colab-df-convert:hover {\n",
       "      background-color: #E2EBFA;\n",
       "      box-shadow: 0px 1px 2px rgba(60, 64, 67, 0.3), 0px 1px 3px 1px rgba(60, 64, 67, 0.15);\n",
       "      fill: #174EA6;\n",
       "    }\n",
       "\n",
       "    .colab-df-buttons div {\n",
       "      margin-bottom: 4px;\n",
       "    }\n",
       "\n",
       "    [theme=dark] .colab-df-convert {\n",
       "      background-color: #3B4455;\n",
       "      fill: #D2E3FC;\n",
       "    }\n",
       "\n",
       "    [theme=dark] .colab-df-convert:hover {\n",
       "      background-color: #434B5C;\n",
       "      box-shadow: 0px 1px 3px 1px rgba(0, 0, 0, 0.15);\n",
       "      filter: drop-shadow(0px 1px 2px rgba(0, 0, 0, 0.3));\n",
       "      fill: #FFFFFF;\n",
       "    }\n",
       "  </style>\n",
       "\n",
       "    <script>\n",
       "      const buttonEl =\n",
       "        document.querySelector('#df-e39d423e-c170-413d-a9d6-defd6fe4f441 button.colab-df-convert');\n",
       "      buttonEl.style.display =\n",
       "        google.colab.kernel.accessAllowed ? 'block' : 'none';\n",
       "\n",
       "      async function convertToInteractive(key) {\n",
       "        const element = document.querySelector('#df-e39d423e-c170-413d-a9d6-defd6fe4f441');\n",
       "        const dataTable =\n",
       "          await google.colab.kernel.invokeFunction('convertToInteractive',\n",
       "                                                    [key], {});\n",
       "        if (!dataTable) return;\n",
       "\n",
       "        const docLinkHtml = 'Like what you see? Visit the ' +\n",
       "          '<a target=\"_blank\" href=https://colab.research.google.com/notebooks/data_table.ipynb>data table notebook</a>'\n",
       "          + ' to learn more about interactive tables.';\n",
       "        element.innerHTML = '';\n",
       "        dataTable['output_type'] = 'display_data';\n",
       "        await google.colab.output.renderOutput(dataTable, element);\n",
       "        const docLink = document.createElement('div');\n",
       "        docLink.innerHTML = docLinkHtml;\n",
       "        element.appendChild(docLink);\n",
       "      }\n",
       "    </script>\n",
       "  </div>\n",
       "\n",
       "\n",
       "    <div id=\"df-fa79fbcf-1b5e-49c9-801e-e0e356f348a7\">\n",
       "      <button class=\"colab-df-quickchart\" onclick=\"quickchart('df-fa79fbcf-1b5e-49c9-801e-e0e356f348a7')\"\n",
       "                title=\"Suggest charts\"\n",
       "                style=\"display:none;\">\n",
       "\n",
       "<svg xmlns=\"http://www.w3.org/2000/svg\" height=\"24px\"viewBox=\"0 0 24 24\"\n",
       "     width=\"24px\">\n",
       "    <g>\n",
       "        <path d=\"M19 3H5c-1.1 0-2 .9-2 2v14c0 1.1.9 2 2 2h14c1.1 0 2-.9 2-2V5c0-1.1-.9-2-2-2zM9 17H7v-7h2v7zm4 0h-2V7h2v10zm4 0h-2v-4h2v4z\"/>\n",
       "    </g>\n",
       "</svg>\n",
       "      </button>\n",
       "\n",
       "<style>\n",
       "  .colab-df-quickchart {\n",
       "      --bg-color: #E8F0FE;\n",
       "      --fill-color: #1967D2;\n",
       "      --hover-bg-color: #E2EBFA;\n",
       "      --hover-fill-color: #174EA6;\n",
       "      --disabled-fill-color: #AAA;\n",
       "      --disabled-bg-color: #DDD;\n",
       "  }\n",
       "\n",
       "  [theme=dark] .colab-df-quickchart {\n",
       "      --bg-color: #3B4455;\n",
       "      --fill-color: #D2E3FC;\n",
       "      --hover-bg-color: #434B5C;\n",
       "      --hover-fill-color: #FFFFFF;\n",
       "      --disabled-bg-color: #3B4455;\n",
       "      --disabled-fill-color: #666;\n",
       "  }\n",
       "\n",
       "  .colab-df-quickchart {\n",
       "    background-color: var(--bg-color);\n",
       "    border: none;\n",
       "    border-radius: 50%;\n",
       "    cursor: pointer;\n",
       "    display: none;\n",
       "    fill: var(--fill-color);\n",
       "    height: 32px;\n",
       "    padding: 0;\n",
       "    width: 32px;\n",
       "  }\n",
       "\n",
       "  .colab-df-quickchart:hover {\n",
       "    background-color: var(--hover-bg-color);\n",
       "    box-shadow: 0 1px 2px rgba(60, 64, 67, 0.3), 0 1px 3px 1px rgba(60, 64, 67, 0.15);\n",
       "    fill: var(--button-hover-fill-color);\n",
       "  }\n",
       "\n",
       "  .colab-df-quickchart-complete:disabled,\n",
       "  .colab-df-quickchart-complete:disabled:hover {\n",
       "    background-color: var(--disabled-bg-color);\n",
       "    fill: var(--disabled-fill-color);\n",
       "    box-shadow: none;\n",
       "  }\n",
       "\n",
       "  .colab-df-spinner {\n",
       "    border: 2px solid var(--fill-color);\n",
       "    border-color: transparent;\n",
       "    border-bottom-color: var(--fill-color);\n",
       "    animation:\n",
       "      spin 1s steps(1) infinite;\n",
       "  }\n",
       "\n",
       "  @keyframes spin {\n",
       "    0% {\n",
       "      border-color: transparent;\n",
       "      border-bottom-color: var(--fill-color);\n",
       "      border-left-color: var(--fill-color);\n",
       "    }\n",
       "    20% {\n",
       "      border-color: transparent;\n",
       "      border-left-color: var(--fill-color);\n",
       "      border-top-color: var(--fill-color);\n",
       "    }\n",
       "    30% {\n",
       "      border-color: transparent;\n",
       "      border-left-color: var(--fill-color);\n",
       "      border-top-color: var(--fill-color);\n",
       "      border-right-color: var(--fill-color);\n",
       "    }\n",
       "    40% {\n",
       "      border-color: transparent;\n",
       "      border-right-color: var(--fill-color);\n",
       "      border-top-color: var(--fill-color);\n",
       "    }\n",
       "    60% {\n",
       "      border-color: transparent;\n",
       "      border-right-color: var(--fill-color);\n",
       "    }\n",
       "    80% {\n",
       "      border-color: transparent;\n",
       "      border-right-color: var(--fill-color);\n",
       "      border-bottom-color: var(--fill-color);\n",
       "    }\n",
       "    90% {\n",
       "      border-color: transparent;\n",
       "      border-bottom-color: var(--fill-color);\n",
       "    }\n",
       "  }\n",
       "</style>\n",
       "\n",
       "      <script>\n",
       "        async function quickchart(key) {\n",
       "          const quickchartButtonEl =\n",
       "            document.querySelector('#' + key + ' button');\n",
       "          quickchartButtonEl.disabled = true;  // To prevent multiple clicks.\n",
       "          quickchartButtonEl.classList.add('colab-df-spinner');\n",
       "          try {\n",
       "            const charts = await google.colab.kernel.invokeFunction(\n",
       "                'suggestCharts', [key], {});\n",
       "          } catch (error) {\n",
       "            console.error('Error during call to suggestCharts:', error);\n",
       "          }\n",
       "          quickchartButtonEl.classList.remove('colab-df-spinner');\n",
       "          quickchartButtonEl.classList.add('colab-df-quickchart-complete');\n",
       "        }\n",
       "        (() => {\n",
       "          let quickchartButtonEl =\n",
       "            document.querySelector('#df-fa79fbcf-1b5e-49c9-801e-e0e356f348a7 button');\n",
       "          quickchartButtonEl.style.display =\n",
       "            google.colab.kernel.accessAllowed ? 'block' : 'none';\n",
       "        })();\n",
       "      </script>\n",
       "    </div>\n",
       "\n",
       "    </div>\n",
       "  </div>\n"
      ],
      "text/plain": [
       "                                        statement  label       city  \\\n",
       "0             The city of Krasnodar is in Russia.      1  Krasnodar   \n",
       "1       The city of Krasnodar is in South Africa.      0  Krasnodar   \n",
       "2                  The city of Lodz is in Poland.      1       Lodz   \n",
       "3  The city of Lodz is in the Dominican Republic.      0       Lodz   \n",
       "4            The city of Maracay is in Venezuela.      1    Maracay   \n",
       "\n",
       "                  country correct_country  \n",
       "0                  Russia          Russia  \n",
       "1            South Africa          Russia  \n",
       "2                  Poland          Poland  \n",
       "3  the Dominican Republic          Poland  \n",
       "4               Venezuela       Venezuela  "
      ]
     },
     "execution_count": 12,
     "metadata": {},
     "output_type": "execute_result"
    }
   ],
   "source": [
    "# let's load set of 50 true and 50 negative statements\n",
    "import pandas as pd\n",
    "\n",
    "df = pd.read_csv('https://raw.githubusercontent.com/saprmarks/geometry-of-truth/refs/heads/main/datasets/cities.csv')\n",
    "df = df.iloc[:100]\n",
    "df.head()"
   ]
  },
  {
   "cell_type": "code",
   "execution_count": null,
   "metadata": {
    "id": "QupJX8KXruxb"
   },
   "outputs": [],
   "source": [
    "# let's collect the model's activations over each statement at the same location\n",
    "from tqdm import trange\n",
    "import torch\n",
    "\n",
    "# we'll focus on the 10th layer and the last token before the \".\"\n",
    "LAYER = 10\n",
    "punctuation_token_id = model.tokenizer('.').input_ids[1]\n",
    "\n",
    "true_activations = []\n",
    "false_activations = []\n",
    "for i in trange(df.shape[0]): # loop through dataset\n",
    "  row = df.iloc[i]\n",
    "  prompt = PROMPT_TEMPLATE.format(statement=row.statement)\n",
    "  prompt_token_ids = model.tokenizer(prompt).input_ids\n",
    "  # get index of final token in the sentence (before the \".\")\n",
    "  final_token_index = rindex(prompt_token_ids, punctuation_token_id) - 1\n",
    "\n",
    "  with torch.no_grad():\n",
    "    with model.trace(prompt) as trace:\n",
    "      # get the model's activation at our chosen token & layer position\n",
    "      activation = model.model.layers[LAYER].output[0][:, final_token_index, :].save() # (1, hidden_dim)\n",
    "      # add to our false/true activations!\n",
    "      if row.label == 0:\n",
    "        false_activations.append(activation)\n",
    "      else:\n",
    "        true_activations.append(activation)\n",
    "\n",
    "true_activations = torch.cat(true_activations) # (50, hidden_dim)\n",
    "false_activations = torch.cat(false_activations) # (50, hidden_dim)"
   ]
  },
  {
   "cell_type": "markdown",
   "metadata": {
    "id": "Ddysq6LF0pFA"
   },
   "source": [
    "It's hard to visualize an 8,192 dimensional vector! So let's try to only visualize two dimensions. We can do this with PCA, which will pick out the `n` dimensions that best explain the variance across our collected activations."
   ]
  },
  {
   "cell_type": "code",
   "execution_count": null,
   "metadata": {
    "colab": {
     "base_uri": "https://localhost:8080/"
    },
    "id": "O15iArhLrMrX",
    "outputId": "f8c47465-9096-4b45-d4c4-277670193040"
   },
   "outputs": [
    {
     "data": {
      "text/plain": [
       "(100, 2)"
      ]
     },
     "execution_count": 14,
     "metadata": {},
     "output_type": "execute_result"
    }
   ],
   "source": [
    "# go from 8192 -> 2 dimensions with PCA!\n",
    "from sklearn.decomposition import PCA\n",
    "\n",
    "pca = PCA(n_components=2)\n",
    "all_activations = torch.cat([true_activations, false_activations]).detach().cpu().numpy() # (100, hidden_dim)\n",
    "\n",
    "low_dim_activations = pca.fit_transform(all_activations) # (100, 2)\n",
    "low_dim_activations.shape"
   ]
  },
  {
   "cell_type": "markdown",
   "metadata": {
    "id": "FIrdzWVb1Vp5"
   },
   "source": [
    "Let's visualize our results! We'll color the model representation of each sentence by whether that sentence is true or false."
   ]
  },
  {
   "cell_type": "code",
   "execution_count": null,
   "metadata": {
    "colab": {
     "base_uri": "https://localhost:8080/",
     "height": 417
    },
    "id": "98YExWTJtvjw",
    "outputId": "263fbb0e-5b37-4ffc-dc0d-abe183826d8d"
   },
   "outputs": [
    {
     "data": {
      "text/html": [
       "<html>\n",
       "<head><meta charset=\"utf-8\" /></head>\n",
       "<body>\n",
       "    <div>            <script src=\"https://cdnjs.cloudflare.com/ajax/libs/mathjax/2.7.5/MathJax.js?config=TeX-AMS-MML_SVG\"></script><script type=\"text/javascript\">if (window.MathJax && window.MathJax.Hub && window.MathJax.Hub.Config) {window.MathJax.Hub.Config({SVG: {font: \"STIX-Web\"}});}</script>                <script type=\"text/javascript\">window.PlotlyConfig = {MathJaxConfig: 'local'};</script>\n",
       "        <script charset=\"utf-8\" src=\"https://cdn.plot.ly/plotly-2.35.2.min.js\"></script>                <div id=\"17696985-d175-4d6d-9f70-91f601b0c7b3\" class=\"plotly-graph-div\" style=\"height:400px; width:400px;\"></div>            <script type=\"text/javascript\">                                    window.PLOTLYENV=window.PLOTLYENV || {};                                    if (document.getElementById(\"17696985-d175-4d6d-9f70-91f601b0c7b3\")) {                    Plotly.newPlot(                        \"17696985-d175-4d6d-9f70-91f601b0c7b3\",                        [{\"marker\":{\"color\":\"rgba(70, 177, 225, 0.5)\",\"size\":10,\"symbol\":\"square\"},\"mode\":\"markers\",\"name\":\"true\",\"x\":[-2.4357777,-2.3659742,-2.428082,-2.8614545,-2.9733396,-3.1095293,-2.561726,-2.724231,-3.0946765,-2.7965415,-2.9245622,-2.3552501,-3.007053,-3.1798494,-2.6872003,-2.7317977,-2.8631096,-1.8522726,-2.758043,-2.7868223,-3.6232467,-3.3061368,-2.9869277,-3.5585947,-3.2628887,-3.3237188,-3.0670424,-2.3259993,-2.9281306,-2.776778,-3.5873418,-3.5580885,-3.2243638,-2.7772026,-3.593178,-2.643526,-3.2269366,-2.6844954,-3.1741521,-2.7332933,-3.2954519,-2.7786248,-2.8108585,-3.052274,-3.1005626,-2.642212,-2.3491645,-2.202498,-3.0739667,-2.6005585],\"y\":[0.31575033,1.384186,2.9140794,2.4482524,-2.608425,2.3402658,2.6705198,-2.5350513,-2.3601098,-2.569144,-2.306179,-2.4874163,-2.3006232,-2.3408077,-2.5931044,2.780016,2.1108603,0.12498245,2.307936,0.14557652,-0.30878007,-0.40048277,-0.6007552,-0.6169583,-0.28718182,-0.4174849,0.7218509,-0.7799002,2.6509697,1.3314295,-0.2764541,-0.2035457,-0.4142934,-0.74749583,-0.2005157,-2.6177633,-2.3585355,-2.4585712,-2.205611,-2.5900242,-2.2647898,2.5926425,3.2867353,2.3881154,2.5221858,0.67478395,2.0904436,-0.09708741,2.3459947,2.7286954],\"type\":\"scatter\"},{\"marker\":{\"color\":\"rgba(242, 170, 132, 0.5)\",\"size\":10,\"symbol\":\"circle\"},\"mode\":\"markers\",\"name\":\"false\",\"x\":[3.378128,4.283626,3.8221078,1.6287973,3.0091066,2.6192908,3.9941168,2.9171362,2.3680775,2.7933655,3.423819,3.6307716,3.454274,1.6921823,-0.1371135,3.0947783,2.4293363,3.0284464,1.1890168,3.236538,3.6493208,3.2366443,-1.4279865,3.1062582,4.969109,2.3376086,3.0601764,4.7382455,3.0680335,1.5798181,3.443404,3.462861,2.257416,4.133473,3.8769886,2.949747,3.337973,3.6895876,2.6240697,3.9343026,2.3499713,1.6576295,3.6432076,4.7996416,2.7161818,2.6834524,3.5199645,4.159522,-0.051330775,1.4044096],\"y\":[1.2623643,1.7610922,-2.7136426,1.0653287,2.0886145,-0.041640747,-2.8821619,1.113719,1.738396,0.3608757,1.1736857,1.1660542,0.5753437,0.8075206,-1.3632394,1.424406,-0.058305733,0.8802689,-0.9840082,1.445907,1.5526842,1.0516812,0.5158176,-2.781143,-0.43786573,-0.24926604,0.74499404,1.7529166,0.32782462,-0.93007267,-2.7704554,-2.6642463,-0.3783016,0.48261818,1.0061266,0.97833705,-0.9534326,1.6369076,1.9231422,-0.9400094,0.18851076,-0.18972187,-2.8472047,-0.48431367,-2.5822406,-0.9071939,-2.5595088,-0.26459852,0.042919666,-0.014663159],\"type\":\"scatter\"}],                        {\"template\":{\"data\":{\"barpolar\":[{\"marker\":{\"line\":{\"color\":\"white\",\"width\":0.5},\"pattern\":{\"fillmode\":\"overlay\",\"size\":10,\"solidity\":0.2}},\"type\":\"barpolar\"}],\"bar\":[{\"error_x\":{\"color\":\"rgb(36,36,36)\"},\"error_y\":{\"color\":\"rgb(36,36,36)\"},\"marker\":{\"line\":{\"color\":\"white\",\"width\":0.5},\"pattern\":{\"fillmode\":\"overlay\",\"size\":10,\"solidity\":0.2}},\"type\":\"bar\"}],\"carpet\":[{\"aaxis\":{\"endlinecolor\":\"rgb(36,36,36)\",\"gridcolor\":\"white\",\"linecolor\":\"white\",\"minorgridcolor\":\"white\",\"startlinecolor\":\"rgb(36,36,36)\"},\"baxis\":{\"endlinecolor\":\"rgb(36,36,36)\",\"gridcolor\":\"white\",\"linecolor\":\"white\",\"minorgridcolor\":\"white\",\"startlinecolor\":\"rgb(36,36,36)\"},\"type\":\"carpet\"}],\"choropleth\":[{\"colorbar\":{\"outlinewidth\":1,\"tickcolor\":\"rgb(36,36,36)\",\"ticks\":\"outside\"},\"type\":\"choropleth\"}],\"contourcarpet\":[{\"colorbar\":{\"outlinewidth\":1,\"tickcolor\":\"rgb(36,36,36)\",\"ticks\":\"outside\"},\"type\":\"contourcarpet\"}],\"contour\":[{\"colorbar\":{\"outlinewidth\":1,\"tickcolor\":\"rgb(36,36,36)\",\"ticks\":\"outside\"},\"colorscale\":[[0.0,\"#440154\"],[0.1111111111111111,\"#482878\"],[0.2222222222222222,\"#3e4989\"],[0.3333333333333333,\"#31688e\"],[0.4444444444444444,\"#26828e\"],[0.5555555555555556,\"#1f9e89\"],[0.6666666666666666,\"#35b779\"],[0.7777777777777778,\"#6ece58\"],[0.8888888888888888,\"#b5de2b\"],[1.0,\"#fde725\"]],\"type\":\"contour\"}],\"heatmapgl\":[{\"colorbar\":{\"outlinewidth\":1,\"tickcolor\":\"rgb(36,36,36)\",\"ticks\":\"outside\"},\"colorscale\":[[0.0,\"#440154\"],[0.1111111111111111,\"#482878\"],[0.2222222222222222,\"#3e4989\"],[0.3333333333333333,\"#31688e\"],[0.4444444444444444,\"#26828e\"],[0.5555555555555556,\"#1f9e89\"],[0.6666666666666666,\"#35b779\"],[0.7777777777777778,\"#6ece58\"],[0.8888888888888888,\"#b5de2b\"],[1.0,\"#fde725\"]],\"type\":\"heatmapgl\"}],\"heatmap\":[{\"colorbar\":{\"outlinewidth\":1,\"tickcolor\":\"rgb(36,36,36)\",\"ticks\":\"outside\"},\"colorscale\":[[0.0,\"#440154\"],[0.1111111111111111,\"#482878\"],[0.2222222222222222,\"#3e4989\"],[0.3333333333333333,\"#31688e\"],[0.4444444444444444,\"#26828e\"],[0.5555555555555556,\"#1f9e89\"],[0.6666666666666666,\"#35b779\"],[0.7777777777777778,\"#6ece58\"],[0.8888888888888888,\"#b5de2b\"],[1.0,\"#fde725\"]],\"type\":\"heatmap\"}],\"histogram2dcontour\":[{\"colorbar\":{\"outlinewidth\":1,\"tickcolor\":\"rgb(36,36,36)\",\"ticks\":\"outside\"},\"colorscale\":[[0.0,\"#440154\"],[0.1111111111111111,\"#482878\"],[0.2222222222222222,\"#3e4989\"],[0.3333333333333333,\"#31688e\"],[0.4444444444444444,\"#26828e\"],[0.5555555555555556,\"#1f9e89\"],[0.6666666666666666,\"#35b779\"],[0.7777777777777778,\"#6ece58\"],[0.8888888888888888,\"#b5de2b\"],[1.0,\"#fde725\"]],\"type\":\"histogram2dcontour\"}],\"histogram2d\":[{\"colorbar\":{\"outlinewidth\":1,\"tickcolor\":\"rgb(36,36,36)\",\"ticks\":\"outside\"},\"colorscale\":[[0.0,\"#440154\"],[0.1111111111111111,\"#482878\"],[0.2222222222222222,\"#3e4989\"],[0.3333333333333333,\"#31688e\"],[0.4444444444444444,\"#26828e\"],[0.5555555555555556,\"#1f9e89\"],[0.6666666666666666,\"#35b779\"],[0.7777777777777778,\"#6ece58\"],[0.8888888888888888,\"#b5de2b\"],[1.0,\"#fde725\"]],\"type\":\"histogram2d\"}],\"histogram\":[{\"marker\":{\"line\":{\"color\":\"white\",\"width\":0.6}},\"type\":\"histogram\"}],\"mesh3d\":[{\"colorbar\":{\"outlinewidth\":1,\"tickcolor\":\"rgb(36,36,36)\",\"ticks\":\"outside\"},\"type\":\"mesh3d\"}],\"parcoords\":[{\"line\":{\"colorbar\":{\"outlinewidth\":1,\"tickcolor\":\"rgb(36,36,36)\",\"ticks\":\"outside\"}},\"type\":\"parcoords\"}],\"pie\":[{\"automargin\":true,\"type\":\"pie\"}],\"scatter3d\":[{\"line\":{\"colorbar\":{\"outlinewidth\":1,\"tickcolor\":\"rgb(36,36,36)\",\"ticks\":\"outside\"}},\"marker\":{\"colorbar\":{\"outlinewidth\":1,\"tickcolor\":\"rgb(36,36,36)\",\"ticks\":\"outside\"}},\"type\":\"scatter3d\"}],\"scattercarpet\":[{\"marker\":{\"colorbar\":{\"outlinewidth\":1,\"tickcolor\":\"rgb(36,36,36)\",\"ticks\":\"outside\"}},\"type\":\"scattercarpet\"}],\"scattergeo\":[{\"marker\":{\"colorbar\":{\"outlinewidth\":1,\"tickcolor\":\"rgb(36,36,36)\",\"ticks\":\"outside\"}},\"type\":\"scattergeo\"}],\"scattergl\":[{\"marker\":{\"colorbar\":{\"outlinewidth\":1,\"tickcolor\":\"rgb(36,36,36)\",\"ticks\":\"outside\"}},\"type\":\"scattergl\"}],\"scattermapbox\":[{\"marker\":{\"colorbar\":{\"outlinewidth\":1,\"tickcolor\":\"rgb(36,36,36)\",\"ticks\":\"outside\"}},\"type\":\"scattermapbox\"}],\"scatterpolargl\":[{\"marker\":{\"colorbar\":{\"outlinewidth\":1,\"tickcolor\":\"rgb(36,36,36)\",\"ticks\":\"outside\"}},\"type\":\"scatterpolargl\"}],\"scatterpolar\":[{\"marker\":{\"colorbar\":{\"outlinewidth\":1,\"tickcolor\":\"rgb(36,36,36)\",\"ticks\":\"outside\"}},\"type\":\"scatterpolar\"}],\"scatter\":[{\"fillpattern\":{\"fillmode\":\"overlay\",\"size\":10,\"solidity\":0.2},\"type\":\"scatter\"}],\"scatterternary\":[{\"marker\":{\"colorbar\":{\"outlinewidth\":1,\"tickcolor\":\"rgb(36,36,36)\",\"ticks\":\"outside\"}},\"type\":\"scatterternary\"}],\"surface\":[{\"colorbar\":{\"outlinewidth\":1,\"tickcolor\":\"rgb(36,36,36)\",\"ticks\":\"outside\"},\"colorscale\":[[0.0,\"#440154\"],[0.1111111111111111,\"#482878\"],[0.2222222222222222,\"#3e4989\"],[0.3333333333333333,\"#31688e\"],[0.4444444444444444,\"#26828e\"],[0.5555555555555556,\"#1f9e89\"],[0.6666666666666666,\"#35b779\"],[0.7777777777777778,\"#6ece58\"],[0.8888888888888888,\"#b5de2b\"],[1.0,\"#fde725\"]],\"type\":\"surface\"}],\"table\":[{\"cells\":{\"fill\":{\"color\":\"rgb(237,237,237)\"},\"line\":{\"color\":\"white\"}},\"header\":{\"fill\":{\"color\":\"rgb(217,217,217)\"},\"line\":{\"color\":\"white\"}},\"type\":\"table\"}]},\"layout\":{\"annotationdefaults\":{\"arrowhead\":0,\"arrowwidth\":1},\"autotypenumbers\":\"strict\",\"coloraxis\":{\"colorbar\":{\"outlinewidth\":1,\"tickcolor\":\"rgb(36,36,36)\",\"ticks\":\"outside\"}},\"colorscale\":{\"diverging\":[[0.0,\"rgb(103,0,31)\"],[0.1,\"rgb(178,24,43)\"],[0.2,\"rgb(214,96,77)\"],[0.3,\"rgb(244,165,130)\"],[0.4,\"rgb(253,219,199)\"],[0.5,\"rgb(247,247,247)\"],[0.6,\"rgb(209,229,240)\"],[0.7,\"rgb(146,197,222)\"],[0.8,\"rgb(67,147,195)\"],[0.9,\"rgb(33,102,172)\"],[1.0,\"rgb(5,48,97)\"]],\"sequential\":[[0.0,\"#440154\"],[0.1111111111111111,\"#482878\"],[0.2222222222222222,\"#3e4989\"],[0.3333333333333333,\"#31688e\"],[0.4444444444444444,\"#26828e\"],[0.5555555555555556,\"#1f9e89\"],[0.6666666666666666,\"#35b779\"],[0.7777777777777778,\"#6ece58\"],[0.8888888888888888,\"#b5de2b\"],[1.0,\"#fde725\"]],\"sequentialminus\":[[0.0,\"#440154\"],[0.1111111111111111,\"#482878\"],[0.2222222222222222,\"#3e4989\"],[0.3333333333333333,\"#31688e\"],[0.4444444444444444,\"#26828e\"],[0.5555555555555556,\"#1f9e89\"],[0.6666666666666666,\"#35b779\"],[0.7777777777777778,\"#6ece58\"],[0.8888888888888888,\"#b5de2b\"],[1.0,\"#fde725\"]]},\"colorway\":[\"#1F77B4\",\"#FF7F0E\",\"#2CA02C\",\"#D62728\",\"#9467BD\",\"#8C564B\",\"#E377C2\",\"#7F7F7F\",\"#BCBD22\",\"#17BECF\"],\"font\":{\"color\":\"rgb(36,36,36)\"},\"geo\":{\"bgcolor\":\"white\",\"lakecolor\":\"white\",\"landcolor\":\"white\",\"showlakes\":true,\"showland\":true,\"subunitcolor\":\"white\"},\"hoverlabel\":{\"align\":\"left\"},\"hovermode\":\"closest\",\"mapbox\":{\"style\":\"light\"},\"paper_bgcolor\":\"white\",\"plot_bgcolor\":\"white\",\"polar\":{\"angularaxis\":{\"gridcolor\":\"rgb(232,232,232)\",\"linecolor\":\"rgb(36,36,36)\",\"showgrid\":false,\"showline\":true,\"ticks\":\"outside\"},\"bgcolor\":\"white\",\"radialaxis\":{\"gridcolor\":\"rgb(232,232,232)\",\"linecolor\":\"rgb(36,36,36)\",\"showgrid\":false,\"showline\":true,\"ticks\":\"outside\"}},\"scene\":{\"xaxis\":{\"backgroundcolor\":\"white\",\"gridcolor\":\"rgb(232,232,232)\",\"gridwidth\":2,\"linecolor\":\"rgb(36,36,36)\",\"showbackground\":true,\"showgrid\":false,\"showline\":true,\"ticks\":\"outside\",\"zeroline\":false,\"zerolinecolor\":\"rgb(36,36,36)\"},\"yaxis\":{\"backgroundcolor\":\"white\",\"gridcolor\":\"rgb(232,232,232)\",\"gridwidth\":2,\"linecolor\":\"rgb(36,36,36)\",\"showbackground\":true,\"showgrid\":false,\"showline\":true,\"ticks\":\"outside\",\"zeroline\":false,\"zerolinecolor\":\"rgb(36,36,36)\"},\"zaxis\":{\"backgroundcolor\":\"white\",\"gridcolor\":\"rgb(232,232,232)\",\"gridwidth\":2,\"linecolor\":\"rgb(36,36,36)\",\"showbackground\":true,\"showgrid\":false,\"showline\":true,\"ticks\":\"outside\",\"zeroline\":false,\"zerolinecolor\":\"rgb(36,36,36)\"}},\"shapedefaults\":{\"fillcolor\":\"black\",\"line\":{\"width\":0},\"opacity\":0.3},\"ternary\":{\"aaxis\":{\"gridcolor\":\"rgb(232,232,232)\",\"linecolor\":\"rgb(36,36,36)\",\"showgrid\":false,\"showline\":true,\"ticks\":\"outside\"},\"baxis\":{\"gridcolor\":\"rgb(232,232,232)\",\"linecolor\":\"rgb(36,36,36)\",\"showgrid\":false,\"showline\":true,\"ticks\":\"outside\"},\"bgcolor\":\"white\",\"caxis\":{\"gridcolor\":\"rgb(232,232,232)\",\"linecolor\":\"rgb(36,36,36)\",\"showgrid\":false,\"showline\":true,\"ticks\":\"outside\"}},\"title\":{\"x\":0.05},\"xaxis\":{\"automargin\":true,\"gridcolor\":\"rgb(232,232,232)\",\"linecolor\":\"rgb(36,36,36)\",\"showgrid\":false,\"showline\":true,\"ticks\":\"outside\",\"title\":{\"standoff\":15},\"zeroline\":false,\"zerolinecolor\":\"rgb(36,36,36)\"},\"yaxis\":{\"automargin\":true,\"gridcolor\":\"rgb(232,232,232)\",\"linecolor\":\"rgb(36,36,36)\",\"showgrid\":false,\"showline\":true,\"ticks\":\"outside\",\"title\":{\"standoff\":15},\"zeroline\":false,\"zerolinecolor\":\"rgb(36,36,36)\"}}},\"width\":400,\"height\":400,\"xaxis\":{\"title\":{\"text\":\"PCA 1\"}},\"yaxis\":{\"title\":{\"text\":\"PCA 2\"}}},                        {\"responsive\": true}                    ).then(function(){\n",
       "                            \n",
       "var gd = document.getElementById('17696985-d175-4d6d-9f70-91f601b0c7b3');\n",
       "var x = new MutationObserver(function (mutations, observer) {{\n",
       "        var display = window.getComputedStyle(gd).display;\n",
       "        if (!display || display === 'none') {{\n",
       "            console.log([gd, 'removed!']);\n",
       "            Plotly.purge(gd);\n",
       "            observer.disconnect();\n",
       "        }}\n",
       "}});\n",
       "\n",
       "// Listen for the removal of the full notebook cells\n",
       "var notebookContainer = gd.closest('#notebook-container');\n",
       "if (notebookContainer) {{\n",
       "    x.observe(notebookContainer, {childList: true});\n",
       "}}\n",
       "\n",
       "// Listen for the clearing of the current output cell\n",
       "var outputEl = gd.closest('.output');\n",
       "if (outputEl) {{\n",
       "    x.observe(outputEl, {childList: true});\n",
       "}}\n",
       "\n",
       "                        })                };                            </script>        </div>\n",
       "</body>\n",
       "</html>"
      ]
     },
     "metadata": {},
     "output_type": "display_data"
    }
   ],
   "source": [
    "import plotly.graph_objects as go\n",
    "\n",
    "fig = go.Figure()\n",
    "\n",
    "fig.add_trace(go.Scatter(\n",
    "  x=low_dim_activations[:50, 0],\n",
    "  y=low_dim_activations[:50, 1],\n",
    "  mode='markers',\n",
    "  marker=dict(symbol='square', color=hex_to_rgba(COLORS.LIGHT_BLUE, 0.5), size=10),\n",
    "  name='true',\n",
    "))\n",
    "\n",
    "fig.add_trace(go.Scatter(\n",
    "  x=low_dim_activations[50:, 0],\n",
    "  y=low_dim_activations[50:, 1],\n",
    "  mode='markers',\n",
    "  marker=dict(symbol='circle', color=hex_to_rgba(COLORS.LIGHT_ORANGE, 0.5), size=10),\n",
    "  name='false',\n",
    "))\n",
    "\n",
    "fig.update_layout(\n",
    "  template='simple_white',\n",
    "  width=400,\n",
    "  height=400,\n",
    "  xaxis_title='PCA 1',\n",
    "  yaxis_title='PCA 2',\n",
    ")\n",
    "\n",
    "fig.show()"
   ]
  },
  {
   "cell_type": "markdown",
   "metadata": {
    "id": "gXrVUeeX1jzA"
   },
   "source": [
    "Behold! The model representations form two clusters that correspond to the factuality of their input sentences. This means that the **representations of truth in our dataset are linearly separable** - a linear classifier over the model's internals should be able to tell us with high accuracy whether the representations came from a true or false statement."
   ]
  },
  {
   "cell_type": "markdown",
   "metadata": {
    "id": "HBp2jjP22nQW"
   },
   "source": [
    "**HOWEVER**, just because the representations are linearly separable, it **doesn't mean the LM represents the concept linearly!** To see why, we'll go on a short but important tangent, exploring the difference between **prediction vs. control**."
   ]
  },
  {
   "cell_type": "markdown",
   "metadata": {
    "id": "Y49NmkyqhUXB"
   },
   "source": [
    "## 3️⃣ Choosing the right probe - linear classifiers vs. difference in means"
   ]
  },
  {
   "cell_type": "markdown",
   "metadata": {
    "id": "GTF5glF03nFy"
   },
   "source": [
    "As we just saw, even in a low-dimension space, it's easy to tell activations over true statements and activations over false statements apart! But what's driving the difference between true and false activations?\n",
    "\n",
    "Different **linear probes** can give us directions in the latent space of the LLM that separate true and false activations. But we should be careful, because **probes are likely to pick up on correlations instead of causal directions!**\n",
    "\n",
    "To understand why this might happen, let's consider an example story."
   ]
  },
  {
   "cell_type": "markdown",
   "metadata": {
    "id": "Q596wwcmARls"
   },
   "source": [
    "![visualizing logistic regression vs. difference in means](https://github.com/AmirZur/nnsight-tutorials/blob/main/figures/steering%20visualization.gif?raw=true)"
   ]
  },
  {
   "cell_type": "markdown",
   "metadata": {
    "id": "uyIfR0GiIM2Y"
   },
   "source": [
    "Imagine that Prof. X wants to improve the outcomes of his gifted students. Prof. X keeps track of how many assignments a student turned in and their average grade on those assignments, and wants to use this information to predict whether the student passed the final.\n",
    "\n",
    "But **predicting** is not enough. Prof. X wants to use the information from his predictor to **improve** his students' performance on the final next year. Can his predictor give Prof. X useful information about the **intervention** he should design to improve student performance?"
   ]
  },
  {
   "cell_type": "markdown",
   "metadata": {
    "id": "aNRTgrbB39rs"
   },
   "source": [
    "**Note before we run any code**\n",
    "\n",
    "In this section, we won't need a GPU! Feel free to change your runtime to CPU and re-run the code in the Setup section to save on compute."
   ]
  },
  {
   "cell_type": "code",
   "execution_count": null,
   "metadata": {
    "id": "ZprOhCS1SXL-"
   },
   "outputs": [],
   "source": [
    "# create fake dataset of students\n",
    "import numpy as np\n",
    "\n",
    "np.random.seed(12)\n",
    "\n",
    "N = 100\n",
    "\n",
    "low_group_effort = np.random.normal(loc=5, scale=1.8, size=N)\n",
    "high_group_effort = np.random.normal(loc=10, scale=1.8, size=N)\n",
    "\n",
    "low_group_grade = 0.5 * low_group_effort + np.random.normal(loc=5, scale=0.3, size=N)\n",
    "high_group_grade = 0.5 * high_group_effort + np.random.normal(loc=7, scale=0.3, size=N)\n",
    "\n",
    "X = np.stack((\n",
    "    np.concatenate((low_group_effort, high_group_effort)), # x-axis\n",
    "    np.concatenate((low_group_grade, high_group_grade)) # y-axis\n",
    "), axis=1)\n",
    "\n",
    "X = X - X.mean(axis=0) # center\n",
    "\n",
    "y = ['low'] * N + ['high'] * N"
   ]
  },
  {
   "cell_type": "code",
   "execution_count": null,
   "metadata": {
    "colab": {
     "base_uri": "https://localhost:8080/",
     "height": 417
    },
    "id": "zOM25phGTZHP",
    "outputId": "d0171f7c-f8d5-461d-c9ce-77a60ba44f19"
   },
   "outputs": [
    {
     "data": {
      "text/html": [
       "<html>\n",
       "<head><meta charset=\"utf-8\" /></head>\n",
       "<body>\n",
       "    <div>            <script src=\"https://cdnjs.cloudflare.com/ajax/libs/mathjax/2.7.5/MathJax.js?config=TeX-AMS-MML_SVG\"></script><script type=\"text/javascript\">if (window.MathJax && window.MathJax.Hub && window.MathJax.Hub.Config) {window.MathJax.Hub.Config({SVG: {font: \"STIX-Web\"}});}</script>                <script type=\"text/javascript\">window.PlotlyConfig = {MathJaxConfig: 'local'};</script>\n",
       "        <script charset=\"utf-8\" src=\"https://cdn.plot.ly/plotly-2.35.2.min.js\"></script>                <div id=\"fc424357-08ba-4571-aadf-ea5b2c9066fc\" class=\"plotly-graph-div\" style=\"height:400px; width:500px;\"></div>            <script type=\"text/javascript\">                                    window.PLOTLYENV=window.PLOTLYENV || {};                                    if (document.getElementById(\"fc424357-08ba-4571-aadf-ea5b2c9066fc\")) {                    Plotly.newPlot(                        \"fc424357-08ba-4571-aadf-ea5b2c9066fc\",                        [{\"marker\":{\"color\":\"rgba(70, 177, 225, 0.5)\",\"size\":10,\"symbol\":\"circle\"},\"mode\":\"markers\",\"name\":\"failed final\",\"x\":[-1.324129517162433,-3.4020705968353964,-1.739112919801535,-5.2368281551133915,-0.8198469127358345,-4.938002426218874,-2.1662752732063044,-2.3919138201255397,-3.6280713952757075,2.993770897135655,-3.2515852687758144,-1.3250814254800316,-0.2027830014289842,-4.362807855810381,0.24073745474397246,-2.3953736316473764,-0.352976155285484,-3.8204684779149582,-4.028658387118494,0.002129595492641023,-1.2721338670421352,-1.9255808949631747,-1.0221340098293856,-1.226305216645204,-4.253352437234434,-6.1595042767586765,-5.202665732555625,-5.39407366575628,-6.168866914900917,-3.340879418142472,-3.1266317913102464,-2.2460805285361385,-1.7885473066960431,-2.8673498584407016,-2.6325313544097897,-2.0436502795573004,-3.970470921208813,-3.460445331536479,-2.111754590791528,-3.3958056710652613,-3.2048899247001135,-2.366056181442598,0.22899239576478791,-1.601906495415351,-2.7831754639344606,-3.228986914257728,-2.382359907265953,1.859768016067025,-7.84085375262356,-1.2122594059401859,-1.7570212229536226,-0.6138025022562852,-4.242286899487684,1.6303156207755238,-0.3738070446032866,-2.268051005359405,-1.8878861573123489,-3.4647784692293233,-2.0845629260987293,-2.4335113600325142,-0.47706831090694024,-1.5317444079996543,-2.3257125789284006,-0.9554530285905196,-1.1745953407628242,-1.774608984309908,-4.92767787692107,-0.32292389785658404,-4.27476978086262,-3.992714988001323,-2.3649863935001783,-1.2538641292037047,0.3584059608525809,-5.213357409729115,0.4727171728980073,0.7701292195534393,-3.0060148990384397,-2.5379561001260935,-3.204774128352668,-3.261442420379977,-4.58640461181945,-5.2168792704813,-2.5342932245378362,-1.7115133600072907,1.1163732732903933,-3.9773067948700245,-5.940548197867221,-1.9116965432016553,-3.0149359972169165,-1.5343026006916007,-2.8916875333798453,-4.442106341941019,-3.4154856602460573,-0.7307692033990456,-1.6852001406769972,-3.92002171141843,-0.6059613942788014,-4.778951010877936,-3.141170288886949,-1.8192470844787776],\"y\":[-1.5084909726111597,-2.885229472594647,-1.631001581692166,-3.8674186057986164,-1.0157654879649325,-3.8393068555221905,-2.4426419012909513,-1.9857959480687004,-2.2790233921274066,0.25930724605371047,-2.153523888640221,-1.2047246772944433,-0.8630998399945362,-3.2452532144986215,-1.5335322455566782,-2.666550356413116,-1.418072174073636,-2.7587687249631827,-3.0710651676784257,-1.196879180392946,-1.6096918979921249,-2.459001050787302,-1.395715947317223,-1.8988375360361234,-2.7444015396622152,-4.033279343994228,-3.829555292496064,-3.8568259575951718,-4.566504945659663,-2.619626073075093,-2.865231779425944,-2.1563430932234464,-1.5509450672538403,-2.3309572140382855,-2.1722943568002613,-1.2287943337206801,-2.776586206740804,-2.395535013811024,-2.1318656088884955,-3.055371239330766,-2.533763872147258,-2.530751179752416,-1.7889614482693847,-1.6214454358410588,-2.2908528444155003,-2.9350209041315782,-1.8030283977456785,-0.09445542501861048,-5.0620970321170455,-1.893927080500207,-1.5309987131544265,-1.4390440850980415,-3.2727196744402267,-0.3260231811852883,-1.42301495964338,-2.640644100642529,-2.1649749741049407,-2.997367694085753,-1.832649093875018,-2.610773611343885,-1.0324505675192714,-1.921450008215868,-2.4070647332231196,-1.529599426123223,-1.5762300635581905,-1.8556060549730606,-3.2897335766438864,-1.0970318819767133,-3.602962219616967,-3.2030350879500755,-1.693793490930915,-1.6618147439415898,-1.5240545586121925,-3.5551845430085978,-0.25233502132285146,-0.2629487648150448,-2.4850890976993627,-2.202296834430358,-2.407397655509487,-2.6768825523533817,-3.438531626232626,-3.1174859700844433,-2.3861972765646113,-1.551631721725455,-0.9137518866562893,-3.223833404975821,-4.315891363331693,-1.8313677039603302,-2.696114700680152,-1.961091839488776,-2.7220444303148037,-3.1767871254237567,-2.413772221647964,-1.5439941531598738,-1.6591533699206398,-2.9642748220717454,-1.48813159585589,-3.2841754033728003,-2.168020752137963,-2.6898054838385015],\"type\":\"scatter\"},{\"marker\":{\"color\":\"rgba(242, 170, 132, 0.5)\",\"size\":10,\"symbol\":\"square\"},\"mode\":\"markers\",\"name\":\"passed final\",\"x\":[0.3663443210899322,0.6744960970462222,2.8531781629248476,2.6804177538958625,2.3730511024749026,1.8072387769761127,0.8396864948523932,1.4163875927116658,8.29953115762547,1.697549788273217,5.535117629307096,1.767291029510516,5.283031231445714,5.042176759063158,3.636096606417536,1.6699583142585004,0.3448231261601764,4.5628394124216625,0.51328975850672,0.5302662053924552,5.565611158123546,5.4558843623984865,2.892276719914995,2.381341027350035,1.6287603535141555,3.456899954425105,1.953239408088689,0.10093891834520896,1.4501411090986425,3.27306176334693,-0.03715950744689156,1.0613493259592728,3.045466917917314,5.865221754960095,3.1444457435489257,2.882106823134497,6.304284002009429,0.9127255055790835,1.5057636081199197,4.341430493818934,4.762627963621312,3.648338954602969,-1.8905919943636365,4.154779402364565,4.025997890128768,2.9080207311089685,4.023435659858433,5.358803256948495,2.916564521563868,1.1397412365898143,-0.4859007675345577,2.939297697422192,1.5393534107508424,1.8131035925266117,0.7860520550727967,3.3182197915652916,4.14913778551064,3.6062697345367996,0.8084219979583356,4.42486628438319,3.390608487752808,-1.6539120491319448,3.8971314850527383,-0.8400556791667695,0.775589011269056,4.728252101669532,3.999479358763021,1.6644556535291253,1.2342642224266553,3.446742257988004,-0.4097934417336253,3.5637733005901664,2.299213778231617,4.145961753655331,2.598603788986998,0.8651646392377605,3.188511650522199,2.1947940645644914,0.2661975688483613,0.730036981317423,1.0124786686781588,2.9145351538399327,4.202270229636732,2.773169206581195,0.6543339059973787,2.13771527029522,3.8448145346669564,4.763702128131803,1.1318502839109241,3.3349888054201946,2.1219191211023043,-1.0529280070927145,0.49406523882872033,1.8052987358859847,1.8926194084055714,2.1119150324157028,1.737844545113382,3.485803190175507,1.0982747201805028,-0.0470381143201557],\"y\":[1.393063450662071,1.8683264502831296,2.375911035896644,2.5705565715812533,2.480923651947025,2.060218248685585,1.495911515897582,2.100846637877444,5.486045632205563,1.9059385755525913,3.9677709986671292,1.613489877214887,3.5951509891345967,3.5619649476515125,2.8062097474814873,1.6363894606522127,1.5533179878043644,3.3879247151362737,1.4792633063533902,0.876404650182474,3.630713479251975,3.5214073358080356,2.3924003658571085,2.696700684367798,2.5756942724490095,2.790055424967436,2.0908803720690763,0.9937851792248047,1.5654756038457354,2.904957432278687,0.861006043308068,1.2207599413354568,2.715764856623034,3.8869730940243574,2.6729576971903573,2.5386903708639856,4.4477557391976585,1.6487243319035318,2.0341774720660784,3.1472272466618954,3.359382063186567,2.948615696267284,0.13860420610337698,3.2362688571226332,3.13392835730985,3.113362559987298,2.965249953535894,3.835131252494742,2.510088673224624,1.9823465636965523,0.539726379460765,2.109794595497851,2.139782213182384,2.1417338145156446,1.459063917082327,2.4408758922712472,3.463131482267203,2.9410272100548536,1.2341296138956714,3.0741299485494036,2.5068499815651446,0.5984481982534025,2.899700756818474,0.27644970632409205,1.2152138297478619,3.701826110150874,3.186923955633036,1.6228280184042863,1.270182685450818,2.5508895095092736,0.8803724816378047,2.660323096635855,1.980008863312145,3.080568638159166,2.127775755543418,1.1027831918034998,2.172576728854949,1.8167246725185535,0.9177401220665597,1.4417928878292763,1.5311111337075598,2.207411016693051,3.4308905993162764,2.023642734666465,1.6164734016530833,1.719834506485098,2.823497280952788,3.631395313031174,1.826747225557673,2.4121899014664407,2.0838215951594243,0.13706652759009508,1.1864567918042983,2.0304404615247638,1.78193976117044,2.5015900907183823,2.0190170283794213,2.9490205755063457,1.3808413169593923,0.9382562839234225],\"type\":\"scatter\"},{\"marker\":{\"color\":\"rgba(21, 96, 130, 0.7)\",\"size\":12,\"symbol\":\"circle\"},\"mode\":\"markers\",\"showlegend\":false,\"x\":[-2.435257509594034],\"y\":[-2.2555973138035217],\"type\":\"scatter\"},{\"marker\":{\"color\":\"rgba(233, 113, 50, 0.7)\",\"size\":12,\"symbol\":\"square\"},\"mode\":\"markers\",\"showlegend\":false,\"x\":[2.435257509594025],\"y\":[2.2555973138035146],\"type\":\"scatter\"}],                        {\"template\":{\"data\":{\"barpolar\":[{\"marker\":{\"line\":{\"color\":\"white\",\"width\":0.5},\"pattern\":{\"fillmode\":\"overlay\",\"size\":10,\"solidity\":0.2}},\"type\":\"barpolar\"}],\"bar\":[{\"error_x\":{\"color\":\"rgb(36,36,36)\"},\"error_y\":{\"color\":\"rgb(36,36,36)\"},\"marker\":{\"line\":{\"color\":\"white\",\"width\":0.5},\"pattern\":{\"fillmode\":\"overlay\",\"size\":10,\"solidity\":0.2}},\"type\":\"bar\"}],\"carpet\":[{\"aaxis\":{\"endlinecolor\":\"rgb(36,36,36)\",\"gridcolor\":\"white\",\"linecolor\":\"white\",\"minorgridcolor\":\"white\",\"startlinecolor\":\"rgb(36,36,36)\"},\"baxis\":{\"endlinecolor\":\"rgb(36,36,36)\",\"gridcolor\":\"white\",\"linecolor\":\"white\",\"minorgridcolor\":\"white\",\"startlinecolor\":\"rgb(36,36,36)\"},\"type\":\"carpet\"}],\"choropleth\":[{\"colorbar\":{\"outlinewidth\":1,\"tickcolor\":\"rgb(36,36,36)\",\"ticks\":\"outside\"},\"type\":\"choropleth\"}],\"contourcarpet\":[{\"colorbar\":{\"outlinewidth\":1,\"tickcolor\":\"rgb(36,36,36)\",\"ticks\":\"outside\"},\"type\":\"contourcarpet\"}],\"contour\":[{\"colorbar\":{\"outlinewidth\":1,\"tickcolor\":\"rgb(36,36,36)\",\"ticks\":\"outside\"},\"colorscale\":[[0.0,\"#440154\"],[0.1111111111111111,\"#482878\"],[0.2222222222222222,\"#3e4989\"],[0.3333333333333333,\"#31688e\"],[0.4444444444444444,\"#26828e\"],[0.5555555555555556,\"#1f9e89\"],[0.6666666666666666,\"#35b779\"],[0.7777777777777778,\"#6ece58\"],[0.8888888888888888,\"#b5de2b\"],[1.0,\"#fde725\"]],\"type\":\"contour\"}],\"heatmapgl\":[{\"colorbar\":{\"outlinewidth\":1,\"tickcolor\":\"rgb(36,36,36)\",\"ticks\":\"outside\"},\"colorscale\":[[0.0,\"#440154\"],[0.1111111111111111,\"#482878\"],[0.2222222222222222,\"#3e4989\"],[0.3333333333333333,\"#31688e\"],[0.4444444444444444,\"#26828e\"],[0.5555555555555556,\"#1f9e89\"],[0.6666666666666666,\"#35b779\"],[0.7777777777777778,\"#6ece58\"],[0.8888888888888888,\"#b5de2b\"],[1.0,\"#fde725\"]],\"type\":\"heatmapgl\"}],\"heatmap\":[{\"colorbar\":{\"outlinewidth\":1,\"tickcolor\":\"rgb(36,36,36)\",\"ticks\":\"outside\"},\"colorscale\":[[0.0,\"#440154\"],[0.1111111111111111,\"#482878\"],[0.2222222222222222,\"#3e4989\"],[0.3333333333333333,\"#31688e\"],[0.4444444444444444,\"#26828e\"],[0.5555555555555556,\"#1f9e89\"],[0.6666666666666666,\"#35b779\"],[0.7777777777777778,\"#6ece58\"],[0.8888888888888888,\"#b5de2b\"],[1.0,\"#fde725\"]],\"type\":\"heatmap\"}],\"histogram2dcontour\":[{\"colorbar\":{\"outlinewidth\":1,\"tickcolor\":\"rgb(36,36,36)\",\"ticks\":\"outside\"},\"colorscale\":[[0.0,\"#440154\"],[0.1111111111111111,\"#482878\"],[0.2222222222222222,\"#3e4989\"],[0.3333333333333333,\"#31688e\"],[0.4444444444444444,\"#26828e\"],[0.5555555555555556,\"#1f9e89\"],[0.6666666666666666,\"#35b779\"],[0.7777777777777778,\"#6ece58\"],[0.8888888888888888,\"#b5de2b\"],[1.0,\"#fde725\"]],\"type\":\"histogram2dcontour\"}],\"histogram2d\":[{\"colorbar\":{\"outlinewidth\":1,\"tickcolor\":\"rgb(36,36,36)\",\"ticks\":\"outside\"},\"colorscale\":[[0.0,\"#440154\"],[0.1111111111111111,\"#482878\"],[0.2222222222222222,\"#3e4989\"],[0.3333333333333333,\"#31688e\"],[0.4444444444444444,\"#26828e\"],[0.5555555555555556,\"#1f9e89\"],[0.6666666666666666,\"#35b779\"],[0.7777777777777778,\"#6ece58\"],[0.8888888888888888,\"#b5de2b\"],[1.0,\"#fde725\"]],\"type\":\"histogram2d\"}],\"histogram\":[{\"marker\":{\"line\":{\"color\":\"white\",\"width\":0.6}},\"type\":\"histogram\"}],\"mesh3d\":[{\"colorbar\":{\"outlinewidth\":1,\"tickcolor\":\"rgb(36,36,36)\",\"ticks\":\"outside\"},\"type\":\"mesh3d\"}],\"parcoords\":[{\"line\":{\"colorbar\":{\"outlinewidth\":1,\"tickcolor\":\"rgb(36,36,36)\",\"ticks\":\"outside\"}},\"type\":\"parcoords\"}],\"pie\":[{\"automargin\":true,\"type\":\"pie\"}],\"scatter3d\":[{\"line\":{\"colorbar\":{\"outlinewidth\":1,\"tickcolor\":\"rgb(36,36,36)\",\"ticks\":\"outside\"}},\"marker\":{\"colorbar\":{\"outlinewidth\":1,\"tickcolor\":\"rgb(36,36,36)\",\"ticks\":\"outside\"}},\"type\":\"scatter3d\"}],\"scattercarpet\":[{\"marker\":{\"colorbar\":{\"outlinewidth\":1,\"tickcolor\":\"rgb(36,36,36)\",\"ticks\":\"outside\"}},\"type\":\"scattercarpet\"}],\"scattergeo\":[{\"marker\":{\"colorbar\":{\"outlinewidth\":1,\"tickcolor\":\"rgb(36,36,36)\",\"ticks\":\"outside\"}},\"type\":\"scattergeo\"}],\"scattergl\":[{\"marker\":{\"colorbar\":{\"outlinewidth\":1,\"tickcolor\":\"rgb(36,36,36)\",\"ticks\":\"outside\"}},\"type\":\"scattergl\"}],\"scattermapbox\":[{\"marker\":{\"colorbar\":{\"outlinewidth\":1,\"tickcolor\":\"rgb(36,36,36)\",\"ticks\":\"outside\"}},\"type\":\"scattermapbox\"}],\"scatterpolargl\":[{\"marker\":{\"colorbar\":{\"outlinewidth\":1,\"tickcolor\":\"rgb(36,36,36)\",\"ticks\":\"outside\"}},\"type\":\"scatterpolargl\"}],\"scatterpolar\":[{\"marker\":{\"colorbar\":{\"outlinewidth\":1,\"tickcolor\":\"rgb(36,36,36)\",\"ticks\":\"outside\"}},\"type\":\"scatterpolar\"}],\"scatter\":[{\"fillpattern\":{\"fillmode\":\"overlay\",\"size\":10,\"solidity\":0.2},\"type\":\"scatter\"}],\"scatterternary\":[{\"marker\":{\"colorbar\":{\"outlinewidth\":1,\"tickcolor\":\"rgb(36,36,36)\",\"ticks\":\"outside\"}},\"type\":\"scatterternary\"}],\"surface\":[{\"colorbar\":{\"outlinewidth\":1,\"tickcolor\":\"rgb(36,36,36)\",\"ticks\":\"outside\"},\"colorscale\":[[0.0,\"#440154\"],[0.1111111111111111,\"#482878\"],[0.2222222222222222,\"#3e4989\"],[0.3333333333333333,\"#31688e\"],[0.4444444444444444,\"#26828e\"],[0.5555555555555556,\"#1f9e89\"],[0.6666666666666666,\"#35b779\"],[0.7777777777777778,\"#6ece58\"],[0.8888888888888888,\"#b5de2b\"],[1.0,\"#fde725\"]],\"type\":\"surface\"}],\"table\":[{\"cells\":{\"fill\":{\"color\":\"rgb(237,237,237)\"},\"line\":{\"color\":\"white\"}},\"header\":{\"fill\":{\"color\":\"rgb(217,217,217)\"},\"line\":{\"color\":\"white\"}},\"type\":\"table\"}]},\"layout\":{\"annotationdefaults\":{\"arrowhead\":0,\"arrowwidth\":1},\"autotypenumbers\":\"strict\",\"coloraxis\":{\"colorbar\":{\"outlinewidth\":1,\"tickcolor\":\"rgb(36,36,36)\",\"ticks\":\"outside\"}},\"colorscale\":{\"diverging\":[[0.0,\"rgb(103,0,31)\"],[0.1,\"rgb(178,24,43)\"],[0.2,\"rgb(214,96,77)\"],[0.3,\"rgb(244,165,130)\"],[0.4,\"rgb(253,219,199)\"],[0.5,\"rgb(247,247,247)\"],[0.6,\"rgb(209,229,240)\"],[0.7,\"rgb(146,197,222)\"],[0.8,\"rgb(67,147,195)\"],[0.9,\"rgb(33,102,172)\"],[1.0,\"rgb(5,48,97)\"]],\"sequential\":[[0.0,\"#440154\"],[0.1111111111111111,\"#482878\"],[0.2222222222222222,\"#3e4989\"],[0.3333333333333333,\"#31688e\"],[0.4444444444444444,\"#26828e\"],[0.5555555555555556,\"#1f9e89\"],[0.6666666666666666,\"#35b779\"],[0.7777777777777778,\"#6ece58\"],[0.8888888888888888,\"#b5de2b\"],[1.0,\"#fde725\"]],\"sequentialminus\":[[0.0,\"#440154\"],[0.1111111111111111,\"#482878\"],[0.2222222222222222,\"#3e4989\"],[0.3333333333333333,\"#31688e\"],[0.4444444444444444,\"#26828e\"],[0.5555555555555556,\"#1f9e89\"],[0.6666666666666666,\"#35b779\"],[0.7777777777777778,\"#6ece58\"],[0.8888888888888888,\"#b5de2b\"],[1.0,\"#fde725\"]]},\"colorway\":[\"#1F77B4\",\"#FF7F0E\",\"#2CA02C\",\"#D62728\",\"#9467BD\",\"#8C564B\",\"#E377C2\",\"#7F7F7F\",\"#BCBD22\",\"#17BECF\"],\"font\":{\"color\":\"rgb(36,36,36)\"},\"geo\":{\"bgcolor\":\"white\",\"lakecolor\":\"white\",\"landcolor\":\"white\",\"showlakes\":true,\"showland\":true,\"subunitcolor\":\"white\"},\"hoverlabel\":{\"align\":\"left\"},\"hovermode\":\"closest\",\"mapbox\":{\"style\":\"light\"},\"paper_bgcolor\":\"white\",\"plot_bgcolor\":\"white\",\"polar\":{\"angularaxis\":{\"gridcolor\":\"rgb(232,232,232)\",\"linecolor\":\"rgb(36,36,36)\",\"showgrid\":false,\"showline\":true,\"ticks\":\"outside\"},\"bgcolor\":\"white\",\"radialaxis\":{\"gridcolor\":\"rgb(232,232,232)\",\"linecolor\":\"rgb(36,36,36)\",\"showgrid\":false,\"showline\":true,\"ticks\":\"outside\"}},\"scene\":{\"xaxis\":{\"backgroundcolor\":\"white\",\"gridcolor\":\"rgb(232,232,232)\",\"gridwidth\":2,\"linecolor\":\"rgb(36,36,36)\",\"showbackground\":true,\"showgrid\":false,\"showline\":true,\"ticks\":\"outside\",\"zeroline\":false,\"zerolinecolor\":\"rgb(36,36,36)\"},\"yaxis\":{\"backgroundcolor\":\"white\",\"gridcolor\":\"rgb(232,232,232)\",\"gridwidth\":2,\"linecolor\":\"rgb(36,36,36)\",\"showbackground\":true,\"showgrid\":false,\"showline\":true,\"ticks\":\"outside\",\"zeroline\":false,\"zerolinecolor\":\"rgb(36,36,36)\"},\"zaxis\":{\"backgroundcolor\":\"white\",\"gridcolor\":\"rgb(232,232,232)\",\"gridwidth\":2,\"linecolor\":\"rgb(36,36,36)\",\"showbackground\":true,\"showgrid\":false,\"showline\":true,\"ticks\":\"outside\",\"zeroline\":false,\"zerolinecolor\":\"rgb(36,36,36)\"}},\"shapedefaults\":{\"fillcolor\":\"black\",\"line\":{\"width\":0},\"opacity\":0.3},\"ternary\":{\"aaxis\":{\"gridcolor\":\"rgb(232,232,232)\",\"linecolor\":\"rgb(36,36,36)\",\"showgrid\":false,\"showline\":true,\"ticks\":\"outside\"},\"baxis\":{\"gridcolor\":\"rgb(232,232,232)\",\"linecolor\":\"rgb(36,36,36)\",\"showgrid\":false,\"showline\":true,\"ticks\":\"outside\"},\"bgcolor\":\"white\",\"caxis\":{\"gridcolor\":\"rgb(232,232,232)\",\"linecolor\":\"rgb(36,36,36)\",\"showgrid\":false,\"showline\":true,\"ticks\":\"outside\"}},\"title\":{\"x\":0.05},\"xaxis\":{\"automargin\":true,\"gridcolor\":\"rgb(232,232,232)\",\"linecolor\":\"rgb(36,36,36)\",\"showgrid\":false,\"showline\":true,\"ticks\":\"outside\",\"title\":{\"standoff\":15},\"zeroline\":false,\"zerolinecolor\":\"rgb(36,36,36)\"},\"yaxis\":{\"automargin\":true,\"gridcolor\":\"rgb(232,232,232)\",\"linecolor\":\"rgb(36,36,36)\",\"showgrid\":false,\"showline\":true,\"ticks\":\"outside\",\"title\":{\"standoff\":15},\"zeroline\":false,\"zerolinecolor\":\"rgb(36,36,36)\"}}},\"xaxis\":{\"title\":{\"text\":\"# of assignments turned in\"},\"scaleanchor\":\"y\",\"scaleratio\":1},\"yaxis\":{\"title\":{\"text\":\"average grade\"},\"scaleanchor\":\"x\",\"scaleratio\":1},\"width\":500,\"height\":400},                        {\"responsive\": true}                    ).then(function(){\n",
       "                            \n",
       "var gd = document.getElementById('fc424357-08ba-4571-aadf-ea5b2c9066fc');\n",
       "var x = new MutationObserver(function (mutations, observer) {{\n",
       "        var display = window.getComputedStyle(gd).display;\n",
       "        if (!display || display === 'none') {{\n",
       "            console.log([gd, 'removed!']);\n",
       "            Plotly.purge(gd);\n",
       "            observer.disconnect();\n",
       "        }}\n",
       "}});\n",
       "\n",
       "// Listen for the removal of the full notebook cells\n",
       "var notebookContainer = gd.closest('#notebook-container');\n",
       "if (notebookContainer) {{\n",
       "    x.observe(notebookContainer, {childList: true});\n",
       "}}\n",
       "\n",
       "// Listen for the clearing of the current output cell\n",
       "var outputEl = gd.closest('.output');\n",
       "if (outputEl) {{\n",
       "    x.observe(outputEl, {childList: true});\n",
       "}}\n",
       "\n",
       "                        })                };                            </script>        </div>\n",
       "</body>\n",
       "</html>"
      ]
     },
     "metadata": {},
     "output_type": "display_data"
    }
   ],
   "source": [
    "import plotly.graph_objects as go\n",
    "\n",
    "fig = go.Figure()\n",
    "\n",
    "mean_low = X[:N].mean(axis=0)\n",
    "mean_high = X[N:].mean(axis=0)\n",
    "\n",
    "fig.add_traces([\n",
    "  go.Scatter(\n",
    "    x=X[:N, 0],\n",
    "    y=X[:N, 1],\n",
    "    mode='markers',\n",
    "    marker=dict(symbol='circle', color=hex_to_rgba(COLORS.LIGHT_BLUE, 0.5), size=10),\n",
    "    name='failed final',\n",
    "  ),\n",
    "  go.Scatter(\n",
    "    x=X[N:, 0],\n",
    "    y=X[N:, 1],\n",
    "    mode='markers',\n",
    "    marker=dict(symbol='square', color=hex_to_rgba(COLORS.LIGHT_ORANGE, 0.5), size=10),\n",
    "    name='passed final',\n",
    "  ),\n",
    "  go.Scatter(\n",
    "    x=[mean_low[0]],\n",
    "    y=[mean_low[1]],\n",
    "    mode='markers',\n",
    "    marker=dict(symbol='circle', color=hex_to_rgba(COLORS.BLUE, 0.7), size=12),\n",
    "    showlegend=False,\n",
    "  ),\n",
    "  go.Scatter(\n",
    "    x=[mean_high[0]],\n",
    "    y=[mean_high[1]],\n",
    "    mode='markers',\n",
    "    marker=dict(symbol='square', color=hex_to_rgba(COLORS.ORANGE, 0.7), size=12),\n",
    "    showlegend=False\n",
    "  )\n",
    "])\n",
    "\n",
    "fig.update_layout(\n",
    "  template='simple_white',\n",
    "  width=500,\n",
    "  height=400,\n",
    "  xaxis_title='# of assignments turned in',\n",
    "  yaxis_title='average grade',\n",
    "  xaxis=dict(scaleanchor=\"y\", scaleratio=1), # Anchor x-axis to y-axis with 1:1 ratio\n",
    "  yaxis=dict(scaleanchor=\"x\", scaleratio=1)  # Anchor y-axis to x-axis with 1:1 ratio\n",
    ")\n",
    "\n",
    "fig.show()"
   ]
  },
  {
   "cell_type": "markdown",
   "metadata": {
    "id": "J_ev7ErXJ9A9"
   },
   "source": [
    "Looking at the data, we can see that the number of assignments turned in correlates with the average grade. Both average grade and number of assignments turned in also seem predictive of the students' performance on the final. Which feature will our probes pick out?"
   ]
  },
  {
   "cell_type": "markdown",
   "metadata": {
    "id": "YdoMRMoia9cr"
   },
   "source": [
    "### Logistic regression probe (LR)\n",
    "\n",
    "Logistic regression will find the boundary that maximizes the margin between the students who passed and failed the final. However, it's **likely to pick up on spurious correlations that don't drive the difference between the two groups!**"
   ]
  },
  {
   "cell_type": "code",
   "execution_count": null,
   "metadata": {
    "colab": {
     "base_uri": "https://localhost:8080/"
    },
    "id": "Toe4CqT5T7Sa",
    "outputId": "3aa356f9-b68e-4065-ef65-df88db68b483"
   },
   "outputs": [
    {
     "data": {
      "text/plain": [
       "1.0"
      ]
     },
     "execution_count": 132,
     "metadata": {},
     "output_type": "execute_result"
    }
   ],
   "source": [
    "from sklearn.linear_model import LogisticRegression\n",
    "\n",
    "lr_probe = LogisticRegression(fit_intercept=False, random_state=12)\n",
    "lr_probe.fit(X, y)\n",
    "\n",
    "lr_probe.score(X, y)"
   ]
  },
  {
   "cell_type": "code",
   "execution_count": null,
   "metadata": {
    "colab": {
     "base_uri": "https://localhost:8080/"
    },
    "id": "HELniwWhUWpJ",
    "outputId": "ce7b4aa1-17dd-4c7e-8b38-e888d92d0064"
   },
   "outputs": [
    {
     "data": {
      "text/plain": [
       "array([ 0.56890804, -3.07920493])"
      ]
     },
     "execution_count": 133,
     "metadata": {},
     "output_type": "execute_result"
    }
   ],
   "source": [
    "theta = lr_probe.coef_[0]\n",
    "theta"
   ]
  },
  {
   "cell_type": "markdown",
   "metadata": {
    "id": "3iqGpGv7LpEY"
   },
   "source": [
    "Let's visualize the boundary drawn by our logistic regression probe. It neatly classifies between students who passed and students who failed the final!"
   ]
  },
  {
   "cell_type": "code",
   "execution_count": null,
   "metadata": {
    "colab": {
     "base_uri": "https://localhost:8080/",
     "height": 417
    },
    "id": "SSR78aX_VaW2",
    "outputId": "d4e914c8-f0fb-4abf-d3a3-9b8589a8d69b"
   },
   "outputs": [
    {
     "data": {
      "text/html": [
       "<html>\n",
       "<head><meta charset=\"utf-8\" /></head>\n",
       "<body>\n",
       "    <div>            <script src=\"https://cdnjs.cloudflare.com/ajax/libs/mathjax/2.7.5/MathJax.js?config=TeX-AMS-MML_SVG\"></script><script type=\"text/javascript\">if (window.MathJax && window.MathJax.Hub && window.MathJax.Hub.Config) {window.MathJax.Hub.Config({SVG: {font: \"STIX-Web\"}});}</script>                <script type=\"text/javascript\">window.PlotlyConfig = {MathJaxConfig: 'local'};</script>\n",
       "        <script charset=\"utf-8\" src=\"https://cdn.plot.ly/plotly-2.35.2.min.js\"></script>                <div id=\"9968039f-ee98-4cb0-a561-53b5cd4e3d8d\" class=\"plotly-graph-div\" style=\"height:400px; width:500px;\"></div>            <script type=\"text/javascript\">                                    window.PLOTLYENV=window.PLOTLYENV || {};                                    if (document.getElementById(\"9968039f-ee98-4cb0-a561-53b5cd4e3d8d\")) {                    Plotly.newPlot(                        \"9968039f-ee98-4cb0-a561-53b5cd4e3d8d\",                        [{\"marker\":{\"color\":\"rgba(70, 177, 225, 0.5)\",\"size\":10,\"symbol\":\"circle\"},\"mode\":\"markers\",\"name\":\"failed final\",\"x\":[-1.324129517162433,-3.4020705968353964,-1.739112919801535,-5.2368281551133915,-0.8198469127358345,-4.938002426218874,-2.1662752732063044,-2.3919138201255397,-3.6280713952757075,2.993770897135655,-3.2515852687758144,-1.3250814254800316,-0.2027830014289842,-4.362807855810381,0.24073745474397246,-2.3953736316473764,-0.352976155285484,-3.8204684779149582,-4.028658387118494,0.002129595492641023,-1.2721338670421352,-1.9255808949631747,-1.0221340098293856,-1.226305216645204,-4.253352437234434,-6.1595042767586765,-5.202665732555625,-5.39407366575628,-6.168866914900917,-3.340879418142472,-3.1266317913102464,-2.2460805285361385,-1.7885473066960431,-2.8673498584407016,-2.6325313544097897,-2.0436502795573004,-3.970470921208813,-3.460445331536479,-2.111754590791528,-3.3958056710652613,-3.2048899247001135,-2.366056181442598,0.22899239576478791,-1.601906495415351,-2.7831754639344606,-3.228986914257728,-2.382359907265953,1.859768016067025,-7.84085375262356,-1.2122594059401859,-1.7570212229536226,-0.6138025022562852,-4.242286899487684,1.6303156207755238,-0.3738070446032866,-2.268051005359405,-1.8878861573123489,-3.4647784692293233,-2.0845629260987293,-2.4335113600325142,-0.47706831090694024,-1.5317444079996543,-2.3257125789284006,-0.9554530285905196,-1.1745953407628242,-1.774608984309908,-4.92767787692107,-0.32292389785658404,-4.27476978086262,-3.992714988001323,-2.3649863935001783,-1.2538641292037047,0.3584059608525809,-5.213357409729115,0.4727171728980073,0.7701292195534393,-3.0060148990384397,-2.5379561001260935,-3.204774128352668,-3.261442420379977,-4.58640461181945,-5.2168792704813,-2.5342932245378362,-1.7115133600072907,1.1163732732903933,-3.9773067948700245,-5.940548197867221,-1.9116965432016553,-3.0149359972169165,-1.5343026006916007,-2.8916875333798453,-4.442106341941019,-3.4154856602460573,-0.7307692033990456,-1.6852001406769972,-3.92002171141843,-0.6059613942788014,-4.778951010877936,-3.141170288886949,-1.8192470844787776],\"y\":[-1.5084909726111597,-2.885229472594647,-1.631001581692166,-3.8674186057986164,-1.0157654879649325,-3.8393068555221905,-2.4426419012909513,-1.9857959480687004,-2.2790233921274066,0.25930724605371047,-2.153523888640221,-1.2047246772944433,-0.8630998399945362,-3.2452532144986215,-1.5335322455566782,-2.666550356413116,-1.418072174073636,-2.7587687249631827,-3.0710651676784257,-1.196879180392946,-1.6096918979921249,-2.459001050787302,-1.395715947317223,-1.8988375360361234,-2.7444015396622152,-4.033279343994228,-3.829555292496064,-3.8568259575951718,-4.566504945659663,-2.619626073075093,-2.865231779425944,-2.1563430932234464,-1.5509450672538403,-2.3309572140382855,-2.1722943568002613,-1.2287943337206801,-2.776586206740804,-2.395535013811024,-2.1318656088884955,-3.055371239330766,-2.533763872147258,-2.530751179752416,-1.7889614482693847,-1.6214454358410588,-2.2908528444155003,-2.9350209041315782,-1.8030283977456785,-0.09445542501861048,-5.0620970321170455,-1.893927080500207,-1.5309987131544265,-1.4390440850980415,-3.2727196744402267,-0.3260231811852883,-1.42301495964338,-2.640644100642529,-2.1649749741049407,-2.997367694085753,-1.832649093875018,-2.610773611343885,-1.0324505675192714,-1.921450008215868,-2.4070647332231196,-1.529599426123223,-1.5762300635581905,-1.8556060549730606,-3.2897335766438864,-1.0970318819767133,-3.602962219616967,-3.2030350879500755,-1.693793490930915,-1.6618147439415898,-1.5240545586121925,-3.5551845430085978,-0.25233502132285146,-0.2629487648150448,-2.4850890976993627,-2.202296834430358,-2.407397655509487,-2.6768825523533817,-3.438531626232626,-3.1174859700844433,-2.3861972765646113,-1.551631721725455,-0.9137518866562893,-3.223833404975821,-4.315891363331693,-1.8313677039603302,-2.696114700680152,-1.961091839488776,-2.7220444303148037,-3.1767871254237567,-2.413772221647964,-1.5439941531598738,-1.6591533699206398,-2.9642748220717454,-1.48813159585589,-3.2841754033728003,-2.168020752137963,-2.6898054838385015],\"type\":\"scatter\"},{\"marker\":{\"color\":\"rgba(242, 170, 132, 0.5)\",\"size\":10,\"symbol\":\"square\"},\"mode\":\"markers\",\"name\":\"passed final\",\"x\":[0.3663443210899322,0.6744960970462222,2.8531781629248476,2.6804177538958625,2.3730511024749026,1.8072387769761127,0.8396864948523932,1.4163875927116658,8.29953115762547,1.697549788273217,5.535117629307096,1.767291029510516,5.283031231445714,5.042176759063158,3.636096606417536,1.6699583142585004,0.3448231261601764,4.5628394124216625,0.51328975850672,0.5302662053924552,5.565611158123546,5.4558843623984865,2.892276719914995,2.381341027350035,1.6287603535141555,3.456899954425105,1.953239408088689,0.10093891834520896,1.4501411090986425,3.27306176334693,-0.03715950744689156,1.0613493259592728,3.045466917917314,5.865221754960095,3.1444457435489257,2.882106823134497,6.304284002009429,0.9127255055790835,1.5057636081199197,4.341430493818934,4.762627963621312,3.648338954602969,-1.8905919943636365,4.154779402364565,4.025997890128768,2.9080207311089685,4.023435659858433,5.358803256948495,2.916564521563868,1.1397412365898143,-0.4859007675345577,2.939297697422192,1.5393534107508424,1.8131035925266117,0.7860520550727967,3.3182197915652916,4.14913778551064,3.6062697345367996,0.8084219979583356,4.42486628438319,3.390608487752808,-1.6539120491319448,3.8971314850527383,-0.8400556791667695,0.775589011269056,4.728252101669532,3.999479358763021,1.6644556535291253,1.2342642224266553,3.446742257988004,-0.4097934417336253,3.5637733005901664,2.299213778231617,4.145961753655331,2.598603788986998,0.8651646392377605,3.188511650522199,2.1947940645644914,0.2661975688483613,0.730036981317423,1.0124786686781588,2.9145351538399327,4.202270229636732,2.773169206581195,0.6543339059973787,2.13771527029522,3.8448145346669564,4.763702128131803,1.1318502839109241,3.3349888054201946,2.1219191211023043,-1.0529280070927145,0.49406523882872033,1.8052987358859847,1.8926194084055714,2.1119150324157028,1.737844545113382,3.485803190175507,1.0982747201805028,-0.0470381143201557],\"y\":[1.393063450662071,1.8683264502831296,2.375911035896644,2.5705565715812533,2.480923651947025,2.060218248685585,1.495911515897582,2.100846637877444,5.486045632205563,1.9059385755525913,3.9677709986671292,1.613489877214887,3.5951509891345967,3.5619649476515125,2.8062097474814873,1.6363894606522127,1.5533179878043644,3.3879247151362737,1.4792633063533902,0.876404650182474,3.630713479251975,3.5214073358080356,2.3924003658571085,2.696700684367798,2.5756942724490095,2.790055424967436,2.0908803720690763,0.9937851792248047,1.5654756038457354,2.904957432278687,0.861006043308068,1.2207599413354568,2.715764856623034,3.8869730940243574,2.6729576971903573,2.5386903708639856,4.4477557391976585,1.6487243319035318,2.0341774720660784,3.1472272466618954,3.359382063186567,2.948615696267284,0.13860420610337698,3.2362688571226332,3.13392835730985,3.113362559987298,2.965249953535894,3.835131252494742,2.510088673224624,1.9823465636965523,0.539726379460765,2.109794595497851,2.139782213182384,2.1417338145156446,1.459063917082327,2.4408758922712472,3.463131482267203,2.9410272100548536,1.2341296138956714,3.0741299485494036,2.5068499815651446,0.5984481982534025,2.899700756818474,0.27644970632409205,1.2152138297478619,3.701826110150874,3.186923955633036,1.6228280184042863,1.270182685450818,2.5508895095092736,0.8803724816378047,2.660323096635855,1.980008863312145,3.080568638159166,2.127775755543418,1.1027831918034998,2.172576728854949,1.8167246725185535,0.9177401220665597,1.4417928878292763,1.5311111337075598,2.207411016693051,3.4308905993162764,2.023642734666465,1.6164734016530833,1.719834506485098,2.823497280952788,3.631395313031174,1.826747225557673,2.4121899014664407,2.0838215951594243,0.13706652759009508,1.1864567918042983,2.0304404615247638,1.78193976117044,2.5015900907183823,2.0190170283794213,2.9490205755063457,1.3808413169593923,0.9382562839234225],\"type\":\"scatter\"},{\"marker\":{\"color\":\"rgba(21, 96, 130, 0.7)\",\"size\":12,\"symbol\":\"circle\"},\"mode\":\"markers\",\"showlegend\":false,\"x\":[-2.435257509594034],\"y\":[-2.2555973138035217],\"type\":\"scatter\"},{\"marker\":{\"color\":\"rgba(233, 113, 50, 0.7)\",\"size\":12,\"symbol\":\"square\"},\"mode\":\"markers\",\"showlegend\":false,\"x\":[2.435257509594025],\"y\":[2.2555973138035146],\"type\":\"scatter\"},{\"line\":{\"color\":\"#A02B93\",\"dash\":\"dash\",\"width\":2},\"mode\":\"lines\",\"name\":\"LR probe\",\"x\":[-6.158409855679303,-6.033997535362549,-5.909585215045796,-5.785172894729043,-5.660760574412289,-5.536348254095535,-5.411935933778782,-5.287523613462028,-5.163111293145274,-5.03869897282852,-4.914286652511767,-4.789874332195014,-4.66546201187826,-4.541049691561506,-4.416637371244753,-4.292225050928,-4.167812730611245,-4.043400410294492,-3.9189880899777383,-3.7945757696609848,-3.6701634493442308,-3.5457511290274772,-3.421338808710724,-3.2969264883939697,-3.1725141680772166,-3.048101847760463,-2.923689527443709,-2.7992772071269556,-2.674864886810202,-2.550452566493449,-2.426040246176695,-2.3016279258599415,-2.1772156055431875,-2.052803285226434,-1.9283909649096802,-1.8039786445929265,-1.6795663242761736,-1.5551540039594198,-1.430741683642666,-1.3063293633259123,-1.1819170430091586,-1.0575047226924048,-0.9330924023756518,-0.8086800820588982,-0.6842677617421444,-0.5598554414253907,-0.435443121108637,-0.3110308007918833,-0.18661848047513024,-0.06220616015837652,0.062206160158377204,0.1866184804751316,0.3110308007918846,0.43544312110863764,0.5598554414253921,0.6842677617421451,0.8086800820588995,0.9330924023756525,1.0575047226924055,1.18191704300916,1.306329363325913,1.4307416836426674,1.5551540039594205,1.679566324276175,1.8039786445929278,1.9283909649096809,2.0528032852264353,2.1772156055431884,2.301627925859943,2.426040246176696,2.5504525664934503,2.6748648868102034,2.799277207126956,2.9236895274437105,3.0481018477604636,3.172514168077218,3.296926488393971,3.421338808710724,3.5457511290274786,3.6701634493442317,3.794575769660986,3.918988089977739,4.043400410294494,4.167812730611247,4.292225050928,4.416637371244754,4.541049691561507,4.665462011878262,4.789874332195015,4.914286652511769,5.038698972828522,5.163111293145275,5.287523613462029,5.411935933778782,5.536348254095537,5.66076057441229,5.785172894729043,5.909585215045797,6.03399753536255,6.158409855679303],\"y\":[-1.1378160797126338,-1.1148298962840957,-1.0918437128555576,-1.0688575294270197,-1.0458713459984816,-1.0228851625699436,-0.9998989791414055,-0.9769127957128674,-0.9539266122843293,-0.9309404288557912,-0.9079542454272532,-0.8849680619987151,-0.861981878570177,-0.838995695141639,-0.8160095117131009,-0.793023328284563,-0.7700371448560248,-0.7470509614274868,-0.7240647779989487,-0.7010785945704107,-0.6780924111418726,-0.6551062277133345,-0.6321200442847965,-0.6091338608562583,-0.5861476774277204,-0.5631614939991824,-0.5401753105706443,-0.5171891271421062,-0.4942029437135681,-0.4712167602850301,-0.4482305768564921,-0.425244393427954,-0.4022582099994159,-0.37927202657087783,-0.35628584314233974,-0.33329965971380165,-0.31031347628526373,-0.28732729285672565,-0.26434110942818756,-0.2413549259996495,-0.2183687425711114,-0.19538255914257335,-0.1723963757140354,-0.14941019228549732,-0.12642400885695923,-0.10343782542842116,-0.08045164199988308,-0.057465458571345,-0.034479275142807055,-0.011493091714268976,0.011493091714269103,0.034479275142807304,0.05746545857134526,0.08045164199988321,0.1034378254284214,0.12642400885695937,0.14941019228549757,0.17239637571403552,0.19538255914257346,0.21836874257111166,0.24135492599964964,0.26434110942818784,0.28732729285672576,0.310313476285264,0.33329965971380193,0.3562858431423399,0.3792720265708781,0.402258209999416,0.4252443934279542,0.4482305768564922,0.4712167602850304,0.4942029437135684,0.5171891271421063,0.5401753105706445,0.5631614939991825,0.5861476774277207,0.6091338608562586,0.6321200442847965,0.6551062277133348,0.6780924111418727,0.7010785945704109,0.7240647779989489,0.7470509614274871,0.770037144856025,0.793023328284563,0.8160095117131012,0.8389956951416392,0.8619818785701774,0.8849680619987152,0.9079542454272534,0.9309404288557914,0.9539266122843294,0.9769127957128676,0.9998989791414056,1.0228851625699438,1.0458713459984816,1.0688575294270197,1.0918437128555578,1.114829896284096,1.1378160797126338],\"type\":\"scatter\"}],                        {\"template\":{\"data\":{\"barpolar\":[{\"marker\":{\"line\":{\"color\":\"white\",\"width\":0.5},\"pattern\":{\"fillmode\":\"overlay\",\"size\":10,\"solidity\":0.2}},\"type\":\"barpolar\"}],\"bar\":[{\"error_x\":{\"color\":\"rgb(36,36,36)\"},\"error_y\":{\"color\":\"rgb(36,36,36)\"},\"marker\":{\"line\":{\"color\":\"white\",\"width\":0.5},\"pattern\":{\"fillmode\":\"overlay\",\"size\":10,\"solidity\":0.2}},\"type\":\"bar\"}],\"carpet\":[{\"aaxis\":{\"endlinecolor\":\"rgb(36,36,36)\",\"gridcolor\":\"white\",\"linecolor\":\"white\",\"minorgridcolor\":\"white\",\"startlinecolor\":\"rgb(36,36,36)\"},\"baxis\":{\"endlinecolor\":\"rgb(36,36,36)\",\"gridcolor\":\"white\",\"linecolor\":\"white\",\"minorgridcolor\":\"white\",\"startlinecolor\":\"rgb(36,36,36)\"},\"type\":\"carpet\"}],\"choropleth\":[{\"colorbar\":{\"outlinewidth\":1,\"tickcolor\":\"rgb(36,36,36)\",\"ticks\":\"outside\"},\"type\":\"choropleth\"}],\"contourcarpet\":[{\"colorbar\":{\"outlinewidth\":1,\"tickcolor\":\"rgb(36,36,36)\",\"ticks\":\"outside\"},\"type\":\"contourcarpet\"}],\"contour\":[{\"colorbar\":{\"outlinewidth\":1,\"tickcolor\":\"rgb(36,36,36)\",\"ticks\":\"outside\"},\"colorscale\":[[0.0,\"#440154\"],[0.1111111111111111,\"#482878\"],[0.2222222222222222,\"#3e4989\"],[0.3333333333333333,\"#31688e\"],[0.4444444444444444,\"#26828e\"],[0.5555555555555556,\"#1f9e89\"],[0.6666666666666666,\"#35b779\"],[0.7777777777777778,\"#6ece58\"],[0.8888888888888888,\"#b5de2b\"],[1.0,\"#fde725\"]],\"type\":\"contour\"}],\"heatmapgl\":[{\"colorbar\":{\"outlinewidth\":1,\"tickcolor\":\"rgb(36,36,36)\",\"ticks\":\"outside\"},\"colorscale\":[[0.0,\"#440154\"],[0.1111111111111111,\"#482878\"],[0.2222222222222222,\"#3e4989\"],[0.3333333333333333,\"#31688e\"],[0.4444444444444444,\"#26828e\"],[0.5555555555555556,\"#1f9e89\"],[0.6666666666666666,\"#35b779\"],[0.7777777777777778,\"#6ece58\"],[0.8888888888888888,\"#b5de2b\"],[1.0,\"#fde725\"]],\"type\":\"heatmapgl\"}],\"heatmap\":[{\"colorbar\":{\"outlinewidth\":1,\"tickcolor\":\"rgb(36,36,36)\",\"ticks\":\"outside\"},\"colorscale\":[[0.0,\"#440154\"],[0.1111111111111111,\"#482878\"],[0.2222222222222222,\"#3e4989\"],[0.3333333333333333,\"#31688e\"],[0.4444444444444444,\"#26828e\"],[0.5555555555555556,\"#1f9e89\"],[0.6666666666666666,\"#35b779\"],[0.7777777777777778,\"#6ece58\"],[0.8888888888888888,\"#b5de2b\"],[1.0,\"#fde725\"]],\"type\":\"heatmap\"}],\"histogram2dcontour\":[{\"colorbar\":{\"outlinewidth\":1,\"tickcolor\":\"rgb(36,36,36)\",\"ticks\":\"outside\"},\"colorscale\":[[0.0,\"#440154\"],[0.1111111111111111,\"#482878\"],[0.2222222222222222,\"#3e4989\"],[0.3333333333333333,\"#31688e\"],[0.4444444444444444,\"#26828e\"],[0.5555555555555556,\"#1f9e89\"],[0.6666666666666666,\"#35b779\"],[0.7777777777777778,\"#6ece58\"],[0.8888888888888888,\"#b5de2b\"],[1.0,\"#fde725\"]],\"type\":\"histogram2dcontour\"}],\"histogram2d\":[{\"colorbar\":{\"outlinewidth\":1,\"tickcolor\":\"rgb(36,36,36)\",\"ticks\":\"outside\"},\"colorscale\":[[0.0,\"#440154\"],[0.1111111111111111,\"#482878\"],[0.2222222222222222,\"#3e4989\"],[0.3333333333333333,\"#31688e\"],[0.4444444444444444,\"#26828e\"],[0.5555555555555556,\"#1f9e89\"],[0.6666666666666666,\"#35b779\"],[0.7777777777777778,\"#6ece58\"],[0.8888888888888888,\"#b5de2b\"],[1.0,\"#fde725\"]],\"type\":\"histogram2d\"}],\"histogram\":[{\"marker\":{\"line\":{\"color\":\"white\",\"width\":0.6}},\"type\":\"histogram\"}],\"mesh3d\":[{\"colorbar\":{\"outlinewidth\":1,\"tickcolor\":\"rgb(36,36,36)\",\"ticks\":\"outside\"},\"type\":\"mesh3d\"}],\"parcoords\":[{\"line\":{\"colorbar\":{\"outlinewidth\":1,\"tickcolor\":\"rgb(36,36,36)\",\"ticks\":\"outside\"}},\"type\":\"parcoords\"}],\"pie\":[{\"automargin\":true,\"type\":\"pie\"}],\"scatter3d\":[{\"line\":{\"colorbar\":{\"outlinewidth\":1,\"tickcolor\":\"rgb(36,36,36)\",\"ticks\":\"outside\"}},\"marker\":{\"colorbar\":{\"outlinewidth\":1,\"tickcolor\":\"rgb(36,36,36)\",\"ticks\":\"outside\"}},\"type\":\"scatter3d\"}],\"scattercarpet\":[{\"marker\":{\"colorbar\":{\"outlinewidth\":1,\"tickcolor\":\"rgb(36,36,36)\",\"ticks\":\"outside\"}},\"type\":\"scattercarpet\"}],\"scattergeo\":[{\"marker\":{\"colorbar\":{\"outlinewidth\":1,\"tickcolor\":\"rgb(36,36,36)\",\"ticks\":\"outside\"}},\"type\":\"scattergeo\"}],\"scattergl\":[{\"marker\":{\"colorbar\":{\"outlinewidth\":1,\"tickcolor\":\"rgb(36,36,36)\",\"ticks\":\"outside\"}},\"type\":\"scattergl\"}],\"scattermapbox\":[{\"marker\":{\"colorbar\":{\"outlinewidth\":1,\"tickcolor\":\"rgb(36,36,36)\",\"ticks\":\"outside\"}},\"type\":\"scattermapbox\"}],\"scatterpolargl\":[{\"marker\":{\"colorbar\":{\"outlinewidth\":1,\"tickcolor\":\"rgb(36,36,36)\",\"ticks\":\"outside\"}},\"type\":\"scatterpolargl\"}],\"scatterpolar\":[{\"marker\":{\"colorbar\":{\"outlinewidth\":1,\"tickcolor\":\"rgb(36,36,36)\",\"ticks\":\"outside\"}},\"type\":\"scatterpolar\"}],\"scatter\":[{\"fillpattern\":{\"fillmode\":\"overlay\",\"size\":10,\"solidity\":0.2},\"type\":\"scatter\"}],\"scatterternary\":[{\"marker\":{\"colorbar\":{\"outlinewidth\":1,\"tickcolor\":\"rgb(36,36,36)\",\"ticks\":\"outside\"}},\"type\":\"scatterternary\"}],\"surface\":[{\"colorbar\":{\"outlinewidth\":1,\"tickcolor\":\"rgb(36,36,36)\",\"ticks\":\"outside\"},\"colorscale\":[[0.0,\"#440154\"],[0.1111111111111111,\"#482878\"],[0.2222222222222222,\"#3e4989\"],[0.3333333333333333,\"#31688e\"],[0.4444444444444444,\"#26828e\"],[0.5555555555555556,\"#1f9e89\"],[0.6666666666666666,\"#35b779\"],[0.7777777777777778,\"#6ece58\"],[0.8888888888888888,\"#b5de2b\"],[1.0,\"#fde725\"]],\"type\":\"surface\"}],\"table\":[{\"cells\":{\"fill\":{\"color\":\"rgb(237,237,237)\"},\"line\":{\"color\":\"white\"}},\"header\":{\"fill\":{\"color\":\"rgb(217,217,217)\"},\"line\":{\"color\":\"white\"}},\"type\":\"table\"}]},\"layout\":{\"annotationdefaults\":{\"arrowhead\":0,\"arrowwidth\":1},\"autotypenumbers\":\"strict\",\"coloraxis\":{\"colorbar\":{\"outlinewidth\":1,\"tickcolor\":\"rgb(36,36,36)\",\"ticks\":\"outside\"}},\"colorscale\":{\"diverging\":[[0.0,\"rgb(103,0,31)\"],[0.1,\"rgb(178,24,43)\"],[0.2,\"rgb(214,96,77)\"],[0.3,\"rgb(244,165,130)\"],[0.4,\"rgb(253,219,199)\"],[0.5,\"rgb(247,247,247)\"],[0.6,\"rgb(209,229,240)\"],[0.7,\"rgb(146,197,222)\"],[0.8,\"rgb(67,147,195)\"],[0.9,\"rgb(33,102,172)\"],[1.0,\"rgb(5,48,97)\"]],\"sequential\":[[0.0,\"#440154\"],[0.1111111111111111,\"#482878\"],[0.2222222222222222,\"#3e4989\"],[0.3333333333333333,\"#31688e\"],[0.4444444444444444,\"#26828e\"],[0.5555555555555556,\"#1f9e89\"],[0.6666666666666666,\"#35b779\"],[0.7777777777777778,\"#6ece58\"],[0.8888888888888888,\"#b5de2b\"],[1.0,\"#fde725\"]],\"sequentialminus\":[[0.0,\"#440154\"],[0.1111111111111111,\"#482878\"],[0.2222222222222222,\"#3e4989\"],[0.3333333333333333,\"#31688e\"],[0.4444444444444444,\"#26828e\"],[0.5555555555555556,\"#1f9e89\"],[0.6666666666666666,\"#35b779\"],[0.7777777777777778,\"#6ece58\"],[0.8888888888888888,\"#b5de2b\"],[1.0,\"#fde725\"]]},\"colorway\":[\"#1F77B4\",\"#FF7F0E\",\"#2CA02C\",\"#D62728\",\"#9467BD\",\"#8C564B\",\"#E377C2\",\"#7F7F7F\",\"#BCBD22\",\"#17BECF\"],\"font\":{\"color\":\"rgb(36,36,36)\"},\"geo\":{\"bgcolor\":\"white\",\"lakecolor\":\"white\",\"landcolor\":\"white\",\"showlakes\":true,\"showland\":true,\"subunitcolor\":\"white\"},\"hoverlabel\":{\"align\":\"left\"},\"hovermode\":\"closest\",\"mapbox\":{\"style\":\"light\"},\"paper_bgcolor\":\"white\",\"plot_bgcolor\":\"white\",\"polar\":{\"angularaxis\":{\"gridcolor\":\"rgb(232,232,232)\",\"linecolor\":\"rgb(36,36,36)\",\"showgrid\":false,\"showline\":true,\"ticks\":\"outside\"},\"bgcolor\":\"white\",\"radialaxis\":{\"gridcolor\":\"rgb(232,232,232)\",\"linecolor\":\"rgb(36,36,36)\",\"showgrid\":false,\"showline\":true,\"ticks\":\"outside\"}},\"scene\":{\"xaxis\":{\"backgroundcolor\":\"white\",\"gridcolor\":\"rgb(232,232,232)\",\"gridwidth\":2,\"linecolor\":\"rgb(36,36,36)\",\"showbackground\":true,\"showgrid\":false,\"showline\":true,\"ticks\":\"outside\",\"zeroline\":false,\"zerolinecolor\":\"rgb(36,36,36)\"},\"yaxis\":{\"backgroundcolor\":\"white\",\"gridcolor\":\"rgb(232,232,232)\",\"gridwidth\":2,\"linecolor\":\"rgb(36,36,36)\",\"showbackground\":true,\"showgrid\":false,\"showline\":true,\"ticks\":\"outside\",\"zeroline\":false,\"zerolinecolor\":\"rgb(36,36,36)\"},\"zaxis\":{\"backgroundcolor\":\"white\",\"gridcolor\":\"rgb(232,232,232)\",\"gridwidth\":2,\"linecolor\":\"rgb(36,36,36)\",\"showbackground\":true,\"showgrid\":false,\"showline\":true,\"ticks\":\"outside\",\"zeroline\":false,\"zerolinecolor\":\"rgb(36,36,36)\"}},\"shapedefaults\":{\"fillcolor\":\"black\",\"line\":{\"width\":0},\"opacity\":0.3},\"ternary\":{\"aaxis\":{\"gridcolor\":\"rgb(232,232,232)\",\"linecolor\":\"rgb(36,36,36)\",\"showgrid\":false,\"showline\":true,\"ticks\":\"outside\"},\"baxis\":{\"gridcolor\":\"rgb(232,232,232)\",\"linecolor\":\"rgb(36,36,36)\",\"showgrid\":false,\"showline\":true,\"ticks\":\"outside\"},\"bgcolor\":\"white\",\"caxis\":{\"gridcolor\":\"rgb(232,232,232)\",\"linecolor\":\"rgb(36,36,36)\",\"showgrid\":false,\"showline\":true,\"ticks\":\"outside\"}},\"title\":{\"x\":0.05},\"xaxis\":{\"automargin\":true,\"gridcolor\":\"rgb(232,232,232)\",\"linecolor\":\"rgb(36,36,36)\",\"showgrid\":false,\"showline\":true,\"ticks\":\"outside\",\"title\":{\"standoff\":15},\"zeroline\":false,\"zerolinecolor\":\"rgb(36,36,36)\"},\"yaxis\":{\"automargin\":true,\"gridcolor\":\"rgb(232,232,232)\",\"linecolor\":\"rgb(36,36,36)\",\"showgrid\":false,\"showline\":true,\"ticks\":\"outside\",\"title\":{\"standoff\":15},\"zeroline\":false,\"zerolinecolor\":\"rgb(36,36,36)\"}}},\"xaxis\":{\"title\":{\"text\":\"# of assignments turned in\"},\"scaleanchor\":\"y\",\"scaleratio\":1},\"yaxis\":{\"title\":{\"text\":\"average grade\"},\"scaleanchor\":\"x\",\"scaleratio\":1},\"width\":500,\"height\":400},                        {\"responsive\": true}                    ).then(function(){\n",
       "                            \n",
       "var gd = document.getElementById('9968039f-ee98-4cb0-a561-53b5cd4e3d8d');\n",
       "var x = new MutationObserver(function (mutations, observer) {{\n",
       "        var display = window.getComputedStyle(gd).display;\n",
       "        if (!display || display === 'none') {{\n",
       "            console.log([gd, 'removed!']);\n",
       "            Plotly.purge(gd);\n",
       "            observer.disconnect();\n",
       "        }}\n",
       "}});\n",
       "\n",
       "// Listen for the removal of the full notebook cells\n",
       "var notebookContainer = gd.closest('#notebook-container');\n",
       "if (notebookContainer) {{\n",
       "    x.observe(notebookContainer, {childList: true});\n",
       "}}\n",
       "\n",
       "// Listen for the clearing of the current output cell\n",
       "var outputEl = gd.closest('.output');\n",
       "if (outputEl) {{\n",
       "    x.observe(outputEl, {childList: true});\n",
       "}}\n",
       "\n",
       "                        })                };                            </script>        </div>\n",
       "</body>\n",
       "</html>"
      ]
     },
     "metadata": {},
     "output_type": "display_data"
    }
   ],
   "source": [
    "import plotly.graph_objects as go\n",
    "\n",
    "# flip x & y -? flip around 45-degree line\n",
    "# negate x -> flip around y-axis\n",
    "theta_orthogonal = np.array([-theta[1], theta[0]])\n",
    "\n",
    "# add trendline\n",
    "t = np.linspace(-2, 2, 100)\n",
    "probe_x = t * theta_orthogonal[0]\n",
    "probe_y = t * theta_orthogonal[1]\n",
    "\n",
    "fig.add_trace(\n",
    "  go.Scatter(\n",
    "    x=probe_x,\n",
    "    y=probe_y,\n",
    "    mode='lines',\n",
    "    line=dict(color=COLORS.PURPLE, width=2, dash='dash'),\n",
    "    name='LR probe'\n",
    "  )\n",
    ")\n",
    "\n",
    "fig"
   ]
  },
  {
   "cell_type": "markdown",
   "metadata": {
    "id": "IPpgzU0uMCOE"
   },
   "source": [
    "But what is the **direction** of our probe? What **intervention** does it suggest to shift students who failed the final towards passing the final next year?"
   ]
  },
  {
   "cell_type": "markdown",
   "metadata": {
    "id": "HUaCCc6KMO_9"
   },
   "source": [
    "Because grade and # of assignments is correlated, the LR probe does away with # of assignments and uses the average grade to classify students. But what sort of intervention does this suggest?"
   ]
  },
  {
   "cell_type": "code",
   "execution_count": null,
   "metadata": {
    "colab": {
     "base_uri": "https://localhost:8080/",
     "height": 417
    },
    "id": "az4JPG6z-2Ve",
    "outputId": "a43dbd8b-b4f3-47db-f30a-aec6f763a9be"
   },
   "outputs": [
    {
     "data": {
      "text/html": [
       "<html>\n",
       "<head><meta charset=\"utf-8\" /></head>\n",
       "<body>\n",
       "    <div>            <script src=\"https://cdnjs.cloudflare.com/ajax/libs/mathjax/2.7.5/MathJax.js?config=TeX-AMS-MML_SVG\"></script><script type=\"text/javascript\">if (window.MathJax && window.MathJax.Hub && window.MathJax.Hub.Config) {window.MathJax.Hub.Config({SVG: {font: \"STIX-Web\"}});}</script>                <script type=\"text/javascript\">window.PlotlyConfig = {MathJaxConfig: 'local'};</script>\n",
       "        <script charset=\"utf-8\" src=\"https://cdn.plot.ly/plotly-2.35.2.min.js\"></script>                <div id=\"f00ddf62-2f51-464d-a92f-d8b32e0f9377\" class=\"plotly-graph-div\" style=\"height:400px; width:500px;\"></div>            <script type=\"text/javascript\">                                    window.PLOTLYENV=window.PLOTLYENV || {};                                    if (document.getElementById(\"f00ddf62-2f51-464d-a92f-d8b32e0f9377\")) {                    Plotly.newPlot(                        \"f00ddf62-2f51-464d-a92f-d8b32e0f9377\",                        [{\"marker\":{\"color\":\"rgba(70, 177, 225, 0.5)\",\"size\":10,\"symbol\":\"circle\"},\"mode\":\"markers\",\"name\":\"failed final\",\"x\":[-1.324129517162433,-3.4020705968353964,-1.739112919801535,-5.2368281551133915,-0.8198469127358345,-4.938002426218874,-2.1662752732063044,-2.3919138201255397,-3.6280713952757075,2.993770897135655,-3.2515852687758144,-1.3250814254800316,-0.2027830014289842,-4.362807855810381,0.24073745474397246,-2.3953736316473764,-0.352976155285484,-3.8204684779149582,-4.028658387118494,0.002129595492641023,-1.2721338670421352,-1.9255808949631747,-1.0221340098293856,-1.226305216645204,-4.253352437234434,-6.1595042767586765,-5.202665732555625,-5.39407366575628,-6.168866914900917,-3.340879418142472,-3.1266317913102464,-2.2460805285361385,-1.7885473066960431,-2.8673498584407016,-2.6325313544097897,-2.0436502795573004,-3.970470921208813,-3.460445331536479,-2.111754590791528,-3.3958056710652613,-3.2048899247001135,-2.366056181442598,0.22899239576478791,-1.601906495415351,-2.7831754639344606,-3.228986914257728,-2.382359907265953,1.859768016067025,-7.84085375262356,-1.2122594059401859,-1.7570212229536226,-0.6138025022562852,-4.242286899487684,1.6303156207755238,-0.3738070446032866,-2.268051005359405,-1.8878861573123489,-3.4647784692293233,-2.0845629260987293,-2.4335113600325142,-0.47706831090694024,-1.5317444079996543,-2.3257125789284006,-0.9554530285905196,-1.1745953407628242,-1.774608984309908,-4.92767787692107,-0.32292389785658404,-4.27476978086262,-3.992714988001323,-2.3649863935001783,-1.2538641292037047,0.3584059608525809,-5.213357409729115,0.4727171728980073,0.7701292195534393,-3.0060148990384397,-2.5379561001260935,-3.204774128352668,-3.261442420379977,-4.58640461181945,-5.2168792704813,-2.5342932245378362,-1.7115133600072907,1.1163732732903933,-3.9773067948700245,-5.940548197867221,-1.9116965432016553,-3.0149359972169165,-1.5343026006916007,-2.8916875333798453,-4.442106341941019,-3.4154856602460573,-0.7307692033990456,-1.6852001406769972,-3.92002171141843,-0.6059613942788014,-4.778951010877936,-3.141170288886949,-1.8192470844787776],\"y\":[-1.5084909726111597,-2.885229472594647,-1.631001581692166,-3.8674186057986164,-1.0157654879649325,-3.8393068555221905,-2.4426419012909513,-1.9857959480687004,-2.2790233921274066,0.25930724605371047,-2.153523888640221,-1.2047246772944433,-0.8630998399945362,-3.2452532144986215,-1.5335322455566782,-2.666550356413116,-1.418072174073636,-2.7587687249631827,-3.0710651676784257,-1.196879180392946,-1.6096918979921249,-2.459001050787302,-1.395715947317223,-1.8988375360361234,-2.7444015396622152,-4.033279343994228,-3.829555292496064,-3.8568259575951718,-4.566504945659663,-2.619626073075093,-2.865231779425944,-2.1563430932234464,-1.5509450672538403,-2.3309572140382855,-2.1722943568002613,-1.2287943337206801,-2.776586206740804,-2.395535013811024,-2.1318656088884955,-3.055371239330766,-2.533763872147258,-2.530751179752416,-1.7889614482693847,-1.6214454358410588,-2.2908528444155003,-2.9350209041315782,-1.8030283977456785,-0.09445542501861048,-5.0620970321170455,-1.893927080500207,-1.5309987131544265,-1.4390440850980415,-3.2727196744402267,-0.3260231811852883,-1.42301495964338,-2.640644100642529,-2.1649749741049407,-2.997367694085753,-1.832649093875018,-2.610773611343885,-1.0324505675192714,-1.921450008215868,-2.4070647332231196,-1.529599426123223,-1.5762300635581905,-1.8556060549730606,-3.2897335766438864,-1.0970318819767133,-3.602962219616967,-3.2030350879500755,-1.693793490930915,-1.6618147439415898,-1.5240545586121925,-3.5551845430085978,-0.25233502132285146,-0.2629487648150448,-2.4850890976993627,-2.202296834430358,-2.407397655509487,-2.6768825523533817,-3.438531626232626,-3.1174859700844433,-2.3861972765646113,-1.551631721725455,-0.9137518866562893,-3.223833404975821,-4.315891363331693,-1.8313677039603302,-2.696114700680152,-1.961091839488776,-2.7220444303148037,-3.1767871254237567,-2.413772221647964,-1.5439941531598738,-1.6591533699206398,-2.9642748220717454,-1.48813159585589,-3.2841754033728003,-2.168020752137963,-2.6898054838385015],\"type\":\"scatter\"},{\"marker\":{\"color\":\"rgba(242, 170, 132, 0.5)\",\"size\":10,\"symbol\":\"square\"},\"mode\":\"markers\",\"name\":\"passed final\",\"x\":[0.3663443210899322,0.6744960970462222,2.8531781629248476,2.6804177538958625,2.3730511024749026,1.8072387769761127,0.8396864948523932,1.4163875927116658,8.29953115762547,1.697549788273217,5.535117629307096,1.767291029510516,5.283031231445714,5.042176759063158,3.636096606417536,1.6699583142585004,0.3448231261601764,4.5628394124216625,0.51328975850672,0.5302662053924552,5.565611158123546,5.4558843623984865,2.892276719914995,2.381341027350035,1.6287603535141555,3.456899954425105,1.953239408088689,0.10093891834520896,1.4501411090986425,3.27306176334693,-0.03715950744689156,1.0613493259592728,3.045466917917314,5.865221754960095,3.1444457435489257,2.882106823134497,6.304284002009429,0.9127255055790835,1.5057636081199197,4.341430493818934,4.762627963621312,3.648338954602969,-1.8905919943636365,4.154779402364565,4.025997890128768,2.9080207311089685,4.023435659858433,5.358803256948495,2.916564521563868,1.1397412365898143,-0.4859007675345577,2.939297697422192,1.5393534107508424,1.8131035925266117,0.7860520550727967,3.3182197915652916,4.14913778551064,3.6062697345367996,0.8084219979583356,4.42486628438319,3.390608487752808,-1.6539120491319448,3.8971314850527383,-0.8400556791667695,0.775589011269056,4.728252101669532,3.999479358763021,1.6644556535291253,1.2342642224266553,3.446742257988004,-0.4097934417336253,3.5637733005901664,2.299213778231617,4.145961753655331,2.598603788986998,0.8651646392377605,3.188511650522199,2.1947940645644914,0.2661975688483613,0.730036981317423,1.0124786686781588,2.9145351538399327,4.202270229636732,2.773169206581195,0.6543339059973787,2.13771527029522,3.8448145346669564,4.763702128131803,1.1318502839109241,3.3349888054201946,2.1219191211023043,-1.0529280070927145,0.49406523882872033,1.8052987358859847,1.8926194084055714,2.1119150324157028,1.737844545113382,3.485803190175507,1.0982747201805028,-0.0470381143201557],\"y\":[1.393063450662071,1.8683264502831296,2.375911035896644,2.5705565715812533,2.480923651947025,2.060218248685585,1.495911515897582,2.100846637877444,5.486045632205563,1.9059385755525913,3.9677709986671292,1.613489877214887,3.5951509891345967,3.5619649476515125,2.8062097474814873,1.6363894606522127,1.5533179878043644,3.3879247151362737,1.4792633063533902,0.876404650182474,3.630713479251975,3.5214073358080356,2.3924003658571085,2.696700684367798,2.5756942724490095,2.790055424967436,2.0908803720690763,0.9937851792248047,1.5654756038457354,2.904957432278687,0.861006043308068,1.2207599413354568,2.715764856623034,3.8869730940243574,2.6729576971903573,2.5386903708639856,4.4477557391976585,1.6487243319035318,2.0341774720660784,3.1472272466618954,3.359382063186567,2.948615696267284,0.13860420610337698,3.2362688571226332,3.13392835730985,3.113362559987298,2.965249953535894,3.835131252494742,2.510088673224624,1.9823465636965523,0.539726379460765,2.109794595497851,2.139782213182384,2.1417338145156446,1.459063917082327,2.4408758922712472,3.463131482267203,2.9410272100548536,1.2341296138956714,3.0741299485494036,2.5068499815651446,0.5984481982534025,2.899700756818474,0.27644970632409205,1.2152138297478619,3.701826110150874,3.186923955633036,1.6228280184042863,1.270182685450818,2.5508895095092736,0.8803724816378047,2.660323096635855,1.980008863312145,3.080568638159166,2.127775755543418,1.1027831918034998,2.172576728854949,1.8167246725185535,0.9177401220665597,1.4417928878292763,1.5311111337075598,2.207411016693051,3.4308905993162764,2.023642734666465,1.6164734016530833,1.719834506485098,2.823497280952788,3.631395313031174,1.826747225557673,2.4121899014664407,2.0838215951594243,0.13706652759009508,1.1864567918042983,2.0304404615247638,1.78193976117044,2.5015900907183823,2.0190170283794213,2.9490205755063457,1.3808413169593923,0.9382562839234225],\"type\":\"scatter\"},{\"marker\":{\"color\":\"rgba(21, 96, 130, 0.7)\",\"size\":12,\"symbol\":\"circle\"},\"mode\":\"markers\",\"showlegend\":false,\"x\":[-2.435257509594034],\"y\":[-2.2555973138035217],\"type\":\"scatter\"},{\"marker\":{\"color\":\"rgba(233, 113, 50, 0.7)\",\"size\":12,\"symbol\":\"square\"},\"mode\":\"markers\",\"showlegend\":false,\"x\":[2.435257509594025],\"y\":[2.2555973138035146],\"type\":\"scatter\"},{\"line\":{\"color\":\"#A02B93\",\"dash\":\"dash\",\"width\":2},\"mode\":\"lines\",\"name\":\"LR probe\",\"x\":[-6.158409855679303,-6.033997535362549,-5.909585215045796,-5.785172894729043,-5.660760574412289,-5.536348254095535,-5.411935933778782,-5.287523613462028,-5.163111293145274,-5.03869897282852,-4.914286652511767,-4.789874332195014,-4.66546201187826,-4.541049691561506,-4.416637371244753,-4.292225050928,-4.167812730611245,-4.043400410294492,-3.9189880899777383,-3.7945757696609848,-3.6701634493442308,-3.5457511290274772,-3.421338808710724,-3.2969264883939697,-3.1725141680772166,-3.048101847760463,-2.923689527443709,-2.7992772071269556,-2.674864886810202,-2.550452566493449,-2.426040246176695,-2.3016279258599415,-2.1772156055431875,-2.052803285226434,-1.9283909649096802,-1.8039786445929265,-1.6795663242761736,-1.5551540039594198,-1.430741683642666,-1.3063293633259123,-1.1819170430091586,-1.0575047226924048,-0.9330924023756518,-0.8086800820588982,-0.6842677617421444,-0.5598554414253907,-0.435443121108637,-0.3110308007918833,-0.18661848047513024,-0.06220616015837652,0.062206160158377204,0.1866184804751316,0.3110308007918846,0.43544312110863764,0.5598554414253921,0.6842677617421451,0.8086800820588995,0.9330924023756525,1.0575047226924055,1.18191704300916,1.306329363325913,1.4307416836426674,1.5551540039594205,1.679566324276175,1.8039786445929278,1.9283909649096809,2.0528032852264353,2.1772156055431884,2.301627925859943,2.426040246176696,2.5504525664934503,2.6748648868102034,2.799277207126956,2.9236895274437105,3.0481018477604636,3.172514168077218,3.296926488393971,3.421338808710724,3.5457511290274786,3.6701634493442317,3.794575769660986,3.918988089977739,4.043400410294494,4.167812730611247,4.292225050928,4.416637371244754,4.541049691561507,4.665462011878262,4.789874332195015,4.914286652511769,5.038698972828522,5.163111293145275,5.287523613462029,5.411935933778782,5.536348254095537,5.66076057441229,5.785172894729043,5.909585215045797,6.03399753536255,6.158409855679303],\"y\":[-1.1378160797126338,-1.1148298962840957,-1.0918437128555576,-1.0688575294270197,-1.0458713459984816,-1.0228851625699436,-0.9998989791414055,-0.9769127957128674,-0.9539266122843293,-0.9309404288557912,-0.9079542454272532,-0.8849680619987151,-0.861981878570177,-0.838995695141639,-0.8160095117131009,-0.793023328284563,-0.7700371448560248,-0.7470509614274868,-0.7240647779989487,-0.7010785945704107,-0.6780924111418726,-0.6551062277133345,-0.6321200442847965,-0.6091338608562583,-0.5861476774277204,-0.5631614939991824,-0.5401753105706443,-0.5171891271421062,-0.4942029437135681,-0.4712167602850301,-0.4482305768564921,-0.425244393427954,-0.4022582099994159,-0.37927202657087783,-0.35628584314233974,-0.33329965971380165,-0.31031347628526373,-0.28732729285672565,-0.26434110942818756,-0.2413549259996495,-0.2183687425711114,-0.19538255914257335,-0.1723963757140354,-0.14941019228549732,-0.12642400885695923,-0.10343782542842116,-0.08045164199988308,-0.057465458571345,-0.034479275142807055,-0.011493091714268976,0.011493091714269103,0.034479275142807304,0.05746545857134526,0.08045164199988321,0.1034378254284214,0.12642400885695937,0.14941019228549757,0.17239637571403552,0.19538255914257346,0.21836874257111166,0.24135492599964964,0.26434110942818784,0.28732729285672576,0.310313476285264,0.33329965971380193,0.3562858431423399,0.3792720265708781,0.402258209999416,0.4252443934279542,0.4482305768564922,0.4712167602850304,0.4942029437135684,0.5171891271421063,0.5401753105706445,0.5631614939991825,0.5861476774277207,0.6091338608562586,0.6321200442847965,0.6551062277133348,0.6780924111418727,0.7010785945704109,0.7240647779989489,0.7470509614274871,0.770037144856025,0.793023328284563,0.8160095117131012,0.8389956951416392,0.8619818785701774,0.8849680619987152,0.9079542454272534,0.9309404288557914,0.9539266122843294,0.9769127957128676,0.9998989791414056,1.0228851625699438,1.0458713459984816,1.0688575294270197,1.0918437128555578,1.114829896284096,1.1378160797126338],\"type\":\"scatter\"}],                        {\"template\":{\"data\":{\"barpolar\":[{\"marker\":{\"line\":{\"color\":\"white\",\"width\":0.5},\"pattern\":{\"fillmode\":\"overlay\",\"size\":10,\"solidity\":0.2}},\"type\":\"barpolar\"}],\"bar\":[{\"error_x\":{\"color\":\"rgb(36,36,36)\"},\"error_y\":{\"color\":\"rgb(36,36,36)\"},\"marker\":{\"line\":{\"color\":\"white\",\"width\":0.5},\"pattern\":{\"fillmode\":\"overlay\",\"size\":10,\"solidity\":0.2}},\"type\":\"bar\"}],\"carpet\":[{\"aaxis\":{\"endlinecolor\":\"rgb(36,36,36)\",\"gridcolor\":\"white\",\"linecolor\":\"white\",\"minorgridcolor\":\"white\",\"startlinecolor\":\"rgb(36,36,36)\"},\"baxis\":{\"endlinecolor\":\"rgb(36,36,36)\",\"gridcolor\":\"white\",\"linecolor\":\"white\",\"minorgridcolor\":\"white\",\"startlinecolor\":\"rgb(36,36,36)\"},\"type\":\"carpet\"}],\"choropleth\":[{\"colorbar\":{\"outlinewidth\":1,\"tickcolor\":\"rgb(36,36,36)\",\"ticks\":\"outside\"},\"type\":\"choropleth\"}],\"contourcarpet\":[{\"colorbar\":{\"outlinewidth\":1,\"tickcolor\":\"rgb(36,36,36)\",\"ticks\":\"outside\"},\"type\":\"contourcarpet\"}],\"contour\":[{\"colorbar\":{\"outlinewidth\":1,\"tickcolor\":\"rgb(36,36,36)\",\"ticks\":\"outside\"},\"colorscale\":[[0.0,\"#440154\"],[0.1111111111111111,\"#482878\"],[0.2222222222222222,\"#3e4989\"],[0.3333333333333333,\"#31688e\"],[0.4444444444444444,\"#26828e\"],[0.5555555555555556,\"#1f9e89\"],[0.6666666666666666,\"#35b779\"],[0.7777777777777778,\"#6ece58\"],[0.8888888888888888,\"#b5de2b\"],[1.0,\"#fde725\"]],\"type\":\"contour\"}],\"heatmapgl\":[{\"colorbar\":{\"outlinewidth\":1,\"tickcolor\":\"rgb(36,36,36)\",\"ticks\":\"outside\"},\"colorscale\":[[0.0,\"#440154\"],[0.1111111111111111,\"#482878\"],[0.2222222222222222,\"#3e4989\"],[0.3333333333333333,\"#31688e\"],[0.4444444444444444,\"#26828e\"],[0.5555555555555556,\"#1f9e89\"],[0.6666666666666666,\"#35b779\"],[0.7777777777777778,\"#6ece58\"],[0.8888888888888888,\"#b5de2b\"],[1.0,\"#fde725\"]],\"type\":\"heatmapgl\"}],\"heatmap\":[{\"colorbar\":{\"outlinewidth\":1,\"tickcolor\":\"rgb(36,36,36)\",\"ticks\":\"outside\"},\"colorscale\":[[0.0,\"#440154\"],[0.1111111111111111,\"#482878\"],[0.2222222222222222,\"#3e4989\"],[0.3333333333333333,\"#31688e\"],[0.4444444444444444,\"#26828e\"],[0.5555555555555556,\"#1f9e89\"],[0.6666666666666666,\"#35b779\"],[0.7777777777777778,\"#6ece58\"],[0.8888888888888888,\"#b5de2b\"],[1.0,\"#fde725\"]],\"type\":\"heatmap\"}],\"histogram2dcontour\":[{\"colorbar\":{\"outlinewidth\":1,\"tickcolor\":\"rgb(36,36,36)\",\"ticks\":\"outside\"},\"colorscale\":[[0.0,\"#440154\"],[0.1111111111111111,\"#482878\"],[0.2222222222222222,\"#3e4989\"],[0.3333333333333333,\"#31688e\"],[0.4444444444444444,\"#26828e\"],[0.5555555555555556,\"#1f9e89\"],[0.6666666666666666,\"#35b779\"],[0.7777777777777778,\"#6ece58\"],[0.8888888888888888,\"#b5de2b\"],[1.0,\"#fde725\"]],\"type\":\"histogram2dcontour\"}],\"histogram2d\":[{\"colorbar\":{\"outlinewidth\":1,\"tickcolor\":\"rgb(36,36,36)\",\"ticks\":\"outside\"},\"colorscale\":[[0.0,\"#440154\"],[0.1111111111111111,\"#482878\"],[0.2222222222222222,\"#3e4989\"],[0.3333333333333333,\"#31688e\"],[0.4444444444444444,\"#26828e\"],[0.5555555555555556,\"#1f9e89\"],[0.6666666666666666,\"#35b779\"],[0.7777777777777778,\"#6ece58\"],[0.8888888888888888,\"#b5de2b\"],[1.0,\"#fde725\"]],\"type\":\"histogram2d\"}],\"histogram\":[{\"marker\":{\"line\":{\"color\":\"white\",\"width\":0.6}},\"type\":\"histogram\"}],\"mesh3d\":[{\"colorbar\":{\"outlinewidth\":1,\"tickcolor\":\"rgb(36,36,36)\",\"ticks\":\"outside\"},\"type\":\"mesh3d\"}],\"parcoords\":[{\"line\":{\"colorbar\":{\"outlinewidth\":1,\"tickcolor\":\"rgb(36,36,36)\",\"ticks\":\"outside\"}},\"type\":\"parcoords\"}],\"pie\":[{\"automargin\":true,\"type\":\"pie\"}],\"scatter3d\":[{\"line\":{\"colorbar\":{\"outlinewidth\":1,\"tickcolor\":\"rgb(36,36,36)\",\"ticks\":\"outside\"}},\"marker\":{\"colorbar\":{\"outlinewidth\":1,\"tickcolor\":\"rgb(36,36,36)\",\"ticks\":\"outside\"}},\"type\":\"scatter3d\"}],\"scattercarpet\":[{\"marker\":{\"colorbar\":{\"outlinewidth\":1,\"tickcolor\":\"rgb(36,36,36)\",\"ticks\":\"outside\"}},\"type\":\"scattercarpet\"}],\"scattergeo\":[{\"marker\":{\"colorbar\":{\"outlinewidth\":1,\"tickcolor\":\"rgb(36,36,36)\",\"ticks\":\"outside\"}},\"type\":\"scattergeo\"}],\"scattergl\":[{\"marker\":{\"colorbar\":{\"outlinewidth\":1,\"tickcolor\":\"rgb(36,36,36)\",\"ticks\":\"outside\"}},\"type\":\"scattergl\"}],\"scattermapbox\":[{\"marker\":{\"colorbar\":{\"outlinewidth\":1,\"tickcolor\":\"rgb(36,36,36)\",\"ticks\":\"outside\"}},\"type\":\"scattermapbox\"}],\"scatterpolargl\":[{\"marker\":{\"colorbar\":{\"outlinewidth\":1,\"tickcolor\":\"rgb(36,36,36)\",\"ticks\":\"outside\"}},\"type\":\"scatterpolargl\"}],\"scatterpolar\":[{\"marker\":{\"colorbar\":{\"outlinewidth\":1,\"tickcolor\":\"rgb(36,36,36)\",\"ticks\":\"outside\"}},\"type\":\"scatterpolar\"}],\"scatter\":[{\"fillpattern\":{\"fillmode\":\"overlay\",\"size\":10,\"solidity\":0.2},\"type\":\"scatter\"}],\"scatterternary\":[{\"marker\":{\"colorbar\":{\"outlinewidth\":1,\"tickcolor\":\"rgb(36,36,36)\",\"ticks\":\"outside\"}},\"type\":\"scatterternary\"}],\"surface\":[{\"colorbar\":{\"outlinewidth\":1,\"tickcolor\":\"rgb(36,36,36)\",\"ticks\":\"outside\"},\"colorscale\":[[0.0,\"#440154\"],[0.1111111111111111,\"#482878\"],[0.2222222222222222,\"#3e4989\"],[0.3333333333333333,\"#31688e\"],[0.4444444444444444,\"#26828e\"],[0.5555555555555556,\"#1f9e89\"],[0.6666666666666666,\"#35b779\"],[0.7777777777777778,\"#6ece58\"],[0.8888888888888888,\"#b5de2b\"],[1.0,\"#fde725\"]],\"type\":\"surface\"}],\"table\":[{\"cells\":{\"fill\":{\"color\":\"rgb(237,237,237)\"},\"line\":{\"color\":\"white\"}},\"header\":{\"fill\":{\"color\":\"rgb(217,217,217)\"},\"line\":{\"color\":\"white\"}},\"type\":\"table\"}]},\"layout\":{\"annotationdefaults\":{\"arrowhead\":0,\"arrowwidth\":1},\"autotypenumbers\":\"strict\",\"coloraxis\":{\"colorbar\":{\"outlinewidth\":1,\"tickcolor\":\"rgb(36,36,36)\",\"ticks\":\"outside\"}},\"colorscale\":{\"diverging\":[[0.0,\"rgb(103,0,31)\"],[0.1,\"rgb(178,24,43)\"],[0.2,\"rgb(214,96,77)\"],[0.3,\"rgb(244,165,130)\"],[0.4,\"rgb(253,219,199)\"],[0.5,\"rgb(247,247,247)\"],[0.6,\"rgb(209,229,240)\"],[0.7,\"rgb(146,197,222)\"],[0.8,\"rgb(67,147,195)\"],[0.9,\"rgb(33,102,172)\"],[1.0,\"rgb(5,48,97)\"]],\"sequential\":[[0.0,\"#440154\"],[0.1111111111111111,\"#482878\"],[0.2222222222222222,\"#3e4989\"],[0.3333333333333333,\"#31688e\"],[0.4444444444444444,\"#26828e\"],[0.5555555555555556,\"#1f9e89\"],[0.6666666666666666,\"#35b779\"],[0.7777777777777778,\"#6ece58\"],[0.8888888888888888,\"#b5de2b\"],[1.0,\"#fde725\"]],\"sequentialminus\":[[0.0,\"#440154\"],[0.1111111111111111,\"#482878\"],[0.2222222222222222,\"#3e4989\"],[0.3333333333333333,\"#31688e\"],[0.4444444444444444,\"#26828e\"],[0.5555555555555556,\"#1f9e89\"],[0.6666666666666666,\"#35b779\"],[0.7777777777777778,\"#6ece58\"],[0.8888888888888888,\"#b5de2b\"],[1.0,\"#fde725\"]]},\"colorway\":[\"#1F77B4\",\"#FF7F0E\",\"#2CA02C\",\"#D62728\",\"#9467BD\",\"#8C564B\",\"#E377C2\",\"#7F7F7F\",\"#BCBD22\",\"#17BECF\"],\"font\":{\"color\":\"rgb(36,36,36)\"},\"geo\":{\"bgcolor\":\"white\",\"lakecolor\":\"white\",\"landcolor\":\"white\",\"showlakes\":true,\"showland\":true,\"subunitcolor\":\"white\"},\"hoverlabel\":{\"align\":\"left\"},\"hovermode\":\"closest\",\"mapbox\":{\"style\":\"light\"},\"paper_bgcolor\":\"white\",\"plot_bgcolor\":\"white\",\"polar\":{\"angularaxis\":{\"gridcolor\":\"rgb(232,232,232)\",\"linecolor\":\"rgb(36,36,36)\",\"showgrid\":false,\"showline\":true,\"ticks\":\"outside\"},\"bgcolor\":\"white\",\"radialaxis\":{\"gridcolor\":\"rgb(232,232,232)\",\"linecolor\":\"rgb(36,36,36)\",\"showgrid\":false,\"showline\":true,\"ticks\":\"outside\"}},\"scene\":{\"xaxis\":{\"backgroundcolor\":\"white\",\"gridcolor\":\"rgb(232,232,232)\",\"gridwidth\":2,\"linecolor\":\"rgb(36,36,36)\",\"showbackground\":true,\"showgrid\":false,\"showline\":true,\"ticks\":\"outside\",\"zeroline\":false,\"zerolinecolor\":\"rgb(36,36,36)\"},\"yaxis\":{\"backgroundcolor\":\"white\",\"gridcolor\":\"rgb(232,232,232)\",\"gridwidth\":2,\"linecolor\":\"rgb(36,36,36)\",\"showbackground\":true,\"showgrid\":false,\"showline\":true,\"ticks\":\"outside\",\"zeroline\":false,\"zerolinecolor\":\"rgb(36,36,36)\"},\"zaxis\":{\"backgroundcolor\":\"white\",\"gridcolor\":\"rgb(232,232,232)\",\"gridwidth\":2,\"linecolor\":\"rgb(36,36,36)\",\"showbackground\":true,\"showgrid\":false,\"showline\":true,\"ticks\":\"outside\",\"zeroline\":false,\"zerolinecolor\":\"rgb(36,36,36)\"}},\"shapedefaults\":{\"fillcolor\":\"black\",\"line\":{\"width\":0},\"opacity\":0.3},\"ternary\":{\"aaxis\":{\"gridcolor\":\"rgb(232,232,232)\",\"linecolor\":\"rgb(36,36,36)\",\"showgrid\":false,\"showline\":true,\"ticks\":\"outside\"},\"baxis\":{\"gridcolor\":\"rgb(232,232,232)\",\"linecolor\":\"rgb(36,36,36)\",\"showgrid\":false,\"showline\":true,\"ticks\":\"outside\"},\"bgcolor\":\"white\",\"caxis\":{\"gridcolor\":\"rgb(232,232,232)\",\"linecolor\":\"rgb(36,36,36)\",\"showgrid\":false,\"showline\":true,\"ticks\":\"outside\"}},\"title\":{\"x\":0.05},\"xaxis\":{\"automargin\":true,\"gridcolor\":\"rgb(232,232,232)\",\"linecolor\":\"rgb(36,36,36)\",\"showgrid\":false,\"showline\":true,\"ticks\":\"outside\",\"title\":{\"standoff\":15},\"zeroline\":false,\"zerolinecolor\":\"rgb(36,36,36)\"},\"yaxis\":{\"automargin\":true,\"gridcolor\":\"rgb(232,232,232)\",\"linecolor\":\"rgb(36,36,36)\",\"showgrid\":false,\"showline\":true,\"ticks\":\"outside\",\"title\":{\"standoff\":15},\"zeroline\":false,\"zerolinecolor\":\"rgb(36,36,36)\"}}},\"xaxis\":{\"title\":{\"text\":\"# of assignments turned in\"},\"scaleanchor\":\"y\",\"scaleratio\":1},\"yaxis\":{\"title\":{\"text\":\"average grade\"},\"scaleanchor\":\"x\",\"scaleratio\":1},\"width\":500,\"height\":400,\"annotations\":[{\"arrowcolor\":\"#A02B93\",\"arrowhead\":4,\"arrowsize\":2,\"arrowwidth\":1,\"ax\":-2.435257509594034,\"axref\":\"x\",\"ay\":-2.0555973138035215,\"ayref\":\"y\",\"showarrow\":true,\"x\":-3.004165549450351,\"xref\":\"x\",\"y\":0.62360761403613,\"yref\":\"y\"}]},                        {\"responsive\": true}                    ).then(function(){\n",
       "                            \n",
       "var gd = document.getElementById('f00ddf62-2f51-464d-a92f-d8b32e0f9377');\n",
       "var x = new MutationObserver(function (mutations, observer) {{\n",
       "        var display = window.getComputedStyle(gd).display;\n",
       "        if (!display || display === 'none') {{\n",
       "            console.log([gd, 'removed!']);\n",
       "            Plotly.purge(gd);\n",
       "            observer.disconnect();\n",
       "        }}\n",
       "}});\n",
       "\n",
       "// Listen for the removal of the full notebook cells\n",
       "var notebookContainer = gd.closest('#notebook-container');\n",
       "if (notebookContainer) {{\n",
       "    x.observe(notebookContainer, {childList: true});\n",
       "}}\n",
       "\n",
       "// Listen for the clearing of the current output cell\n",
       "var outputEl = gd.closest('.output');\n",
       "if (outputEl) {{\n",
       "    x.observe(outputEl, {childList: true});\n",
       "}}\n",
       "\n",
       "                        })                };                            </script>        </div>\n",
       "</body>\n",
       "</html>"
      ]
     },
     "metadata": {},
     "output_type": "display_data"
    }
   ],
   "source": [
    "mean_low_transformed = mean_low - theta\n",
    "\n",
    "fig.add_annotation(\n",
    "  ax=mean_low[0],  # x-coordinate of the arrow's head\n",
    "  ay=mean_low[1] + 0.2,  # y-coordinate of the arrow's head\n",
    "  x=mean_low_transformed[0], # x-coordinate of the arrow's tail\n",
    "  y=mean_low_transformed[1] - 0.2, # y-coordinate of the arrow's tail\n",
    "  xref='x', yref='y', # Reference coordinates to the plot's x and y axes\n",
    "  axref='x', ayref='y',\n",
    "  showarrow=True,\n",
    "  arrowhead=4, # Style of the arrowhead (e.g., 1, 2, 3, 4, 5)\n",
    "  arrowsize=2,\n",
    "  arrowwidth=1,\n",
    "  arrowcolor=COLORS.PURPLE,\n",
    ")\n",
    "\n",
    "fig"
   ]
  },
  {
   "cell_type": "markdown",
   "metadata": {
    "id": "YEDNjNp6N02T"
   },
   "source": [
    "Presumably, bumping everyone's grades' up won't have the intended effect of helping people pass the final! Indeed, if we draw an arrow in the direction of the linear probe, we see that it doesn't do a great job at bringing the two distributions of students close together.\n",
    "\n",
    "In this case, the **direction** of the LR probe isn't meaningful - it tells the students apart, but doesn't help us **steer** a student who's on track to fail the class towards passing it."
   ]
  },
  {
   "cell_type": "markdown",
   "metadata": {
    "id": "RiyN20eqa66D"
   },
   "source": [
    "### Difference in means probe (aka. mean mass / MM)\n",
    "\n",
    "A simple but effective alternative to LR probes is **difference in means** (also known as **mean mass**) probing.\n",
    "\n",
    "To classify between groups of students, we take the difference between the mean student who passed the final and the mean student who didn't pass. What we get is a direction vector that roughly tells the two classes apart, but more importantly tells us how to bridge between the two distribution."
   ]
  },
  {
   "cell_type": "code",
   "execution_count": null,
   "metadata": {
    "colab": {
     "base_uri": "https://localhost:8080/",
     "height": 417
    },
    "id": "ipeJBzJ-HaUQ",
    "outputId": "5ecc2824-e659-48ee-dade-d9bf7ad24007"
   },
   "outputs": [
    {
     "data": {
      "text/html": [
       "<html>\n",
       "<head><meta charset=\"utf-8\" /></head>\n",
       "<body>\n",
       "    <div>            <script src=\"https://cdnjs.cloudflare.com/ajax/libs/mathjax/2.7.5/MathJax.js?config=TeX-AMS-MML_SVG\"></script><script type=\"text/javascript\">if (window.MathJax && window.MathJax.Hub && window.MathJax.Hub.Config) {window.MathJax.Hub.Config({SVG: {font: \"STIX-Web\"}});}</script>                <script type=\"text/javascript\">window.PlotlyConfig = {MathJaxConfig: 'local'};</script>\n",
       "        <script charset=\"utf-8\" src=\"https://cdn.plot.ly/plotly-2.35.2.min.js\"></script>                <div id=\"d7e6e070-8607-4a77-be56-e33e7c40988f\" class=\"plotly-graph-div\" style=\"height:400px; width:500px;\"></div>            <script type=\"text/javascript\">                                    window.PLOTLYENV=window.PLOTLYENV || {};                                    if (document.getElementById(\"d7e6e070-8607-4a77-be56-e33e7c40988f\")) {                    Plotly.newPlot(                        \"d7e6e070-8607-4a77-be56-e33e7c40988f\",                        [{\"marker\":{\"color\":\"rgba(70, 177, 225, 0.5)\",\"size\":10,\"symbol\":\"circle\"},\"mode\":\"markers\",\"name\":\"failed final\",\"x\":[-1.324129517162433,-3.4020705968353964,-1.739112919801535,-5.2368281551133915,-0.8198469127358345,-4.938002426218874,-2.1662752732063044,-2.3919138201255397,-3.6280713952757075,2.993770897135655,-3.2515852687758144,-1.3250814254800316,-0.2027830014289842,-4.362807855810381,0.24073745474397246,-2.3953736316473764,-0.352976155285484,-3.8204684779149582,-4.028658387118494,0.002129595492641023,-1.2721338670421352,-1.9255808949631747,-1.0221340098293856,-1.226305216645204,-4.253352437234434,-6.1595042767586765,-5.202665732555625,-5.39407366575628,-6.168866914900917,-3.340879418142472,-3.1266317913102464,-2.2460805285361385,-1.7885473066960431,-2.8673498584407016,-2.6325313544097897,-2.0436502795573004,-3.970470921208813,-3.460445331536479,-2.111754590791528,-3.3958056710652613,-3.2048899247001135,-2.366056181442598,0.22899239576478791,-1.601906495415351,-2.7831754639344606,-3.228986914257728,-2.382359907265953,1.859768016067025,-7.84085375262356,-1.2122594059401859,-1.7570212229536226,-0.6138025022562852,-4.242286899487684,1.6303156207755238,-0.3738070446032866,-2.268051005359405,-1.8878861573123489,-3.4647784692293233,-2.0845629260987293,-2.4335113600325142,-0.47706831090694024,-1.5317444079996543,-2.3257125789284006,-0.9554530285905196,-1.1745953407628242,-1.774608984309908,-4.92767787692107,-0.32292389785658404,-4.27476978086262,-3.992714988001323,-2.3649863935001783,-1.2538641292037047,0.3584059608525809,-5.213357409729115,0.4727171728980073,0.7701292195534393,-3.0060148990384397,-2.5379561001260935,-3.204774128352668,-3.261442420379977,-4.58640461181945,-5.2168792704813,-2.5342932245378362,-1.7115133600072907,1.1163732732903933,-3.9773067948700245,-5.940548197867221,-1.9116965432016553,-3.0149359972169165,-1.5343026006916007,-2.8916875333798453,-4.442106341941019,-3.4154856602460573,-0.7307692033990456,-1.6852001406769972,-3.92002171141843,-0.6059613942788014,-4.778951010877936,-3.141170288886949,-1.8192470844787776],\"y\":[-1.5084909726111597,-2.885229472594647,-1.631001581692166,-3.8674186057986164,-1.0157654879649325,-3.8393068555221905,-2.4426419012909513,-1.9857959480687004,-2.2790233921274066,0.25930724605371047,-2.153523888640221,-1.2047246772944433,-0.8630998399945362,-3.2452532144986215,-1.5335322455566782,-2.666550356413116,-1.418072174073636,-2.7587687249631827,-3.0710651676784257,-1.196879180392946,-1.6096918979921249,-2.459001050787302,-1.395715947317223,-1.8988375360361234,-2.7444015396622152,-4.033279343994228,-3.829555292496064,-3.8568259575951718,-4.566504945659663,-2.619626073075093,-2.865231779425944,-2.1563430932234464,-1.5509450672538403,-2.3309572140382855,-2.1722943568002613,-1.2287943337206801,-2.776586206740804,-2.395535013811024,-2.1318656088884955,-3.055371239330766,-2.533763872147258,-2.530751179752416,-1.7889614482693847,-1.6214454358410588,-2.2908528444155003,-2.9350209041315782,-1.8030283977456785,-0.09445542501861048,-5.0620970321170455,-1.893927080500207,-1.5309987131544265,-1.4390440850980415,-3.2727196744402267,-0.3260231811852883,-1.42301495964338,-2.640644100642529,-2.1649749741049407,-2.997367694085753,-1.832649093875018,-2.610773611343885,-1.0324505675192714,-1.921450008215868,-2.4070647332231196,-1.529599426123223,-1.5762300635581905,-1.8556060549730606,-3.2897335766438864,-1.0970318819767133,-3.602962219616967,-3.2030350879500755,-1.693793490930915,-1.6618147439415898,-1.5240545586121925,-3.5551845430085978,-0.25233502132285146,-0.2629487648150448,-2.4850890976993627,-2.202296834430358,-2.407397655509487,-2.6768825523533817,-3.438531626232626,-3.1174859700844433,-2.3861972765646113,-1.551631721725455,-0.9137518866562893,-3.223833404975821,-4.315891363331693,-1.8313677039603302,-2.696114700680152,-1.961091839488776,-2.7220444303148037,-3.1767871254237567,-2.413772221647964,-1.5439941531598738,-1.6591533699206398,-2.9642748220717454,-1.48813159585589,-3.2841754033728003,-2.168020752137963,-2.6898054838385015],\"type\":\"scatter\"},{\"marker\":{\"color\":\"rgba(242, 170, 132, 0.5)\",\"size\":10,\"symbol\":\"square\"},\"mode\":\"markers\",\"name\":\"passed final\",\"x\":[0.3663443210899322,0.6744960970462222,2.8531781629248476,2.6804177538958625,2.3730511024749026,1.8072387769761127,0.8396864948523932,1.4163875927116658,8.29953115762547,1.697549788273217,5.535117629307096,1.767291029510516,5.283031231445714,5.042176759063158,3.636096606417536,1.6699583142585004,0.3448231261601764,4.5628394124216625,0.51328975850672,0.5302662053924552,5.565611158123546,5.4558843623984865,2.892276719914995,2.381341027350035,1.6287603535141555,3.456899954425105,1.953239408088689,0.10093891834520896,1.4501411090986425,3.27306176334693,-0.03715950744689156,1.0613493259592728,3.045466917917314,5.865221754960095,3.1444457435489257,2.882106823134497,6.304284002009429,0.9127255055790835,1.5057636081199197,4.341430493818934,4.762627963621312,3.648338954602969,-1.8905919943636365,4.154779402364565,4.025997890128768,2.9080207311089685,4.023435659858433,5.358803256948495,2.916564521563868,1.1397412365898143,-0.4859007675345577,2.939297697422192,1.5393534107508424,1.8131035925266117,0.7860520550727967,3.3182197915652916,4.14913778551064,3.6062697345367996,0.8084219979583356,4.42486628438319,3.390608487752808,-1.6539120491319448,3.8971314850527383,-0.8400556791667695,0.775589011269056,4.728252101669532,3.999479358763021,1.6644556535291253,1.2342642224266553,3.446742257988004,-0.4097934417336253,3.5637733005901664,2.299213778231617,4.145961753655331,2.598603788986998,0.8651646392377605,3.188511650522199,2.1947940645644914,0.2661975688483613,0.730036981317423,1.0124786686781588,2.9145351538399327,4.202270229636732,2.773169206581195,0.6543339059973787,2.13771527029522,3.8448145346669564,4.763702128131803,1.1318502839109241,3.3349888054201946,2.1219191211023043,-1.0529280070927145,0.49406523882872033,1.8052987358859847,1.8926194084055714,2.1119150324157028,1.737844545113382,3.485803190175507,1.0982747201805028,-0.0470381143201557],\"y\":[1.393063450662071,1.8683264502831296,2.375911035896644,2.5705565715812533,2.480923651947025,2.060218248685585,1.495911515897582,2.100846637877444,5.486045632205563,1.9059385755525913,3.9677709986671292,1.613489877214887,3.5951509891345967,3.5619649476515125,2.8062097474814873,1.6363894606522127,1.5533179878043644,3.3879247151362737,1.4792633063533902,0.876404650182474,3.630713479251975,3.5214073358080356,2.3924003658571085,2.696700684367798,2.5756942724490095,2.790055424967436,2.0908803720690763,0.9937851792248047,1.5654756038457354,2.904957432278687,0.861006043308068,1.2207599413354568,2.715764856623034,3.8869730940243574,2.6729576971903573,2.5386903708639856,4.4477557391976585,1.6487243319035318,2.0341774720660784,3.1472272466618954,3.359382063186567,2.948615696267284,0.13860420610337698,3.2362688571226332,3.13392835730985,3.113362559987298,2.965249953535894,3.835131252494742,2.510088673224624,1.9823465636965523,0.539726379460765,2.109794595497851,2.139782213182384,2.1417338145156446,1.459063917082327,2.4408758922712472,3.463131482267203,2.9410272100548536,1.2341296138956714,3.0741299485494036,2.5068499815651446,0.5984481982534025,2.899700756818474,0.27644970632409205,1.2152138297478619,3.701826110150874,3.186923955633036,1.6228280184042863,1.270182685450818,2.5508895095092736,0.8803724816378047,2.660323096635855,1.980008863312145,3.080568638159166,2.127775755543418,1.1027831918034998,2.172576728854949,1.8167246725185535,0.9177401220665597,1.4417928878292763,1.5311111337075598,2.207411016693051,3.4308905993162764,2.023642734666465,1.6164734016530833,1.719834506485098,2.823497280952788,3.631395313031174,1.826747225557673,2.4121899014664407,2.0838215951594243,0.13706652759009508,1.1864567918042983,2.0304404615247638,1.78193976117044,2.5015900907183823,2.0190170283794213,2.9490205755063457,1.3808413169593923,0.9382562839234225],\"type\":\"scatter\"},{\"marker\":{\"color\":\"rgba(21, 96, 130, 0.7)\",\"size\":12,\"symbol\":\"circle\"},\"mode\":\"markers\",\"showlegend\":false,\"x\":[-2.435257509594034],\"y\":[-2.2555973138035217],\"type\":\"scatter\"},{\"marker\":{\"color\":\"rgba(233, 113, 50, 0.7)\",\"size\":12,\"symbol\":\"square\"},\"mode\":\"markers\",\"showlegend\":false,\"x\":[2.435257509594025],\"y\":[2.2555973138035146],\"type\":\"scatter\"},{\"line\":{\"color\":\"#A02B93\",\"dash\":\"dash\",\"width\":2},\"mode\":\"lines\",\"name\":\"LR probe\",\"x\":[-6.158409855679303,-6.033997535362549,-5.909585215045796,-5.785172894729043,-5.660760574412289,-5.536348254095535,-5.411935933778782,-5.287523613462028,-5.163111293145274,-5.03869897282852,-4.914286652511767,-4.789874332195014,-4.66546201187826,-4.541049691561506,-4.416637371244753,-4.292225050928,-4.167812730611245,-4.043400410294492,-3.9189880899777383,-3.7945757696609848,-3.6701634493442308,-3.5457511290274772,-3.421338808710724,-3.2969264883939697,-3.1725141680772166,-3.048101847760463,-2.923689527443709,-2.7992772071269556,-2.674864886810202,-2.550452566493449,-2.426040246176695,-2.3016279258599415,-2.1772156055431875,-2.052803285226434,-1.9283909649096802,-1.8039786445929265,-1.6795663242761736,-1.5551540039594198,-1.430741683642666,-1.3063293633259123,-1.1819170430091586,-1.0575047226924048,-0.9330924023756518,-0.8086800820588982,-0.6842677617421444,-0.5598554414253907,-0.435443121108637,-0.3110308007918833,-0.18661848047513024,-0.06220616015837652,0.062206160158377204,0.1866184804751316,0.3110308007918846,0.43544312110863764,0.5598554414253921,0.6842677617421451,0.8086800820588995,0.9330924023756525,1.0575047226924055,1.18191704300916,1.306329363325913,1.4307416836426674,1.5551540039594205,1.679566324276175,1.8039786445929278,1.9283909649096809,2.0528032852264353,2.1772156055431884,2.301627925859943,2.426040246176696,2.5504525664934503,2.6748648868102034,2.799277207126956,2.9236895274437105,3.0481018477604636,3.172514168077218,3.296926488393971,3.421338808710724,3.5457511290274786,3.6701634493442317,3.794575769660986,3.918988089977739,4.043400410294494,4.167812730611247,4.292225050928,4.416637371244754,4.541049691561507,4.665462011878262,4.789874332195015,4.914286652511769,5.038698972828522,5.163111293145275,5.287523613462029,5.411935933778782,5.536348254095537,5.66076057441229,5.785172894729043,5.909585215045797,6.03399753536255,6.158409855679303],\"y\":[-1.1378160797126338,-1.1148298962840957,-1.0918437128555576,-1.0688575294270197,-1.0458713459984816,-1.0228851625699436,-0.9998989791414055,-0.9769127957128674,-0.9539266122843293,-0.9309404288557912,-0.9079542454272532,-0.8849680619987151,-0.861981878570177,-0.838995695141639,-0.8160095117131009,-0.793023328284563,-0.7700371448560248,-0.7470509614274868,-0.7240647779989487,-0.7010785945704107,-0.6780924111418726,-0.6551062277133345,-0.6321200442847965,-0.6091338608562583,-0.5861476774277204,-0.5631614939991824,-0.5401753105706443,-0.5171891271421062,-0.4942029437135681,-0.4712167602850301,-0.4482305768564921,-0.425244393427954,-0.4022582099994159,-0.37927202657087783,-0.35628584314233974,-0.33329965971380165,-0.31031347628526373,-0.28732729285672565,-0.26434110942818756,-0.2413549259996495,-0.2183687425711114,-0.19538255914257335,-0.1723963757140354,-0.14941019228549732,-0.12642400885695923,-0.10343782542842116,-0.08045164199988308,-0.057465458571345,-0.034479275142807055,-0.011493091714268976,0.011493091714269103,0.034479275142807304,0.05746545857134526,0.08045164199988321,0.1034378254284214,0.12642400885695937,0.14941019228549757,0.17239637571403552,0.19538255914257346,0.21836874257111166,0.24135492599964964,0.26434110942818784,0.28732729285672576,0.310313476285264,0.33329965971380193,0.3562858431423399,0.3792720265708781,0.402258209999416,0.4252443934279542,0.4482305768564922,0.4712167602850304,0.4942029437135684,0.5171891271421063,0.5401753105706445,0.5631614939991825,0.5861476774277207,0.6091338608562586,0.6321200442847965,0.6551062277133348,0.6780924111418727,0.7010785945704109,0.7240647779989489,0.7470509614274871,0.770037144856025,0.793023328284563,0.8160095117131012,0.8389956951416392,0.8619818785701774,0.8849680619987152,0.9079542454272534,0.9309404288557914,0.9539266122843294,0.9769127957128676,0.9998989791414056,1.0228851625699438,1.0458713459984816,1.0688575294270197,1.0918437128555578,1.114829896284096,1.1378160797126338],\"type\":\"scatter\"},{\"line\":{\"color\":\"#4EA72E\",\"dash\":\"dash\",\"width\":2},\"mode\":\"lines\",\"name\":\"MM probe\",\"x\":[4.511194627607036,4.420059382604874,4.328924137602711,4.237788892600549,4.146653647598387,4.055518402596225,3.964383157594062,3.8732479125919,3.7821126675897374,3.690977422587575,3.599842177585413,3.5087069325832503,3.417571687581088,3.3264364425789257,3.235301197576763,3.144165952574601,3.053030707572438,2.9618954625702765,2.870760217568114,2.7796249725659514,2.688489727563789,2.597354482561627,2.5062192375594647,2.4150839925573018,2.3239487475551397,2.2328135025529776,2.141678257550815,2.0505430125486526,1.95940776754649,1.8682725225443282,1.7771372775421657,1.6860020325400034,1.5948667875378408,1.5037315425356783,1.412596297533516,1.3214610525313535,1.2303258075291916,1.139190562527029,1.0480553175248668,0.9569200725227043,0.8657848275205419,0.7746495825183795,0.6835143375162175,0.5923790925140551,0.5012438475118927,0.4101086025097302,0.3189733575075678,0.22783811250540534,0.1367028675032434,0.04556762250108097,-0.04556762250108147,-0.1367028675032444,-0.22783811250540634,-0.3189733575075683,-0.4101086025097312,-0.5012438475118931,-0.5923790925140561,-0.683514337516218,-0.7746495825183799,-0.8657848275205429,-0.9569200725227048,-1.0480553175248677,-1.1391905625270298,-1.2303258075291925,-1.3214610525313546,-1.4125962975335165,-1.5037315425356794,-1.5948667875378413,-1.6860020325400042,-1.7771372775421663,-1.868272522544329,-1.9594077675464912,-2.050543012548653,-2.141678257550816,-2.232813502552978,-2.323948747555141,-2.4150839925573027,-2.5062192375594647,-2.5973544825616277,-2.68848972756379,-2.7796249725659523,-2.8707602175681144,-2.9618954625702774,-3.0530307075724394,-3.144165952574601,-3.235301197576764,-3.326436442578926,-3.417571687581089,-3.508706932583251,-3.599842177585414,-3.6909774225875758,-3.782112667589738,-3.873247912591901,-3.9643831575940625,-4.055518402596226,-4.146653647598388,-4.237788892600549,-4.328924137602712,-4.420059382604874,-4.511194627607036],\"y\":[-4.870515019188059,-4.7721207763761795,-4.673726533564299,-4.57533229075242,-4.476938047940539,-4.378543805128659,-4.28014956231678,-4.181755319504899,-4.083361076693019,-3.9849668338811393,-3.8865725910692595,-3.7881783482573796,-3.6897841054454994,-3.591389862633619,-3.4929956198217393,-3.3946013770098595,-3.2962071341979793,-3.1978128913860995,-3.0994186485742197,-3.0010244057623394,-2.902630162950459,-2.8042359201385794,-2.7058416773266996,-2.6074474345148193,-2.5090531917029395,-2.4106589488910597,-2.3122647060791794,-2.213870463267299,-2.1154762204554194,-2.0170819776435396,-1.9186877348316596,-1.8202934920197795,-1.7218992492078995,-1.6235050063960195,-1.5251107635841392,-1.4267165207722592,-1.3283222779603796,-1.2299280351484996,-1.1315337923366195,-1.0331395495247395,-0.9347453067128594,-0.8363510639009794,-0.7379568210890998,-0.6395625782772197,-0.5411683354653396,-0.4427740926534595,-0.3443798498415795,-0.24598560702969938,-0.14759136421781985,-0.04919712140593977,0.04919712140594031,0.14759136421782093,0.24598560702970046,0.34437984984158,0.4427740926534606,0.5411683354653402,0.6395625782772207,0.7379568210891003,0.8363510639009799,0.9347453067128605,1.03313954952474,1.1315337923366207,1.2299280351485002,1.3283222779603807,1.4267165207722603,1.5251107635841399,1.6235050063960206,1.7218992492079,1.8202934920197806,1.9186877348316602,2.017081977643541,2.1154762204554203,2.2138704632673,2.3122647060791803,2.41065894889106,2.509053191702941,2.60744743451482,2.7058416773266996,2.8042359201385803,2.90263016295046,3.0010244057623403,3.09941864857422,3.197812891386101,3.29620713419798,3.3946013770098595,3.4929956198217402,3.59138986263362,3.6897841054455007,3.78817834825738,3.886572591069261,3.98496683388114,4.08336107669302,4.181755319504901,4.28014956231678,4.37854380512866,4.47693804794054,4.57533229075242,4.673726533564301,4.7721207763761795,4.870515019188059],\"type\":\"scatter\"}],                        {\"template\":{\"data\":{\"barpolar\":[{\"marker\":{\"line\":{\"color\":\"white\",\"width\":0.5},\"pattern\":{\"fillmode\":\"overlay\",\"size\":10,\"solidity\":0.2}},\"type\":\"barpolar\"}],\"bar\":[{\"error_x\":{\"color\":\"rgb(36,36,36)\"},\"error_y\":{\"color\":\"rgb(36,36,36)\"},\"marker\":{\"line\":{\"color\":\"white\",\"width\":0.5},\"pattern\":{\"fillmode\":\"overlay\",\"size\":10,\"solidity\":0.2}},\"type\":\"bar\"}],\"carpet\":[{\"aaxis\":{\"endlinecolor\":\"rgb(36,36,36)\",\"gridcolor\":\"white\",\"linecolor\":\"white\",\"minorgridcolor\":\"white\",\"startlinecolor\":\"rgb(36,36,36)\"},\"baxis\":{\"endlinecolor\":\"rgb(36,36,36)\",\"gridcolor\":\"white\",\"linecolor\":\"white\",\"minorgridcolor\":\"white\",\"startlinecolor\":\"rgb(36,36,36)\"},\"type\":\"carpet\"}],\"choropleth\":[{\"colorbar\":{\"outlinewidth\":1,\"tickcolor\":\"rgb(36,36,36)\",\"ticks\":\"outside\"},\"type\":\"choropleth\"}],\"contourcarpet\":[{\"colorbar\":{\"outlinewidth\":1,\"tickcolor\":\"rgb(36,36,36)\",\"ticks\":\"outside\"},\"type\":\"contourcarpet\"}],\"contour\":[{\"colorbar\":{\"outlinewidth\":1,\"tickcolor\":\"rgb(36,36,36)\",\"ticks\":\"outside\"},\"colorscale\":[[0.0,\"#440154\"],[0.1111111111111111,\"#482878\"],[0.2222222222222222,\"#3e4989\"],[0.3333333333333333,\"#31688e\"],[0.4444444444444444,\"#26828e\"],[0.5555555555555556,\"#1f9e89\"],[0.6666666666666666,\"#35b779\"],[0.7777777777777778,\"#6ece58\"],[0.8888888888888888,\"#b5de2b\"],[1.0,\"#fde725\"]],\"type\":\"contour\"}],\"heatmapgl\":[{\"colorbar\":{\"outlinewidth\":1,\"tickcolor\":\"rgb(36,36,36)\",\"ticks\":\"outside\"},\"colorscale\":[[0.0,\"#440154\"],[0.1111111111111111,\"#482878\"],[0.2222222222222222,\"#3e4989\"],[0.3333333333333333,\"#31688e\"],[0.4444444444444444,\"#26828e\"],[0.5555555555555556,\"#1f9e89\"],[0.6666666666666666,\"#35b779\"],[0.7777777777777778,\"#6ece58\"],[0.8888888888888888,\"#b5de2b\"],[1.0,\"#fde725\"]],\"type\":\"heatmapgl\"}],\"heatmap\":[{\"colorbar\":{\"outlinewidth\":1,\"tickcolor\":\"rgb(36,36,36)\",\"ticks\":\"outside\"},\"colorscale\":[[0.0,\"#440154\"],[0.1111111111111111,\"#482878\"],[0.2222222222222222,\"#3e4989\"],[0.3333333333333333,\"#31688e\"],[0.4444444444444444,\"#26828e\"],[0.5555555555555556,\"#1f9e89\"],[0.6666666666666666,\"#35b779\"],[0.7777777777777778,\"#6ece58\"],[0.8888888888888888,\"#b5de2b\"],[1.0,\"#fde725\"]],\"type\":\"heatmap\"}],\"histogram2dcontour\":[{\"colorbar\":{\"outlinewidth\":1,\"tickcolor\":\"rgb(36,36,36)\",\"ticks\":\"outside\"},\"colorscale\":[[0.0,\"#440154\"],[0.1111111111111111,\"#482878\"],[0.2222222222222222,\"#3e4989\"],[0.3333333333333333,\"#31688e\"],[0.4444444444444444,\"#26828e\"],[0.5555555555555556,\"#1f9e89\"],[0.6666666666666666,\"#35b779\"],[0.7777777777777778,\"#6ece58\"],[0.8888888888888888,\"#b5de2b\"],[1.0,\"#fde725\"]],\"type\":\"histogram2dcontour\"}],\"histogram2d\":[{\"colorbar\":{\"outlinewidth\":1,\"tickcolor\":\"rgb(36,36,36)\",\"ticks\":\"outside\"},\"colorscale\":[[0.0,\"#440154\"],[0.1111111111111111,\"#482878\"],[0.2222222222222222,\"#3e4989\"],[0.3333333333333333,\"#31688e\"],[0.4444444444444444,\"#26828e\"],[0.5555555555555556,\"#1f9e89\"],[0.6666666666666666,\"#35b779\"],[0.7777777777777778,\"#6ece58\"],[0.8888888888888888,\"#b5de2b\"],[1.0,\"#fde725\"]],\"type\":\"histogram2d\"}],\"histogram\":[{\"marker\":{\"line\":{\"color\":\"white\",\"width\":0.6}},\"type\":\"histogram\"}],\"mesh3d\":[{\"colorbar\":{\"outlinewidth\":1,\"tickcolor\":\"rgb(36,36,36)\",\"ticks\":\"outside\"},\"type\":\"mesh3d\"}],\"parcoords\":[{\"line\":{\"colorbar\":{\"outlinewidth\":1,\"tickcolor\":\"rgb(36,36,36)\",\"ticks\":\"outside\"}},\"type\":\"parcoords\"}],\"pie\":[{\"automargin\":true,\"type\":\"pie\"}],\"scatter3d\":[{\"line\":{\"colorbar\":{\"outlinewidth\":1,\"tickcolor\":\"rgb(36,36,36)\",\"ticks\":\"outside\"}},\"marker\":{\"colorbar\":{\"outlinewidth\":1,\"tickcolor\":\"rgb(36,36,36)\",\"ticks\":\"outside\"}},\"type\":\"scatter3d\"}],\"scattercarpet\":[{\"marker\":{\"colorbar\":{\"outlinewidth\":1,\"tickcolor\":\"rgb(36,36,36)\",\"ticks\":\"outside\"}},\"type\":\"scattercarpet\"}],\"scattergeo\":[{\"marker\":{\"colorbar\":{\"outlinewidth\":1,\"tickcolor\":\"rgb(36,36,36)\",\"ticks\":\"outside\"}},\"type\":\"scattergeo\"}],\"scattergl\":[{\"marker\":{\"colorbar\":{\"outlinewidth\":1,\"tickcolor\":\"rgb(36,36,36)\",\"ticks\":\"outside\"}},\"type\":\"scattergl\"}],\"scattermapbox\":[{\"marker\":{\"colorbar\":{\"outlinewidth\":1,\"tickcolor\":\"rgb(36,36,36)\",\"ticks\":\"outside\"}},\"type\":\"scattermapbox\"}],\"scatterpolargl\":[{\"marker\":{\"colorbar\":{\"outlinewidth\":1,\"tickcolor\":\"rgb(36,36,36)\",\"ticks\":\"outside\"}},\"type\":\"scatterpolargl\"}],\"scatterpolar\":[{\"marker\":{\"colorbar\":{\"outlinewidth\":1,\"tickcolor\":\"rgb(36,36,36)\",\"ticks\":\"outside\"}},\"type\":\"scatterpolar\"}],\"scatter\":[{\"fillpattern\":{\"fillmode\":\"overlay\",\"size\":10,\"solidity\":0.2},\"type\":\"scatter\"}],\"scatterternary\":[{\"marker\":{\"colorbar\":{\"outlinewidth\":1,\"tickcolor\":\"rgb(36,36,36)\",\"ticks\":\"outside\"}},\"type\":\"scatterternary\"}],\"surface\":[{\"colorbar\":{\"outlinewidth\":1,\"tickcolor\":\"rgb(36,36,36)\",\"ticks\":\"outside\"},\"colorscale\":[[0.0,\"#440154\"],[0.1111111111111111,\"#482878\"],[0.2222222222222222,\"#3e4989\"],[0.3333333333333333,\"#31688e\"],[0.4444444444444444,\"#26828e\"],[0.5555555555555556,\"#1f9e89\"],[0.6666666666666666,\"#35b779\"],[0.7777777777777778,\"#6ece58\"],[0.8888888888888888,\"#b5de2b\"],[1.0,\"#fde725\"]],\"type\":\"surface\"}],\"table\":[{\"cells\":{\"fill\":{\"color\":\"rgb(237,237,237)\"},\"line\":{\"color\":\"white\"}},\"header\":{\"fill\":{\"color\":\"rgb(217,217,217)\"},\"line\":{\"color\":\"white\"}},\"type\":\"table\"}]},\"layout\":{\"annotationdefaults\":{\"arrowhead\":0,\"arrowwidth\":1},\"autotypenumbers\":\"strict\",\"coloraxis\":{\"colorbar\":{\"outlinewidth\":1,\"tickcolor\":\"rgb(36,36,36)\",\"ticks\":\"outside\"}},\"colorscale\":{\"diverging\":[[0.0,\"rgb(103,0,31)\"],[0.1,\"rgb(178,24,43)\"],[0.2,\"rgb(214,96,77)\"],[0.3,\"rgb(244,165,130)\"],[0.4,\"rgb(253,219,199)\"],[0.5,\"rgb(247,247,247)\"],[0.6,\"rgb(209,229,240)\"],[0.7,\"rgb(146,197,222)\"],[0.8,\"rgb(67,147,195)\"],[0.9,\"rgb(33,102,172)\"],[1.0,\"rgb(5,48,97)\"]],\"sequential\":[[0.0,\"#440154\"],[0.1111111111111111,\"#482878\"],[0.2222222222222222,\"#3e4989\"],[0.3333333333333333,\"#31688e\"],[0.4444444444444444,\"#26828e\"],[0.5555555555555556,\"#1f9e89\"],[0.6666666666666666,\"#35b779\"],[0.7777777777777778,\"#6ece58\"],[0.8888888888888888,\"#b5de2b\"],[1.0,\"#fde725\"]],\"sequentialminus\":[[0.0,\"#440154\"],[0.1111111111111111,\"#482878\"],[0.2222222222222222,\"#3e4989\"],[0.3333333333333333,\"#31688e\"],[0.4444444444444444,\"#26828e\"],[0.5555555555555556,\"#1f9e89\"],[0.6666666666666666,\"#35b779\"],[0.7777777777777778,\"#6ece58\"],[0.8888888888888888,\"#b5de2b\"],[1.0,\"#fde725\"]]},\"colorway\":[\"#1F77B4\",\"#FF7F0E\",\"#2CA02C\",\"#D62728\",\"#9467BD\",\"#8C564B\",\"#E377C2\",\"#7F7F7F\",\"#BCBD22\",\"#17BECF\"],\"font\":{\"color\":\"rgb(36,36,36)\"},\"geo\":{\"bgcolor\":\"white\",\"lakecolor\":\"white\",\"landcolor\":\"white\",\"showlakes\":true,\"showland\":true,\"subunitcolor\":\"white\"},\"hoverlabel\":{\"align\":\"left\"},\"hovermode\":\"closest\",\"mapbox\":{\"style\":\"light\"},\"paper_bgcolor\":\"white\",\"plot_bgcolor\":\"white\",\"polar\":{\"angularaxis\":{\"gridcolor\":\"rgb(232,232,232)\",\"linecolor\":\"rgb(36,36,36)\",\"showgrid\":false,\"showline\":true,\"ticks\":\"outside\"},\"bgcolor\":\"white\",\"radialaxis\":{\"gridcolor\":\"rgb(232,232,232)\",\"linecolor\":\"rgb(36,36,36)\",\"showgrid\":false,\"showline\":true,\"ticks\":\"outside\"}},\"scene\":{\"xaxis\":{\"backgroundcolor\":\"white\",\"gridcolor\":\"rgb(232,232,232)\",\"gridwidth\":2,\"linecolor\":\"rgb(36,36,36)\",\"showbackground\":true,\"showgrid\":false,\"showline\":true,\"ticks\":\"outside\",\"zeroline\":false,\"zerolinecolor\":\"rgb(36,36,36)\"},\"yaxis\":{\"backgroundcolor\":\"white\",\"gridcolor\":\"rgb(232,232,232)\",\"gridwidth\":2,\"linecolor\":\"rgb(36,36,36)\",\"showbackground\":true,\"showgrid\":false,\"showline\":true,\"ticks\":\"outside\",\"zeroline\":false,\"zerolinecolor\":\"rgb(36,36,36)\"},\"zaxis\":{\"backgroundcolor\":\"white\",\"gridcolor\":\"rgb(232,232,232)\",\"gridwidth\":2,\"linecolor\":\"rgb(36,36,36)\",\"showbackground\":true,\"showgrid\":false,\"showline\":true,\"ticks\":\"outside\",\"zeroline\":false,\"zerolinecolor\":\"rgb(36,36,36)\"}},\"shapedefaults\":{\"fillcolor\":\"black\",\"line\":{\"width\":0},\"opacity\":0.3},\"ternary\":{\"aaxis\":{\"gridcolor\":\"rgb(232,232,232)\",\"linecolor\":\"rgb(36,36,36)\",\"showgrid\":false,\"showline\":true,\"ticks\":\"outside\"},\"baxis\":{\"gridcolor\":\"rgb(232,232,232)\",\"linecolor\":\"rgb(36,36,36)\",\"showgrid\":false,\"showline\":true,\"ticks\":\"outside\"},\"bgcolor\":\"white\",\"caxis\":{\"gridcolor\":\"rgb(232,232,232)\",\"linecolor\":\"rgb(36,36,36)\",\"showgrid\":false,\"showline\":true,\"ticks\":\"outside\"}},\"title\":{\"x\":0.05},\"xaxis\":{\"automargin\":true,\"gridcolor\":\"rgb(232,232,232)\",\"linecolor\":\"rgb(36,36,36)\",\"showgrid\":false,\"showline\":true,\"ticks\":\"outside\",\"title\":{\"standoff\":15},\"zeroline\":false,\"zerolinecolor\":\"rgb(36,36,36)\"},\"yaxis\":{\"automargin\":true,\"gridcolor\":\"rgb(232,232,232)\",\"linecolor\":\"rgb(36,36,36)\",\"showgrid\":false,\"showline\":true,\"ticks\":\"outside\",\"title\":{\"standoff\":15},\"zeroline\":false,\"zerolinecolor\":\"rgb(36,36,36)\"}}},\"xaxis\":{\"title\":{\"text\":\"# of assignments turned in\"},\"scaleanchor\":\"y\",\"scaleratio\":1},\"yaxis\":{\"title\":{\"text\":\"average grade\"},\"scaleanchor\":\"x\",\"scaleratio\":1},\"width\":500,\"height\":400,\"annotations\":[{\"arrowcolor\":\"#A02B93\",\"arrowhead\":4,\"arrowsize\":2,\"arrowwidth\":1,\"ax\":-2.435257509594034,\"axref\":\"x\",\"ay\":-2.0555973138035215,\"ayref\":\"y\",\"showarrow\":true,\"x\":-3.004165549450351,\"xref\":\"x\",\"y\":0.62360761403613,\"yref\":\"y\"}]},                        {\"responsive\": true}                    ).then(function(){\n",
       "                            \n",
       "var gd = document.getElementById('d7e6e070-8607-4a77-be56-e33e7c40988f');\n",
       "var x = new MutationObserver(function (mutations, observer) {{\n",
       "        var display = window.getComputedStyle(gd).display;\n",
       "        if (!display || display === 'none') {{\n",
       "            console.log([gd, 'removed!']);\n",
       "            Plotly.purge(gd);\n",
       "            observer.disconnect();\n",
       "        }}\n",
       "}});\n",
       "\n",
       "// Listen for the removal of the full notebook cells\n",
       "var notebookContainer = gd.closest('#notebook-container');\n",
       "if (notebookContainer) {{\n",
       "    x.observe(notebookContainer, {childList: true});\n",
       "}}\n",
       "\n",
       "// Listen for the clearing of the current output cell\n",
       "var outputEl = gd.closest('.output');\n",
       "if (outputEl) {{\n",
       "    x.observe(outputEl, {childList: true});\n",
       "}}\n",
       "\n",
       "                        })                };                            </script>        </div>\n",
       "</body>\n",
       "</html>"
      ]
     },
     "metadata": {},
     "output_type": "display_data"
    }
   ],
   "source": [
    "mean_mass_probe = mean_high - mean_low\n",
    "\n",
    "mean_mass_probe_orthogonal = np.array([-mean_mass_probe[1], mean_mass_probe[0]])\n",
    "\n",
    "# add trendline\n",
    "t = np.linspace(-1, 1, 100)\n",
    "probe_x = t * mean_mass_probe_orthogonal[0]\n",
    "probe_y = t * mean_mass_probe_orthogonal[1]\n",
    "\n",
    "fig.add_trace(\n",
    "    go.Scatter(\n",
    "        x=probe_x,\n",
    "        y=probe_y,\n",
    "        mode='lines',\n",
    "        line=dict(color=COLORS.GREEN, width=2, dash='dash'),\n",
    "        name='MM probe'\n",
    "    )\n",
    ")\n",
    "\n",
    "fig"
   ]
  },
  {
   "cell_type": "code",
   "execution_count": null,
   "metadata": {
    "colab": {
     "base_uri": "https://localhost:8080/",
     "height": 417
    },
    "id": "RO_KvgANDkHe",
    "outputId": "f5211cd0-6a52-4964-a24d-d445d162e785"
   },
   "outputs": [
    {
     "data": {
      "text/html": [
       "<html>\n",
       "<head><meta charset=\"utf-8\" /></head>\n",
       "<body>\n",
       "    <div>            <script src=\"https://cdnjs.cloudflare.com/ajax/libs/mathjax/2.7.5/MathJax.js?config=TeX-AMS-MML_SVG\"></script><script type=\"text/javascript\">if (window.MathJax && window.MathJax.Hub && window.MathJax.Hub.Config) {window.MathJax.Hub.Config({SVG: {font: \"STIX-Web\"}});}</script>                <script type=\"text/javascript\">window.PlotlyConfig = {MathJaxConfig: 'local'};</script>\n",
       "        <script charset=\"utf-8\" src=\"https://cdn.plot.ly/plotly-2.35.2.min.js\"></script>                <div id=\"a6386541-b682-461a-9dc1-640a6e1d27de\" class=\"plotly-graph-div\" style=\"height:400px; width:500px;\"></div>            <script type=\"text/javascript\">                                    window.PLOTLYENV=window.PLOTLYENV || {};                                    if (document.getElementById(\"a6386541-b682-461a-9dc1-640a6e1d27de\")) {                    Plotly.newPlot(                        \"a6386541-b682-461a-9dc1-640a6e1d27de\",                        [{\"marker\":{\"color\":\"rgba(70, 177, 225, 0.5)\",\"size\":10,\"symbol\":\"circle\"},\"mode\":\"markers\",\"name\":\"failed final\",\"x\":[-1.324129517162433,-3.4020705968353964,-1.739112919801535,-5.2368281551133915,-0.8198469127358345,-4.938002426218874,-2.1662752732063044,-2.3919138201255397,-3.6280713952757075,2.993770897135655,-3.2515852687758144,-1.3250814254800316,-0.2027830014289842,-4.362807855810381,0.24073745474397246,-2.3953736316473764,-0.352976155285484,-3.8204684779149582,-4.028658387118494,0.002129595492641023,-1.2721338670421352,-1.9255808949631747,-1.0221340098293856,-1.226305216645204,-4.253352437234434,-6.1595042767586765,-5.202665732555625,-5.39407366575628,-6.168866914900917,-3.340879418142472,-3.1266317913102464,-2.2460805285361385,-1.7885473066960431,-2.8673498584407016,-2.6325313544097897,-2.0436502795573004,-3.970470921208813,-3.460445331536479,-2.111754590791528,-3.3958056710652613,-3.2048899247001135,-2.366056181442598,0.22899239576478791,-1.601906495415351,-2.7831754639344606,-3.228986914257728,-2.382359907265953,1.859768016067025,-7.84085375262356,-1.2122594059401859,-1.7570212229536226,-0.6138025022562852,-4.242286899487684,1.6303156207755238,-0.3738070446032866,-2.268051005359405,-1.8878861573123489,-3.4647784692293233,-2.0845629260987293,-2.4335113600325142,-0.47706831090694024,-1.5317444079996543,-2.3257125789284006,-0.9554530285905196,-1.1745953407628242,-1.774608984309908,-4.92767787692107,-0.32292389785658404,-4.27476978086262,-3.992714988001323,-2.3649863935001783,-1.2538641292037047,0.3584059608525809,-5.213357409729115,0.4727171728980073,0.7701292195534393,-3.0060148990384397,-2.5379561001260935,-3.204774128352668,-3.261442420379977,-4.58640461181945,-5.2168792704813,-2.5342932245378362,-1.7115133600072907,1.1163732732903933,-3.9773067948700245,-5.940548197867221,-1.9116965432016553,-3.0149359972169165,-1.5343026006916007,-2.8916875333798453,-4.442106341941019,-3.4154856602460573,-0.7307692033990456,-1.6852001406769972,-3.92002171141843,-0.6059613942788014,-4.778951010877936,-3.141170288886949,-1.8192470844787776],\"y\":[-1.5084909726111597,-2.885229472594647,-1.631001581692166,-3.8674186057986164,-1.0157654879649325,-3.8393068555221905,-2.4426419012909513,-1.9857959480687004,-2.2790233921274066,0.25930724605371047,-2.153523888640221,-1.2047246772944433,-0.8630998399945362,-3.2452532144986215,-1.5335322455566782,-2.666550356413116,-1.418072174073636,-2.7587687249631827,-3.0710651676784257,-1.196879180392946,-1.6096918979921249,-2.459001050787302,-1.395715947317223,-1.8988375360361234,-2.7444015396622152,-4.033279343994228,-3.829555292496064,-3.8568259575951718,-4.566504945659663,-2.619626073075093,-2.865231779425944,-2.1563430932234464,-1.5509450672538403,-2.3309572140382855,-2.1722943568002613,-1.2287943337206801,-2.776586206740804,-2.395535013811024,-2.1318656088884955,-3.055371239330766,-2.533763872147258,-2.530751179752416,-1.7889614482693847,-1.6214454358410588,-2.2908528444155003,-2.9350209041315782,-1.8030283977456785,-0.09445542501861048,-5.0620970321170455,-1.893927080500207,-1.5309987131544265,-1.4390440850980415,-3.2727196744402267,-0.3260231811852883,-1.42301495964338,-2.640644100642529,-2.1649749741049407,-2.997367694085753,-1.832649093875018,-2.610773611343885,-1.0324505675192714,-1.921450008215868,-2.4070647332231196,-1.529599426123223,-1.5762300635581905,-1.8556060549730606,-3.2897335766438864,-1.0970318819767133,-3.602962219616967,-3.2030350879500755,-1.693793490930915,-1.6618147439415898,-1.5240545586121925,-3.5551845430085978,-0.25233502132285146,-0.2629487648150448,-2.4850890976993627,-2.202296834430358,-2.407397655509487,-2.6768825523533817,-3.438531626232626,-3.1174859700844433,-2.3861972765646113,-1.551631721725455,-0.9137518866562893,-3.223833404975821,-4.315891363331693,-1.8313677039603302,-2.696114700680152,-1.961091839488776,-2.7220444303148037,-3.1767871254237567,-2.413772221647964,-1.5439941531598738,-1.6591533699206398,-2.9642748220717454,-1.48813159585589,-3.2841754033728003,-2.168020752137963,-2.6898054838385015],\"type\":\"scatter\"},{\"marker\":{\"color\":\"rgba(242, 170, 132, 0.5)\",\"size\":10,\"symbol\":\"square\"},\"mode\":\"markers\",\"name\":\"passed final\",\"x\":[0.3663443210899322,0.6744960970462222,2.8531781629248476,2.6804177538958625,2.3730511024749026,1.8072387769761127,0.8396864948523932,1.4163875927116658,8.29953115762547,1.697549788273217,5.535117629307096,1.767291029510516,5.283031231445714,5.042176759063158,3.636096606417536,1.6699583142585004,0.3448231261601764,4.5628394124216625,0.51328975850672,0.5302662053924552,5.565611158123546,5.4558843623984865,2.892276719914995,2.381341027350035,1.6287603535141555,3.456899954425105,1.953239408088689,0.10093891834520896,1.4501411090986425,3.27306176334693,-0.03715950744689156,1.0613493259592728,3.045466917917314,5.865221754960095,3.1444457435489257,2.882106823134497,6.304284002009429,0.9127255055790835,1.5057636081199197,4.341430493818934,4.762627963621312,3.648338954602969,-1.8905919943636365,4.154779402364565,4.025997890128768,2.9080207311089685,4.023435659858433,5.358803256948495,2.916564521563868,1.1397412365898143,-0.4859007675345577,2.939297697422192,1.5393534107508424,1.8131035925266117,0.7860520550727967,3.3182197915652916,4.14913778551064,3.6062697345367996,0.8084219979583356,4.42486628438319,3.390608487752808,-1.6539120491319448,3.8971314850527383,-0.8400556791667695,0.775589011269056,4.728252101669532,3.999479358763021,1.6644556535291253,1.2342642224266553,3.446742257988004,-0.4097934417336253,3.5637733005901664,2.299213778231617,4.145961753655331,2.598603788986998,0.8651646392377605,3.188511650522199,2.1947940645644914,0.2661975688483613,0.730036981317423,1.0124786686781588,2.9145351538399327,4.202270229636732,2.773169206581195,0.6543339059973787,2.13771527029522,3.8448145346669564,4.763702128131803,1.1318502839109241,3.3349888054201946,2.1219191211023043,-1.0529280070927145,0.49406523882872033,1.8052987358859847,1.8926194084055714,2.1119150324157028,1.737844545113382,3.485803190175507,1.0982747201805028,-0.0470381143201557],\"y\":[1.393063450662071,1.8683264502831296,2.375911035896644,2.5705565715812533,2.480923651947025,2.060218248685585,1.495911515897582,2.100846637877444,5.486045632205563,1.9059385755525913,3.9677709986671292,1.613489877214887,3.5951509891345967,3.5619649476515125,2.8062097474814873,1.6363894606522127,1.5533179878043644,3.3879247151362737,1.4792633063533902,0.876404650182474,3.630713479251975,3.5214073358080356,2.3924003658571085,2.696700684367798,2.5756942724490095,2.790055424967436,2.0908803720690763,0.9937851792248047,1.5654756038457354,2.904957432278687,0.861006043308068,1.2207599413354568,2.715764856623034,3.8869730940243574,2.6729576971903573,2.5386903708639856,4.4477557391976585,1.6487243319035318,2.0341774720660784,3.1472272466618954,3.359382063186567,2.948615696267284,0.13860420610337698,3.2362688571226332,3.13392835730985,3.113362559987298,2.965249953535894,3.835131252494742,2.510088673224624,1.9823465636965523,0.539726379460765,2.109794595497851,2.139782213182384,2.1417338145156446,1.459063917082327,2.4408758922712472,3.463131482267203,2.9410272100548536,1.2341296138956714,3.0741299485494036,2.5068499815651446,0.5984481982534025,2.899700756818474,0.27644970632409205,1.2152138297478619,3.701826110150874,3.186923955633036,1.6228280184042863,1.270182685450818,2.5508895095092736,0.8803724816378047,2.660323096635855,1.980008863312145,3.080568638159166,2.127775755543418,1.1027831918034998,2.172576728854949,1.8167246725185535,0.9177401220665597,1.4417928878292763,1.5311111337075598,2.207411016693051,3.4308905993162764,2.023642734666465,1.6164734016530833,1.719834506485098,2.823497280952788,3.631395313031174,1.826747225557673,2.4121899014664407,2.0838215951594243,0.13706652759009508,1.1864567918042983,2.0304404615247638,1.78193976117044,2.5015900907183823,2.0190170283794213,2.9490205755063457,1.3808413169593923,0.9382562839234225],\"type\":\"scatter\"},{\"marker\":{\"color\":\"rgba(21, 96, 130, 0.7)\",\"size\":12,\"symbol\":\"circle\"},\"mode\":\"markers\",\"showlegend\":false,\"x\":[-2.435257509594034],\"y\":[-2.2555973138035217],\"type\":\"scatter\"},{\"marker\":{\"color\":\"rgba(233, 113, 50, 0.7)\",\"size\":12,\"symbol\":\"square\"},\"mode\":\"markers\",\"showlegend\":false,\"x\":[2.435257509594025],\"y\":[2.2555973138035146],\"type\":\"scatter\"},{\"line\":{\"color\":\"#A02B93\",\"dash\":\"dash\",\"width\":2},\"mode\":\"lines\",\"name\":\"LR probe\",\"x\":[-6.158409855679303,-6.033997535362549,-5.909585215045796,-5.785172894729043,-5.660760574412289,-5.536348254095535,-5.411935933778782,-5.287523613462028,-5.163111293145274,-5.03869897282852,-4.914286652511767,-4.789874332195014,-4.66546201187826,-4.541049691561506,-4.416637371244753,-4.292225050928,-4.167812730611245,-4.043400410294492,-3.9189880899777383,-3.7945757696609848,-3.6701634493442308,-3.5457511290274772,-3.421338808710724,-3.2969264883939697,-3.1725141680772166,-3.048101847760463,-2.923689527443709,-2.7992772071269556,-2.674864886810202,-2.550452566493449,-2.426040246176695,-2.3016279258599415,-2.1772156055431875,-2.052803285226434,-1.9283909649096802,-1.8039786445929265,-1.6795663242761736,-1.5551540039594198,-1.430741683642666,-1.3063293633259123,-1.1819170430091586,-1.0575047226924048,-0.9330924023756518,-0.8086800820588982,-0.6842677617421444,-0.5598554414253907,-0.435443121108637,-0.3110308007918833,-0.18661848047513024,-0.06220616015837652,0.062206160158377204,0.1866184804751316,0.3110308007918846,0.43544312110863764,0.5598554414253921,0.6842677617421451,0.8086800820588995,0.9330924023756525,1.0575047226924055,1.18191704300916,1.306329363325913,1.4307416836426674,1.5551540039594205,1.679566324276175,1.8039786445929278,1.9283909649096809,2.0528032852264353,2.1772156055431884,2.301627925859943,2.426040246176696,2.5504525664934503,2.6748648868102034,2.799277207126956,2.9236895274437105,3.0481018477604636,3.172514168077218,3.296926488393971,3.421338808710724,3.5457511290274786,3.6701634493442317,3.794575769660986,3.918988089977739,4.043400410294494,4.167812730611247,4.292225050928,4.416637371244754,4.541049691561507,4.665462011878262,4.789874332195015,4.914286652511769,5.038698972828522,5.163111293145275,5.287523613462029,5.411935933778782,5.536348254095537,5.66076057441229,5.785172894729043,5.909585215045797,6.03399753536255,6.158409855679303],\"y\":[-1.1378160797126338,-1.1148298962840957,-1.0918437128555576,-1.0688575294270197,-1.0458713459984816,-1.0228851625699436,-0.9998989791414055,-0.9769127957128674,-0.9539266122843293,-0.9309404288557912,-0.9079542454272532,-0.8849680619987151,-0.861981878570177,-0.838995695141639,-0.8160095117131009,-0.793023328284563,-0.7700371448560248,-0.7470509614274868,-0.7240647779989487,-0.7010785945704107,-0.6780924111418726,-0.6551062277133345,-0.6321200442847965,-0.6091338608562583,-0.5861476774277204,-0.5631614939991824,-0.5401753105706443,-0.5171891271421062,-0.4942029437135681,-0.4712167602850301,-0.4482305768564921,-0.425244393427954,-0.4022582099994159,-0.37927202657087783,-0.35628584314233974,-0.33329965971380165,-0.31031347628526373,-0.28732729285672565,-0.26434110942818756,-0.2413549259996495,-0.2183687425711114,-0.19538255914257335,-0.1723963757140354,-0.14941019228549732,-0.12642400885695923,-0.10343782542842116,-0.08045164199988308,-0.057465458571345,-0.034479275142807055,-0.011493091714268976,0.011493091714269103,0.034479275142807304,0.05746545857134526,0.08045164199988321,0.1034378254284214,0.12642400885695937,0.14941019228549757,0.17239637571403552,0.19538255914257346,0.21836874257111166,0.24135492599964964,0.26434110942818784,0.28732729285672576,0.310313476285264,0.33329965971380193,0.3562858431423399,0.3792720265708781,0.402258209999416,0.4252443934279542,0.4482305768564922,0.4712167602850304,0.4942029437135684,0.5171891271421063,0.5401753105706445,0.5631614939991825,0.5861476774277207,0.6091338608562586,0.6321200442847965,0.6551062277133348,0.6780924111418727,0.7010785945704109,0.7240647779989489,0.7470509614274871,0.770037144856025,0.793023328284563,0.8160095117131012,0.8389956951416392,0.8619818785701774,0.8849680619987152,0.9079542454272534,0.9309404288557914,0.9539266122843294,0.9769127957128676,0.9998989791414056,1.0228851625699438,1.0458713459984816,1.0688575294270197,1.0918437128555578,1.114829896284096,1.1378160797126338],\"type\":\"scatter\"},{\"line\":{\"color\":\"#4EA72E\",\"dash\":\"dash\",\"width\":2},\"mode\":\"lines\",\"name\":\"MM probe\",\"x\":[4.511194627607036,4.420059382604874,4.328924137602711,4.237788892600549,4.146653647598387,4.055518402596225,3.964383157594062,3.8732479125919,3.7821126675897374,3.690977422587575,3.599842177585413,3.5087069325832503,3.417571687581088,3.3264364425789257,3.235301197576763,3.144165952574601,3.053030707572438,2.9618954625702765,2.870760217568114,2.7796249725659514,2.688489727563789,2.597354482561627,2.5062192375594647,2.4150839925573018,2.3239487475551397,2.2328135025529776,2.141678257550815,2.0505430125486526,1.95940776754649,1.8682725225443282,1.7771372775421657,1.6860020325400034,1.5948667875378408,1.5037315425356783,1.412596297533516,1.3214610525313535,1.2303258075291916,1.139190562527029,1.0480553175248668,0.9569200725227043,0.8657848275205419,0.7746495825183795,0.6835143375162175,0.5923790925140551,0.5012438475118927,0.4101086025097302,0.3189733575075678,0.22783811250540534,0.1367028675032434,0.04556762250108097,-0.04556762250108147,-0.1367028675032444,-0.22783811250540634,-0.3189733575075683,-0.4101086025097312,-0.5012438475118931,-0.5923790925140561,-0.683514337516218,-0.7746495825183799,-0.8657848275205429,-0.9569200725227048,-1.0480553175248677,-1.1391905625270298,-1.2303258075291925,-1.3214610525313546,-1.4125962975335165,-1.5037315425356794,-1.5948667875378413,-1.6860020325400042,-1.7771372775421663,-1.868272522544329,-1.9594077675464912,-2.050543012548653,-2.141678257550816,-2.232813502552978,-2.323948747555141,-2.4150839925573027,-2.5062192375594647,-2.5973544825616277,-2.68848972756379,-2.7796249725659523,-2.8707602175681144,-2.9618954625702774,-3.0530307075724394,-3.144165952574601,-3.235301197576764,-3.326436442578926,-3.417571687581089,-3.508706932583251,-3.599842177585414,-3.6909774225875758,-3.782112667589738,-3.873247912591901,-3.9643831575940625,-4.055518402596226,-4.146653647598388,-4.237788892600549,-4.328924137602712,-4.420059382604874,-4.511194627607036],\"y\":[-4.870515019188059,-4.7721207763761795,-4.673726533564299,-4.57533229075242,-4.476938047940539,-4.378543805128659,-4.28014956231678,-4.181755319504899,-4.083361076693019,-3.9849668338811393,-3.8865725910692595,-3.7881783482573796,-3.6897841054454994,-3.591389862633619,-3.4929956198217393,-3.3946013770098595,-3.2962071341979793,-3.1978128913860995,-3.0994186485742197,-3.0010244057623394,-2.902630162950459,-2.8042359201385794,-2.7058416773266996,-2.6074474345148193,-2.5090531917029395,-2.4106589488910597,-2.3122647060791794,-2.213870463267299,-2.1154762204554194,-2.0170819776435396,-1.9186877348316596,-1.8202934920197795,-1.7218992492078995,-1.6235050063960195,-1.5251107635841392,-1.4267165207722592,-1.3283222779603796,-1.2299280351484996,-1.1315337923366195,-1.0331395495247395,-0.9347453067128594,-0.8363510639009794,-0.7379568210890998,-0.6395625782772197,-0.5411683354653396,-0.4427740926534595,-0.3443798498415795,-0.24598560702969938,-0.14759136421781985,-0.04919712140593977,0.04919712140594031,0.14759136421782093,0.24598560702970046,0.34437984984158,0.4427740926534606,0.5411683354653402,0.6395625782772207,0.7379568210891003,0.8363510639009799,0.9347453067128605,1.03313954952474,1.1315337923366207,1.2299280351485002,1.3283222779603807,1.4267165207722603,1.5251107635841399,1.6235050063960206,1.7218992492079,1.8202934920197806,1.9186877348316602,2.017081977643541,2.1154762204554203,2.2138704632673,2.3122647060791803,2.41065894889106,2.509053191702941,2.60744743451482,2.7058416773266996,2.8042359201385803,2.90263016295046,3.0010244057623403,3.09941864857422,3.197812891386101,3.29620713419798,3.3946013770098595,3.4929956198217402,3.59138986263362,3.6897841054455007,3.78817834825738,3.886572591069261,3.98496683388114,4.08336107669302,4.181755319504901,4.28014956231678,4.37854380512866,4.47693804794054,4.57533229075242,4.673726533564301,4.7721207763761795,4.870515019188059],\"type\":\"scatter\"}],                        {\"template\":{\"data\":{\"barpolar\":[{\"marker\":{\"line\":{\"color\":\"white\",\"width\":0.5},\"pattern\":{\"fillmode\":\"overlay\",\"size\":10,\"solidity\":0.2}},\"type\":\"barpolar\"}],\"bar\":[{\"error_x\":{\"color\":\"rgb(36,36,36)\"},\"error_y\":{\"color\":\"rgb(36,36,36)\"},\"marker\":{\"line\":{\"color\":\"white\",\"width\":0.5},\"pattern\":{\"fillmode\":\"overlay\",\"size\":10,\"solidity\":0.2}},\"type\":\"bar\"}],\"carpet\":[{\"aaxis\":{\"endlinecolor\":\"rgb(36,36,36)\",\"gridcolor\":\"white\",\"linecolor\":\"white\",\"minorgridcolor\":\"white\",\"startlinecolor\":\"rgb(36,36,36)\"},\"baxis\":{\"endlinecolor\":\"rgb(36,36,36)\",\"gridcolor\":\"white\",\"linecolor\":\"white\",\"minorgridcolor\":\"white\",\"startlinecolor\":\"rgb(36,36,36)\"},\"type\":\"carpet\"}],\"choropleth\":[{\"colorbar\":{\"outlinewidth\":1,\"tickcolor\":\"rgb(36,36,36)\",\"ticks\":\"outside\"},\"type\":\"choropleth\"}],\"contourcarpet\":[{\"colorbar\":{\"outlinewidth\":1,\"tickcolor\":\"rgb(36,36,36)\",\"ticks\":\"outside\"},\"type\":\"contourcarpet\"}],\"contour\":[{\"colorbar\":{\"outlinewidth\":1,\"tickcolor\":\"rgb(36,36,36)\",\"ticks\":\"outside\"},\"colorscale\":[[0.0,\"#440154\"],[0.1111111111111111,\"#482878\"],[0.2222222222222222,\"#3e4989\"],[0.3333333333333333,\"#31688e\"],[0.4444444444444444,\"#26828e\"],[0.5555555555555556,\"#1f9e89\"],[0.6666666666666666,\"#35b779\"],[0.7777777777777778,\"#6ece58\"],[0.8888888888888888,\"#b5de2b\"],[1.0,\"#fde725\"]],\"type\":\"contour\"}],\"heatmapgl\":[{\"colorbar\":{\"outlinewidth\":1,\"tickcolor\":\"rgb(36,36,36)\",\"ticks\":\"outside\"},\"colorscale\":[[0.0,\"#440154\"],[0.1111111111111111,\"#482878\"],[0.2222222222222222,\"#3e4989\"],[0.3333333333333333,\"#31688e\"],[0.4444444444444444,\"#26828e\"],[0.5555555555555556,\"#1f9e89\"],[0.6666666666666666,\"#35b779\"],[0.7777777777777778,\"#6ece58\"],[0.8888888888888888,\"#b5de2b\"],[1.0,\"#fde725\"]],\"type\":\"heatmapgl\"}],\"heatmap\":[{\"colorbar\":{\"outlinewidth\":1,\"tickcolor\":\"rgb(36,36,36)\",\"ticks\":\"outside\"},\"colorscale\":[[0.0,\"#440154\"],[0.1111111111111111,\"#482878\"],[0.2222222222222222,\"#3e4989\"],[0.3333333333333333,\"#31688e\"],[0.4444444444444444,\"#26828e\"],[0.5555555555555556,\"#1f9e89\"],[0.6666666666666666,\"#35b779\"],[0.7777777777777778,\"#6ece58\"],[0.8888888888888888,\"#b5de2b\"],[1.0,\"#fde725\"]],\"type\":\"heatmap\"}],\"histogram2dcontour\":[{\"colorbar\":{\"outlinewidth\":1,\"tickcolor\":\"rgb(36,36,36)\",\"ticks\":\"outside\"},\"colorscale\":[[0.0,\"#440154\"],[0.1111111111111111,\"#482878\"],[0.2222222222222222,\"#3e4989\"],[0.3333333333333333,\"#31688e\"],[0.4444444444444444,\"#26828e\"],[0.5555555555555556,\"#1f9e89\"],[0.6666666666666666,\"#35b779\"],[0.7777777777777778,\"#6ece58\"],[0.8888888888888888,\"#b5de2b\"],[1.0,\"#fde725\"]],\"type\":\"histogram2dcontour\"}],\"histogram2d\":[{\"colorbar\":{\"outlinewidth\":1,\"tickcolor\":\"rgb(36,36,36)\",\"ticks\":\"outside\"},\"colorscale\":[[0.0,\"#440154\"],[0.1111111111111111,\"#482878\"],[0.2222222222222222,\"#3e4989\"],[0.3333333333333333,\"#31688e\"],[0.4444444444444444,\"#26828e\"],[0.5555555555555556,\"#1f9e89\"],[0.6666666666666666,\"#35b779\"],[0.7777777777777778,\"#6ece58\"],[0.8888888888888888,\"#b5de2b\"],[1.0,\"#fde725\"]],\"type\":\"histogram2d\"}],\"histogram\":[{\"marker\":{\"line\":{\"color\":\"white\",\"width\":0.6}},\"type\":\"histogram\"}],\"mesh3d\":[{\"colorbar\":{\"outlinewidth\":1,\"tickcolor\":\"rgb(36,36,36)\",\"ticks\":\"outside\"},\"type\":\"mesh3d\"}],\"parcoords\":[{\"line\":{\"colorbar\":{\"outlinewidth\":1,\"tickcolor\":\"rgb(36,36,36)\",\"ticks\":\"outside\"}},\"type\":\"parcoords\"}],\"pie\":[{\"automargin\":true,\"type\":\"pie\"}],\"scatter3d\":[{\"line\":{\"colorbar\":{\"outlinewidth\":1,\"tickcolor\":\"rgb(36,36,36)\",\"ticks\":\"outside\"}},\"marker\":{\"colorbar\":{\"outlinewidth\":1,\"tickcolor\":\"rgb(36,36,36)\",\"ticks\":\"outside\"}},\"type\":\"scatter3d\"}],\"scattercarpet\":[{\"marker\":{\"colorbar\":{\"outlinewidth\":1,\"tickcolor\":\"rgb(36,36,36)\",\"ticks\":\"outside\"}},\"type\":\"scattercarpet\"}],\"scattergeo\":[{\"marker\":{\"colorbar\":{\"outlinewidth\":1,\"tickcolor\":\"rgb(36,36,36)\",\"ticks\":\"outside\"}},\"type\":\"scattergeo\"}],\"scattergl\":[{\"marker\":{\"colorbar\":{\"outlinewidth\":1,\"tickcolor\":\"rgb(36,36,36)\",\"ticks\":\"outside\"}},\"type\":\"scattergl\"}],\"scattermapbox\":[{\"marker\":{\"colorbar\":{\"outlinewidth\":1,\"tickcolor\":\"rgb(36,36,36)\",\"ticks\":\"outside\"}},\"type\":\"scattermapbox\"}],\"scatterpolargl\":[{\"marker\":{\"colorbar\":{\"outlinewidth\":1,\"tickcolor\":\"rgb(36,36,36)\",\"ticks\":\"outside\"}},\"type\":\"scatterpolargl\"}],\"scatterpolar\":[{\"marker\":{\"colorbar\":{\"outlinewidth\":1,\"tickcolor\":\"rgb(36,36,36)\",\"ticks\":\"outside\"}},\"type\":\"scatterpolar\"}],\"scatter\":[{\"fillpattern\":{\"fillmode\":\"overlay\",\"size\":10,\"solidity\":0.2},\"type\":\"scatter\"}],\"scatterternary\":[{\"marker\":{\"colorbar\":{\"outlinewidth\":1,\"tickcolor\":\"rgb(36,36,36)\",\"ticks\":\"outside\"}},\"type\":\"scatterternary\"}],\"surface\":[{\"colorbar\":{\"outlinewidth\":1,\"tickcolor\":\"rgb(36,36,36)\",\"ticks\":\"outside\"},\"colorscale\":[[0.0,\"#440154\"],[0.1111111111111111,\"#482878\"],[0.2222222222222222,\"#3e4989\"],[0.3333333333333333,\"#31688e\"],[0.4444444444444444,\"#26828e\"],[0.5555555555555556,\"#1f9e89\"],[0.6666666666666666,\"#35b779\"],[0.7777777777777778,\"#6ece58\"],[0.8888888888888888,\"#b5de2b\"],[1.0,\"#fde725\"]],\"type\":\"surface\"}],\"table\":[{\"cells\":{\"fill\":{\"color\":\"rgb(237,237,237)\"},\"line\":{\"color\":\"white\"}},\"header\":{\"fill\":{\"color\":\"rgb(217,217,217)\"},\"line\":{\"color\":\"white\"}},\"type\":\"table\"}]},\"layout\":{\"annotationdefaults\":{\"arrowhead\":0,\"arrowwidth\":1},\"autotypenumbers\":\"strict\",\"coloraxis\":{\"colorbar\":{\"outlinewidth\":1,\"tickcolor\":\"rgb(36,36,36)\",\"ticks\":\"outside\"}},\"colorscale\":{\"diverging\":[[0.0,\"rgb(103,0,31)\"],[0.1,\"rgb(178,24,43)\"],[0.2,\"rgb(214,96,77)\"],[0.3,\"rgb(244,165,130)\"],[0.4,\"rgb(253,219,199)\"],[0.5,\"rgb(247,247,247)\"],[0.6,\"rgb(209,229,240)\"],[0.7,\"rgb(146,197,222)\"],[0.8,\"rgb(67,147,195)\"],[0.9,\"rgb(33,102,172)\"],[1.0,\"rgb(5,48,97)\"]],\"sequential\":[[0.0,\"#440154\"],[0.1111111111111111,\"#482878\"],[0.2222222222222222,\"#3e4989\"],[0.3333333333333333,\"#31688e\"],[0.4444444444444444,\"#26828e\"],[0.5555555555555556,\"#1f9e89\"],[0.6666666666666666,\"#35b779\"],[0.7777777777777778,\"#6ece58\"],[0.8888888888888888,\"#b5de2b\"],[1.0,\"#fde725\"]],\"sequentialminus\":[[0.0,\"#440154\"],[0.1111111111111111,\"#482878\"],[0.2222222222222222,\"#3e4989\"],[0.3333333333333333,\"#31688e\"],[0.4444444444444444,\"#26828e\"],[0.5555555555555556,\"#1f9e89\"],[0.6666666666666666,\"#35b779\"],[0.7777777777777778,\"#6ece58\"],[0.8888888888888888,\"#b5de2b\"],[1.0,\"#fde725\"]]},\"colorway\":[\"#1F77B4\",\"#FF7F0E\",\"#2CA02C\",\"#D62728\",\"#9467BD\",\"#8C564B\",\"#E377C2\",\"#7F7F7F\",\"#BCBD22\",\"#17BECF\"],\"font\":{\"color\":\"rgb(36,36,36)\"},\"geo\":{\"bgcolor\":\"white\",\"lakecolor\":\"white\",\"landcolor\":\"white\",\"showlakes\":true,\"showland\":true,\"subunitcolor\":\"white\"},\"hoverlabel\":{\"align\":\"left\"},\"hovermode\":\"closest\",\"mapbox\":{\"style\":\"light\"},\"paper_bgcolor\":\"white\",\"plot_bgcolor\":\"white\",\"polar\":{\"angularaxis\":{\"gridcolor\":\"rgb(232,232,232)\",\"linecolor\":\"rgb(36,36,36)\",\"showgrid\":false,\"showline\":true,\"ticks\":\"outside\"},\"bgcolor\":\"white\",\"radialaxis\":{\"gridcolor\":\"rgb(232,232,232)\",\"linecolor\":\"rgb(36,36,36)\",\"showgrid\":false,\"showline\":true,\"ticks\":\"outside\"}},\"scene\":{\"xaxis\":{\"backgroundcolor\":\"white\",\"gridcolor\":\"rgb(232,232,232)\",\"gridwidth\":2,\"linecolor\":\"rgb(36,36,36)\",\"showbackground\":true,\"showgrid\":false,\"showline\":true,\"ticks\":\"outside\",\"zeroline\":false,\"zerolinecolor\":\"rgb(36,36,36)\"},\"yaxis\":{\"backgroundcolor\":\"white\",\"gridcolor\":\"rgb(232,232,232)\",\"gridwidth\":2,\"linecolor\":\"rgb(36,36,36)\",\"showbackground\":true,\"showgrid\":false,\"showline\":true,\"ticks\":\"outside\",\"zeroline\":false,\"zerolinecolor\":\"rgb(36,36,36)\"},\"zaxis\":{\"backgroundcolor\":\"white\",\"gridcolor\":\"rgb(232,232,232)\",\"gridwidth\":2,\"linecolor\":\"rgb(36,36,36)\",\"showbackground\":true,\"showgrid\":false,\"showline\":true,\"ticks\":\"outside\",\"zeroline\":false,\"zerolinecolor\":\"rgb(36,36,36)\"}},\"shapedefaults\":{\"fillcolor\":\"black\",\"line\":{\"width\":0},\"opacity\":0.3},\"ternary\":{\"aaxis\":{\"gridcolor\":\"rgb(232,232,232)\",\"linecolor\":\"rgb(36,36,36)\",\"showgrid\":false,\"showline\":true,\"ticks\":\"outside\"},\"baxis\":{\"gridcolor\":\"rgb(232,232,232)\",\"linecolor\":\"rgb(36,36,36)\",\"showgrid\":false,\"showline\":true,\"ticks\":\"outside\"},\"bgcolor\":\"white\",\"caxis\":{\"gridcolor\":\"rgb(232,232,232)\",\"linecolor\":\"rgb(36,36,36)\",\"showgrid\":false,\"showline\":true,\"ticks\":\"outside\"}},\"title\":{\"x\":0.05},\"xaxis\":{\"automargin\":true,\"gridcolor\":\"rgb(232,232,232)\",\"linecolor\":\"rgb(36,36,36)\",\"showgrid\":false,\"showline\":true,\"ticks\":\"outside\",\"title\":{\"standoff\":15},\"zeroline\":false,\"zerolinecolor\":\"rgb(36,36,36)\"},\"yaxis\":{\"automargin\":true,\"gridcolor\":\"rgb(232,232,232)\",\"linecolor\":\"rgb(36,36,36)\",\"showgrid\":false,\"showline\":true,\"ticks\":\"outside\",\"title\":{\"standoff\":15},\"zeroline\":false,\"zerolinecolor\":\"rgb(36,36,36)\"}}},\"xaxis\":{\"title\":{\"text\":\"# of assignments turned in\"},\"scaleanchor\":\"y\",\"scaleratio\":1},\"yaxis\":{\"title\":{\"text\":\"average grade\"},\"scaleanchor\":\"x\",\"scaleratio\":1},\"width\":500,\"height\":400,\"annotations\":[{\"arrowcolor\":\"#A02B93\",\"arrowhead\":4,\"arrowsize\":2,\"arrowwidth\":1,\"ax\":-2.435257509594034,\"axref\":\"x\",\"ay\":-2.0555973138035215,\"ayref\":\"y\",\"showarrow\":true,\"x\":-3.004165549450351,\"xref\":\"x\",\"y\":0.62360761403613,\"yref\":\"y\"},{\"arrowcolor\":\"#4EA72E\",\"arrowhead\":4,\"arrowsize\":2,\"arrowwidth\":1,\"ax\":-2.435257509594034,\"axref\":\"x\",\"ay\":-2.0555973138035215,\"ayref\":\"y\",\"showarrow\":true,\"x\":2.435257509594025,\"xref\":\"x\",\"y\":2.0555973138035144,\"yref\":\"y\"}]},                        {\"responsive\": true}                    ).then(function(){\n",
       "                            \n",
       "var gd = document.getElementById('a6386541-b682-461a-9dc1-640a6e1d27de');\n",
       "var x = new MutationObserver(function (mutations, observer) {{\n",
       "        var display = window.getComputedStyle(gd).display;\n",
       "        if (!display || display === 'none') {{\n",
       "            console.log([gd, 'removed!']);\n",
       "            Plotly.purge(gd);\n",
       "            observer.disconnect();\n",
       "        }}\n",
       "}});\n",
       "\n",
       "// Listen for the removal of the full notebook cells\n",
       "var notebookContainer = gd.closest('#notebook-container');\n",
       "if (notebookContainer) {{\n",
       "    x.observe(notebookContainer, {childList: true});\n",
       "}}\n",
       "\n",
       "// Listen for the clearing of the current output cell\n",
       "var outputEl = gd.closest('.output');\n",
       "if (outputEl) {{\n",
       "    x.observe(outputEl, {childList: true});\n",
       "}}\n",
       "\n",
       "                        })                };                            </script>        </div>\n",
       "</body>\n",
       "</html>"
      ]
     },
     "metadata": {},
     "output_type": "display_data"
    }
   ],
   "source": [
    "fig.add_annotation(\n",
    "    ax=mean_low[0],  # x-coordinate of the arrow's head\n",
    "    ay=mean_low[1] + 0.2,  # y-coordinate of the arrow's head\n",
    "    x=mean_high[0], # x-coordinate of the arrow's tail\n",
    "    y=mean_high[1] - 0.2, # y-coordinate of the arrow's tail\n",
    "    xref='x', yref='y', # Reference coordinates to the plot's x and y axes\n",
    "    axref='x', ayref='y',\n",
    "    showarrow=True,\n",
    "    arrowhead=4, # Style of the arrowhead (e.g., 1, 2, 3, 4, 5)\n",
    "    arrowsize=2,\n",
    "    arrowwidth=1,\n",
    "    arrowcolor=COLORS.GREEN,\n",
    ")\n",
    "\n",
    "fig"
   ]
  },
  {
   "cell_type": "markdown",
   "metadata": {
    "id": "p8kOxbCzOt6g"
   },
   "source": [
    "The mean mass probe suggests a better intervention - not only should students' grades go up, but they should also probably turn in more assignments in order to prepare for the final.\n",
    "\n",
    "Even here, causality isn't guaranteed. For example, there might be other underlying causes behind why students couldn't turn in assignments. We are limited by the information in our dataset and the complexity of our intervention.\n",
    "\n",
    "However, unlike with Prof. X who has to wait a whole year to try out ways to improve his students' final grades, we get to test our interventions on our LLMs right away! Let's see what it looks like to construct a \"truth\" steering vector on our LLM and use it to change a model's opinion about the truth of a sentence."
   ]
  },
  {
   "cell_type": "markdown",
   "metadata": {
    "id": "ohuDf3z-vdQT"
   },
   "source": [
    "## 4️⃣ Difference in means steering"
   ]
  },
  {
   "cell_type": "markdown",
   "metadata": {
    "id": "VS-Rt4gL4SZ5"
   },
   "source": [
    "Now that we've explored the effect of different probe methods, let's return to our investigation of how LMs represent truth."
   ]
  },
  {
   "cell_type": "code",
   "execution_count": null,
   "metadata": {
    "colab": {
     "base_uri": "https://localhost:8080/"
    },
    "id": "izjlgMkrvfwD",
    "outputId": "3b716d0d-9ddc-441e-a3f2-9b9d9c131e29"
   },
   "outputs": [
    {
     "data": {
      "text/plain": [
       "torch.Size([3072])"
      ]
     },
     "execution_count": 24,
     "metadata": {},
     "output_type": "execute_result"
    }
   ],
   "source": [
    "true_activations_mean = true_activations.mean(axis=0)\n",
    "false_activations_mean = false_activations.mean(axis=0)\n",
    "\n",
    "difference_in_means = true_activations_mean - false_activations_mean\n",
    "difference_in_means.shape"
   ]
  },
  {
   "cell_type": "markdown",
   "metadata": {
    "id": "kcNNK3Xuxq3o"
   },
   "source": [
    "Steer from false to true"
   ]
  },
  {
   "cell_type": "code",
   "execution_count": null,
   "metadata": {
    "colab": {
     "base_uri": "https://localhost:8080/"
    },
    "id": "vSbsJPlyv9ZG",
    "outputId": "e386a663-9bdf-44e5-a0e1-42fe994d0aeb"
   },
   "outputs": [
    {
     "name": "stdout",
     "output_type": "stream",
     "text": [
      "The city of Chicago is in Canada. This statement is:\n",
      " FALSE\n"
     ]
    }
   ],
   "source": [
    "with torch.no_grad():\n",
    "  with model.trace(base_prompt) as trace:\n",
    "    logits = model.output.logits.save()\n",
    "\n",
    "print(base_prompt.split('\\n')[-1])\n",
    "print(model.tokenizer.decode(logits.argmax(dim=-1)[0, -1]))"
   ]
  },
  {
   "cell_type": "code",
   "execution_count": null,
   "metadata": {
    "colab": {
     "base_uri": "https://localhost:8080/"
    },
    "id": "QWVQ_121wJB4",
    "outputId": "30293544-3fea-4270-ecda-aa7241f7e00d"
   },
   "outputs": [
    {
     "name": "stdout",
     "output_type": "stream",
     "text": [
      "The city of Chicago is in Canada. This statement is:\n",
      " TRUE\n"
     ]
    }
   ],
   "source": [
    "base_prompt_token_ids = model.tokenizer(base_prompt).input_ids\n",
    "punctuation_token_id = model.tokenizer.encode('.')[1]\n",
    "punctuation_index = rindex(base_prompt_token_ids, punctuation_token_id) - 1\n",
    "\n",
    "with torch.no_grad():\n",
    "  with model.trace(base_prompt) as trace:\n",
    "    # steer model!\n",
    "    model.model.layers[LAYER].output[0][:, punctuation_index, :] += difference_in_means\n",
    "\n",
    "    logits = model.output.logits.save()\n",
    "\n",
    "print(base_prompt.split('\\n')[-1])\n",
    "print(model.tokenizer.decode(logits.argmax(dim=-1)[0, -1]))"
   ]
  },
  {
   "cell_type": "markdown",
   "metadata": {
    "id": "KqZcF4BOxtKv"
   },
   "source": [
    "Steer from true to false"
   ]
  },
  {
   "cell_type": "code",
   "execution_count": null,
   "metadata": {
    "colab": {
     "base_uri": "https://localhost:8080/"
    },
    "id": "6YbuH6rGxp-X",
    "outputId": "c3eb46bb-ab0e-4675-ae51-19ef333af6e5"
   },
   "outputs": [
    {
     "name": "stdout",
     "output_type": "stream",
     "text": [
      "The city of Toronto is in Canada. This statement is:\n",
      " TRUE\n"
     ]
    }
   ],
   "source": [
    "with torch.no_grad():\n",
    "  with model.trace(source_prompt) as trace:\n",
    "    logits = model.output.logits.save()\n",
    "\n",
    "print(source_prompt.split('\\n')[-1])\n",
    "print(model.tokenizer.decode(logits.argmax(dim=-1)[0, -1]))"
   ]
  },
  {
   "cell_type": "code",
   "execution_count": null,
   "metadata": {
    "colab": {
     "base_uri": "https://localhost:8080/"
    },
    "id": "YZss4pkExibL",
    "outputId": "699440c7-6b4e-4fe0-ca33-27014206651a"
   },
   "outputs": [
    {
     "name": "stdout",
     "output_type": "stream",
     "text": [
      "The city of Toronto is in Canada. This statement is:\n",
      " FALSE\n"
     ]
    }
   ],
   "source": [
    "source_prompt_token_ids = model.tokenizer(source_prompt).input_ids\n",
    "punctuation_token_id = model.tokenizer.encode('.')[1]\n",
    "punctuation_index = rindex(source_prompt_token_ids, punctuation_token_id) - 1\n",
    "\n",
    "with torch.no_grad():\n",
    "  with model.trace(source_prompt) as trace:\n",
    "    # reverse the steering direction!\n",
    "    model.model.layers[LAYER].output[0][:, punctuation_index, :] -= difference_in_means\n",
    "\n",
    "    logits = model.output.logits.save()\n",
    "\n",
    "print(source_prompt.split('\\n')[-1])\n",
    "print(model.tokenizer.decode(logits.argmax(dim=-1)[0, -1]))"
   ]
  },
  {
   "cell_type": "markdown",
   "metadata": {
    "id": "gy1BqTL8UuG6"
   },
   "source": [
    "## ➡️ Let's scale things up! Steering Llama-70B on NDIF"
   ]
  },
  {
   "cell_type": "markdown",
   "metadata": {
    "id": "CLfeORNCU6lb"
   },
   "source": [
    "If you're using Colab, we recommend disconnecting and re-connecting to a CPU instance. In this section, we'll use the models provided by NDIF!"
   ]
  },
  {
   "cell_type": "code",
   "execution_count": null,
   "metadata": {
    "id": "UVCYyB1CU0Ka"
   },
   "outputs": [],
   "source": [
    "from IPython.display import clear_output\n",
    "\n",
    "!pip install -U nnsight\n",
    "\n",
    "clear_output()"
   ]
  },
  {
   "cell_type": "code",
   "execution_count": null,
   "metadata": {
    "id": "hNVILjDGVaTp"
   },
   "outputs": [],
   "source": [
    "from nnsight import CONFIG\n",
    "\n",
    "CONFIG.API.APIKEY = input(\"Enter your API key: \")\n",
    "clear_output()"
   ]
  },
  {
   "cell_type": "code",
   "execution_count": null,
   "metadata": {
    "colab": {
     "base_uri": "https://localhost:8080/",
     "height": 17,
     "referenced_widgets": [
      "1101934521bf452aba9944608e01295a",
      "acc15292165549c0a380a8bba68df267",
      "2155d063de0e46bc8627c44b79fe354c",
      "bb9f30ea2046499f9126b29cde5f43b5",
      "0a3d6855764846f79cbde6b83d92b911",
      "ee39cbbfe3074105a5b4a3c4a670e24d",
      "542a858390fd4e3b9ed42e840fac9ba6",
      "a08aa53f1c584b0295a91c8fca8ff10c",
      "1d164b6dd39a4a01b6f8fcddf60f7b6e",
      "eae08d86d7ca42aa96c39793cea2fd3e",
      "5054de5a40e845bf9dead4791eca944d",
      "e8e36b88a3b34e4385fb4e6fbd7eefc9",
      "40c0df05655a414a8d4cea371f28fafb",
      "484b5dc3b2f04749b58f4350167809d7",
      "c32c33f9e88f46ab860c3696b23817da",
      "dd259832add24878be0123b2fc2e96ba",
      "1fa82df6757e4a18b37ed41fcba189ba",
      "f625228db81340c8a02e10530e36924e",
      "852bd1eea9d74d6294619b5bf3c29d88",
      "6ca19f59553e4b3e86d699d215bae1ac"
     ]
    },
    "id": "TDz5OGRQWk2d",
    "outputId": "3ce9321f-a775-4f74-eec0-6aba6293892e"
   },
   "outputs": [
    {
     "data": {
      "application/vnd.jupyter.widget-view+json": {
       "model_id": "1101934521bf452aba9944608e01295a",
       "version_major": 2,
       "version_minor": 0
      },
      "text/plain": [
       "VBox(children=(HTML(value='<center> <img\\nsrc=https://huggingface.co/front/assets/huggingface_logo-noborder.sv…"
      ]
     },
     "metadata": {},
     "output_type": "display_data"
    }
   ],
   "source": [
    "from huggingface_hub import notebook_login\n",
    "\n",
    "notebook_login()"
   ]
  },
  {
   "cell_type": "code",
   "execution_count": null,
   "metadata": {
    "id": "vF4xymLpVQoP"
   },
   "outputs": [],
   "source": [
    "# instantiate the model using the LanguageModel class\n",
    "from nnsight import LanguageModel\n",
    "\n",
    "# don't worry, this won't load locally!\n",
    "model = LanguageModel(\"meta-llama/Meta-Llama-3.1-70B\", device_map=\"auto\")\n",
    "\n",
    "clear_output()"
   ]
  },
  {
   "cell_type": "code",
   "execution_count": null,
   "metadata": {
    "colab": {
     "base_uri": "https://localhost:8080/"
    },
    "id": "XEcIZFpXcPKD",
    "outputId": "36ca6919-e213-4901-c1ff-099ef76a1a8a"
   },
   "outputs": [
    {
     "data": {
      "text/plain": [
       "LlamaForCausalLM(\n",
       "  (model): LlamaModel(\n",
       "    (embed_tokens): Embedding(128256, 8192)\n",
       "    (layers): ModuleList(\n",
       "      (0-79): 80 x LlamaDecoderLayer(\n",
       "        (self_attn): LlamaAttention(\n",
       "          (q_proj): Linear(in_features=8192, out_features=8192, bias=False)\n",
       "          (k_proj): Linear(in_features=8192, out_features=1024, bias=False)\n",
       "          (v_proj): Linear(in_features=8192, out_features=1024, bias=False)\n",
       "          (o_proj): Linear(in_features=8192, out_features=8192, bias=False)\n",
       "        )\n",
       "        (mlp): LlamaMLP(\n",
       "          (gate_proj): Linear(in_features=8192, out_features=28672, bias=False)\n",
       "          (up_proj): Linear(in_features=8192, out_features=28672, bias=False)\n",
       "          (down_proj): Linear(in_features=28672, out_features=8192, bias=False)\n",
       "          (act_fn): SiLU()\n",
       "        )\n",
       "        (input_layernorm): LlamaRMSNorm((8192,), eps=1e-05)\n",
       "        (post_attention_layernorm): LlamaRMSNorm((8192,), eps=1e-05)\n",
       "      )\n",
       "    )\n",
       "    (norm): LlamaRMSNorm((8192,), eps=1e-05)\n",
       "    (rotary_emb): LlamaRotaryEmbedding()\n",
       "  )\n",
       "  (lm_head): Linear(in_features=8192, out_features=128256, bias=False)\n",
       "  (generator): Generator(\n",
       "    (streamer): Streamer()\n",
       "  )\n",
       ")"
      ]
     },
     "execution_count": 130,
     "metadata": {},
     "output_type": "execute_result"
    }
   ],
   "source": [
    "model"
   ]
  },
  {
   "cell_type": "code",
   "execution_count": null,
   "metadata": {
    "colab": {
     "base_uri": "https://localhost:8080/"
    },
    "id": "_I3QXeE1Yadd",
    "outputId": "5423ee52-efcc-48e4-d550-38a9db4030ad"
   },
   "outputs": [
    {
     "name": "stdout",
     "output_type": "stream",
     "text": [
      "The city of Tokyo is in Japan. This statement is: TRUE\n",
      "The city of Hanoi is in Poland. This statement is: FALSE\n",
      "The city of Chicago is in Canada. This statement is:\n"
     ]
    }
   ],
   "source": [
    "PROMPT_TEMPLATE = \"\"\"The city of Tokyo is in Japan. This statement is: TRUE\n",
    "The city of Hanoi is in Poland. This statement is: FALSE\n",
    "{statement} This statement is:\"\"\"\n",
    "\n",
    "# patching from true statement (source) -> false statement (base)\n",
    "source_statement = \"The city of Toronto is in Canada.\" # true\n",
    "source_prompt = PROMPT_TEMPLATE.format(statement=source_statement)\n",
    "base_statement = \"The city of Chicago is in Canada.\" # false\n",
    "base_prompt = PROMPT_TEMPLATE.format(statement=base_statement)\n",
    "\n",
    "print(base_prompt)"
   ]
  },
  {
   "cell_type": "code",
   "execution_count": null,
   "metadata": {
    "colab": {
     "base_uri": "https://localhost:8080/",
     "height": 359,
     "referenced_widgets": [
      "fc9a982d520e405ebe6f7e4038be52f2",
      "dec5343f490d4a37bb84513963c610b1",
      "4c8f6d9e4eaf4a1783f2e6df10bda3dc",
      "ff4919178bb745bc8b2703875a5ba7f6",
      "8af569fe9c834ef6b471c8cf63690ba7",
      "57cb76d5f0cd447ba6d9db8019df25eb",
      "79fc1c0ea79e4bb6b388dc9930270945",
      "0ae1e3a3c0de442b8320d3aa4e853901",
      "6ff6c3a5d1384a598cbe2e82aee119be",
      "acd47b2d5e1e48c88720507f5068be95",
      "16e782dfcffa4d889024df2a28ab9963",
      "b9c3b711250441febc5322ec5c9a1d3a",
      "623430e3daab470b9ee2be9e0fc26240",
      "81c5b0817f494a479fae0bc4ba9d11d9",
      "6b23c858111743d3bce0d12189e571c3",
      "285fcf2441e240b586467dbed4096656",
      "358309e16439464e846e36b14cf88cc3",
      "dc7f9276e8404710aefd3059efccd3ac",
      "f3c5269d10124774b79710a572d2eece",
      "2748111fb2aa4096a3caa5d98327999c",
      "626081b8f7d4479bb3a6c70f4397324d",
      "0db968768acb4e0abf3840c372450d50"
     ]
    },
    "id": "iQ5aPAEBYade",
    "outputId": "ca55314c-71bb-4919-e562-42cc6668b222"
   },
   "outputs": [
    {
     "name": "stdout",
     "output_type": "stream",
     "text": [
      "SOURCE (true statement)\n",
      "The city of Toronto is in Canada. This statement is:\n",
      " TRUE\n",
      "--------------------------------------------------\n",
      "BASE (false statement)\n",
      "The city of Chicago is in Canada. This statement is:\n",
      " FALSE\n"
     ]
    }
   ],
   "source": [
    "with model.trace(source_prompt, remote=True):\n",
    "  source_logits = model.output.logits.save()\n",
    "\n",
    "with model.trace(base_prompt, remote=True):\n",
    "  base_logits = model.output.logits.save()\n",
    "\n",
    "clear_output()\n",
    "\n",
    "print(\"SOURCE (true statement)\")\n",
    "print(source_prompt.split('\\n')[-1])\n",
    "print(model.tokenizer.decode(source_logits.argmax(dim=-1)[0, -1]))\n",
    "print('-' * 50)\n",
    "print(\"BASE (false statement)\")\n",
    "print(base_prompt.split('\\n')[-1])\n",
    "print(model.tokenizer.decode(base_logits.argmax(dim=-1)[0, -1]))"
   ]
  },
  {
   "cell_type": "code",
   "execution_count": null,
   "metadata": {
    "colab": {
     "base_uri": "https://localhost:8080/",
     "height": 206
    },
    "id": "5_mK0PBQXfrK",
    "outputId": "2865b5d0-84a6-4159-f84a-a3b202a7d9aa"
   },
   "outputs": [
    {
     "data": {
      "application/vnd.google.colaboratory.intrinsic+json": {
       "summary": "{\n  \"name\": \"df\",\n  \"rows\": 50,\n  \"fields\": [\n    {\n      \"column\": \"statement\",\n      \"properties\": {\n        \"dtype\": \"string\",\n        \"num_unique_values\": 50,\n        \"samples\": [\n          \"The city of Abidjan is in China.\",\n          \"The city of Ulsan is in South Africa.\",\n          \"The city of Guatemala City is in Guatemala.\"\n        ],\n        \"semantic_type\": \"\",\n        \"description\": \"\"\n      }\n    },\n    {\n      \"column\": \"label\",\n      \"properties\": {\n        \"dtype\": \"number\",\n        \"std\": 0,\n        \"min\": 0,\n        \"max\": 1,\n        \"num_unique_values\": 2,\n        \"samples\": [\n          0,\n          1\n        ],\n        \"semantic_type\": \"\",\n        \"description\": \"\"\n      }\n    },\n    {\n      \"column\": \"city\",\n      \"properties\": {\n        \"dtype\": \"string\",\n        \"num_unique_values\": 25,\n        \"samples\": [\n          \"Nanchong\",\n          \"Bauchi\"\n        ],\n        \"semantic_type\": \"\",\n        \"description\": \"\"\n      }\n    },\n    {\n      \"column\": \"country\",\n      \"properties\": {\n        \"dtype\": \"string\",\n        \"num_unique_values\": 26,\n        \"samples\": [\n          \"Guatemala\",\n          \"Japan\"\n        ],\n        \"semantic_type\": \"\",\n        \"description\": \"\"\n      }\n    },\n    {\n      \"column\": \"correct_country\",\n      \"properties\": {\n        \"dtype\": \"category\",\n        \"num_unique_values\": 13,\n        \"samples\": [\n          \"South Korea\",\n          \"Japan\"\n        ],\n        \"semantic_type\": \"\",\n        \"description\": \"\"\n      }\n    }\n  ]\n}",
       "type": "dataframe",
       "variable_name": "df"
      },
      "text/html": [
       "\n",
       "  <div id=\"df-c0f499bb-4ddb-4114-acce-8b88d9b31acd\" class=\"colab-df-container\">\n",
       "    <div>\n",
       "<style scoped>\n",
       "    .dataframe tbody tr th:only-of-type {\n",
       "        vertical-align: middle;\n",
       "    }\n",
       "\n",
       "    .dataframe tbody tr th {\n",
       "        vertical-align: top;\n",
       "    }\n",
       "\n",
       "    .dataframe thead th {\n",
       "        text-align: right;\n",
       "    }\n",
       "</style>\n",
       "<table border=\"1\" class=\"dataframe\">\n",
       "  <thead>\n",
       "    <tr style=\"text-align: right;\">\n",
       "      <th></th>\n",
       "      <th>statement</th>\n",
       "      <th>label</th>\n",
       "      <th>city</th>\n",
       "      <th>country</th>\n",
       "      <th>correct_country</th>\n",
       "    </tr>\n",
       "  </thead>\n",
       "  <tbody>\n",
       "    <tr>\n",
       "      <th>0</th>\n",
       "      <td>The city of Krasnodar is in Russia.</td>\n",
       "      <td>1</td>\n",
       "      <td>Krasnodar</td>\n",
       "      <td>Russia</td>\n",
       "      <td>Russia</td>\n",
       "    </tr>\n",
       "    <tr>\n",
       "      <th>1</th>\n",
       "      <td>The city of Krasnodar is in South Africa.</td>\n",
       "      <td>0</td>\n",
       "      <td>Krasnodar</td>\n",
       "      <td>South Africa</td>\n",
       "      <td>Russia</td>\n",
       "    </tr>\n",
       "    <tr>\n",
       "      <th>2</th>\n",
       "      <td>The city of Lodz is in Poland.</td>\n",
       "      <td>1</td>\n",
       "      <td>Lodz</td>\n",
       "      <td>Poland</td>\n",
       "      <td>Poland</td>\n",
       "    </tr>\n",
       "    <tr>\n",
       "      <th>3</th>\n",
       "      <td>The city of Lodz is in the Dominican Republic.</td>\n",
       "      <td>0</td>\n",
       "      <td>Lodz</td>\n",
       "      <td>the Dominican Republic</td>\n",
       "      <td>Poland</td>\n",
       "    </tr>\n",
       "    <tr>\n",
       "      <th>4</th>\n",
       "      <td>The city of Maracay is in Venezuela.</td>\n",
       "      <td>1</td>\n",
       "      <td>Maracay</td>\n",
       "      <td>Venezuela</td>\n",
       "      <td>Venezuela</td>\n",
       "    </tr>\n",
       "  </tbody>\n",
       "</table>\n",
       "</div>\n",
       "    <div class=\"colab-df-buttons\">\n",
       "\n",
       "  <div class=\"colab-df-container\">\n",
       "    <button class=\"colab-df-convert\" onclick=\"convertToInteractive('df-c0f499bb-4ddb-4114-acce-8b88d9b31acd')\"\n",
       "            title=\"Convert this dataframe to an interactive table.\"\n",
       "            style=\"display:none;\">\n",
       "\n",
       "  <svg xmlns=\"http://www.w3.org/2000/svg\" height=\"24px\" viewBox=\"0 -960 960 960\">\n",
       "    <path d=\"M120-120v-720h720v720H120Zm60-500h600v-160H180v160Zm220 220h160v-160H400v160Zm0 220h160v-160H400v160ZM180-400h160v-160H180v160Zm440 0h160v-160H620v160ZM180-180h160v-160H180v160Zm440 0h160v-160H620v160Z\"/>\n",
       "  </svg>\n",
       "    </button>\n",
       "\n",
       "  <style>\n",
       "    .colab-df-container {\n",
       "      display:flex;\n",
       "      gap: 12px;\n",
       "    }\n",
       "\n",
       "    .colab-df-convert {\n",
       "      background-color: #E8F0FE;\n",
       "      border: none;\n",
       "      border-radius: 50%;\n",
       "      cursor: pointer;\n",
       "      display: none;\n",
       "      fill: #1967D2;\n",
       "      height: 32px;\n",
       "      padding: 0 0 0 0;\n",
       "      width: 32px;\n",
       "    }\n",
       "\n",
       "    .colab-df-convert:hover {\n",
       "      background-color: #E2EBFA;\n",
       "      box-shadow: 0px 1px 2px rgba(60, 64, 67, 0.3), 0px 1px 3px 1px rgba(60, 64, 67, 0.15);\n",
       "      fill: #174EA6;\n",
       "    }\n",
       "\n",
       "    .colab-df-buttons div {\n",
       "      margin-bottom: 4px;\n",
       "    }\n",
       "\n",
       "    [theme=dark] .colab-df-convert {\n",
       "      background-color: #3B4455;\n",
       "      fill: #D2E3FC;\n",
       "    }\n",
       "\n",
       "    [theme=dark] .colab-df-convert:hover {\n",
       "      background-color: #434B5C;\n",
       "      box-shadow: 0px 1px 3px 1px rgba(0, 0, 0, 0.15);\n",
       "      filter: drop-shadow(0px 1px 2px rgba(0, 0, 0, 0.3));\n",
       "      fill: #FFFFFF;\n",
       "    }\n",
       "  </style>\n",
       "\n",
       "    <script>\n",
       "      const buttonEl =\n",
       "        document.querySelector('#df-c0f499bb-4ddb-4114-acce-8b88d9b31acd button.colab-df-convert');\n",
       "      buttonEl.style.display =\n",
       "        google.colab.kernel.accessAllowed ? 'block' : 'none';\n",
       "\n",
       "      async function convertToInteractive(key) {\n",
       "        const element = document.querySelector('#df-c0f499bb-4ddb-4114-acce-8b88d9b31acd');\n",
       "        const dataTable =\n",
       "          await google.colab.kernel.invokeFunction('convertToInteractive',\n",
       "                                                    [key], {});\n",
       "        if (!dataTable) return;\n",
       "\n",
       "        const docLinkHtml = 'Like what you see? Visit the ' +\n",
       "          '<a target=\"_blank\" href=https://colab.research.google.com/notebooks/data_table.ipynb>data table notebook</a>'\n",
       "          + ' to learn more about interactive tables.';\n",
       "        element.innerHTML = '';\n",
       "        dataTable['output_type'] = 'display_data';\n",
       "        await google.colab.output.renderOutput(dataTable, element);\n",
       "        const docLink = document.createElement('div');\n",
       "        docLink.innerHTML = docLinkHtml;\n",
       "        element.appendChild(docLink);\n",
       "      }\n",
       "    </script>\n",
       "  </div>\n",
       "\n",
       "\n",
       "    <div id=\"df-4e43f5ef-0c84-4577-ac2e-4ac9bc1c511d\">\n",
       "      <button class=\"colab-df-quickchart\" onclick=\"quickchart('df-4e43f5ef-0c84-4577-ac2e-4ac9bc1c511d')\"\n",
       "                title=\"Suggest charts\"\n",
       "                style=\"display:none;\">\n",
       "\n",
       "<svg xmlns=\"http://www.w3.org/2000/svg\" height=\"24px\"viewBox=\"0 0 24 24\"\n",
       "     width=\"24px\">\n",
       "    <g>\n",
       "        <path d=\"M19 3H5c-1.1 0-2 .9-2 2v14c0 1.1.9 2 2 2h14c1.1 0 2-.9 2-2V5c0-1.1-.9-2-2-2zM9 17H7v-7h2v7zm4 0h-2V7h2v10zm4 0h-2v-4h2v4z\"/>\n",
       "    </g>\n",
       "</svg>\n",
       "      </button>\n",
       "\n",
       "<style>\n",
       "  .colab-df-quickchart {\n",
       "      --bg-color: #E8F0FE;\n",
       "      --fill-color: #1967D2;\n",
       "      --hover-bg-color: #E2EBFA;\n",
       "      --hover-fill-color: #174EA6;\n",
       "      --disabled-fill-color: #AAA;\n",
       "      --disabled-bg-color: #DDD;\n",
       "  }\n",
       "\n",
       "  [theme=dark] .colab-df-quickchart {\n",
       "      --bg-color: #3B4455;\n",
       "      --fill-color: #D2E3FC;\n",
       "      --hover-bg-color: #434B5C;\n",
       "      --hover-fill-color: #FFFFFF;\n",
       "      --disabled-bg-color: #3B4455;\n",
       "      --disabled-fill-color: #666;\n",
       "  }\n",
       "\n",
       "  .colab-df-quickchart {\n",
       "    background-color: var(--bg-color);\n",
       "    border: none;\n",
       "    border-radius: 50%;\n",
       "    cursor: pointer;\n",
       "    display: none;\n",
       "    fill: var(--fill-color);\n",
       "    height: 32px;\n",
       "    padding: 0;\n",
       "    width: 32px;\n",
       "  }\n",
       "\n",
       "  .colab-df-quickchart:hover {\n",
       "    background-color: var(--hover-bg-color);\n",
       "    box-shadow: 0 1px 2px rgba(60, 64, 67, 0.3), 0 1px 3px 1px rgba(60, 64, 67, 0.15);\n",
       "    fill: var(--button-hover-fill-color);\n",
       "  }\n",
       "\n",
       "  .colab-df-quickchart-complete:disabled,\n",
       "  .colab-df-quickchart-complete:disabled:hover {\n",
       "    background-color: var(--disabled-bg-color);\n",
       "    fill: var(--disabled-fill-color);\n",
       "    box-shadow: none;\n",
       "  }\n",
       "\n",
       "  .colab-df-spinner {\n",
       "    border: 2px solid var(--fill-color);\n",
       "    border-color: transparent;\n",
       "    border-bottom-color: var(--fill-color);\n",
       "    animation:\n",
       "      spin 1s steps(1) infinite;\n",
       "  }\n",
       "\n",
       "  @keyframes spin {\n",
       "    0% {\n",
       "      border-color: transparent;\n",
       "      border-bottom-color: var(--fill-color);\n",
       "      border-left-color: var(--fill-color);\n",
       "    }\n",
       "    20% {\n",
       "      border-color: transparent;\n",
       "      border-left-color: var(--fill-color);\n",
       "      border-top-color: var(--fill-color);\n",
       "    }\n",
       "    30% {\n",
       "      border-color: transparent;\n",
       "      border-left-color: var(--fill-color);\n",
       "      border-top-color: var(--fill-color);\n",
       "      border-right-color: var(--fill-color);\n",
       "    }\n",
       "    40% {\n",
       "      border-color: transparent;\n",
       "      border-right-color: var(--fill-color);\n",
       "      border-top-color: var(--fill-color);\n",
       "    }\n",
       "    60% {\n",
       "      border-color: transparent;\n",
       "      border-right-color: var(--fill-color);\n",
       "    }\n",
       "    80% {\n",
       "      border-color: transparent;\n",
       "      border-right-color: var(--fill-color);\n",
       "      border-bottom-color: var(--fill-color);\n",
       "    }\n",
       "    90% {\n",
       "      border-color: transparent;\n",
       "      border-bottom-color: var(--fill-color);\n",
       "    }\n",
       "  }\n",
       "</style>\n",
       "\n",
       "      <script>\n",
       "        async function quickchart(key) {\n",
       "          const quickchartButtonEl =\n",
       "            document.querySelector('#' + key + ' button');\n",
       "          quickchartButtonEl.disabled = true;  // To prevent multiple clicks.\n",
       "          quickchartButtonEl.classList.add('colab-df-spinner');\n",
       "          try {\n",
       "            const charts = await google.colab.kernel.invokeFunction(\n",
       "                'suggestCharts', [key], {});\n",
       "          } catch (error) {\n",
       "            console.error('Error during call to suggestCharts:', error);\n",
       "          }\n",
       "          quickchartButtonEl.classList.remove('colab-df-spinner');\n",
       "          quickchartButtonEl.classList.add('colab-df-quickchart-complete');\n",
       "        }\n",
       "        (() => {\n",
       "          let quickchartButtonEl =\n",
       "            document.querySelector('#df-4e43f5ef-0c84-4577-ac2e-4ac9bc1c511d button');\n",
       "          quickchartButtonEl.style.display =\n",
       "            google.colab.kernel.accessAllowed ? 'block' : 'none';\n",
       "        })();\n",
       "      </script>\n",
       "    </div>\n",
       "\n",
       "    </div>\n",
       "  </div>\n"
      ],
      "text/plain": [
       "                                        statement  label       city  \\\n",
       "0             The city of Krasnodar is in Russia.      1  Krasnodar   \n",
       "1       The city of Krasnodar is in South Africa.      0  Krasnodar   \n",
       "2                  The city of Lodz is in Poland.      1       Lodz   \n",
       "3  The city of Lodz is in the Dominican Republic.      0       Lodz   \n",
       "4            The city of Maracay is in Venezuela.      1    Maracay   \n",
       "\n",
       "                  country correct_country  \n",
       "0                  Russia          Russia  \n",
       "1            South Africa          Russia  \n",
       "2                  Poland          Poland  \n",
       "3  the Dominican Republic          Poland  \n",
       "4               Venezuela       Venezuela  "
      ]
     },
     "execution_count": 134,
     "metadata": {},
     "output_type": "execute_result"
    }
   ],
   "source": [
    "import pandas as pd\n",
    "\n",
    "num_examples = 50\n",
    "\n",
    "df = pd.read_csv('https://raw.githubusercontent.com/saprmarks/geometry-of-truth/refs/heads/main/datasets/cities.csv')\n",
    "df = df.iloc[:num_examples]\n",
    "df.head()"
   ]
  },
  {
   "cell_type": "code",
   "execution_count": null,
   "metadata": {
    "colab": {
     "base_uri": "https://localhost:8080/",
     "height": 188,
     "referenced_widgets": [
      "e5b91b551cde44c49ec62caa573f4580",
      "eeca2c7207c44180a74231bebfd46bf7",
      "36c47c84578c45f4b3a725bbf34e7d25",
      "dfcf1f9999e44bb89511fbd774992cee",
      "44327db96c954732823aa1b96d1e9c8d",
      "1e622f13b2534690bca082595b8be97a",
      "965f1d731dfd401096fa888b5c877993",
      "0939e4109925462db0c40edef8279b42",
      "6ff9753c70a74dfb9bc211cc11faf05d",
      "0e9f895c324e4aeb8731e8f51945ec08",
      "62a8ff6f67744331ae2c8855c79f64b3"
     ]
    },
    "id": "bWlC-qTkXfrN",
    "outputId": "dce695b7-8a0b-446d-e6cc-fddaa0da0b79"
   },
   "outputs": [
    {
     "data": {
      "text/plain": [
       "(torch.Size([25, 8192]), torch.Size([25, 8192]))"
      ]
     },
     "execution_count": 156,
     "metadata": {},
     "output_type": "execute_result"
    }
   ],
   "source": [
    "import torch\n",
    "\n",
    "PROMPT_TEMPLATE = \"\"\"The city of Tokyo is in Japan. This statement is: TRUE\n",
    "The city of Hanoi is in Poland. This statement is: FALSE\n",
    "{statement} This statement is:\"\"\"\n",
    "\n",
    "LAYER = 20\n",
    "punctuation_token_id = model.tokenizer('.').input_ids[1] # extract activation over \".\"\n",
    "\n",
    "true_activations = []\n",
    "false_activations = []\n",
    "with model.session(remote=True) as session:\n",
    "  for i in range(df.shape[0]):\n",
    "    row = df.iloc[i]\n",
    "    prompt = PROMPT_TEMPLATE.format(statement=row.statement)\n",
    "    prompt_token_ids = model.tokenizer(prompt).input_ids\n",
    "    punctuation_index = rindex(prompt_token_ids, punctuation_token_id) - 1\n",
    "\n",
    "    with model.trace(prompt):\n",
    "      activation = model.model.layers[LAYER].output[0][:, punctuation_index, :].save()\n",
    "    if row.label == 0:\n",
    "      false_activations.append(activation)\n",
    "    else:\n",
    "      true_activations.append(activation)\n",
    "\n",
    "clear_output()\n",
    "\n",
    "true_activations = torch.cat(true_activations)\n",
    "false_activations = torch.cat(false_activations)\n",
    "\n",
    "true_activations.shape, false_activations.shape"
   ]
  },
  {
   "cell_type": "code",
   "execution_count": null,
   "metadata": {
    "colab": {
     "base_uri": "https://localhost:8080/"
    },
    "id": "AwpEIdfN4OVi",
    "outputId": "d126e8ab-b430-4936-a7fb-9800a3524ab6"
   },
   "outputs": [
    {
     "data": {
      "text/plain": [
       "(50, 2)"
      ]
     },
     "execution_count": 157,
     "metadata": {},
     "output_type": "execute_result"
    }
   ],
   "source": [
    "from sklearn.decomposition import PCA\n",
    "\n",
    "pca = PCA(n_components=2)\n",
    "all_activations = torch.cat([true_activations.to(torch.float64), false_activations.to(torch.float64)]).cpu().numpy()\n",
    "\n",
    "low_dim_activations = pca.fit_transform(all_activations)\n",
    "low_dim_activations.shape"
   ]
  },
  {
   "cell_type": "code",
   "execution_count": null,
   "metadata": {
    "colab": {
     "base_uri": "https://localhost:8080/",
     "height": 417
    },
    "id": "jYHdQpWH4OVj",
    "outputId": "f5a2fbf5-c829-41ed-93c8-5a0946de150f"
   },
   "outputs": [
    {
     "data": {
      "text/html": [
       "<html>\n",
       "<head><meta charset=\"utf-8\" /></head>\n",
       "<body>\n",
       "    <div>            <script src=\"https://cdnjs.cloudflare.com/ajax/libs/mathjax/2.7.5/MathJax.js?config=TeX-AMS-MML_SVG\"></script><script type=\"text/javascript\">if (window.MathJax && window.MathJax.Hub && window.MathJax.Hub.Config) {window.MathJax.Hub.Config({SVG: {font: \"STIX-Web\"}});}</script>                <script type=\"text/javascript\">window.PlotlyConfig = {MathJaxConfig: 'local'};</script>\n",
       "        <script charset=\"utf-8\" src=\"https://cdn.plot.ly/plotly-2.35.2.min.js\"></script>                <div id=\"1676c83c-e887-4995-adc6-451fbdf228e6\" class=\"plotly-graph-div\" style=\"height:400px; width:400px;\"></div>            <script type=\"text/javascript\">                                    window.PLOTLYENV=window.PLOTLYENV || {};                                    if (document.getElementById(\"1676c83c-e887-4995-adc6-451fbdf228e6\")) {                    Plotly.newPlot(                        \"1676c83c-e887-4995-adc6-451fbdf228e6\",                        [{\"marker\":{\"color\":\"rgba(70, 177, 225, 0.5)\",\"size\":10,\"symbol\":\"square\"},\"mode\":\"markers\",\"name\":\"true\",\"x\":[2.602917423859959,2.4752996450495592,1.3034439762324201,1.4782913207658606,3.132542378366553,1.8905075901737616,1.6557447250260275,3.1502356172299155,3.1095285061857108,3.292936595358129,3.2775723988456025,3.2352695421137194,2.8977859522151146,3.156424953641727,3.269241802581547,1.514572854243976,2.246551761481186,2.1033775725373616,1.4887021702401386,1.7679375283679324,3.1698862188719255,3.088598309627856,2.869904726297409,2.893207934680839,3.203134097448331],\"y\":[-0.5730003947244706,-2.5529863269769697,-2.1676155835460573,-2.949169677915429,1.8641455276374992,-3.0724457929097633,-2.904608598797722,2.0548053489091798,1.9543302830738187,2.035622189221768,1.7001558507205872,1.9071194158938403,2.070418295437695,2.03860529026122,2.345119107986332,-3.2624255119389804,-1.876976036327297,-2.125889805957774,-2.959968972013044,-0.7243936852498869,-0.37269418971431756,-0.4779979768831048,0.1564739746408022,0.03337996438954508,-0.46446933488955106],\"type\":\"scatter\"},{\"marker\":{\"color\":\"rgba(242, 170, 132, 0.5)\",\"size\":10,\"symbol\":\"circle\"},\"mode\":\"markers\",\"name\":\"false\",\"x\":[-3.4153391167117277,-3.027711768369682,-1.6769992089034864,-2.5789665271802606,-3.2266408620822573,-2.9568353624931136,-2.1070788990297395,-3.1588268035551628,-3.0586389872148887,-2.9326452441687536,-3.172698448706172,-3.448473333862038,-2.928072220055409,-3.066685196657916,-0.1390851413343198,-3.132318657194424,-2.5427484896858497,-2.531276037005358,-2.1186902070854337,-3.4785865158478124,-3.1137406770059974,-2.989377462260628,-0.02968909566002756,-1.2724661186251567,-2.1700252207469504],\"y\":[-0.4151202177471724,-0.86222923930973,2.647976504504292,-0.1879709928810035,-0.7931396514860505,0.5320571849630444,2.1324834259968837,0.14697771821091163,-0.3591407654298571,0.6269752988491015,0.07259027725790787,-0.18475459215429227,0.27889855597771573,0.2256283823494535,1.3123473960971173,-0.6243148486573812,0.3623655228715921,-0.2227255120535448,0.8435261440555133,-0.3325337928968395,-0.5556664316028048,-0.2922791719271428,0.04023954734343084,2.7635012281375957,1.168774669203345],\"type\":\"scatter\"}],                        {\"template\":{\"data\":{\"barpolar\":[{\"marker\":{\"line\":{\"color\":\"white\",\"width\":0.5},\"pattern\":{\"fillmode\":\"overlay\",\"size\":10,\"solidity\":0.2}},\"type\":\"barpolar\"}],\"bar\":[{\"error_x\":{\"color\":\"rgb(36,36,36)\"},\"error_y\":{\"color\":\"rgb(36,36,36)\"},\"marker\":{\"line\":{\"color\":\"white\",\"width\":0.5},\"pattern\":{\"fillmode\":\"overlay\",\"size\":10,\"solidity\":0.2}},\"type\":\"bar\"}],\"carpet\":[{\"aaxis\":{\"endlinecolor\":\"rgb(36,36,36)\",\"gridcolor\":\"white\",\"linecolor\":\"white\",\"minorgridcolor\":\"white\",\"startlinecolor\":\"rgb(36,36,36)\"},\"baxis\":{\"endlinecolor\":\"rgb(36,36,36)\",\"gridcolor\":\"white\",\"linecolor\":\"white\",\"minorgridcolor\":\"white\",\"startlinecolor\":\"rgb(36,36,36)\"},\"type\":\"carpet\"}],\"choropleth\":[{\"colorbar\":{\"outlinewidth\":1,\"tickcolor\":\"rgb(36,36,36)\",\"ticks\":\"outside\"},\"type\":\"choropleth\"}],\"contourcarpet\":[{\"colorbar\":{\"outlinewidth\":1,\"tickcolor\":\"rgb(36,36,36)\",\"ticks\":\"outside\"},\"type\":\"contourcarpet\"}],\"contour\":[{\"colorbar\":{\"outlinewidth\":1,\"tickcolor\":\"rgb(36,36,36)\",\"ticks\":\"outside\"},\"colorscale\":[[0.0,\"#440154\"],[0.1111111111111111,\"#482878\"],[0.2222222222222222,\"#3e4989\"],[0.3333333333333333,\"#31688e\"],[0.4444444444444444,\"#26828e\"],[0.5555555555555556,\"#1f9e89\"],[0.6666666666666666,\"#35b779\"],[0.7777777777777778,\"#6ece58\"],[0.8888888888888888,\"#b5de2b\"],[1.0,\"#fde725\"]],\"type\":\"contour\"}],\"heatmapgl\":[{\"colorbar\":{\"outlinewidth\":1,\"tickcolor\":\"rgb(36,36,36)\",\"ticks\":\"outside\"},\"colorscale\":[[0.0,\"#440154\"],[0.1111111111111111,\"#482878\"],[0.2222222222222222,\"#3e4989\"],[0.3333333333333333,\"#31688e\"],[0.4444444444444444,\"#26828e\"],[0.5555555555555556,\"#1f9e89\"],[0.6666666666666666,\"#35b779\"],[0.7777777777777778,\"#6ece58\"],[0.8888888888888888,\"#b5de2b\"],[1.0,\"#fde725\"]],\"type\":\"heatmapgl\"}],\"heatmap\":[{\"colorbar\":{\"outlinewidth\":1,\"tickcolor\":\"rgb(36,36,36)\",\"ticks\":\"outside\"},\"colorscale\":[[0.0,\"#440154\"],[0.1111111111111111,\"#482878\"],[0.2222222222222222,\"#3e4989\"],[0.3333333333333333,\"#31688e\"],[0.4444444444444444,\"#26828e\"],[0.5555555555555556,\"#1f9e89\"],[0.6666666666666666,\"#35b779\"],[0.7777777777777778,\"#6ece58\"],[0.8888888888888888,\"#b5de2b\"],[1.0,\"#fde725\"]],\"type\":\"heatmap\"}],\"histogram2dcontour\":[{\"colorbar\":{\"outlinewidth\":1,\"tickcolor\":\"rgb(36,36,36)\",\"ticks\":\"outside\"},\"colorscale\":[[0.0,\"#440154\"],[0.1111111111111111,\"#482878\"],[0.2222222222222222,\"#3e4989\"],[0.3333333333333333,\"#31688e\"],[0.4444444444444444,\"#26828e\"],[0.5555555555555556,\"#1f9e89\"],[0.6666666666666666,\"#35b779\"],[0.7777777777777778,\"#6ece58\"],[0.8888888888888888,\"#b5de2b\"],[1.0,\"#fde725\"]],\"type\":\"histogram2dcontour\"}],\"histogram2d\":[{\"colorbar\":{\"outlinewidth\":1,\"tickcolor\":\"rgb(36,36,36)\",\"ticks\":\"outside\"},\"colorscale\":[[0.0,\"#440154\"],[0.1111111111111111,\"#482878\"],[0.2222222222222222,\"#3e4989\"],[0.3333333333333333,\"#31688e\"],[0.4444444444444444,\"#26828e\"],[0.5555555555555556,\"#1f9e89\"],[0.6666666666666666,\"#35b779\"],[0.7777777777777778,\"#6ece58\"],[0.8888888888888888,\"#b5de2b\"],[1.0,\"#fde725\"]],\"type\":\"histogram2d\"}],\"histogram\":[{\"marker\":{\"line\":{\"color\":\"white\",\"width\":0.6}},\"type\":\"histogram\"}],\"mesh3d\":[{\"colorbar\":{\"outlinewidth\":1,\"tickcolor\":\"rgb(36,36,36)\",\"ticks\":\"outside\"},\"type\":\"mesh3d\"}],\"parcoords\":[{\"line\":{\"colorbar\":{\"outlinewidth\":1,\"tickcolor\":\"rgb(36,36,36)\",\"ticks\":\"outside\"}},\"type\":\"parcoords\"}],\"pie\":[{\"automargin\":true,\"type\":\"pie\"}],\"scatter3d\":[{\"line\":{\"colorbar\":{\"outlinewidth\":1,\"tickcolor\":\"rgb(36,36,36)\",\"ticks\":\"outside\"}},\"marker\":{\"colorbar\":{\"outlinewidth\":1,\"tickcolor\":\"rgb(36,36,36)\",\"ticks\":\"outside\"}},\"type\":\"scatter3d\"}],\"scattercarpet\":[{\"marker\":{\"colorbar\":{\"outlinewidth\":1,\"tickcolor\":\"rgb(36,36,36)\",\"ticks\":\"outside\"}},\"type\":\"scattercarpet\"}],\"scattergeo\":[{\"marker\":{\"colorbar\":{\"outlinewidth\":1,\"tickcolor\":\"rgb(36,36,36)\",\"ticks\":\"outside\"}},\"type\":\"scattergeo\"}],\"scattergl\":[{\"marker\":{\"colorbar\":{\"outlinewidth\":1,\"tickcolor\":\"rgb(36,36,36)\",\"ticks\":\"outside\"}},\"type\":\"scattergl\"}],\"scattermapbox\":[{\"marker\":{\"colorbar\":{\"outlinewidth\":1,\"tickcolor\":\"rgb(36,36,36)\",\"ticks\":\"outside\"}},\"type\":\"scattermapbox\"}],\"scatterpolargl\":[{\"marker\":{\"colorbar\":{\"outlinewidth\":1,\"tickcolor\":\"rgb(36,36,36)\",\"ticks\":\"outside\"}},\"type\":\"scatterpolargl\"}],\"scatterpolar\":[{\"marker\":{\"colorbar\":{\"outlinewidth\":1,\"tickcolor\":\"rgb(36,36,36)\",\"ticks\":\"outside\"}},\"type\":\"scatterpolar\"}],\"scatter\":[{\"fillpattern\":{\"fillmode\":\"overlay\",\"size\":10,\"solidity\":0.2},\"type\":\"scatter\"}],\"scatterternary\":[{\"marker\":{\"colorbar\":{\"outlinewidth\":1,\"tickcolor\":\"rgb(36,36,36)\",\"ticks\":\"outside\"}},\"type\":\"scatterternary\"}],\"surface\":[{\"colorbar\":{\"outlinewidth\":1,\"tickcolor\":\"rgb(36,36,36)\",\"ticks\":\"outside\"},\"colorscale\":[[0.0,\"#440154\"],[0.1111111111111111,\"#482878\"],[0.2222222222222222,\"#3e4989\"],[0.3333333333333333,\"#31688e\"],[0.4444444444444444,\"#26828e\"],[0.5555555555555556,\"#1f9e89\"],[0.6666666666666666,\"#35b779\"],[0.7777777777777778,\"#6ece58\"],[0.8888888888888888,\"#b5de2b\"],[1.0,\"#fde725\"]],\"type\":\"surface\"}],\"table\":[{\"cells\":{\"fill\":{\"color\":\"rgb(237,237,237)\"},\"line\":{\"color\":\"white\"}},\"header\":{\"fill\":{\"color\":\"rgb(217,217,217)\"},\"line\":{\"color\":\"white\"}},\"type\":\"table\"}]},\"layout\":{\"annotationdefaults\":{\"arrowhead\":0,\"arrowwidth\":1},\"autotypenumbers\":\"strict\",\"coloraxis\":{\"colorbar\":{\"outlinewidth\":1,\"tickcolor\":\"rgb(36,36,36)\",\"ticks\":\"outside\"}},\"colorscale\":{\"diverging\":[[0.0,\"rgb(103,0,31)\"],[0.1,\"rgb(178,24,43)\"],[0.2,\"rgb(214,96,77)\"],[0.3,\"rgb(244,165,130)\"],[0.4,\"rgb(253,219,199)\"],[0.5,\"rgb(247,247,247)\"],[0.6,\"rgb(209,229,240)\"],[0.7,\"rgb(146,197,222)\"],[0.8,\"rgb(67,147,195)\"],[0.9,\"rgb(33,102,172)\"],[1.0,\"rgb(5,48,97)\"]],\"sequential\":[[0.0,\"#440154\"],[0.1111111111111111,\"#482878\"],[0.2222222222222222,\"#3e4989\"],[0.3333333333333333,\"#31688e\"],[0.4444444444444444,\"#26828e\"],[0.5555555555555556,\"#1f9e89\"],[0.6666666666666666,\"#35b779\"],[0.7777777777777778,\"#6ece58\"],[0.8888888888888888,\"#b5de2b\"],[1.0,\"#fde725\"]],\"sequentialminus\":[[0.0,\"#440154\"],[0.1111111111111111,\"#482878\"],[0.2222222222222222,\"#3e4989\"],[0.3333333333333333,\"#31688e\"],[0.4444444444444444,\"#26828e\"],[0.5555555555555556,\"#1f9e89\"],[0.6666666666666666,\"#35b779\"],[0.7777777777777778,\"#6ece58\"],[0.8888888888888888,\"#b5de2b\"],[1.0,\"#fde725\"]]},\"colorway\":[\"#1F77B4\",\"#FF7F0E\",\"#2CA02C\",\"#D62728\",\"#9467BD\",\"#8C564B\",\"#E377C2\",\"#7F7F7F\",\"#BCBD22\",\"#17BECF\"],\"font\":{\"color\":\"rgb(36,36,36)\"},\"geo\":{\"bgcolor\":\"white\",\"lakecolor\":\"white\",\"landcolor\":\"white\",\"showlakes\":true,\"showland\":true,\"subunitcolor\":\"white\"},\"hoverlabel\":{\"align\":\"left\"},\"hovermode\":\"closest\",\"mapbox\":{\"style\":\"light\"},\"paper_bgcolor\":\"white\",\"plot_bgcolor\":\"white\",\"polar\":{\"angularaxis\":{\"gridcolor\":\"rgb(232,232,232)\",\"linecolor\":\"rgb(36,36,36)\",\"showgrid\":false,\"showline\":true,\"ticks\":\"outside\"},\"bgcolor\":\"white\",\"radialaxis\":{\"gridcolor\":\"rgb(232,232,232)\",\"linecolor\":\"rgb(36,36,36)\",\"showgrid\":false,\"showline\":true,\"ticks\":\"outside\"}},\"scene\":{\"xaxis\":{\"backgroundcolor\":\"white\",\"gridcolor\":\"rgb(232,232,232)\",\"gridwidth\":2,\"linecolor\":\"rgb(36,36,36)\",\"showbackground\":true,\"showgrid\":false,\"showline\":true,\"ticks\":\"outside\",\"zeroline\":false,\"zerolinecolor\":\"rgb(36,36,36)\"},\"yaxis\":{\"backgroundcolor\":\"white\",\"gridcolor\":\"rgb(232,232,232)\",\"gridwidth\":2,\"linecolor\":\"rgb(36,36,36)\",\"showbackground\":true,\"showgrid\":false,\"showline\":true,\"ticks\":\"outside\",\"zeroline\":false,\"zerolinecolor\":\"rgb(36,36,36)\"},\"zaxis\":{\"backgroundcolor\":\"white\",\"gridcolor\":\"rgb(232,232,232)\",\"gridwidth\":2,\"linecolor\":\"rgb(36,36,36)\",\"showbackground\":true,\"showgrid\":false,\"showline\":true,\"ticks\":\"outside\",\"zeroline\":false,\"zerolinecolor\":\"rgb(36,36,36)\"}},\"shapedefaults\":{\"fillcolor\":\"black\",\"line\":{\"width\":0},\"opacity\":0.3},\"ternary\":{\"aaxis\":{\"gridcolor\":\"rgb(232,232,232)\",\"linecolor\":\"rgb(36,36,36)\",\"showgrid\":false,\"showline\":true,\"ticks\":\"outside\"},\"baxis\":{\"gridcolor\":\"rgb(232,232,232)\",\"linecolor\":\"rgb(36,36,36)\",\"showgrid\":false,\"showline\":true,\"ticks\":\"outside\"},\"bgcolor\":\"white\",\"caxis\":{\"gridcolor\":\"rgb(232,232,232)\",\"linecolor\":\"rgb(36,36,36)\",\"showgrid\":false,\"showline\":true,\"ticks\":\"outside\"}},\"title\":{\"x\":0.05},\"xaxis\":{\"automargin\":true,\"gridcolor\":\"rgb(232,232,232)\",\"linecolor\":\"rgb(36,36,36)\",\"showgrid\":false,\"showline\":true,\"ticks\":\"outside\",\"title\":{\"standoff\":15},\"zeroline\":false,\"zerolinecolor\":\"rgb(36,36,36)\"},\"yaxis\":{\"automargin\":true,\"gridcolor\":\"rgb(232,232,232)\",\"linecolor\":\"rgb(36,36,36)\",\"showgrid\":false,\"showline\":true,\"ticks\":\"outside\",\"title\":{\"standoff\":15},\"zeroline\":false,\"zerolinecolor\":\"rgb(36,36,36)\"}}},\"width\":400,\"height\":400,\"xaxis\":{\"title\":{\"text\":\"PCA 1\"}},\"yaxis\":{\"title\":{\"text\":\"PCA 2\"}}},                        {\"responsive\": true}                    ).then(function(){\n",
       "                            \n",
       "var gd = document.getElementById('1676c83c-e887-4995-adc6-451fbdf228e6');\n",
       "var x = new MutationObserver(function (mutations, observer) {{\n",
       "        var display = window.getComputedStyle(gd).display;\n",
       "        if (!display || display === 'none') {{\n",
       "            console.log([gd, 'removed!']);\n",
       "            Plotly.purge(gd);\n",
       "            observer.disconnect();\n",
       "        }}\n",
       "}});\n",
       "\n",
       "// Listen for the removal of the full notebook cells\n",
       "var notebookContainer = gd.closest('#notebook-container');\n",
       "if (notebookContainer) {{\n",
       "    x.observe(notebookContainer, {childList: true});\n",
       "}}\n",
       "\n",
       "// Listen for the clearing of the current output cell\n",
       "var outputEl = gd.closest('.output');\n",
       "if (outputEl) {{\n",
       "    x.observe(outputEl, {childList: true});\n",
       "}}\n",
       "\n",
       "                        })                };                            </script>        </div>\n",
       "</body>\n",
       "</html>"
      ]
     },
     "metadata": {},
     "output_type": "display_data"
    }
   ],
   "source": [
    "import plotly.graph_objects as go\n",
    "\n",
    "fig = go.Figure()\n",
    "\n",
    "num_per_class = num_examples // 2\n",
    "\n",
    "fig.add_trace(go.Scatter(\n",
    "  x=low_dim_activations[:num_per_class, 0],\n",
    "  y=low_dim_activations[:num_per_class, 1],\n",
    "  mode='markers',\n",
    "  marker=dict(symbol='square', color=hex_to_rgba(COLORS.LIGHT_BLUE, 0.5), size=10),\n",
    "  name='true',\n",
    "))\n",
    "\n",
    "fig.add_trace(go.Scatter(\n",
    "  x=low_dim_activations[num_per_class:, 0],\n",
    "  y=low_dim_activations[num_per_class:, 1],\n",
    "  mode='markers',\n",
    "  marker=dict(symbol='circle', color=hex_to_rgba(COLORS.LIGHT_ORANGE, 0.5), size=10),\n",
    "  name='false',\n",
    "))\n",
    "\n",
    "fig.update_layout(\n",
    "  template='simple_white',\n",
    "  width=400,\n",
    "  height=400,\n",
    "  xaxis_title='PCA 1',\n",
    "  yaxis_title='PCA 2',\n",
    ")\n",
    "\n",
    "fig.show()"
   ]
  },
  {
   "cell_type": "code",
   "execution_count": null,
   "metadata": {
    "colab": {
     "base_uri": "https://localhost:8080/"
    },
    "id": "AdjQ8YprbIg5",
    "outputId": "3c76883b-df23-433e-bd1f-c60391f38708"
   },
   "outputs": [
    {
     "data": {
      "text/plain": [
       "torch.Size([8192])"
      ]
     },
     "execution_count": 159,
     "metadata": {},
     "output_type": "execute_result"
    }
   ],
   "source": [
    "true_activations_mean = true_activations.mean(axis=0)\n",
    "false_activations_mean = false_activations.mean(axis=0)\n",
    "\n",
    "difference_in_means = true_activations_mean - false_activations_mean\n",
    "difference_in_means.shape"
   ]
  },
  {
   "cell_type": "markdown",
   "metadata": {
    "id": "uFhoyaQ8bIg7"
   },
   "source": [
    "Steer from false to true"
   ]
  },
  {
   "cell_type": "code",
   "execution_count": null,
   "metadata": {
    "colab": {
     "base_uri": "https://localhost:8080/",
     "height": 188,
     "referenced_widgets": [
      "0f7968f457a9487eba33047f43e26bba",
      "f9c366e3efaf412cb540a113658733c4",
      "10d56339766944da880c4398df089bd4",
      "a6229aaca92c44a8a55cdee45391ea94",
      "daab77c9341a4962a16a703951a2c2ac",
      "2344dd6e555c4f73b0b31244d392d860",
      "60f0f973a113401781d700a7d684f858",
      "68a9546180ea45439049c97bcebe0f81",
      "0450670920554791a3a64839c3f7ec30",
      "ef4518468c024de9a371271ad699660f",
      "50d763b848264a3aa4627126e19007a3"
     ]
    },
    "id": "0-QthR5jbIg8",
    "outputId": "c7c91be0-5903-4b33-d597-12f9146c9de2"
   },
   "outputs": [
    {
     "name": "stdout",
     "output_type": "stream",
     "text": [
      "The city of Chicago is in Canada. This statement is:\n",
      " FALSE\n"
     ]
    }
   ],
   "source": [
    "with model.trace(base_prompt, remote=True) as trace:\n",
    "  logits = model.output.logits.save()\n",
    "\n",
    "clear_output()\n",
    "\n",
    "print(base_prompt.split('\\n')[-1])\n",
    "print(model.tokenizer.decode(logits.argmax(dim=-1)[0, -1]))"
   ]
  },
  {
   "cell_type": "code",
   "execution_count": null,
   "metadata": {
    "colab": {
     "base_uri": "https://localhost:8080/",
     "height": 188,
     "referenced_widgets": [
      "ca7a3351d9944c6d95645eabc78aed57",
      "f612ee833e9347399b8332e76312e8ba",
      "b08bc9e9ec1a40458a5d88fecdf9c92b",
      "ca36cfa3176a4ad59b46ed1507ba3732",
      "ff1383518c1949828842d7b8ad6f71c6",
      "d5350b5bac5f4cff98734a941b4b697d",
      "663e6e6d417d46678b860c088c6749f1",
      "6c28138052e847f09c0e531016ada90b",
      "65359db59a034085a7b67bdcf056cadf",
      "1207161ca47a4ce09fce70532c484013",
      "52fdaae91ef8407f9f60e1c61980202f"
     ]
    },
    "id": "OOoHHD7LbIg9",
    "outputId": "c86a25c5-a410-43ce-a48c-81b086199dac"
   },
   "outputs": [
    {
     "name": "stdout",
     "output_type": "stream",
     "text": [
      "The city of Chicago is in Canada. This statement is:\n",
      " TRUE\n"
     ]
    }
   ],
   "source": [
    "STEER_FACTOR = 2\n",
    "\n",
    "base_prompt_token_ids = model.tokenizer(base_prompt).input_ids\n",
    "punctuation_token_id = model.tokenizer.encode('.')[1]\n",
    "punctuation_index = rindex(base_prompt_token_ids, punctuation_token_id) - 1\n",
    "\n",
    "with model.trace(base_prompt, remote=True) as trace:\n",
    "  # steer model!\n",
    "  model.model.layers[LAYER].output[0][:, punctuation_index, :] += difference_in_means * STEER_FACTOR\n",
    "\n",
    "  logits = model.output.logits.save()\n",
    "\n",
    "clear_output()\n",
    "\n",
    "print(base_prompt.split('\\n')[-1])\n",
    "print(model.tokenizer.decode(logits.argmax(dim=-1)[0, -1]))"
   ]
  },
  {
   "cell_type": "markdown",
   "metadata": {
    "id": "2jyP6xnMbIg-"
   },
   "source": [
    "Steer from true to false"
   ]
  },
  {
   "cell_type": "code",
   "execution_count": null,
   "metadata": {
    "colab": {
     "base_uri": "https://localhost:8080/",
     "height": 188,
     "referenced_widgets": [
      "13fea3d178dd4759b6f25b66f34c9c4e",
      "e28c91e356304371b26a5546247148bf",
      "b57cddea8778476fa63bb69a5779221c",
      "0e42d1c0acc140039cf95d2cc9ed270b",
      "628c4928dced4f0188a52a7bebd624f6",
      "5a7c7089151a47a88da8af82cf124685",
      "0aa65b7d858b43f3ba43344502875e96",
      "5b78a3110ed14457986690a584da1275",
      "d59cf3b0f5a94a3593d567e5386464cf",
      "916072224bd04e92b97def308c9e27b6",
      "35cd2009f11e4eb1bc6612268b215212"
     ]
    },
    "id": "X2MfrcaSbIg_",
    "outputId": "2bfb0b49-a818-45fe-8026-2a4376760957"
   },
   "outputs": [
    {
     "name": "stdout",
     "output_type": "stream",
     "text": [
      "The city of Toronto is in Canada. This statement is:\n",
      " TRUE\n"
     ]
    }
   ],
   "source": [
    "with model.trace(source_prompt, remote=True) as trace:\n",
    "  logits = model.output.logits.save()\n",
    "\n",
    "clear_output()\n",
    "\n",
    "print(source_prompt.split('\\n')[-1])\n",
    "print(model.tokenizer.decode(logits.argmax(dim=-1)[0, -1]))"
   ]
  },
  {
   "cell_type": "code",
   "execution_count": null,
   "metadata": {
    "colab": {
     "base_uri": "https://localhost:8080/",
     "height": 188,
     "referenced_widgets": [
      "c29a875ea327495d9e49d01b91ee89d7",
      "9d139b9de64741ffab0a4ae47b90679e",
      "1b274644b7f54062aff5ef24a7a285ee",
      "f2b1e1cdd01549fbb2684ddce04b7c0c",
      "a211c602ba6c4a2faf692df8fbd17321",
      "db4e018a36fc490db5e6d4ce2e04896c",
      "9c8267ae219d470d90e03df4cd68360c",
      "4b0106376af4432b82657da0b2284396",
      "8182c4dc8f6d475ca492add35673686f",
      "13eced3acad846b5a45c606be5e67fc5",
      "76af974682b84f98aac27faa71b0cac1"
     ]
    },
    "id": "e36eetvZbIhA",
    "outputId": "db2f7eae-6bfa-47c6-81db-10dc1371b554"
   },
   "outputs": [
    {
     "name": "stdout",
     "output_type": "stream",
     "text": [
      "The city of Toronto is in Canada. This statement is:\n",
      " FALSE\n"
     ]
    }
   ],
   "source": [
    "source_prompt_token_ids = model.tokenizer(source_prompt).input_ids\n",
    "punctuation_token_id = model.tokenizer.encode('.')[1]\n",
    "punctuation_index = rindex(source_prompt_token_ids, punctuation_token_id) - 1\n",
    "\n",
    "with model.trace(source_prompt, remote=True) as trace:\n",
    "  # reverse the steering direction!\n",
    "  model.model.layers[LAYER].output[0][:, punctuation_index, :] -= difference_in_means * STEER_FACTOR\n",
    "\n",
    "  logits = model.output.logits.save()\n",
    "\n",
    "clear_output()\n",
    "\n",
    "print(source_prompt.split('\\n')[-1])\n",
    "print(model.tokenizer.decode(logits.argmax(dim=-1)[0, -1]))"
   ]
  }
 ],
 "metadata": {
  "colab": {
   "collapsed_sections": [
    "qp3kdmG_hd-S",
    "ohuDf3z-vdQT",
    "gy1BqTL8UuG6"
   ],
   "provenance": []
  },
  "kernelspec": {
   "display_name": "Python 3",
   "name": "python3"
  },
  "language_info": {
   "name": "python"
  },
  "widgets": {
   "application/vnd.jupyter.widget-state+json": {
    "0450670920554791a3a64839c3f7ec30": {
     "model_module": "@jupyter-widgets/controls",
     "model_module_version": "1.5.0",
     "model_name": "ProgressStyleModel",
     "state": {
      "_model_module": "@jupyter-widgets/controls",
      "_model_module_version": "1.5.0",
      "_model_name": "ProgressStyleModel",
      "_view_count": null,
      "_view_module": "@jupyter-widgets/base",
      "_view_module_version": "1.2.0",
      "_view_name": "StyleView",
      "bar_color": null,
      "description_width": ""
     }
    },
    "0939e4109925462db0c40edef8279b42": {
     "model_module": "@jupyter-widgets/base",
     "model_module_version": "1.2.0",
     "model_name": "LayoutModel",
     "state": {
      "_model_module": "@jupyter-widgets/base",
      "_model_module_version": "1.2.0",
      "_model_name": "LayoutModel",
      "_view_count": null,
      "_view_module": "@jupyter-widgets/base",
      "_view_module_version": "1.2.0",
      "_view_name": "LayoutView",
      "align_content": null,
      "align_items": null,
      "align_self": null,
      "border": null,
      "bottom": null,
      "display": null,
      "flex": null,
      "flex_flow": null,
      "grid_area": null,
      "grid_auto_columns": null,
      "grid_auto_flow": null,
      "grid_auto_rows": null,
      "grid_column": null,
      "grid_gap": null,
      "grid_row": null,
      "grid_template_areas": null,
      "grid_template_columns": null,
      "grid_template_rows": null,
      "height": null,
      "justify_content": null,
      "justify_items": null,
      "left": null,
      "margin": null,
      "max_height": null,
      "max_width": null,
      "min_height": null,
      "min_width": null,
      "object_fit": null,
      "object_position": null,
      "order": null,
      "overflow": null,
      "overflow_x": null,
      "overflow_y": null,
      "padding": null,
      "right": null,
      "top": null,
      "visibility": null,
      "width": null
     }
    },
    "0a3d6855764846f79cbde6b83d92b911": {
     "model_module": "@jupyter-widgets/controls",
     "model_module_version": "1.5.0",
     "model_name": "ButtonModel",
     "state": {
      "_dom_classes": [],
      "_model_module": "@jupyter-widgets/controls",
      "_model_module_version": "1.5.0",
      "_model_name": "ButtonModel",
      "_view_count": null,
      "_view_module": "@jupyter-widgets/controls",
      "_view_module_version": "1.5.0",
      "_view_name": "ButtonView",
      "button_style": "",
      "description": "Login",
      "disabled": false,
      "icon": "",
      "layout": "IPY_MODEL_484b5dc3b2f04749b58f4350167809d7",
      "style": "IPY_MODEL_c32c33f9e88f46ab860c3696b23817da",
      "tooltip": ""
     }
    },
    "0aa65b7d858b43f3ba43344502875e96": {
     "model_module": "@jupyter-widgets/controls",
     "model_module_version": "1.5.0",
     "model_name": "DescriptionStyleModel",
     "state": {
      "_model_module": "@jupyter-widgets/controls",
      "_model_module_version": "1.5.0",
      "_model_name": "DescriptionStyleModel",
      "_view_count": null,
      "_view_module": "@jupyter-widgets/base",
      "_view_module_version": "1.2.0",
      "_view_name": "StyleView",
      "description_width": ""
     }
    },
    "0ae1e3a3c0de442b8320d3aa4e853901": {
     "model_module": "@jupyter-widgets/base",
     "model_module_version": "1.2.0",
     "model_name": "LayoutModel",
     "state": {
      "_model_module": "@jupyter-widgets/base",
      "_model_module_version": "1.2.0",
      "_model_name": "LayoutModel",
      "_view_count": null,
      "_view_module": "@jupyter-widgets/base",
      "_view_module_version": "1.2.0",
      "_view_name": "LayoutView",
      "align_content": null,
      "align_items": null,
      "align_self": null,
      "border": null,
      "bottom": null,
      "display": null,
      "flex": null,
      "flex_flow": null,
      "grid_area": null,
      "grid_auto_columns": null,
      "grid_auto_flow": null,
      "grid_auto_rows": null,
      "grid_column": null,
      "grid_gap": null,
      "grid_row": null,
      "grid_template_areas": null,
      "grid_template_columns": null,
      "grid_template_rows": null,
      "height": null,
      "justify_content": null,
      "justify_items": null,
      "left": null,
      "margin": null,
      "max_height": null,
      "max_width": null,
      "min_height": null,
      "min_width": null,
      "object_fit": null,
      "object_position": null,
      "order": null,
      "overflow": null,
      "overflow_x": null,
      "overflow_y": null,
      "padding": null,
      "right": null,
      "top": null,
      "visibility": null,
      "width": null
     }
    },
    "0db968768acb4e0abf3840c372450d50": {
     "model_module": "@jupyter-widgets/controls",
     "model_module_version": "1.5.0",
     "model_name": "DescriptionStyleModel",
     "state": {
      "_model_module": "@jupyter-widgets/controls",
      "_model_module_version": "1.5.0",
      "_model_name": "DescriptionStyleModel",
      "_view_count": null,
      "_view_module": "@jupyter-widgets/base",
      "_view_module_version": "1.2.0",
      "_view_name": "StyleView",
      "description_width": ""
     }
    },
    "0e42d1c0acc140039cf95d2cc9ed270b": {
     "model_module": "@jupyter-widgets/controls",
     "model_module_version": "1.5.0",
     "model_name": "HTMLModel",
     "state": {
      "_dom_classes": [],
      "_model_module": "@jupyter-widgets/controls",
      "_model_module_version": "1.5.0",
      "_model_name": "HTMLModel",
      "_view_count": null,
      "_view_module": "@jupyter-widgets/controls",
      "_view_module_version": "1.5.0",
      "_view_name": "HTMLView",
      "description": "",
      "description_tooltip": null,
      "layout": "IPY_MODEL_916072224bd04e92b97def308c9e27b6",
      "placeholder": "​",
      "style": "IPY_MODEL_35cd2009f11e4eb1bc6612268b215212",
      "value": " 10.8M/10.8M [00:00&lt;00:00, 50.5MB/s]"
     }
    },
    "0e9f895c324e4aeb8731e8f51945ec08": {
     "model_module": "@jupyter-widgets/base",
     "model_module_version": "1.2.0",
     "model_name": "LayoutModel",
     "state": {
      "_model_module": "@jupyter-widgets/base",
      "_model_module_version": "1.2.0",
      "_model_name": "LayoutModel",
      "_view_count": null,
      "_view_module": "@jupyter-widgets/base",
      "_view_module_version": "1.2.0",
      "_view_name": "LayoutView",
      "align_content": null,
      "align_items": null,
      "align_self": null,
      "border": null,
      "bottom": null,
      "display": null,
      "flex": null,
      "flex_flow": null,
      "grid_area": null,
      "grid_auto_columns": null,
      "grid_auto_flow": null,
      "grid_auto_rows": null,
      "grid_column": null,
      "grid_gap": null,
      "grid_row": null,
      "grid_template_areas": null,
      "grid_template_columns": null,
      "grid_template_rows": null,
      "height": null,
      "justify_content": null,
      "justify_items": null,
      "left": null,
      "margin": null,
      "max_height": null,
      "max_width": null,
      "min_height": null,
      "min_width": null,
      "object_fit": null,
      "object_position": null,
      "order": null,
      "overflow": null,
      "overflow_x": null,
      "overflow_y": null,
      "padding": null,
      "right": null,
      "top": null,
      "visibility": null,
      "width": null
     }
    },
    "0f7968f457a9487eba33047f43e26bba": {
     "model_module": "@jupyter-widgets/controls",
     "model_module_version": "1.5.0",
     "model_name": "HBoxModel",
     "state": {
      "_dom_classes": [],
      "_model_module": "@jupyter-widgets/controls",
      "_model_module_version": "1.5.0",
      "_model_name": "HBoxModel",
      "_view_count": null,
      "_view_module": "@jupyter-widgets/controls",
      "_view_module_version": "1.5.0",
      "_view_name": "HBoxView",
      "box_style": "",
      "children": [
       "IPY_MODEL_f9c366e3efaf412cb540a113658733c4",
       "IPY_MODEL_10d56339766944da880c4398df089bd4",
       "IPY_MODEL_a6229aaca92c44a8a55cdee45391ea94"
      ],
      "layout": "IPY_MODEL_daab77c9341a4962a16a703951a2c2ac"
     }
    },
    "10d56339766944da880c4398df089bd4": {
     "model_module": "@jupyter-widgets/controls",
     "model_module_version": "1.5.0",
     "model_name": "FloatProgressModel",
     "state": {
      "_dom_classes": [],
      "_model_module": "@jupyter-widgets/controls",
      "_model_module_version": "1.5.0",
      "_model_name": "FloatProgressModel",
      "_view_count": null,
      "_view_module": "@jupyter-widgets/controls",
      "_view_module_version": "1.5.0",
      "_view_name": "ProgressView",
      "bar_style": "success",
      "description": "",
      "description_tooltip": null,
      "layout": "IPY_MODEL_68a9546180ea45439049c97bcebe0f81",
      "max": 10775209,
      "min": 0,
      "orientation": "horizontal",
      "style": "IPY_MODEL_0450670920554791a3a64839c3f7ec30",
      "value": 10775209
     }
    },
    "1101934521bf452aba9944608e01295a": {
     "model_module": "@jupyter-widgets/controls",
     "model_module_version": "1.5.0",
     "model_name": "VBoxModel",
     "state": {
      "_dom_classes": [],
      "_model_module": "@jupyter-widgets/controls",
      "_model_module_version": "1.5.0",
      "_model_name": "VBoxModel",
      "_view_count": null,
      "_view_module": "@jupyter-widgets/controls",
      "_view_module_version": "1.5.0",
      "_view_name": "VBoxView",
      "box_style": "",
      "children": [],
      "layout": "IPY_MODEL_542a858390fd4e3b9ed42e840fac9ba6"
     }
    },
    "1207161ca47a4ce09fce70532c484013": {
     "model_module": "@jupyter-widgets/base",
     "model_module_version": "1.2.0",
     "model_name": "LayoutModel",
     "state": {
      "_model_module": "@jupyter-widgets/base",
      "_model_module_version": "1.2.0",
      "_model_name": "LayoutModel",
      "_view_count": null,
      "_view_module": "@jupyter-widgets/base",
      "_view_module_version": "1.2.0",
      "_view_name": "LayoutView",
      "align_content": null,
      "align_items": null,
      "align_self": null,
      "border": null,
      "bottom": null,
      "display": null,
      "flex": null,
      "flex_flow": null,
      "grid_area": null,
      "grid_auto_columns": null,
      "grid_auto_flow": null,
      "grid_auto_rows": null,
      "grid_column": null,
      "grid_gap": null,
      "grid_row": null,
      "grid_template_areas": null,
      "grid_template_columns": null,
      "grid_template_rows": null,
      "height": null,
      "justify_content": null,
      "justify_items": null,
      "left": null,
      "margin": null,
      "max_height": null,
      "max_width": null,
      "min_height": null,
      "min_width": null,
      "object_fit": null,
      "object_position": null,
      "order": null,
      "overflow": null,
      "overflow_x": null,
      "overflow_y": null,
      "padding": null,
      "right": null,
      "top": null,
      "visibility": null,
      "width": null
     }
    },
    "13eced3acad846b5a45c606be5e67fc5": {
     "model_module": "@jupyter-widgets/base",
     "model_module_version": "1.2.0",
     "model_name": "LayoutModel",
     "state": {
      "_model_module": "@jupyter-widgets/base",
      "_model_module_version": "1.2.0",
      "_model_name": "LayoutModel",
      "_view_count": null,
      "_view_module": "@jupyter-widgets/base",
      "_view_module_version": "1.2.0",
      "_view_name": "LayoutView",
      "align_content": null,
      "align_items": null,
      "align_self": null,
      "border": null,
      "bottom": null,
      "display": null,
      "flex": null,
      "flex_flow": null,
      "grid_area": null,
      "grid_auto_columns": null,
      "grid_auto_flow": null,
      "grid_auto_rows": null,
      "grid_column": null,
      "grid_gap": null,
      "grid_row": null,
      "grid_template_areas": null,
      "grid_template_columns": null,
      "grid_template_rows": null,
      "height": null,
      "justify_content": null,
      "justify_items": null,
      "left": null,
      "margin": null,
      "max_height": null,
      "max_width": null,
      "min_height": null,
      "min_width": null,
      "object_fit": null,
      "object_position": null,
      "order": null,
      "overflow": null,
      "overflow_x": null,
      "overflow_y": null,
      "padding": null,
      "right": null,
      "top": null,
      "visibility": null,
      "width": null
     }
    },
    "13fea3d178dd4759b6f25b66f34c9c4e": {
     "model_module": "@jupyter-widgets/controls",
     "model_module_version": "1.5.0",
     "model_name": "HBoxModel",
     "state": {
      "_dom_classes": [],
      "_model_module": "@jupyter-widgets/controls",
      "_model_module_version": "1.5.0",
      "_model_name": "HBoxModel",
      "_view_count": null,
      "_view_module": "@jupyter-widgets/controls",
      "_view_module_version": "1.5.0",
      "_view_name": "HBoxView",
      "box_style": "",
      "children": [
       "IPY_MODEL_e28c91e356304371b26a5546247148bf",
       "IPY_MODEL_b57cddea8778476fa63bb69a5779221c",
       "IPY_MODEL_0e42d1c0acc140039cf95d2cc9ed270b"
      ],
      "layout": "IPY_MODEL_628c4928dced4f0188a52a7bebd624f6"
     }
    },
    "16e782dfcffa4d889024df2a28ab9963": {
     "model_module": "@jupyter-widgets/controls",
     "model_module_version": "1.5.0",
     "model_name": "DescriptionStyleModel",
     "state": {
      "_model_module": "@jupyter-widgets/controls",
      "_model_module_version": "1.5.0",
      "_model_name": "DescriptionStyleModel",
      "_view_count": null,
      "_view_module": "@jupyter-widgets/base",
      "_view_module_version": "1.2.0",
      "_view_name": "StyleView",
      "description_width": ""
     }
    },
    "1b274644b7f54062aff5ef24a7a285ee": {
     "model_module": "@jupyter-widgets/controls",
     "model_module_version": "1.5.0",
     "model_name": "FloatProgressModel",
     "state": {
      "_dom_classes": [],
      "_model_module": "@jupyter-widgets/controls",
      "_model_module_version": "1.5.0",
      "_model_name": "FloatProgressModel",
      "_view_count": null,
      "_view_module": "@jupyter-widgets/controls",
      "_view_module_version": "1.5.0",
      "_view_name": "ProgressView",
      "bar_style": "success",
      "description": "",
      "description_tooltip": null,
      "layout": "IPY_MODEL_4b0106376af4432b82657da0b2284396",
      "max": 10775209,
      "min": 0,
      "orientation": "horizontal",
      "style": "IPY_MODEL_8182c4dc8f6d475ca492add35673686f",
      "value": 10775209
     }
    },
    "1d164b6dd39a4a01b6f8fcddf60f7b6e": {
     "model_module": "@jupyter-widgets/controls",
     "model_module_version": "1.5.0",
     "model_name": "DescriptionStyleModel",
     "state": {
      "_model_module": "@jupyter-widgets/controls",
      "_model_module_version": "1.5.0",
      "_model_name": "DescriptionStyleModel",
      "_view_count": null,
      "_view_module": "@jupyter-widgets/base",
      "_view_module_version": "1.2.0",
      "_view_name": "StyleView",
      "description_width": ""
     }
    },
    "1e622f13b2534690bca082595b8be97a": {
     "model_module": "@jupyter-widgets/base",
     "model_module_version": "1.2.0",
     "model_name": "LayoutModel",
     "state": {
      "_model_module": "@jupyter-widgets/base",
      "_model_module_version": "1.2.0",
      "_model_name": "LayoutModel",
      "_view_count": null,
      "_view_module": "@jupyter-widgets/base",
      "_view_module_version": "1.2.0",
      "_view_name": "LayoutView",
      "align_content": null,
      "align_items": null,
      "align_self": null,
      "border": null,
      "bottom": null,
      "display": null,
      "flex": null,
      "flex_flow": null,
      "grid_area": null,
      "grid_auto_columns": null,
      "grid_auto_flow": null,
      "grid_auto_rows": null,
      "grid_column": null,
      "grid_gap": null,
      "grid_row": null,
      "grid_template_areas": null,
      "grid_template_columns": null,
      "grid_template_rows": null,
      "height": null,
      "justify_content": null,
      "justify_items": null,
      "left": null,
      "margin": null,
      "max_height": null,
      "max_width": null,
      "min_height": null,
      "min_width": null,
      "object_fit": null,
      "object_position": null,
      "order": null,
      "overflow": null,
      "overflow_x": null,
      "overflow_y": null,
      "padding": null,
      "right": null,
      "top": null,
      "visibility": null,
      "width": null
     }
    },
    "1fa82df6757e4a18b37ed41fcba189ba": {
     "model_module": "@jupyter-widgets/controls",
     "model_module_version": "1.5.0",
     "model_name": "DescriptionStyleModel",
     "state": {
      "_model_module": "@jupyter-widgets/controls",
      "_model_module_version": "1.5.0",
      "_model_name": "DescriptionStyleModel",
      "_view_count": null,
      "_view_module": "@jupyter-widgets/base",
      "_view_module_version": "1.2.0",
      "_view_name": "StyleView",
      "description_width": ""
     }
    },
    "2155d063de0e46bc8627c44b79fe354c": {
     "model_module": "@jupyter-widgets/controls",
     "model_module_version": "1.5.0",
     "model_name": "PasswordModel",
     "state": {
      "_dom_classes": [],
      "_model_module": "@jupyter-widgets/controls",
      "_model_module_version": "1.5.0",
      "_model_name": "PasswordModel",
      "_view_count": null,
      "_view_module": "@jupyter-widgets/controls",
      "_view_module_version": "1.5.0",
      "_view_name": "PasswordView",
      "continuous_update": true,
      "description": "Token:",
      "description_tooltip": null,
      "disabled": false,
      "layout": "IPY_MODEL_eae08d86d7ca42aa96c39793cea2fd3e",
      "placeholder": "​",
      "style": "IPY_MODEL_5054de5a40e845bf9dead4791eca944d",
      "value": ""
     }
    },
    "2344dd6e555c4f73b0b31244d392d860": {
     "model_module": "@jupyter-widgets/base",
     "model_module_version": "1.2.0",
     "model_name": "LayoutModel",
     "state": {
      "_model_module": "@jupyter-widgets/base",
      "_model_module_version": "1.2.0",
      "_model_name": "LayoutModel",
      "_view_count": null,
      "_view_module": "@jupyter-widgets/base",
      "_view_module_version": "1.2.0",
      "_view_name": "LayoutView",
      "align_content": null,
      "align_items": null,
      "align_self": null,
      "border": null,
      "bottom": null,
      "display": null,
      "flex": null,
      "flex_flow": null,
      "grid_area": null,
      "grid_auto_columns": null,
      "grid_auto_flow": null,
      "grid_auto_rows": null,
      "grid_column": null,
      "grid_gap": null,
      "grid_row": null,
      "grid_template_areas": null,
      "grid_template_columns": null,
      "grid_template_rows": null,
      "height": null,
      "justify_content": null,
      "justify_items": null,
      "left": null,
      "margin": null,
      "max_height": null,
      "max_width": null,
      "min_height": null,
      "min_width": null,
      "object_fit": null,
      "object_position": null,
      "order": null,
      "overflow": null,
      "overflow_x": null,
      "overflow_y": null,
      "padding": null,
      "right": null,
      "top": null,
      "visibility": null,
      "width": null
     }
    },
    "2748111fb2aa4096a3caa5d98327999c": {
     "model_module": "@jupyter-widgets/controls",
     "model_module_version": "1.5.0",
     "model_name": "ProgressStyleModel",
     "state": {
      "_model_module": "@jupyter-widgets/controls",
      "_model_module_version": "1.5.0",
      "_model_name": "ProgressStyleModel",
      "_view_count": null,
      "_view_module": "@jupyter-widgets/base",
      "_view_module_version": "1.2.0",
      "_view_name": "StyleView",
      "bar_color": null,
      "description_width": ""
     }
    },
    "274b1eedbdee4b639a4b5c52bf8ec745": {
     "model_module": "@jupyter-widgets/controls",
     "model_module_version": "1.5.0",
     "model_name": "DescriptionStyleModel",
     "state": {
      "_model_module": "@jupyter-widgets/controls",
      "_model_module_version": "1.5.0",
      "_model_name": "DescriptionStyleModel",
      "_view_count": null,
      "_view_module": "@jupyter-widgets/base",
      "_view_module_version": "1.2.0",
      "_view_name": "StyleView",
      "description_width": ""
     }
    },
    "285fcf2441e240b586467dbed4096656": {
     "model_module": "@jupyter-widgets/base",
     "model_module_version": "1.2.0",
     "model_name": "LayoutModel",
     "state": {
      "_model_module": "@jupyter-widgets/base",
      "_model_module_version": "1.2.0",
      "_model_name": "LayoutModel",
      "_view_count": null,
      "_view_module": "@jupyter-widgets/base",
      "_view_module_version": "1.2.0",
      "_view_name": "LayoutView",
      "align_content": null,
      "align_items": null,
      "align_self": null,
      "border": null,
      "bottom": null,
      "display": null,
      "flex": null,
      "flex_flow": null,
      "grid_area": null,
      "grid_auto_columns": null,
      "grid_auto_flow": null,
      "grid_auto_rows": null,
      "grid_column": null,
      "grid_gap": null,
      "grid_row": null,
      "grid_template_areas": null,
      "grid_template_columns": null,
      "grid_template_rows": null,
      "height": null,
      "justify_content": null,
      "justify_items": null,
      "left": null,
      "margin": null,
      "max_height": null,
      "max_width": null,
      "min_height": null,
      "min_width": null,
      "object_fit": null,
      "object_position": null,
      "order": null,
      "overflow": null,
      "overflow_x": null,
      "overflow_y": null,
      "padding": null,
      "right": null,
      "top": null,
      "visibility": null,
      "width": null
     }
    },
    "2cb73901b1dd4044835f203e138f326c": {
     "model_module": "@jupyter-widgets/controls",
     "model_module_version": "1.5.0",
     "model_name": "HTMLModel",
     "state": {
      "_dom_classes": [],
      "_model_module": "@jupyter-widgets/controls",
      "_model_module_version": "1.5.0",
      "_model_name": "HTMLModel",
      "_view_count": null,
      "_view_module": "@jupyter-widgets/controls",
      "_view_module_version": "1.5.0",
      "_view_name": "HTMLView",
      "description": "",
      "description_tooltip": null,
      "layout": "IPY_MODEL_f627dc1ec6c1408994ae95a607941e25",
      "placeholder": "​",
      "style": "IPY_MODEL_fe9ecaccafb04a4fa6f7beab1be0297b",
      "value": "<center> <img\nsrc=https://huggingface.co/front/assets/huggingface_logo-noborder.svg\nalt='Hugging Face'> <br> Copy a token from <a\nhref=\"https://huggingface.co/settings/tokens\" target=\"_blank\">your Hugging Face\ntokens page</a> and paste it below. <br> Immediately click login after copying\nyour token or it might be stored in plain text in this notebook file. </center>"
     }
    },
    "2ced0e1b0943423c86b49d751d2dfe2c": {
     "model_module": "@jupyter-widgets/base",
     "model_module_version": "1.2.0",
     "model_name": "LayoutModel",
     "state": {
      "_model_module": "@jupyter-widgets/base",
      "_model_module_version": "1.2.0",
      "_model_name": "LayoutModel",
      "_view_count": null,
      "_view_module": "@jupyter-widgets/base",
      "_view_module_version": "1.2.0",
      "_view_name": "LayoutView",
      "align_content": null,
      "align_items": null,
      "align_self": null,
      "border": null,
      "bottom": null,
      "display": null,
      "flex": null,
      "flex_flow": null,
      "grid_area": null,
      "grid_auto_columns": null,
      "grid_auto_flow": null,
      "grid_auto_rows": null,
      "grid_column": null,
      "grid_gap": null,
      "grid_row": null,
      "grid_template_areas": null,
      "grid_template_columns": null,
      "grid_template_rows": null,
      "height": null,
      "justify_content": null,
      "justify_items": null,
      "left": null,
      "margin": null,
      "max_height": null,
      "max_width": null,
      "min_height": null,
      "min_width": null,
      "object_fit": null,
      "object_position": null,
      "order": null,
      "overflow": null,
      "overflow_x": null,
      "overflow_y": null,
      "padding": null,
      "right": null,
      "top": null,
      "visibility": null,
      "width": null
     }
    },
    "30df6ddaf1b143418569304d805f7852": {
     "model_module": "@jupyter-widgets/controls",
     "model_module_version": "1.5.0",
     "model_name": "DescriptionStyleModel",
     "state": {
      "_model_module": "@jupyter-widgets/controls",
      "_model_module_version": "1.5.0",
      "_model_name": "DescriptionStyleModel",
      "_view_count": null,
      "_view_module": "@jupyter-widgets/base",
      "_view_module_version": "1.2.0",
      "_view_name": "StyleView",
      "description_width": ""
     }
    },
    "3483fc34e1a1447c9acd9abaddd57544": {
     "model_module": "@jupyter-widgets/controls",
     "model_module_version": "1.5.0",
     "model_name": "DescriptionStyleModel",
     "state": {
      "_model_module": "@jupyter-widgets/controls",
      "_model_module_version": "1.5.0",
      "_model_name": "DescriptionStyleModel",
      "_view_count": null,
      "_view_module": "@jupyter-widgets/base",
      "_view_module_version": "1.2.0",
      "_view_name": "StyleView",
      "description_width": ""
     }
    },
    "358309e16439464e846e36b14cf88cc3": {
     "model_module": "@jupyter-widgets/base",
     "model_module_version": "1.2.0",
     "model_name": "LayoutModel",
     "state": {
      "_model_module": "@jupyter-widgets/base",
      "_model_module_version": "1.2.0",
      "_model_name": "LayoutModel",
      "_view_count": null,
      "_view_module": "@jupyter-widgets/base",
      "_view_module_version": "1.2.0",
      "_view_name": "LayoutView",
      "align_content": null,
      "align_items": null,
      "align_self": null,
      "border": null,
      "bottom": null,
      "display": null,
      "flex": null,
      "flex_flow": null,
      "grid_area": null,
      "grid_auto_columns": null,
      "grid_auto_flow": null,
      "grid_auto_rows": null,
      "grid_column": null,
      "grid_gap": null,
      "grid_row": null,
      "grid_template_areas": null,
      "grid_template_columns": null,
      "grid_template_rows": null,
      "height": null,
      "justify_content": null,
      "justify_items": null,
      "left": null,
      "margin": null,
      "max_height": null,
      "max_width": null,
      "min_height": null,
      "min_width": null,
      "object_fit": null,
      "object_position": null,
      "order": null,
      "overflow": null,
      "overflow_x": null,
      "overflow_y": null,
      "padding": null,
      "right": null,
      "top": null,
      "visibility": null,
      "width": null
     }
    },
    "35cd2009f11e4eb1bc6612268b215212": {
     "model_module": "@jupyter-widgets/controls",
     "model_module_version": "1.5.0",
     "model_name": "DescriptionStyleModel",
     "state": {
      "_model_module": "@jupyter-widgets/controls",
      "_model_module_version": "1.5.0",
      "_model_name": "DescriptionStyleModel",
      "_view_count": null,
      "_view_module": "@jupyter-widgets/base",
      "_view_module_version": "1.2.0",
      "_view_name": "StyleView",
      "description_width": ""
     }
    },
    "36c47c84578c45f4b3a725bbf34e7d25": {
     "model_module": "@jupyter-widgets/controls",
     "model_module_version": "1.5.0",
     "model_name": "FloatProgressModel",
     "state": {
      "_dom_classes": [],
      "_model_module": "@jupyter-widgets/controls",
      "_model_module_version": "1.5.0",
      "_model_name": "FloatProgressModel",
      "_view_count": null,
      "_view_module": "@jupyter-widgets/controls",
      "_view_module_version": "1.5.0",
      "_view_name": "ProgressView",
      "bar_style": "success",
      "description": "",
      "description_tooltip": null,
      "layout": "IPY_MODEL_0939e4109925462db0c40edef8279b42",
      "max": 36092173,
      "min": 0,
      "orientation": "horizontal",
      "style": "IPY_MODEL_6ff9753c70a74dfb9bc211cc11faf05d",
      "value": 36092173
     }
    },
    "37e1c5cd1f844cbfb34e57dad08e1f7b": {
     "model_module": "@jupyter-widgets/controls",
     "model_module_version": "1.5.0",
     "model_name": "ButtonModel",
     "state": {
      "_dom_classes": [],
      "_model_module": "@jupyter-widgets/controls",
      "_model_module_version": "1.5.0",
      "_model_name": "ButtonModel",
      "_view_count": null,
      "_view_module": "@jupyter-widgets/controls",
      "_view_module_version": "1.5.0",
      "_view_name": "ButtonView",
      "button_style": "",
      "description": "Login",
      "disabled": false,
      "icon": "",
      "layout": "IPY_MODEL_2ced0e1b0943423c86b49d751d2dfe2c",
      "style": "IPY_MODEL_5291675fa0fe4f369124d1092d33d640",
      "tooltip": ""
     }
    },
    "40c0df05655a414a8d4cea371f28fafb": {
     "model_module": "@jupyter-widgets/controls",
     "model_module_version": "1.5.0",
     "model_name": "DescriptionStyleModel",
     "state": {
      "_model_module": "@jupyter-widgets/controls",
      "_model_module_version": "1.5.0",
      "_model_name": "DescriptionStyleModel",
      "_view_count": null,
      "_view_module": "@jupyter-widgets/base",
      "_view_module_version": "1.2.0",
      "_view_name": "StyleView",
      "description_width": ""
     }
    },
    "44327db96c954732823aa1b96d1e9c8d": {
     "model_module": "@jupyter-widgets/base",
     "model_module_version": "1.2.0",
     "model_name": "LayoutModel",
     "state": {
      "_model_module": "@jupyter-widgets/base",
      "_model_module_version": "1.2.0",
      "_model_name": "LayoutModel",
      "_view_count": null,
      "_view_module": "@jupyter-widgets/base",
      "_view_module_version": "1.2.0",
      "_view_name": "LayoutView",
      "align_content": null,
      "align_items": null,
      "align_self": null,
      "border": null,
      "bottom": null,
      "display": null,
      "flex": null,
      "flex_flow": null,
      "grid_area": null,
      "grid_auto_columns": null,
      "grid_auto_flow": null,
      "grid_auto_rows": null,
      "grid_column": null,
      "grid_gap": null,
      "grid_row": null,
      "grid_template_areas": null,
      "grid_template_columns": null,
      "grid_template_rows": null,
      "height": null,
      "justify_content": null,
      "justify_items": null,
      "left": null,
      "margin": null,
      "max_height": null,
      "max_width": null,
      "min_height": null,
      "min_width": null,
      "object_fit": null,
      "object_position": null,
      "order": null,
      "overflow": null,
      "overflow_x": null,
      "overflow_y": null,
      "padding": null,
      "right": null,
      "top": null,
      "visibility": null,
      "width": null
     }
    },
    "484b5dc3b2f04749b58f4350167809d7": {
     "model_module": "@jupyter-widgets/base",
     "model_module_version": "1.2.0",
     "model_name": "LayoutModel",
     "state": {
      "_model_module": "@jupyter-widgets/base",
      "_model_module_version": "1.2.0",
      "_model_name": "LayoutModel",
      "_view_count": null,
      "_view_module": "@jupyter-widgets/base",
      "_view_module_version": "1.2.0",
      "_view_name": "LayoutView",
      "align_content": null,
      "align_items": null,
      "align_self": null,
      "border": null,
      "bottom": null,
      "display": null,
      "flex": null,
      "flex_flow": null,
      "grid_area": null,
      "grid_auto_columns": null,
      "grid_auto_flow": null,
      "grid_auto_rows": null,
      "grid_column": null,
      "grid_gap": null,
      "grid_row": null,
      "grid_template_areas": null,
      "grid_template_columns": null,
      "grid_template_rows": null,
      "height": null,
      "justify_content": null,
      "justify_items": null,
      "left": null,
      "margin": null,
      "max_height": null,
      "max_width": null,
      "min_height": null,
      "min_width": null,
      "object_fit": null,
      "object_position": null,
      "order": null,
      "overflow": null,
      "overflow_x": null,
      "overflow_y": null,
      "padding": null,
      "right": null,
      "top": null,
      "visibility": null,
      "width": null
     }
    },
    "49f04c8a4b304524817ad33942cdc9ec": {
     "model_module": "@jupyter-widgets/controls",
     "model_module_version": "1.5.0",
     "model_name": "HTMLModel",
     "state": {
      "_dom_classes": [],
      "_model_module": "@jupyter-widgets/controls",
      "_model_module_version": "1.5.0",
      "_model_name": "HTMLModel",
      "_view_count": null,
      "_view_module": "@jupyter-widgets/controls",
      "_view_module_version": "1.5.0",
      "_view_name": "HTMLView",
      "description": "",
      "description_tooltip": null,
      "layout": "IPY_MODEL_b2ed4bbb159a461a95ee80232e3ddc47",
      "placeholder": "​",
      "style": "IPY_MODEL_a234baf7ac8f40dc99d7e61ce9419595",
      "value": "Loading checkpoint shards: 100%"
     }
    },
    "4b0106376af4432b82657da0b2284396": {
     "model_module": "@jupyter-widgets/base",
     "model_module_version": "1.2.0",
     "model_name": "LayoutModel",
     "state": {
      "_model_module": "@jupyter-widgets/base",
      "_model_module_version": "1.2.0",
      "_model_name": "LayoutModel",
      "_view_count": null,
      "_view_module": "@jupyter-widgets/base",
      "_view_module_version": "1.2.0",
      "_view_name": "LayoutView",
      "align_content": null,
      "align_items": null,
      "align_self": null,
      "border": null,
      "bottom": null,
      "display": null,
      "flex": null,
      "flex_flow": null,
      "grid_area": null,
      "grid_auto_columns": null,
      "grid_auto_flow": null,
      "grid_auto_rows": null,
      "grid_column": null,
      "grid_gap": null,
      "grid_row": null,
      "grid_template_areas": null,
      "grid_template_columns": null,
      "grid_template_rows": null,
      "height": null,
      "justify_content": null,
      "justify_items": null,
      "left": null,
      "margin": null,
      "max_height": null,
      "max_width": null,
      "min_height": null,
      "min_width": null,
      "object_fit": null,
      "object_position": null,
      "order": null,
      "overflow": null,
      "overflow_x": null,
      "overflow_y": null,
      "padding": null,
      "right": null,
      "top": null,
      "visibility": null,
      "width": null
     }
    },
    "4c8f6d9e4eaf4a1783f2e6df10bda3dc": {
     "model_module": "@jupyter-widgets/controls",
     "model_module_version": "1.5.0",
     "model_name": "FloatProgressModel",
     "state": {
      "_dom_classes": [],
      "_model_module": "@jupyter-widgets/controls",
      "_model_module_version": "1.5.0",
      "_model_name": "FloatProgressModel",
      "_view_count": null,
      "_view_module": "@jupyter-widgets/controls",
      "_view_module_version": "1.5.0",
      "_view_name": "ProgressView",
      "bar_style": "success",
      "description": "",
      "description_tooltip": null,
      "layout": "IPY_MODEL_0ae1e3a3c0de442b8320d3aa4e853901",
      "max": 10775209,
      "min": 0,
      "orientation": "horizontal",
      "style": "IPY_MODEL_6ff6c3a5d1384a598cbe2e82aee119be",
      "value": 10775209
     }
    },
    "4f9d39efeeb04aff8a10d227dea3542c": {
     "model_module": "@jupyter-widgets/controls",
     "model_module_version": "1.5.0",
     "model_name": "HBoxModel",
     "state": {
      "_dom_classes": [],
      "_model_module": "@jupyter-widgets/controls",
      "_model_module_version": "1.5.0",
      "_model_name": "HBoxModel",
      "_view_count": null,
      "_view_module": "@jupyter-widgets/controls",
      "_view_module_version": "1.5.0",
      "_view_name": "HBoxView",
      "box_style": "",
      "children": [
       "IPY_MODEL_49f04c8a4b304524817ad33942cdc9ec",
       "IPY_MODEL_63dded09a5e240319e49739bf1fcefbf",
       "IPY_MODEL_8dbd000b00e04f1c9d0d9194828dfb56"
      ],
      "layout": "IPY_MODEL_d99cbd3176c848f0bdfb37e03da8452a"
     }
    },
    "4fab7df5acf3400a8c2dadacb18126f4": {
     "model_module": "@jupyter-widgets/base",
     "model_module_version": "1.2.0",
     "model_name": "LayoutModel",
     "state": {
      "_model_module": "@jupyter-widgets/base",
      "_model_module_version": "1.2.0",
      "_model_name": "LayoutModel",
      "_view_count": null,
      "_view_module": "@jupyter-widgets/base",
      "_view_module_version": "1.2.0",
      "_view_name": "LayoutView",
      "align_content": null,
      "align_items": "center",
      "align_self": null,
      "border": null,
      "bottom": null,
      "display": "flex",
      "flex": null,
      "flex_flow": "column",
      "grid_area": null,
      "grid_auto_columns": null,
      "grid_auto_flow": null,
      "grid_auto_rows": null,
      "grid_column": null,
      "grid_gap": null,
      "grid_row": null,
      "grid_template_areas": null,
      "grid_template_columns": null,
      "grid_template_rows": null,
      "height": null,
      "justify_content": null,
      "justify_items": null,
      "left": null,
      "margin": null,
      "max_height": null,
      "max_width": null,
      "min_height": null,
      "min_width": null,
      "object_fit": null,
      "object_position": null,
      "order": null,
      "overflow": null,
      "overflow_x": null,
      "overflow_y": null,
      "padding": null,
      "right": null,
      "top": null,
      "visibility": null,
      "width": "50%"
     }
    },
    "5054de5a40e845bf9dead4791eca944d": {
     "model_module": "@jupyter-widgets/controls",
     "model_module_version": "1.5.0",
     "model_name": "DescriptionStyleModel",
     "state": {
      "_model_module": "@jupyter-widgets/controls",
      "_model_module_version": "1.5.0",
      "_model_name": "DescriptionStyleModel",
      "_view_count": null,
      "_view_module": "@jupyter-widgets/base",
      "_view_module_version": "1.2.0",
      "_view_name": "StyleView",
      "description_width": ""
     }
    },
    "50d763b848264a3aa4627126e19007a3": {
     "model_module": "@jupyter-widgets/controls",
     "model_module_version": "1.5.0",
     "model_name": "DescriptionStyleModel",
     "state": {
      "_model_module": "@jupyter-widgets/controls",
      "_model_module_version": "1.5.0",
      "_model_name": "DescriptionStyleModel",
      "_view_count": null,
      "_view_module": "@jupyter-widgets/base",
      "_view_module_version": "1.2.0",
      "_view_name": "StyleView",
      "description_width": ""
     }
    },
    "5291675fa0fe4f369124d1092d33d640": {
     "model_module": "@jupyter-widgets/controls",
     "model_module_version": "1.5.0",
     "model_name": "ButtonStyleModel",
     "state": {
      "_model_module": "@jupyter-widgets/controls",
      "_model_module_version": "1.5.0",
      "_model_name": "ButtonStyleModel",
      "_view_count": null,
      "_view_module": "@jupyter-widgets/base",
      "_view_module_version": "1.2.0",
      "_view_name": "StyleView",
      "button_color": null,
      "font_weight": ""
     }
    },
    "52fdaae91ef8407f9f60e1c61980202f": {
     "model_module": "@jupyter-widgets/controls",
     "model_module_version": "1.5.0",
     "model_name": "DescriptionStyleModel",
     "state": {
      "_model_module": "@jupyter-widgets/controls",
      "_model_module_version": "1.5.0",
      "_model_name": "DescriptionStyleModel",
      "_view_count": null,
      "_view_module": "@jupyter-widgets/base",
      "_view_module_version": "1.2.0",
      "_view_name": "StyleView",
      "description_width": ""
     }
    },
    "542a858390fd4e3b9ed42e840fac9ba6": {
     "model_module": "@jupyter-widgets/base",
     "model_module_version": "1.2.0",
     "model_name": "LayoutModel",
     "state": {
      "_model_module": "@jupyter-widgets/base",
      "_model_module_version": "1.2.0",
      "_model_name": "LayoutModel",
      "_view_count": null,
      "_view_module": "@jupyter-widgets/base",
      "_view_module_version": "1.2.0",
      "_view_name": "LayoutView",
      "align_content": null,
      "align_items": "center",
      "align_self": null,
      "border": null,
      "bottom": null,
      "display": "flex",
      "flex": null,
      "flex_flow": "column",
      "grid_area": null,
      "grid_auto_columns": null,
      "grid_auto_flow": null,
      "grid_auto_rows": null,
      "grid_column": null,
      "grid_gap": null,
      "grid_row": null,
      "grid_template_areas": null,
      "grid_template_columns": null,
      "grid_template_rows": null,
      "height": null,
      "justify_content": null,
      "justify_items": null,
      "left": null,
      "margin": null,
      "max_height": null,
      "max_width": null,
      "min_height": null,
      "min_width": null,
      "object_fit": null,
      "object_position": null,
      "order": null,
      "overflow": null,
      "overflow_x": null,
      "overflow_y": null,
      "padding": null,
      "right": null,
      "top": null,
      "visibility": null,
      "width": "50%"
     }
    },
    "57cb76d5f0cd447ba6d9db8019df25eb": {
     "model_module": "@jupyter-widgets/base",
     "model_module_version": "1.2.0",
     "model_name": "LayoutModel",
     "state": {
      "_model_module": "@jupyter-widgets/base",
      "_model_module_version": "1.2.0",
      "_model_name": "LayoutModel",
      "_view_count": null,
      "_view_module": "@jupyter-widgets/base",
      "_view_module_version": "1.2.0",
      "_view_name": "LayoutView",
      "align_content": null,
      "align_items": null,
      "align_self": null,
      "border": null,
      "bottom": null,
      "display": null,
      "flex": null,
      "flex_flow": null,
      "grid_area": null,
      "grid_auto_columns": null,
      "grid_auto_flow": null,
      "grid_auto_rows": null,
      "grid_column": null,
      "grid_gap": null,
      "grid_row": null,
      "grid_template_areas": null,
      "grid_template_columns": null,
      "grid_template_rows": null,
      "height": null,
      "justify_content": null,
      "justify_items": null,
      "left": null,
      "margin": null,
      "max_height": null,
      "max_width": null,
      "min_height": null,
      "min_width": null,
      "object_fit": null,
      "object_position": null,
      "order": null,
      "overflow": null,
      "overflow_x": null,
      "overflow_y": null,
      "padding": null,
      "right": null,
      "top": null,
      "visibility": null,
      "width": null
     }
    },
    "58d945d9908c41dd995a3bb964121ce7": {
     "model_module": "@jupyter-widgets/controls",
     "model_module_version": "1.5.0",
     "model_name": "ProgressStyleModel",
     "state": {
      "_model_module": "@jupyter-widgets/controls",
      "_model_module_version": "1.5.0",
      "_model_name": "ProgressStyleModel",
      "_view_count": null,
      "_view_module": "@jupyter-widgets/base",
      "_view_module_version": "1.2.0",
      "_view_name": "StyleView",
      "bar_color": null,
      "description_width": ""
     }
    },
    "5a7c7089151a47a88da8af82cf124685": {
     "model_module": "@jupyter-widgets/base",
     "model_module_version": "1.2.0",
     "model_name": "LayoutModel",
     "state": {
      "_model_module": "@jupyter-widgets/base",
      "_model_module_version": "1.2.0",
      "_model_name": "LayoutModel",
      "_view_count": null,
      "_view_module": "@jupyter-widgets/base",
      "_view_module_version": "1.2.0",
      "_view_name": "LayoutView",
      "align_content": null,
      "align_items": null,
      "align_self": null,
      "border": null,
      "bottom": null,
      "display": null,
      "flex": null,
      "flex_flow": null,
      "grid_area": null,
      "grid_auto_columns": null,
      "grid_auto_flow": null,
      "grid_auto_rows": null,
      "grid_column": null,
      "grid_gap": null,
      "grid_row": null,
      "grid_template_areas": null,
      "grid_template_columns": null,
      "grid_template_rows": null,
      "height": null,
      "justify_content": null,
      "justify_items": null,
      "left": null,
      "margin": null,
      "max_height": null,
      "max_width": null,
      "min_height": null,
      "min_width": null,
      "object_fit": null,
      "object_position": null,
      "order": null,
      "overflow": null,
      "overflow_x": null,
      "overflow_y": null,
      "padding": null,
      "right": null,
      "top": null,
      "visibility": null,
      "width": null
     }
    },
    "5b78a3110ed14457986690a584da1275": {
     "model_module": "@jupyter-widgets/base",
     "model_module_version": "1.2.0",
     "model_name": "LayoutModel",
     "state": {
      "_model_module": "@jupyter-widgets/base",
      "_model_module_version": "1.2.0",
      "_model_name": "LayoutModel",
      "_view_count": null,
      "_view_module": "@jupyter-widgets/base",
      "_view_module_version": "1.2.0",
      "_view_name": "LayoutView",
      "align_content": null,
      "align_items": null,
      "align_self": null,
      "border": null,
      "bottom": null,
      "display": null,
      "flex": null,
      "flex_flow": null,
      "grid_area": null,
      "grid_auto_columns": null,
      "grid_auto_flow": null,
      "grid_auto_rows": null,
      "grid_column": null,
      "grid_gap": null,
      "grid_row": null,
      "grid_template_areas": null,
      "grid_template_columns": null,
      "grid_template_rows": null,
      "height": null,
      "justify_content": null,
      "justify_items": null,
      "left": null,
      "margin": null,
      "max_height": null,
      "max_width": null,
      "min_height": null,
      "min_width": null,
      "object_fit": null,
      "object_position": null,
      "order": null,
      "overflow": null,
      "overflow_x": null,
      "overflow_y": null,
      "padding": null,
      "right": null,
      "top": null,
      "visibility": null,
      "width": null
     }
    },
    "60f0f973a113401781d700a7d684f858": {
     "model_module": "@jupyter-widgets/controls",
     "model_module_version": "1.5.0",
     "model_name": "DescriptionStyleModel",
     "state": {
      "_model_module": "@jupyter-widgets/controls",
      "_model_module_version": "1.5.0",
      "_model_name": "DescriptionStyleModel",
      "_view_count": null,
      "_view_module": "@jupyter-widgets/base",
      "_view_module_version": "1.2.0",
      "_view_name": "StyleView",
      "description_width": ""
     }
    },
    "623430e3daab470b9ee2be9e0fc26240": {
     "model_module": "@jupyter-widgets/controls",
     "model_module_version": "1.5.0",
     "model_name": "HTMLModel",
     "state": {
      "_dom_classes": [],
      "_model_module": "@jupyter-widgets/controls",
      "_model_module_version": "1.5.0",
      "_model_name": "HTMLModel",
      "_view_count": null,
      "_view_module": "@jupyter-widgets/controls",
      "_view_module_version": "1.5.0",
      "_view_name": "HTMLView",
      "description": "",
      "description_tooltip": null,
      "layout": "IPY_MODEL_358309e16439464e846e36b14cf88cc3",
      "placeholder": "​",
      "style": "IPY_MODEL_dc7f9276e8404710aefd3059efccd3ac",
      "value": "Downloading result: 100%"
     }
    },
    "626081b8f7d4479bb3a6c70f4397324d": {
     "model_module": "@jupyter-widgets/base",
     "model_module_version": "1.2.0",
     "model_name": "LayoutModel",
     "state": {
      "_model_module": "@jupyter-widgets/base",
      "_model_module_version": "1.2.0",
      "_model_name": "LayoutModel",
      "_view_count": null,
      "_view_module": "@jupyter-widgets/base",
      "_view_module_version": "1.2.0",
      "_view_name": "LayoutView",
      "align_content": null,
      "align_items": null,
      "align_self": null,
      "border": null,
      "bottom": null,
      "display": null,
      "flex": null,
      "flex_flow": null,
      "grid_area": null,
      "grid_auto_columns": null,
      "grid_auto_flow": null,
      "grid_auto_rows": null,
      "grid_column": null,
      "grid_gap": null,
      "grid_row": null,
      "grid_template_areas": null,
      "grid_template_columns": null,
      "grid_template_rows": null,
      "height": null,
      "justify_content": null,
      "justify_items": null,
      "left": null,
      "margin": null,
      "max_height": null,
      "max_width": null,
      "min_height": null,
      "min_width": null,
      "object_fit": null,
      "object_position": null,
      "order": null,
      "overflow": null,
      "overflow_x": null,
      "overflow_y": null,
      "padding": null,
      "right": null,
      "top": null,
      "visibility": null,
      "width": null
     }
    },
    "628c4928dced4f0188a52a7bebd624f6": {
     "model_module": "@jupyter-widgets/base",
     "model_module_version": "1.2.0",
     "model_name": "LayoutModel",
     "state": {
      "_model_module": "@jupyter-widgets/base",
      "_model_module_version": "1.2.0",
      "_model_name": "LayoutModel",
      "_view_count": null,
      "_view_module": "@jupyter-widgets/base",
      "_view_module_version": "1.2.0",
      "_view_name": "LayoutView",
      "align_content": null,
      "align_items": null,
      "align_self": null,
      "border": null,
      "bottom": null,
      "display": null,
      "flex": null,
      "flex_flow": null,
      "grid_area": null,
      "grid_auto_columns": null,
      "grid_auto_flow": null,
      "grid_auto_rows": null,
      "grid_column": null,
      "grid_gap": null,
      "grid_row": null,
      "grid_template_areas": null,
      "grid_template_columns": null,
      "grid_template_rows": null,
      "height": null,
      "justify_content": null,
      "justify_items": null,
      "left": null,
      "margin": null,
      "max_height": null,
      "max_width": null,
      "min_height": null,
      "min_width": null,
      "object_fit": null,
      "object_position": null,
      "order": null,
      "overflow": null,
      "overflow_x": null,
      "overflow_y": null,
      "padding": null,
      "right": null,
      "top": null,
      "visibility": null,
      "width": null
     }
    },
    "62a8ff6f67744331ae2c8855c79f64b3": {
     "model_module": "@jupyter-widgets/controls",
     "model_module_version": "1.5.0",
     "model_name": "DescriptionStyleModel",
     "state": {
      "_model_module": "@jupyter-widgets/controls",
      "_model_module_version": "1.5.0",
      "_model_name": "DescriptionStyleModel",
      "_view_count": null,
      "_view_module": "@jupyter-widgets/base",
      "_view_module_version": "1.2.0",
      "_view_name": "StyleView",
      "description_width": ""
     }
    },
    "63dded09a5e240319e49739bf1fcefbf": {
     "model_module": "@jupyter-widgets/controls",
     "model_module_version": "1.5.0",
     "model_name": "FloatProgressModel",
     "state": {
      "_dom_classes": [],
      "_model_module": "@jupyter-widgets/controls",
      "_model_module_version": "1.5.0",
      "_model_name": "FloatProgressModel",
      "_view_count": null,
      "_view_module": "@jupyter-widgets/controls",
      "_view_module_version": "1.5.0",
      "_view_name": "ProgressView",
      "bar_style": "success",
      "description": "",
      "description_tooltip": null,
      "layout": "IPY_MODEL_bca09d9ce8454a1d9cfd5d0de576f920",
      "max": 2,
      "min": 0,
      "orientation": "horizontal",
      "style": "IPY_MODEL_58d945d9908c41dd995a3bb964121ce7",
      "value": 2
     }
    },
    "65359db59a034085a7b67bdcf056cadf": {
     "model_module": "@jupyter-widgets/controls",
     "model_module_version": "1.5.0",
     "model_name": "ProgressStyleModel",
     "state": {
      "_model_module": "@jupyter-widgets/controls",
      "_model_module_version": "1.5.0",
      "_model_name": "ProgressStyleModel",
      "_view_count": null,
      "_view_module": "@jupyter-widgets/base",
      "_view_module_version": "1.2.0",
      "_view_name": "StyleView",
      "bar_color": null,
      "description_width": ""
     }
    },
    "663e6e6d417d46678b860c088c6749f1": {
     "model_module": "@jupyter-widgets/controls",
     "model_module_version": "1.5.0",
     "model_name": "DescriptionStyleModel",
     "state": {
      "_model_module": "@jupyter-widgets/controls",
      "_model_module_version": "1.5.0",
      "_model_name": "DescriptionStyleModel",
      "_view_count": null,
      "_view_module": "@jupyter-widgets/base",
      "_view_module_version": "1.2.0",
      "_view_name": "StyleView",
      "description_width": ""
     }
    },
    "68a9546180ea45439049c97bcebe0f81": {
     "model_module": "@jupyter-widgets/base",
     "model_module_version": "1.2.0",
     "model_name": "LayoutModel",
     "state": {
      "_model_module": "@jupyter-widgets/base",
      "_model_module_version": "1.2.0",
      "_model_name": "LayoutModel",
      "_view_count": null,
      "_view_module": "@jupyter-widgets/base",
      "_view_module_version": "1.2.0",
      "_view_name": "LayoutView",
      "align_content": null,
      "align_items": null,
      "align_self": null,
      "border": null,
      "bottom": null,
      "display": null,
      "flex": null,
      "flex_flow": null,
      "grid_area": null,
      "grid_auto_columns": null,
      "grid_auto_flow": null,
      "grid_auto_rows": null,
      "grid_column": null,
      "grid_gap": null,
      "grid_row": null,
      "grid_template_areas": null,
      "grid_template_columns": null,
      "grid_template_rows": null,
      "height": null,
      "justify_content": null,
      "justify_items": null,
      "left": null,
      "margin": null,
      "max_height": null,
      "max_width": null,
      "min_height": null,
      "min_width": null,
      "object_fit": null,
      "object_position": null,
      "order": null,
      "overflow": null,
      "overflow_x": null,
      "overflow_y": null,
      "padding": null,
      "right": null,
      "top": null,
      "visibility": null,
      "width": null
     }
    },
    "6b23c858111743d3bce0d12189e571c3": {
     "model_module": "@jupyter-widgets/controls",
     "model_module_version": "1.5.0",
     "model_name": "HTMLModel",
     "state": {
      "_dom_classes": [],
      "_model_module": "@jupyter-widgets/controls",
      "_model_module_version": "1.5.0",
      "_model_name": "HTMLModel",
      "_view_count": null,
      "_view_module": "@jupyter-widgets/controls",
      "_view_module_version": "1.5.0",
      "_view_name": "HTMLView",
      "description": "",
      "description_tooltip": null,
      "layout": "IPY_MODEL_626081b8f7d4479bb3a6c70f4397324d",
      "placeholder": "​",
      "style": "IPY_MODEL_0db968768acb4e0abf3840c372450d50",
      "value": " 10.8M/10.8M [00:00&lt;00:00, 49.5MB/s]"
     }
    },
    "6c28138052e847f09c0e531016ada90b": {
     "model_module": "@jupyter-widgets/base",
     "model_module_version": "1.2.0",
     "model_name": "LayoutModel",
     "state": {
      "_model_module": "@jupyter-widgets/base",
      "_model_module_version": "1.2.0",
      "_model_name": "LayoutModel",
      "_view_count": null,
      "_view_module": "@jupyter-widgets/base",
      "_view_module_version": "1.2.0",
      "_view_name": "LayoutView",
      "align_content": null,
      "align_items": null,
      "align_self": null,
      "border": null,
      "bottom": null,
      "display": null,
      "flex": null,
      "flex_flow": null,
      "grid_area": null,
      "grid_auto_columns": null,
      "grid_auto_flow": null,
      "grid_auto_rows": null,
      "grid_column": null,
      "grid_gap": null,
      "grid_row": null,
      "grid_template_areas": null,
      "grid_template_columns": null,
      "grid_template_rows": null,
      "height": null,
      "justify_content": null,
      "justify_items": null,
      "left": null,
      "margin": null,
      "max_height": null,
      "max_width": null,
      "min_height": null,
      "min_width": null,
      "object_fit": null,
      "object_position": null,
      "order": null,
      "overflow": null,
      "overflow_x": null,
      "overflow_y": null,
      "padding": null,
      "right": null,
      "top": null,
      "visibility": null,
      "width": null
     }
    },
    "6ca19f59553e4b3e86d699d215bae1ac": {
     "model_module": "@jupyter-widgets/controls",
     "model_module_version": "1.5.0",
     "model_name": "DescriptionStyleModel",
     "state": {
      "_model_module": "@jupyter-widgets/controls",
      "_model_module_version": "1.5.0",
      "_model_name": "DescriptionStyleModel",
      "_view_count": null,
      "_view_module": "@jupyter-widgets/base",
      "_view_module_version": "1.2.0",
      "_view_name": "StyleView",
      "description_width": ""
     }
    },
    "6ff6c3a5d1384a598cbe2e82aee119be": {
     "model_module": "@jupyter-widgets/controls",
     "model_module_version": "1.5.0",
     "model_name": "ProgressStyleModel",
     "state": {
      "_model_module": "@jupyter-widgets/controls",
      "_model_module_version": "1.5.0",
      "_model_name": "ProgressStyleModel",
      "_view_count": null,
      "_view_module": "@jupyter-widgets/base",
      "_view_module_version": "1.2.0",
      "_view_name": "StyleView",
      "bar_color": null,
      "description_width": ""
     }
    },
    "6ff9753c70a74dfb9bc211cc11faf05d": {
     "model_module": "@jupyter-widgets/controls",
     "model_module_version": "1.5.0",
     "model_name": "ProgressStyleModel",
     "state": {
      "_model_module": "@jupyter-widgets/controls",
      "_model_module_version": "1.5.0",
      "_model_name": "ProgressStyleModel",
      "_view_count": null,
      "_view_module": "@jupyter-widgets/base",
      "_view_module_version": "1.2.0",
      "_view_name": "StyleView",
      "bar_color": null,
      "description_width": ""
     }
    },
    "72309c605bba48b7a5a2cd87b90784ae": {
     "model_module": "@jupyter-widgets/controls",
     "model_module_version": "1.5.0",
     "model_name": "PasswordModel",
     "state": {
      "_dom_classes": [],
      "_model_module": "@jupyter-widgets/controls",
      "_model_module_version": "1.5.0",
      "_model_name": "PasswordModel",
      "_view_count": null,
      "_view_module": "@jupyter-widgets/controls",
      "_view_module_version": "1.5.0",
      "_view_name": "PasswordView",
      "continuous_update": true,
      "description": "Token:",
      "description_tooltip": null,
      "disabled": false,
      "layout": "IPY_MODEL_bd0728057f45475cab3252a189243559",
      "placeholder": "​",
      "style": "IPY_MODEL_30df6ddaf1b143418569304d805f7852",
      "value": ""
     }
    },
    "7444d0374e204864a822c689f20e7a65": {
     "model_module": "@jupyter-widgets/controls",
     "model_module_version": "1.5.0",
     "model_name": "HTMLModel",
     "state": {
      "_dom_classes": [],
      "_model_module": "@jupyter-widgets/controls",
      "_model_module_version": "1.5.0",
      "_model_name": "HTMLModel",
      "_view_count": null,
      "_view_module": "@jupyter-widgets/controls",
      "_view_module_version": "1.5.0",
      "_view_name": "HTMLView",
      "description": "",
      "description_tooltip": null,
      "layout": "IPY_MODEL_951d622f471c4f47aec2a14106dc418c",
      "placeholder": "​",
      "style": "IPY_MODEL_77d85afc66214b5c8029ff488d2f2434",
      "value": "\n<b>Pro Tip:</b> If you don't already have one, you can create a dedicated\n'notebooks' token with 'write' access, that you can then easily reuse for all\nnotebooks. </center>"
     }
    },
    "76af974682b84f98aac27faa71b0cac1": {
     "model_module": "@jupyter-widgets/controls",
     "model_module_version": "1.5.0",
     "model_name": "DescriptionStyleModel",
     "state": {
      "_model_module": "@jupyter-widgets/controls",
      "_model_module_version": "1.5.0",
      "_model_name": "DescriptionStyleModel",
      "_view_count": null,
      "_view_module": "@jupyter-widgets/base",
      "_view_module_version": "1.2.0",
      "_view_name": "StyleView",
      "description_width": ""
     }
    },
    "77d85afc66214b5c8029ff488d2f2434": {
     "model_module": "@jupyter-widgets/controls",
     "model_module_version": "1.5.0",
     "model_name": "DescriptionStyleModel",
     "state": {
      "_model_module": "@jupyter-widgets/controls",
      "_model_module_version": "1.5.0",
      "_model_name": "DescriptionStyleModel",
      "_view_count": null,
      "_view_module": "@jupyter-widgets/base",
      "_view_module_version": "1.2.0",
      "_view_name": "StyleView",
      "description_width": ""
     }
    },
    "79fc1c0ea79e4bb6b388dc9930270945": {
     "model_module": "@jupyter-widgets/controls",
     "model_module_version": "1.5.0",
     "model_name": "DescriptionStyleModel",
     "state": {
      "_model_module": "@jupyter-widgets/controls",
      "_model_module_version": "1.5.0",
      "_model_name": "DescriptionStyleModel",
      "_view_count": null,
      "_view_module": "@jupyter-widgets/base",
      "_view_module_version": "1.2.0",
      "_view_name": "StyleView",
      "description_width": ""
     }
    },
    "8182c4dc8f6d475ca492add35673686f": {
     "model_module": "@jupyter-widgets/controls",
     "model_module_version": "1.5.0",
     "model_name": "ProgressStyleModel",
     "state": {
      "_model_module": "@jupyter-widgets/controls",
      "_model_module_version": "1.5.0",
      "_model_name": "ProgressStyleModel",
      "_view_count": null,
      "_view_module": "@jupyter-widgets/base",
      "_view_module_version": "1.2.0",
      "_view_name": "StyleView",
      "bar_color": null,
      "description_width": ""
     }
    },
    "81c5b0817f494a479fae0bc4ba9d11d9": {
     "model_module": "@jupyter-widgets/controls",
     "model_module_version": "1.5.0",
     "model_name": "FloatProgressModel",
     "state": {
      "_dom_classes": [],
      "_model_module": "@jupyter-widgets/controls",
      "_model_module_version": "1.5.0",
      "_model_name": "FloatProgressModel",
      "_view_count": null,
      "_view_module": "@jupyter-widgets/controls",
      "_view_module_version": "1.5.0",
      "_view_name": "ProgressView",
      "bar_style": "success",
      "description": "",
      "description_tooltip": null,
      "layout": "IPY_MODEL_f3c5269d10124774b79710a572d2eece",
      "max": 10775209,
      "min": 0,
      "orientation": "horizontal",
      "style": "IPY_MODEL_2748111fb2aa4096a3caa5d98327999c",
      "value": 10775209
     }
    },
    "852bd1eea9d74d6294619b5bf3c29d88": {
     "model_module": "@jupyter-widgets/base",
     "model_module_version": "1.2.0",
     "model_name": "LayoutModel",
     "state": {
      "_model_module": "@jupyter-widgets/base",
      "_model_module_version": "1.2.0",
      "_model_name": "LayoutModel",
      "_view_count": null,
      "_view_module": "@jupyter-widgets/base",
      "_view_module_version": "1.2.0",
      "_view_name": "LayoutView",
      "align_content": null,
      "align_items": null,
      "align_self": null,
      "border": null,
      "bottom": null,
      "display": null,
      "flex": null,
      "flex_flow": null,
      "grid_area": null,
      "grid_auto_columns": null,
      "grid_auto_flow": null,
      "grid_auto_rows": null,
      "grid_column": null,
      "grid_gap": null,
      "grid_row": null,
      "grid_template_areas": null,
      "grid_template_columns": null,
      "grid_template_rows": null,
      "height": null,
      "justify_content": null,
      "justify_items": null,
      "left": null,
      "margin": null,
      "max_height": null,
      "max_width": null,
      "min_height": null,
      "min_width": null,
      "object_fit": null,
      "object_position": null,
      "order": null,
      "overflow": null,
      "overflow_x": null,
      "overflow_y": null,
      "padding": null,
      "right": null,
      "top": null,
      "visibility": null,
      "width": null
     }
    },
    "8af569fe9c834ef6b471c8cf63690ba7": {
     "model_module": "@jupyter-widgets/base",
     "model_module_version": "1.2.0",
     "model_name": "LayoutModel",
     "state": {
      "_model_module": "@jupyter-widgets/base",
      "_model_module_version": "1.2.0",
      "_model_name": "LayoutModel",
      "_view_count": null,
      "_view_module": "@jupyter-widgets/base",
      "_view_module_version": "1.2.0",
      "_view_name": "LayoutView",
      "align_content": null,
      "align_items": null,
      "align_self": null,
      "border": null,
      "bottom": null,
      "display": null,
      "flex": null,
      "flex_flow": null,
      "grid_area": null,
      "grid_auto_columns": null,
      "grid_auto_flow": null,
      "grid_auto_rows": null,
      "grid_column": null,
      "grid_gap": null,
      "grid_row": null,
      "grid_template_areas": null,
      "grid_template_columns": null,
      "grid_template_rows": null,
      "height": null,
      "justify_content": null,
      "justify_items": null,
      "left": null,
      "margin": null,
      "max_height": null,
      "max_width": null,
      "min_height": null,
      "min_width": null,
      "object_fit": null,
      "object_position": null,
      "order": null,
      "overflow": null,
      "overflow_x": null,
      "overflow_y": null,
      "padding": null,
      "right": null,
      "top": null,
      "visibility": null,
      "width": null
     }
    },
    "8b3fe2859d654d60acc2f8dc0df002b6": {
     "model_module": "@jupyter-widgets/base",
     "model_module_version": "1.2.0",
     "model_name": "LayoutModel",
     "state": {
      "_model_module": "@jupyter-widgets/base",
      "_model_module_version": "1.2.0",
      "_model_name": "LayoutModel",
      "_view_count": null,
      "_view_module": "@jupyter-widgets/base",
      "_view_module_version": "1.2.0",
      "_view_name": "LayoutView",
      "align_content": null,
      "align_items": null,
      "align_self": null,
      "border": null,
      "bottom": null,
      "display": null,
      "flex": null,
      "flex_flow": null,
      "grid_area": null,
      "grid_auto_columns": null,
      "grid_auto_flow": null,
      "grid_auto_rows": null,
      "grid_column": null,
      "grid_gap": null,
      "grid_row": null,
      "grid_template_areas": null,
      "grid_template_columns": null,
      "grid_template_rows": null,
      "height": null,
      "justify_content": null,
      "justify_items": null,
      "left": null,
      "margin": null,
      "max_height": null,
      "max_width": null,
      "min_height": null,
      "min_width": null,
      "object_fit": null,
      "object_position": null,
      "order": null,
      "overflow": null,
      "overflow_x": null,
      "overflow_y": null,
      "padding": null,
      "right": null,
      "top": null,
      "visibility": null,
      "width": null
     }
    },
    "8dbd000b00e04f1c9d0d9194828dfb56": {
     "model_module": "@jupyter-widgets/controls",
     "model_module_version": "1.5.0",
     "model_name": "HTMLModel",
     "state": {
      "_dom_classes": [],
      "_model_module": "@jupyter-widgets/controls",
      "_model_module_version": "1.5.0",
      "_model_name": "HTMLModel",
      "_view_count": null,
      "_view_module": "@jupyter-widgets/controls",
      "_view_module_version": "1.5.0",
      "_view_name": "HTMLView",
      "description": "",
      "description_tooltip": null,
      "layout": "IPY_MODEL_8b3fe2859d654d60acc2f8dc0df002b6",
      "placeholder": "​",
      "style": "IPY_MODEL_274b1eedbdee4b639a4b5c52bf8ec745",
      "value": " 2/2 [00:22&lt;00:00, 10.48s/it]"
     }
    },
    "916072224bd04e92b97def308c9e27b6": {
     "model_module": "@jupyter-widgets/base",
     "model_module_version": "1.2.0",
     "model_name": "LayoutModel",
     "state": {
      "_model_module": "@jupyter-widgets/base",
      "_model_module_version": "1.2.0",
      "_model_name": "LayoutModel",
      "_view_count": null,
      "_view_module": "@jupyter-widgets/base",
      "_view_module_version": "1.2.0",
      "_view_name": "LayoutView",
      "align_content": null,
      "align_items": null,
      "align_self": null,
      "border": null,
      "bottom": null,
      "display": null,
      "flex": null,
      "flex_flow": null,
      "grid_area": null,
      "grid_auto_columns": null,
      "grid_auto_flow": null,
      "grid_auto_rows": null,
      "grid_column": null,
      "grid_gap": null,
      "grid_row": null,
      "grid_template_areas": null,
      "grid_template_columns": null,
      "grid_template_rows": null,
      "height": null,
      "justify_content": null,
      "justify_items": null,
      "left": null,
      "margin": null,
      "max_height": null,
      "max_width": null,
      "min_height": null,
      "min_width": null,
      "object_fit": null,
      "object_position": null,
      "order": null,
      "overflow": null,
      "overflow_x": null,
      "overflow_y": null,
      "padding": null,
      "right": null,
      "top": null,
      "visibility": null,
      "width": null
     }
    },
    "951d622f471c4f47aec2a14106dc418c": {
     "model_module": "@jupyter-widgets/base",
     "model_module_version": "1.2.0",
     "model_name": "LayoutModel",
     "state": {
      "_model_module": "@jupyter-widgets/base",
      "_model_module_version": "1.2.0",
      "_model_name": "LayoutModel",
      "_view_count": null,
      "_view_module": "@jupyter-widgets/base",
      "_view_module_version": "1.2.0",
      "_view_name": "LayoutView",
      "align_content": null,
      "align_items": null,
      "align_self": null,
      "border": null,
      "bottom": null,
      "display": null,
      "flex": null,
      "flex_flow": null,
      "grid_area": null,
      "grid_auto_columns": null,
      "grid_auto_flow": null,
      "grid_auto_rows": null,
      "grid_column": null,
      "grid_gap": null,
      "grid_row": null,
      "grid_template_areas": null,
      "grid_template_columns": null,
      "grid_template_rows": null,
      "height": null,
      "justify_content": null,
      "justify_items": null,
      "left": null,
      "margin": null,
      "max_height": null,
      "max_width": null,
      "min_height": null,
      "min_width": null,
      "object_fit": null,
      "object_position": null,
      "order": null,
      "overflow": null,
      "overflow_x": null,
      "overflow_y": null,
      "padding": null,
      "right": null,
      "top": null,
      "visibility": null,
      "width": null
     }
    },
    "965f1d731dfd401096fa888b5c877993": {
     "model_module": "@jupyter-widgets/controls",
     "model_module_version": "1.5.0",
     "model_name": "DescriptionStyleModel",
     "state": {
      "_model_module": "@jupyter-widgets/controls",
      "_model_module_version": "1.5.0",
      "_model_name": "DescriptionStyleModel",
      "_view_count": null,
      "_view_module": "@jupyter-widgets/base",
      "_view_module_version": "1.2.0",
      "_view_name": "StyleView",
      "description_width": ""
     }
    },
    "9c8267ae219d470d90e03df4cd68360c": {
     "model_module": "@jupyter-widgets/controls",
     "model_module_version": "1.5.0",
     "model_name": "DescriptionStyleModel",
     "state": {
      "_model_module": "@jupyter-widgets/controls",
      "_model_module_version": "1.5.0",
      "_model_name": "DescriptionStyleModel",
      "_view_count": null,
      "_view_module": "@jupyter-widgets/base",
      "_view_module_version": "1.2.0",
      "_view_name": "StyleView",
      "description_width": ""
     }
    },
    "9d139b9de64741ffab0a4ae47b90679e": {
     "model_module": "@jupyter-widgets/controls",
     "model_module_version": "1.5.0",
     "model_name": "HTMLModel",
     "state": {
      "_dom_classes": [],
      "_model_module": "@jupyter-widgets/controls",
      "_model_module_version": "1.5.0",
      "_model_name": "HTMLModel",
      "_view_count": null,
      "_view_module": "@jupyter-widgets/controls",
      "_view_module_version": "1.5.0",
      "_view_name": "HTMLView",
      "description": "",
      "description_tooltip": null,
      "layout": "IPY_MODEL_db4e018a36fc490db5e6d4ce2e04896c",
      "placeholder": "​",
      "style": "IPY_MODEL_9c8267ae219d470d90e03df4cd68360c",
      "value": "Downloading result: 100%"
     }
    },
    "a08aa53f1c584b0295a91c8fca8ff10c": {
     "model_module": "@jupyter-widgets/base",
     "model_module_version": "1.2.0",
     "model_name": "LayoutModel",
     "state": {
      "_model_module": "@jupyter-widgets/base",
      "_model_module_version": "1.2.0",
      "_model_name": "LayoutModel",
      "_view_count": null,
      "_view_module": "@jupyter-widgets/base",
      "_view_module_version": "1.2.0",
      "_view_name": "LayoutView",
      "align_content": null,
      "align_items": null,
      "align_self": null,
      "border": null,
      "bottom": null,
      "display": null,
      "flex": null,
      "flex_flow": null,
      "grid_area": null,
      "grid_auto_columns": null,
      "grid_auto_flow": null,
      "grid_auto_rows": null,
      "grid_column": null,
      "grid_gap": null,
      "grid_row": null,
      "grid_template_areas": null,
      "grid_template_columns": null,
      "grid_template_rows": null,
      "height": null,
      "justify_content": null,
      "justify_items": null,
      "left": null,
      "margin": null,
      "max_height": null,
      "max_width": null,
      "min_height": null,
      "min_width": null,
      "object_fit": null,
      "object_position": null,
      "order": null,
      "overflow": null,
      "overflow_x": null,
      "overflow_y": null,
      "padding": null,
      "right": null,
      "top": null,
      "visibility": null,
      "width": null
     }
    },
    "a211c602ba6c4a2faf692df8fbd17321": {
     "model_module": "@jupyter-widgets/base",
     "model_module_version": "1.2.0",
     "model_name": "LayoutModel",
     "state": {
      "_model_module": "@jupyter-widgets/base",
      "_model_module_version": "1.2.0",
      "_model_name": "LayoutModel",
      "_view_count": null,
      "_view_module": "@jupyter-widgets/base",
      "_view_module_version": "1.2.0",
      "_view_name": "LayoutView",
      "align_content": null,
      "align_items": null,
      "align_self": null,
      "border": null,
      "bottom": null,
      "display": null,
      "flex": null,
      "flex_flow": null,
      "grid_area": null,
      "grid_auto_columns": null,
      "grid_auto_flow": null,
      "grid_auto_rows": null,
      "grid_column": null,
      "grid_gap": null,
      "grid_row": null,
      "grid_template_areas": null,
      "grid_template_columns": null,
      "grid_template_rows": null,
      "height": null,
      "justify_content": null,
      "justify_items": null,
      "left": null,
      "margin": null,
      "max_height": null,
      "max_width": null,
      "min_height": null,
      "min_width": null,
      "object_fit": null,
      "object_position": null,
      "order": null,
      "overflow": null,
      "overflow_x": null,
      "overflow_y": null,
      "padding": null,
      "right": null,
      "top": null,
      "visibility": null,
      "width": null
     }
    },
    "a234baf7ac8f40dc99d7e61ce9419595": {
     "model_module": "@jupyter-widgets/controls",
     "model_module_version": "1.5.0",
     "model_name": "DescriptionStyleModel",
     "state": {
      "_model_module": "@jupyter-widgets/controls",
      "_model_module_version": "1.5.0",
      "_model_name": "DescriptionStyleModel",
      "_view_count": null,
      "_view_module": "@jupyter-widgets/base",
      "_view_module_version": "1.2.0",
      "_view_name": "StyleView",
      "description_width": ""
     }
    },
    "a6229aaca92c44a8a55cdee45391ea94": {
     "model_module": "@jupyter-widgets/controls",
     "model_module_version": "1.5.0",
     "model_name": "HTMLModel",
     "state": {
      "_dom_classes": [],
      "_model_module": "@jupyter-widgets/controls",
      "_model_module_version": "1.5.0",
      "_model_name": "HTMLModel",
      "_view_count": null,
      "_view_module": "@jupyter-widgets/controls",
      "_view_module_version": "1.5.0",
      "_view_name": "HTMLView",
      "description": "",
      "description_tooltip": null,
      "layout": "IPY_MODEL_ef4518468c024de9a371271ad699660f",
      "placeholder": "​",
      "style": "IPY_MODEL_50d763b848264a3aa4627126e19007a3",
      "value": " 10.8M/10.8M [00:00&lt;00:00, 49.1MB/s]"
     }
    },
    "acc15292165549c0a380a8bba68df267": {
     "model_module": "@jupyter-widgets/controls",
     "model_module_version": "1.5.0",
     "model_name": "HTMLModel",
     "state": {
      "_dom_classes": [],
      "_model_module": "@jupyter-widgets/controls",
      "_model_module_version": "1.5.0",
      "_model_name": "HTMLModel",
      "_view_count": null,
      "_view_module": "@jupyter-widgets/controls",
      "_view_module_version": "1.5.0",
      "_view_name": "HTMLView",
      "description": "",
      "description_tooltip": null,
      "layout": "IPY_MODEL_a08aa53f1c584b0295a91c8fca8ff10c",
      "placeholder": "​",
      "style": "IPY_MODEL_1d164b6dd39a4a01b6f8fcddf60f7b6e",
      "value": "<center> <img\nsrc=https://huggingface.co/front/assets/huggingface_logo-noborder.svg\nalt='Hugging Face'> <br> Copy a token from <a\nhref=\"https://huggingface.co/settings/tokens\" target=\"_blank\">your Hugging Face\ntokens page</a> and paste it below. <br> Immediately click login after copying\nyour token or it might be stored in plain text in this notebook file. </center>"
     }
    },
    "acd47b2d5e1e48c88720507f5068be95": {
     "model_module": "@jupyter-widgets/base",
     "model_module_version": "1.2.0",
     "model_name": "LayoutModel",
     "state": {
      "_model_module": "@jupyter-widgets/base",
      "_model_module_version": "1.2.0",
      "_model_name": "LayoutModel",
      "_view_count": null,
      "_view_module": "@jupyter-widgets/base",
      "_view_module_version": "1.2.0",
      "_view_name": "LayoutView",
      "align_content": null,
      "align_items": null,
      "align_self": null,
      "border": null,
      "bottom": null,
      "display": null,
      "flex": null,
      "flex_flow": null,
      "grid_area": null,
      "grid_auto_columns": null,
      "grid_auto_flow": null,
      "grid_auto_rows": null,
      "grid_column": null,
      "grid_gap": null,
      "grid_row": null,
      "grid_template_areas": null,
      "grid_template_columns": null,
      "grid_template_rows": null,
      "height": null,
      "justify_content": null,
      "justify_items": null,
      "left": null,
      "margin": null,
      "max_height": null,
      "max_width": null,
      "min_height": null,
      "min_width": null,
      "object_fit": null,
      "object_position": null,
      "order": null,
      "overflow": null,
      "overflow_x": null,
      "overflow_y": null,
      "padding": null,
      "right": null,
      "top": null,
      "visibility": null,
      "width": null
     }
    },
    "b08bc9e9ec1a40458a5d88fecdf9c92b": {
     "model_module": "@jupyter-widgets/controls",
     "model_module_version": "1.5.0",
     "model_name": "FloatProgressModel",
     "state": {
      "_dom_classes": [],
      "_model_module": "@jupyter-widgets/controls",
      "_model_module_version": "1.5.0",
      "_model_name": "FloatProgressModel",
      "_view_count": null,
      "_view_module": "@jupyter-widgets/controls",
      "_view_module_version": "1.5.0",
      "_view_name": "ProgressView",
      "bar_style": "success",
      "description": "",
      "description_tooltip": null,
      "layout": "IPY_MODEL_6c28138052e847f09c0e531016ada90b",
      "max": 10775209,
      "min": 0,
      "orientation": "horizontal",
      "style": "IPY_MODEL_65359db59a034085a7b67bdcf056cadf",
      "value": 10775209
     }
    },
    "b2ed4bbb159a461a95ee80232e3ddc47": {
     "model_module": "@jupyter-widgets/base",
     "model_module_version": "1.2.0",
     "model_name": "LayoutModel",
     "state": {
      "_model_module": "@jupyter-widgets/base",
      "_model_module_version": "1.2.0",
      "_model_name": "LayoutModel",
      "_view_count": null,
      "_view_module": "@jupyter-widgets/base",
      "_view_module_version": "1.2.0",
      "_view_name": "LayoutView",
      "align_content": null,
      "align_items": null,
      "align_self": null,
      "border": null,
      "bottom": null,
      "display": null,
      "flex": null,
      "flex_flow": null,
      "grid_area": null,
      "grid_auto_columns": null,
      "grid_auto_flow": null,
      "grid_auto_rows": null,
      "grid_column": null,
      "grid_gap": null,
      "grid_row": null,
      "grid_template_areas": null,
      "grid_template_columns": null,
      "grid_template_rows": null,
      "height": null,
      "justify_content": null,
      "justify_items": null,
      "left": null,
      "margin": null,
      "max_height": null,
      "max_width": null,
      "min_height": null,
      "min_width": null,
      "object_fit": null,
      "object_position": null,
      "order": null,
      "overflow": null,
      "overflow_x": null,
      "overflow_y": null,
      "padding": null,
      "right": null,
      "top": null,
      "visibility": null,
      "width": null
     }
    },
    "b57cddea8778476fa63bb69a5779221c": {
     "model_module": "@jupyter-widgets/controls",
     "model_module_version": "1.5.0",
     "model_name": "FloatProgressModel",
     "state": {
      "_dom_classes": [],
      "_model_module": "@jupyter-widgets/controls",
      "_model_module_version": "1.5.0",
      "_model_name": "FloatProgressModel",
      "_view_count": null,
      "_view_module": "@jupyter-widgets/controls",
      "_view_module_version": "1.5.0",
      "_view_name": "ProgressView",
      "bar_style": "success",
      "description": "",
      "description_tooltip": null,
      "layout": "IPY_MODEL_5b78a3110ed14457986690a584da1275",
      "max": 10775209,
      "min": 0,
      "orientation": "horizontal",
      "style": "IPY_MODEL_d59cf3b0f5a94a3593d567e5386464cf",
      "value": 10775209
     }
    },
    "b9c3b711250441febc5322ec5c9a1d3a": {
     "model_module": "@jupyter-widgets/controls",
     "model_module_version": "1.5.0",
     "model_name": "HBoxModel",
     "state": {
      "_dom_classes": [],
      "_model_module": "@jupyter-widgets/controls",
      "_model_module_version": "1.5.0",
      "_model_name": "HBoxModel",
      "_view_count": null,
      "_view_module": "@jupyter-widgets/controls",
      "_view_module_version": "1.5.0",
      "_view_name": "HBoxView",
      "box_style": "",
      "children": [
       "IPY_MODEL_623430e3daab470b9ee2be9e0fc26240",
       "IPY_MODEL_81c5b0817f494a479fae0bc4ba9d11d9",
       "IPY_MODEL_6b23c858111743d3bce0d12189e571c3"
      ],
      "layout": "IPY_MODEL_285fcf2441e240b586467dbed4096656"
     }
    },
    "bb9f30ea2046499f9126b29cde5f43b5": {
     "model_module": "@jupyter-widgets/controls",
     "model_module_version": "1.5.0",
     "model_name": "CheckboxModel",
     "state": {
      "_dom_classes": [],
      "_model_module": "@jupyter-widgets/controls",
      "_model_module_version": "1.5.0",
      "_model_name": "CheckboxModel",
      "_view_count": null,
      "_view_module": "@jupyter-widgets/controls",
      "_view_module_version": "1.5.0",
      "_view_name": "CheckboxView",
      "description": "Add token as git credential?",
      "description_tooltip": null,
      "disabled": false,
      "indent": true,
      "layout": "IPY_MODEL_e8e36b88a3b34e4385fb4e6fbd7eefc9",
      "style": "IPY_MODEL_40c0df05655a414a8d4cea371f28fafb",
      "value": true
     }
    },
    "bca09d9ce8454a1d9cfd5d0de576f920": {
     "model_module": "@jupyter-widgets/base",
     "model_module_version": "1.2.0",
     "model_name": "LayoutModel",
     "state": {
      "_model_module": "@jupyter-widgets/base",
      "_model_module_version": "1.2.0",
      "_model_name": "LayoutModel",
      "_view_count": null,
      "_view_module": "@jupyter-widgets/base",
      "_view_module_version": "1.2.0",
      "_view_name": "LayoutView",
      "align_content": null,
      "align_items": null,
      "align_self": null,
      "border": null,
      "bottom": null,
      "display": null,
      "flex": null,
      "flex_flow": null,
      "grid_area": null,
      "grid_auto_columns": null,
      "grid_auto_flow": null,
      "grid_auto_rows": null,
      "grid_column": null,
      "grid_gap": null,
      "grid_row": null,
      "grid_template_areas": null,
      "grid_template_columns": null,
      "grid_template_rows": null,
      "height": null,
      "justify_content": null,
      "justify_items": null,
      "left": null,
      "margin": null,
      "max_height": null,
      "max_width": null,
      "min_height": null,
      "min_width": null,
      "object_fit": null,
      "object_position": null,
      "order": null,
      "overflow": null,
      "overflow_x": null,
      "overflow_y": null,
      "padding": null,
      "right": null,
      "top": null,
      "visibility": null,
      "width": null
     }
    },
    "bd0728057f45475cab3252a189243559": {
     "model_module": "@jupyter-widgets/base",
     "model_module_version": "1.2.0",
     "model_name": "LayoutModel",
     "state": {
      "_model_module": "@jupyter-widgets/base",
      "_model_module_version": "1.2.0",
      "_model_name": "LayoutModel",
      "_view_count": null,
      "_view_module": "@jupyter-widgets/base",
      "_view_module_version": "1.2.0",
      "_view_name": "LayoutView",
      "align_content": null,
      "align_items": null,
      "align_self": null,
      "border": null,
      "bottom": null,
      "display": null,
      "flex": null,
      "flex_flow": null,
      "grid_area": null,
      "grid_auto_columns": null,
      "grid_auto_flow": null,
      "grid_auto_rows": null,
      "grid_column": null,
      "grid_gap": null,
      "grid_row": null,
      "grid_template_areas": null,
      "grid_template_columns": null,
      "grid_template_rows": null,
      "height": null,
      "justify_content": null,
      "justify_items": null,
      "left": null,
      "margin": null,
      "max_height": null,
      "max_width": null,
      "min_height": null,
      "min_width": null,
      "object_fit": null,
      "object_position": null,
      "order": null,
      "overflow": null,
      "overflow_x": null,
      "overflow_y": null,
      "padding": null,
      "right": null,
      "top": null,
      "visibility": null,
      "width": null
     }
    },
    "be62791231cc4468beca65a23b051edf": {
     "model_module": "@jupyter-widgets/base",
     "model_module_version": "1.2.0",
     "model_name": "LayoutModel",
     "state": {
      "_model_module": "@jupyter-widgets/base",
      "_model_module_version": "1.2.0",
      "_model_name": "LayoutModel",
      "_view_count": null,
      "_view_module": "@jupyter-widgets/base",
      "_view_module_version": "1.2.0",
      "_view_name": "LayoutView",
      "align_content": null,
      "align_items": null,
      "align_self": null,
      "border": null,
      "bottom": null,
      "display": null,
      "flex": null,
      "flex_flow": null,
      "grid_area": null,
      "grid_auto_columns": null,
      "grid_auto_flow": null,
      "grid_auto_rows": null,
      "grid_column": null,
      "grid_gap": null,
      "grid_row": null,
      "grid_template_areas": null,
      "grid_template_columns": null,
      "grid_template_rows": null,
      "height": null,
      "justify_content": null,
      "justify_items": null,
      "left": null,
      "margin": null,
      "max_height": null,
      "max_width": null,
      "min_height": null,
      "min_width": null,
      "object_fit": null,
      "object_position": null,
      "order": null,
      "overflow": null,
      "overflow_x": null,
      "overflow_y": null,
      "padding": null,
      "right": null,
      "top": null,
      "visibility": null,
      "width": null
     }
    },
    "c29a875ea327495d9e49d01b91ee89d7": {
     "model_module": "@jupyter-widgets/controls",
     "model_module_version": "1.5.0",
     "model_name": "HBoxModel",
     "state": {
      "_dom_classes": [],
      "_model_module": "@jupyter-widgets/controls",
      "_model_module_version": "1.5.0",
      "_model_name": "HBoxModel",
      "_view_count": null,
      "_view_module": "@jupyter-widgets/controls",
      "_view_module_version": "1.5.0",
      "_view_name": "HBoxView",
      "box_style": "",
      "children": [
       "IPY_MODEL_9d139b9de64741ffab0a4ae47b90679e",
       "IPY_MODEL_1b274644b7f54062aff5ef24a7a285ee",
       "IPY_MODEL_f2b1e1cdd01549fbb2684ddce04b7c0c"
      ],
      "layout": "IPY_MODEL_a211c602ba6c4a2faf692df8fbd17321"
     }
    },
    "c32c33f9e88f46ab860c3696b23817da": {
     "model_module": "@jupyter-widgets/controls",
     "model_module_version": "1.5.0",
     "model_name": "ButtonStyleModel",
     "state": {
      "_model_module": "@jupyter-widgets/controls",
      "_model_module_version": "1.5.0",
      "_model_name": "ButtonStyleModel",
      "_view_count": null,
      "_view_module": "@jupyter-widgets/base",
      "_view_module_version": "1.2.0",
      "_view_name": "StyleView",
      "button_color": null,
      "font_weight": ""
     }
    },
    "ca36cfa3176a4ad59b46ed1507ba3732": {
     "model_module": "@jupyter-widgets/controls",
     "model_module_version": "1.5.0",
     "model_name": "HTMLModel",
     "state": {
      "_dom_classes": [],
      "_model_module": "@jupyter-widgets/controls",
      "_model_module_version": "1.5.0",
      "_model_name": "HTMLModel",
      "_view_count": null,
      "_view_module": "@jupyter-widgets/controls",
      "_view_module_version": "1.5.0",
      "_view_name": "HTMLView",
      "description": "",
      "description_tooltip": null,
      "layout": "IPY_MODEL_1207161ca47a4ce09fce70532c484013",
      "placeholder": "​",
      "style": "IPY_MODEL_52fdaae91ef8407f9f60e1c61980202f",
      "value": " 10.8M/10.8M [00:00&lt;00:00, 50.5MB/s]"
     }
    },
    "ca7a3351d9944c6d95645eabc78aed57": {
     "model_module": "@jupyter-widgets/controls",
     "model_module_version": "1.5.0",
     "model_name": "HBoxModel",
     "state": {
      "_dom_classes": [],
      "_model_module": "@jupyter-widgets/controls",
      "_model_module_version": "1.5.0",
      "_model_name": "HBoxModel",
      "_view_count": null,
      "_view_module": "@jupyter-widgets/controls",
      "_view_module_version": "1.5.0",
      "_view_name": "HBoxView",
      "box_style": "",
      "children": [
       "IPY_MODEL_f612ee833e9347399b8332e76312e8ba",
       "IPY_MODEL_b08bc9e9ec1a40458a5d88fecdf9c92b",
       "IPY_MODEL_ca36cfa3176a4ad59b46ed1507ba3732"
      ],
      "layout": "IPY_MODEL_ff1383518c1949828842d7b8ad6f71c6"
     }
    },
    "cac03b90f6eb41d0b7569b26608a32a6": {
     "model_module": "@jupyter-widgets/controls",
     "model_module_version": "1.5.0",
     "model_name": "CheckboxModel",
     "state": {
      "_dom_classes": [],
      "_model_module": "@jupyter-widgets/controls",
      "_model_module_version": "1.5.0",
      "_model_name": "CheckboxModel",
      "_view_count": null,
      "_view_module": "@jupyter-widgets/controls",
      "_view_module_version": "1.5.0",
      "_view_name": "CheckboxView",
      "description": "Add token as git credential?",
      "description_tooltip": null,
      "disabled": false,
      "indent": true,
      "layout": "IPY_MODEL_be62791231cc4468beca65a23b051edf",
      "style": "IPY_MODEL_3483fc34e1a1447c9acd9abaddd57544",
      "value": true
     }
    },
    "d5350b5bac5f4cff98734a941b4b697d": {
     "model_module": "@jupyter-widgets/base",
     "model_module_version": "1.2.0",
     "model_name": "LayoutModel",
     "state": {
      "_model_module": "@jupyter-widgets/base",
      "_model_module_version": "1.2.0",
      "_model_name": "LayoutModel",
      "_view_count": null,
      "_view_module": "@jupyter-widgets/base",
      "_view_module_version": "1.2.0",
      "_view_name": "LayoutView",
      "align_content": null,
      "align_items": null,
      "align_self": null,
      "border": null,
      "bottom": null,
      "display": null,
      "flex": null,
      "flex_flow": null,
      "grid_area": null,
      "grid_auto_columns": null,
      "grid_auto_flow": null,
      "grid_auto_rows": null,
      "grid_column": null,
      "grid_gap": null,
      "grid_row": null,
      "grid_template_areas": null,
      "grid_template_columns": null,
      "grid_template_rows": null,
      "height": null,
      "justify_content": null,
      "justify_items": null,
      "left": null,
      "margin": null,
      "max_height": null,
      "max_width": null,
      "min_height": null,
      "min_width": null,
      "object_fit": null,
      "object_position": null,
      "order": null,
      "overflow": null,
      "overflow_x": null,
      "overflow_y": null,
      "padding": null,
      "right": null,
      "top": null,
      "visibility": null,
      "width": null
     }
    },
    "d59cf3b0f5a94a3593d567e5386464cf": {
     "model_module": "@jupyter-widgets/controls",
     "model_module_version": "1.5.0",
     "model_name": "ProgressStyleModel",
     "state": {
      "_model_module": "@jupyter-widgets/controls",
      "_model_module_version": "1.5.0",
      "_model_name": "ProgressStyleModel",
      "_view_count": null,
      "_view_module": "@jupyter-widgets/base",
      "_view_module_version": "1.2.0",
      "_view_name": "StyleView",
      "bar_color": null,
      "description_width": ""
     }
    },
    "d99cbd3176c848f0bdfb37e03da8452a": {
     "model_module": "@jupyter-widgets/base",
     "model_module_version": "1.2.0",
     "model_name": "LayoutModel",
     "state": {
      "_model_module": "@jupyter-widgets/base",
      "_model_module_version": "1.2.0",
      "_model_name": "LayoutModel",
      "_view_count": null,
      "_view_module": "@jupyter-widgets/base",
      "_view_module_version": "1.2.0",
      "_view_name": "LayoutView",
      "align_content": null,
      "align_items": null,
      "align_self": null,
      "border": null,
      "bottom": null,
      "display": null,
      "flex": null,
      "flex_flow": null,
      "grid_area": null,
      "grid_auto_columns": null,
      "grid_auto_flow": null,
      "grid_auto_rows": null,
      "grid_column": null,
      "grid_gap": null,
      "grid_row": null,
      "grid_template_areas": null,
      "grid_template_columns": null,
      "grid_template_rows": null,
      "height": null,
      "justify_content": null,
      "justify_items": null,
      "left": null,
      "margin": null,
      "max_height": null,
      "max_width": null,
      "min_height": null,
      "min_width": null,
      "object_fit": null,
      "object_position": null,
      "order": null,
      "overflow": null,
      "overflow_x": null,
      "overflow_y": null,
      "padding": null,
      "right": null,
      "top": null,
      "visibility": null,
      "width": null
     }
    },
    "daab77c9341a4962a16a703951a2c2ac": {
     "model_module": "@jupyter-widgets/base",
     "model_module_version": "1.2.0",
     "model_name": "LayoutModel",
     "state": {
      "_model_module": "@jupyter-widgets/base",
      "_model_module_version": "1.2.0",
      "_model_name": "LayoutModel",
      "_view_count": null,
      "_view_module": "@jupyter-widgets/base",
      "_view_module_version": "1.2.0",
      "_view_name": "LayoutView",
      "align_content": null,
      "align_items": null,
      "align_self": null,
      "border": null,
      "bottom": null,
      "display": null,
      "flex": null,
      "flex_flow": null,
      "grid_area": null,
      "grid_auto_columns": null,
      "grid_auto_flow": null,
      "grid_auto_rows": null,
      "grid_column": null,
      "grid_gap": null,
      "grid_row": null,
      "grid_template_areas": null,
      "grid_template_columns": null,
      "grid_template_rows": null,
      "height": null,
      "justify_content": null,
      "justify_items": null,
      "left": null,
      "margin": null,
      "max_height": null,
      "max_width": null,
      "min_height": null,
      "min_width": null,
      "object_fit": null,
      "object_position": null,
      "order": null,
      "overflow": null,
      "overflow_x": null,
      "overflow_y": null,
      "padding": null,
      "right": null,
      "top": null,
      "visibility": null,
      "width": null
     }
    },
    "db4e018a36fc490db5e6d4ce2e04896c": {
     "model_module": "@jupyter-widgets/base",
     "model_module_version": "1.2.0",
     "model_name": "LayoutModel",
     "state": {
      "_model_module": "@jupyter-widgets/base",
      "_model_module_version": "1.2.0",
      "_model_name": "LayoutModel",
      "_view_count": null,
      "_view_module": "@jupyter-widgets/base",
      "_view_module_version": "1.2.0",
      "_view_name": "LayoutView",
      "align_content": null,
      "align_items": null,
      "align_self": null,
      "border": null,
      "bottom": null,
      "display": null,
      "flex": null,
      "flex_flow": null,
      "grid_area": null,
      "grid_auto_columns": null,
      "grid_auto_flow": null,
      "grid_auto_rows": null,
      "grid_column": null,
      "grid_gap": null,
      "grid_row": null,
      "grid_template_areas": null,
      "grid_template_columns": null,
      "grid_template_rows": null,
      "height": null,
      "justify_content": null,
      "justify_items": null,
      "left": null,
      "margin": null,
      "max_height": null,
      "max_width": null,
      "min_height": null,
      "min_width": null,
      "object_fit": null,
      "object_position": null,
      "order": null,
      "overflow": null,
      "overflow_x": null,
      "overflow_y": null,
      "padding": null,
      "right": null,
      "top": null,
      "visibility": null,
      "width": null
     }
    },
    "dc7f9276e8404710aefd3059efccd3ac": {
     "model_module": "@jupyter-widgets/controls",
     "model_module_version": "1.5.0",
     "model_name": "DescriptionStyleModel",
     "state": {
      "_model_module": "@jupyter-widgets/controls",
      "_model_module_version": "1.5.0",
      "_model_name": "DescriptionStyleModel",
      "_view_count": null,
      "_view_module": "@jupyter-widgets/base",
      "_view_module_version": "1.2.0",
      "_view_name": "StyleView",
      "description_width": ""
     }
    },
    "dd259832add24878be0123b2fc2e96ba": {
     "model_module": "@jupyter-widgets/base",
     "model_module_version": "1.2.0",
     "model_name": "LayoutModel",
     "state": {
      "_model_module": "@jupyter-widgets/base",
      "_model_module_version": "1.2.0",
      "_model_name": "LayoutModel",
      "_view_count": null,
      "_view_module": "@jupyter-widgets/base",
      "_view_module_version": "1.2.0",
      "_view_name": "LayoutView",
      "align_content": null,
      "align_items": null,
      "align_self": null,
      "border": null,
      "bottom": null,
      "display": null,
      "flex": null,
      "flex_flow": null,
      "grid_area": null,
      "grid_auto_columns": null,
      "grid_auto_flow": null,
      "grid_auto_rows": null,
      "grid_column": null,
      "grid_gap": null,
      "grid_row": null,
      "grid_template_areas": null,
      "grid_template_columns": null,
      "grid_template_rows": null,
      "height": null,
      "justify_content": null,
      "justify_items": null,
      "left": null,
      "margin": null,
      "max_height": null,
      "max_width": null,
      "min_height": null,
      "min_width": null,
      "object_fit": null,
      "object_position": null,
      "order": null,
      "overflow": null,
      "overflow_x": null,
      "overflow_y": null,
      "padding": null,
      "right": null,
      "top": null,
      "visibility": null,
      "width": null
     }
    },
    "dec5343f490d4a37bb84513963c610b1": {
     "model_module": "@jupyter-widgets/controls",
     "model_module_version": "1.5.0",
     "model_name": "HTMLModel",
     "state": {
      "_dom_classes": [],
      "_model_module": "@jupyter-widgets/controls",
      "_model_module_version": "1.5.0",
      "_model_name": "HTMLModel",
      "_view_count": null,
      "_view_module": "@jupyter-widgets/controls",
      "_view_module_version": "1.5.0",
      "_view_name": "HTMLView",
      "description": "",
      "description_tooltip": null,
      "layout": "IPY_MODEL_57cb76d5f0cd447ba6d9db8019df25eb",
      "placeholder": "​",
      "style": "IPY_MODEL_79fc1c0ea79e4bb6b388dc9930270945",
      "value": "Downloading result: 100%"
     }
    },
    "dfcf1f9999e44bb89511fbd774992cee": {
     "model_module": "@jupyter-widgets/controls",
     "model_module_version": "1.5.0",
     "model_name": "HTMLModel",
     "state": {
      "_dom_classes": [],
      "_model_module": "@jupyter-widgets/controls",
      "_model_module_version": "1.5.0",
      "_model_name": "HTMLModel",
      "_view_count": null,
      "_view_module": "@jupyter-widgets/controls",
      "_view_module_version": "1.5.0",
      "_view_name": "HTMLView",
      "description": "",
      "description_tooltip": null,
      "layout": "IPY_MODEL_0e9f895c324e4aeb8731e8f51945ec08",
      "placeholder": "​",
      "style": "IPY_MODEL_62a8ff6f67744331ae2c8855c79f64b3",
      "value": " 36.1M/36.1M [00:00&lt;00:00, 44.9MB/s]"
     }
    },
    "e28c91e356304371b26a5546247148bf": {
     "model_module": "@jupyter-widgets/controls",
     "model_module_version": "1.5.0",
     "model_name": "HTMLModel",
     "state": {
      "_dom_classes": [],
      "_model_module": "@jupyter-widgets/controls",
      "_model_module_version": "1.5.0",
      "_model_name": "HTMLModel",
      "_view_count": null,
      "_view_module": "@jupyter-widgets/controls",
      "_view_module_version": "1.5.0",
      "_view_name": "HTMLView",
      "description": "",
      "description_tooltip": null,
      "layout": "IPY_MODEL_5a7c7089151a47a88da8af82cf124685",
      "placeholder": "​",
      "style": "IPY_MODEL_0aa65b7d858b43f3ba43344502875e96",
      "value": "Downloading result: 100%"
     }
    },
    "e5b91b551cde44c49ec62caa573f4580": {
     "model_module": "@jupyter-widgets/controls",
     "model_module_version": "1.5.0",
     "model_name": "HBoxModel",
     "state": {
      "_dom_classes": [],
      "_model_module": "@jupyter-widgets/controls",
      "_model_module_version": "1.5.0",
      "_model_name": "HBoxModel",
      "_view_count": null,
      "_view_module": "@jupyter-widgets/controls",
      "_view_module_version": "1.5.0",
      "_view_name": "HBoxView",
      "box_style": "",
      "children": [
       "IPY_MODEL_eeca2c7207c44180a74231bebfd46bf7",
       "IPY_MODEL_36c47c84578c45f4b3a725bbf34e7d25",
       "IPY_MODEL_dfcf1f9999e44bb89511fbd774992cee"
      ],
      "layout": "IPY_MODEL_44327db96c954732823aa1b96d1e9c8d"
     }
    },
    "e8e36b88a3b34e4385fb4e6fbd7eefc9": {
     "model_module": "@jupyter-widgets/base",
     "model_module_version": "1.2.0",
     "model_name": "LayoutModel",
     "state": {
      "_model_module": "@jupyter-widgets/base",
      "_model_module_version": "1.2.0",
      "_model_name": "LayoutModel",
      "_view_count": null,
      "_view_module": "@jupyter-widgets/base",
      "_view_module_version": "1.2.0",
      "_view_name": "LayoutView",
      "align_content": null,
      "align_items": null,
      "align_self": null,
      "border": null,
      "bottom": null,
      "display": null,
      "flex": null,
      "flex_flow": null,
      "grid_area": null,
      "grid_auto_columns": null,
      "grid_auto_flow": null,
      "grid_auto_rows": null,
      "grid_column": null,
      "grid_gap": null,
      "grid_row": null,
      "grid_template_areas": null,
      "grid_template_columns": null,
      "grid_template_rows": null,
      "height": null,
      "justify_content": null,
      "justify_items": null,
      "left": null,
      "margin": null,
      "max_height": null,
      "max_width": null,
      "min_height": null,
      "min_width": null,
      "object_fit": null,
      "object_position": null,
      "order": null,
      "overflow": null,
      "overflow_x": null,
      "overflow_y": null,
      "padding": null,
      "right": null,
      "top": null,
      "visibility": null,
      "width": null
     }
    },
    "eae08d86d7ca42aa96c39793cea2fd3e": {
     "model_module": "@jupyter-widgets/base",
     "model_module_version": "1.2.0",
     "model_name": "LayoutModel",
     "state": {
      "_model_module": "@jupyter-widgets/base",
      "_model_module_version": "1.2.0",
      "_model_name": "LayoutModel",
      "_view_count": null,
      "_view_module": "@jupyter-widgets/base",
      "_view_module_version": "1.2.0",
      "_view_name": "LayoutView",
      "align_content": null,
      "align_items": null,
      "align_self": null,
      "border": null,
      "bottom": null,
      "display": null,
      "flex": null,
      "flex_flow": null,
      "grid_area": null,
      "grid_auto_columns": null,
      "grid_auto_flow": null,
      "grid_auto_rows": null,
      "grid_column": null,
      "grid_gap": null,
      "grid_row": null,
      "grid_template_areas": null,
      "grid_template_columns": null,
      "grid_template_rows": null,
      "height": null,
      "justify_content": null,
      "justify_items": null,
      "left": null,
      "margin": null,
      "max_height": null,
      "max_width": null,
      "min_height": null,
      "min_width": null,
      "object_fit": null,
      "object_position": null,
      "order": null,
      "overflow": null,
      "overflow_x": null,
      "overflow_y": null,
      "padding": null,
      "right": null,
      "top": null,
      "visibility": null,
      "width": null
     }
    },
    "ee39cbbfe3074105a5b4a3c4a670e24d": {
     "model_module": "@jupyter-widgets/controls",
     "model_module_version": "1.5.0",
     "model_name": "HTMLModel",
     "state": {
      "_dom_classes": [],
      "_model_module": "@jupyter-widgets/controls",
      "_model_module_version": "1.5.0",
      "_model_name": "HTMLModel",
      "_view_count": null,
      "_view_module": "@jupyter-widgets/controls",
      "_view_module_version": "1.5.0",
      "_view_name": "HTMLView",
      "description": "",
      "description_tooltip": null,
      "layout": "IPY_MODEL_dd259832add24878be0123b2fc2e96ba",
      "placeholder": "​",
      "style": "IPY_MODEL_1fa82df6757e4a18b37ed41fcba189ba",
      "value": "\n<b>Pro Tip:</b> If you don't already have one, you can create a dedicated\n'notebooks' token with 'write' access, that you can then easily reuse for all\nnotebooks. </center>"
     }
    },
    "eeca2c7207c44180a74231bebfd46bf7": {
     "model_module": "@jupyter-widgets/controls",
     "model_module_version": "1.5.0",
     "model_name": "HTMLModel",
     "state": {
      "_dom_classes": [],
      "_model_module": "@jupyter-widgets/controls",
      "_model_module_version": "1.5.0",
      "_model_name": "HTMLModel",
      "_view_count": null,
      "_view_module": "@jupyter-widgets/controls",
      "_view_module_version": "1.5.0",
      "_view_name": "HTMLView",
      "description": "",
      "description_tooltip": null,
      "layout": "IPY_MODEL_1e622f13b2534690bca082595b8be97a",
      "placeholder": "​",
      "style": "IPY_MODEL_965f1d731dfd401096fa888b5c877993",
      "value": "Downloading result: 100%"
     }
    },
    "ef4518468c024de9a371271ad699660f": {
     "model_module": "@jupyter-widgets/base",
     "model_module_version": "1.2.0",
     "model_name": "LayoutModel",
     "state": {
      "_model_module": "@jupyter-widgets/base",
      "_model_module_version": "1.2.0",
      "_model_name": "LayoutModel",
      "_view_count": null,
      "_view_module": "@jupyter-widgets/base",
      "_view_module_version": "1.2.0",
      "_view_name": "LayoutView",
      "align_content": null,
      "align_items": null,
      "align_self": null,
      "border": null,
      "bottom": null,
      "display": null,
      "flex": null,
      "flex_flow": null,
      "grid_area": null,
      "grid_auto_columns": null,
      "grid_auto_flow": null,
      "grid_auto_rows": null,
      "grid_column": null,
      "grid_gap": null,
      "grid_row": null,
      "grid_template_areas": null,
      "grid_template_columns": null,
      "grid_template_rows": null,
      "height": null,
      "justify_content": null,
      "justify_items": null,
      "left": null,
      "margin": null,
      "max_height": null,
      "max_width": null,
      "min_height": null,
      "min_width": null,
      "object_fit": null,
      "object_position": null,
      "order": null,
      "overflow": null,
      "overflow_x": null,
      "overflow_y": null,
      "padding": null,
      "right": null,
      "top": null,
      "visibility": null,
      "width": null
     }
    },
    "f2b1e1cdd01549fbb2684ddce04b7c0c": {
     "model_module": "@jupyter-widgets/controls",
     "model_module_version": "1.5.0",
     "model_name": "HTMLModel",
     "state": {
      "_dom_classes": [],
      "_model_module": "@jupyter-widgets/controls",
      "_model_module_version": "1.5.0",
      "_model_name": "HTMLModel",
      "_view_count": null,
      "_view_module": "@jupyter-widgets/controls",
      "_view_module_version": "1.5.0",
      "_view_name": "HTMLView",
      "description": "",
      "description_tooltip": null,
      "layout": "IPY_MODEL_13eced3acad846b5a45c606be5e67fc5",
      "placeholder": "​",
      "style": "IPY_MODEL_76af974682b84f98aac27faa71b0cac1",
      "value": " 10.8M/10.8M [00:00&lt;00:00, 48.5MB/s]"
     }
    },
    "f3c5269d10124774b79710a572d2eece": {
     "model_module": "@jupyter-widgets/base",
     "model_module_version": "1.2.0",
     "model_name": "LayoutModel",
     "state": {
      "_model_module": "@jupyter-widgets/base",
      "_model_module_version": "1.2.0",
      "_model_name": "LayoutModel",
      "_view_count": null,
      "_view_module": "@jupyter-widgets/base",
      "_view_module_version": "1.2.0",
      "_view_name": "LayoutView",
      "align_content": null,
      "align_items": null,
      "align_self": null,
      "border": null,
      "bottom": null,
      "display": null,
      "flex": null,
      "flex_flow": null,
      "grid_area": null,
      "grid_auto_columns": null,
      "grid_auto_flow": null,
      "grid_auto_rows": null,
      "grid_column": null,
      "grid_gap": null,
      "grid_row": null,
      "grid_template_areas": null,
      "grid_template_columns": null,
      "grid_template_rows": null,
      "height": null,
      "justify_content": null,
      "justify_items": null,
      "left": null,
      "margin": null,
      "max_height": null,
      "max_width": null,
      "min_height": null,
      "min_width": null,
      "object_fit": null,
      "object_position": null,
      "order": null,
      "overflow": null,
      "overflow_x": null,
      "overflow_y": null,
      "padding": null,
      "right": null,
      "top": null,
      "visibility": null,
      "width": null
     }
    },
    "f612ee833e9347399b8332e76312e8ba": {
     "model_module": "@jupyter-widgets/controls",
     "model_module_version": "1.5.0",
     "model_name": "HTMLModel",
     "state": {
      "_dom_classes": [],
      "_model_module": "@jupyter-widgets/controls",
      "_model_module_version": "1.5.0",
      "_model_name": "HTMLModel",
      "_view_count": null,
      "_view_module": "@jupyter-widgets/controls",
      "_view_module_version": "1.5.0",
      "_view_name": "HTMLView",
      "description": "",
      "description_tooltip": null,
      "layout": "IPY_MODEL_d5350b5bac5f4cff98734a941b4b697d",
      "placeholder": "​",
      "style": "IPY_MODEL_663e6e6d417d46678b860c088c6749f1",
      "value": "Downloading result: 100%"
     }
    },
    "f625228db81340c8a02e10530e36924e": {
     "model_module": "@jupyter-widgets/controls",
     "model_module_version": "1.5.0",
     "model_name": "LabelModel",
     "state": {
      "_dom_classes": [],
      "_model_module": "@jupyter-widgets/controls",
      "_model_module_version": "1.5.0",
      "_model_name": "LabelModel",
      "_view_count": null,
      "_view_module": "@jupyter-widgets/controls",
      "_view_module_version": "1.5.0",
      "_view_name": "LabelView",
      "description": "",
      "description_tooltip": null,
      "layout": "IPY_MODEL_852bd1eea9d74d6294619b5bf3c29d88",
      "placeholder": "​",
      "style": "IPY_MODEL_6ca19f59553e4b3e86d699d215bae1ac",
      "value": "Connecting..."
     }
    },
    "f627dc1ec6c1408994ae95a607941e25": {
     "model_module": "@jupyter-widgets/base",
     "model_module_version": "1.2.0",
     "model_name": "LayoutModel",
     "state": {
      "_model_module": "@jupyter-widgets/base",
      "_model_module_version": "1.2.0",
      "_model_name": "LayoutModel",
      "_view_count": null,
      "_view_module": "@jupyter-widgets/base",
      "_view_module_version": "1.2.0",
      "_view_name": "LayoutView",
      "align_content": null,
      "align_items": null,
      "align_self": null,
      "border": null,
      "bottom": null,
      "display": null,
      "flex": null,
      "flex_flow": null,
      "grid_area": null,
      "grid_auto_columns": null,
      "grid_auto_flow": null,
      "grid_auto_rows": null,
      "grid_column": null,
      "grid_gap": null,
      "grid_row": null,
      "grid_template_areas": null,
      "grid_template_columns": null,
      "grid_template_rows": null,
      "height": null,
      "justify_content": null,
      "justify_items": null,
      "left": null,
      "margin": null,
      "max_height": null,
      "max_width": null,
      "min_height": null,
      "min_width": null,
      "object_fit": null,
      "object_position": null,
      "order": null,
      "overflow": null,
      "overflow_x": null,
      "overflow_y": null,
      "padding": null,
      "right": null,
      "top": null,
      "visibility": null,
      "width": null
     }
    },
    "f9a61498d0174eaf8f50a64726760f8d": {
     "model_module": "@jupyter-widgets/controls",
     "model_module_version": "1.5.0",
     "model_name": "VBoxModel",
     "state": {
      "_dom_classes": [],
      "_model_module": "@jupyter-widgets/controls",
      "_model_module_version": "1.5.0",
      "_model_name": "VBoxModel",
      "_view_count": null,
      "_view_module": "@jupyter-widgets/controls",
      "_view_module_version": "1.5.0",
      "_view_name": "VBoxView",
      "box_style": "",
      "children": [
       "IPY_MODEL_2cb73901b1dd4044835f203e138f326c",
       "IPY_MODEL_72309c605bba48b7a5a2cd87b90784ae",
       "IPY_MODEL_cac03b90f6eb41d0b7569b26608a32a6",
       "IPY_MODEL_37e1c5cd1f844cbfb34e57dad08e1f7b",
       "IPY_MODEL_7444d0374e204864a822c689f20e7a65"
      ],
      "layout": "IPY_MODEL_4fab7df5acf3400a8c2dadacb18126f4"
     }
    },
    "f9c366e3efaf412cb540a113658733c4": {
     "model_module": "@jupyter-widgets/controls",
     "model_module_version": "1.5.0",
     "model_name": "HTMLModel",
     "state": {
      "_dom_classes": [],
      "_model_module": "@jupyter-widgets/controls",
      "_model_module_version": "1.5.0",
      "_model_name": "HTMLModel",
      "_view_count": null,
      "_view_module": "@jupyter-widgets/controls",
      "_view_module_version": "1.5.0",
      "_view_name": "HTMLView",
      "description": "",
      "description_tooltip": null,
      "layout": "IPY_MODEL_2344dd6e555c4f73b0b31244d392d860",
      "placeholder": "​",
      "style": "IPY_MODEL_60f0f973a113401781d700a7d684f858",
      "value": "Downloading result: 100%"
     }
    },
    "fc9a982d520e405ebe6f7e4038be52f2": {
     "model_module": "@jupyter-widgets/controls",
     "model_module_version": "1.5.0",
     "model_name": "HBoxModel",
     "state": {
      "_dom_classes": [],
      "_model_module": "@jupyter-widgets/controls",
      "_model_module_version": "1.5.0",
      "_model_name": "HBoxModel",
      "_view_count": null,
      "_view_module": "@jupyter-widgets/controls",
      "_view_module_version": "1.5.0",
      "_view_name": "HBoxView",
      "box_style": "",
      "children": [
       "IPY_MODEL_dec5343f490d4a37bb84513963c610b1",
       "IPY_MODEL_4c8f6d9e4eaf4a1783f2e6df10bda3dc",
       "IPY_MODEL_ff4919178bb745bc8b2703875a5ba7f6"
      ],
      "layout": "IPY_MODEL_8af569fe9c834ef6b471c8cf63690ba7"
     }
    },
    "fe9ecaccafb04a4fa6f7beab1be0297b": {
     "model_module": "@jupyter-widgets/controls",
     "model_module_version": "1.5.0",
     "model_name": "DescriptionStyleModel",
     "state": {
      "_model_module": "@jupyter-widgets/controls",
      "_model_module_version": "1.5.0",
      "_model_name": "DescriptionStyleModel",
      "_view_count": null,
      "_view_module": "@jupyter-widgets/base",
      "_view_module_version": "1.2.0",
      "_view_name": "StyleView",
      "description_width": ""
     }
    },
    "ff1383518c1949828842d7b8ad6f71c6": {
     "model_module": "@jupyter-widgets/base",
     "model_module_version": "1.2.0",
     "model_name": "LayoutModel",
     "state": {
      "_model_module": "@jupyter-widgets/base",
      "_model_module_version": "1.2.0",
      "_model_name": "LayoutModel",
      "_view_count": null,
      "_view_module": "@jupyter-widgets/base",
      "_view_module_version": "1.2.0",
      "_view_name": "LayoutView",
      "align_content": null,
      "align_items": null,
      "align_self": null,
      "border": null,
      "bottom": null,
      "display": null,
      "flex": null,
      "flex_flow": null,
      "grid_area": null,
      "grid_auto_columns": null,
      "grid_auto_flow": null,
      "grid_auto_rows": null,
      "grid_column": null,
      "grid_gap": null,
      "grid_row": null,
      "grid_template_areas": null,
      "grid_template_columns": null,
      "grid_template_rows": null,
      "height": null,
      "justify_content": null,
      "justify_items": null,
      "left": null,
      "margin": null,
      "max_height": null,
      "max_width": null,
      "min_height": null,
      "min_width": null,
      "object_fit": null,
      "object_position": null,
      "order": null,
      "overflow": null,
      "overflow_x": null,
      "overflow_y": null,
      "padding": null,
      "right": null,
      "top": null,
      "visibility": null,
      "width": null
     }
    },
    "ff4919178bb745bc8b2703875a5ba7f6": {
     "model_module": "@jupyter-widgets/controls",
     "model_module_version": "1.5.0",
     "model_name": "HTMLModel",
     "state": {
      "_dom_classes": [],
      "_model_module": "@jupyter-widgets/controls",
      "_model_module_version": "1.5.0",
      "_model_name": "HTMLModel",
      "_view_count": null,
      "_view_module": "@jupyter-widgets/controls",
      "_view_module_version": "1.5.0",
      "_view_name": "HTMLView",
      "description": "",
      "description_tooltip": null,
      "layout": "IPY_MODEL_acd47b2d5e1e48c88720507f5068be95",
      "placeholder": "​",
      "style": "IPY_MODEL_16e782dfcffa4d889024df2a28ab9963",
      "value": " 10.8M/10.8M [00:00&lt;00:00, 49.8MB/s]"
     }
    }
   }
  }
 },
 "nbformat": 4,
 "nbformat_minor": 0
}
